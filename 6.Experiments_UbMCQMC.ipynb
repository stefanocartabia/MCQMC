{
 "cells": [
  {
   "cell_type": "code",
   "execution_count": 1,
   "id": "e1735658",
   "metadata": {},
   "outputs": [
    {
     "name": "stdout",
     "output_type": "stream",
     "text": [
      "Status: Correct Import\n",
      "Check: Imported functions\n",
      "Check: Imported F_k_m estimator\n",
      "Check: Imported estimator of E[F_k_m] and Var[F_k_m]\n",
      "Status Probit: UnMCQMC_probit imported correctly\n",
      "Check Probit: Imported F_k_m estimator\n",
      "Check Probit: Imported estimator of E[F_k_m] and Var[F_k_m]\n",
      "Status Hierarchical Poisson-Gamma: Correct Import\n"
     ]
    }
   ],
   "source": [
    "include(\"C:/Users/mussi/Documents/Manhattan/Leuven/MCQMC/Data_Libraries/1.Libraries.jl\")\n",
    "include(\"C:/Users/mussi/Documents/Manhattan/Leuven/MCQMC/Data_Libraries/WCUD_array.jl\")\n",
    "include(\"C:/Users/mussi/Documents/Manhattan/Leuven/MCQMC/MCQMC/1.1.Linear_Gibbs.jl\")\n",
    "include(\"C:/Users/mussi/Documents/Manhattan/Leuven/MCQMC/MCQMC/1.2.Probit_Gibbs.jl\")\n",
    "include(\"C:/Users/mussi/Documents/Manhattan/Leuven/MCQMC/UbMCQMC/Linear/1.4.1.R_Replicates.jl\")\n",
    "include(\"C:/Users/mussi/Documents/Manhattan/Leuven/MCQMC/UbMCQMC/Probit/2.3.R_Replicates.jl\")\n",
    "include(\"C:/Users/mussi/Documents/Manhattan/Leuven/MCQMC/MCQMC/1.3.Hier_Poisson_Gamma.jl\")"
   ]
  },
  {
   "cell_type": "code",
   "execution_count": 2,
   "id": "05c2a4b2",
   "metadata": {},
   "outputs": [],
   "source": [
    "folder_path = raw\"C:\\Users\\mussi\\Documents\\Manhattan\\Leuven\\MCQMC\\Data_Libraries\\Pts\\\\\" \n",
    "true_vec = vec(CSV.read(folder_path * \"2.12rng_true.txt\", Tables.matrix; header=false))\n",
    "\n",
    "vec_wcud_10 = open(folder_path * \"harase_10.txt\", enc\"UTF-16LE\") do io\n",
    "    parse.(Float64, replace.(eachline(io), \"\\ufeff\" => \"\"))\n",
    "end;\n",
    "\n",
    "vec_wcud_11 = open(folder_path * \"harase_11.txt\", enc\"UTF-16LE\") do io\n",
    "    parse.(Float64, replace.(eachline(io), \"\\ufeff\" => \"\"))\n",
    "end;\n",
    "\n",
    "vec_wcud_12 = open(folder_path * \"harase_12.txt\", enc\"UTF-16LE\") do io\n",
    "    parse.(Float64, replace.(eachline(io), \"\\ufeff\" => \"\"))\n",
    "end;\n",
    "\n",
    "vec_wcud_13 = open(folder_path * \"harase_13.txt\", enc\"UTF-16LE\") do io\n",
    "    parse.(Float64, replace.(eachline(io), \"\\ufeff\" => \"\"))\n",
    "end;\n",
    "\n",
    "vec_wcud_14 = open(folder_path * \"harase_14.txt\", enc\"UTF-16LE\") do io\n",
    "    parse.(Float64, replace.(eachline(io), \"\\ufeff\" => \"\"))\n",
    "end;"
   ]
  },
  {
   "cell_type": "code",
   "execution_count": 3,
   "id": "584c8da1",
   "metadata": {},
   "outputs": [],
   "source": [
    "sobol_15d_10 = CSV.read(folder_path * \"sobol_15d_10.txt\", Tables.matrix; header=false, delim=' ', ignorerepeated=true);\n",
    "sobol_15d_11 = CSV.read(folder_path * \"sobol_15d_11.txt\", Tables.matrix; header=false, delim=' ', ignorerepeated=true);\n",
    "sobol_15d_12 = CSV.read(folder_path * \"sobol_15d_12.txt\", Tables.matrix; header=false, delim=' ', ignorerepeated=true);\n",
    "sobol_15d_13 = CSV.read(folder_path * \"sobol_15d_13.txt\", Tables.matrix; header=false, delim=' ', ignorerepeated=true);\n",
    "sobol_15d_14 = CSV.read(folder_path * \"sobol_15d_14.txt\", Tables.matrix; header=false, delim=' ', ignorerepeated=true);"
   ]
  },
  {
   "cell_type": "code",
   "execution_count": 4,
   "id": "2bae3a47",
   "metadata": {},
   "outputs": [],
   "source": [
    "folder_path = raw\"C:\\Users\\mussi\\Documents\\Manhattan\\Leuven\\MCQMC\\Data_Libraries\\\\\"\n",
    "df_boston = CSV.read(folder_path * \"DB_Boston.txt\", DataFrame)\n",
    "M_boston = Matrix(df_boston)\n",
    "r,c = size(M_boston)\n",
    "\n",
    "Y = log.(M_boston[:, end])\n",
    "X = [ones(r,1)  M_boston[:, 1:end-1]]           # incercept\n",
    "X[:,6] = X[:,6].^2\n",
    "X[:,7] = X[:,7].^2\n",
    "X[:,9] = log.(X[:,9])\n",
    "X[:,10] = log.(X[:,10])\n",
    "X[:,14] = log.(X[:,14]);"
   ]
  },
  {
   "cell_type": "markdown",
   "id": "b144e23b",
   "metadata": {},
   "source": [
    "$$\\hat{\\beta} = (X^\\top X)^{-1} X^\\top y$$\n",
    "\n",
    "$$\\widehat{\\text{Var}}(\\hat{\\beta}_j) = \n",
    "\\frac{\\lVert y - X\\hat{\\beta} \\rVert^2}{\\,n - p\\,} \\; \\big[(X^\\top X)^{-1}\\big]_{jj}$$"
   ]
  },
  {
   "cell_type": "markdown",
   "id": "ec5d5f20",
   "metadata": {},
   "source": [
    "### **LINEAR REGRESSION MODEL**"
   ]
  },
  {
   "cell_type": "markdown",
   "id": "4b2d7b2b",
   "metadata": {},
   "source": [
    "##### **OLS: Comparison**"
   ]
  },
  {
   "cell_type": "code",
   "execution_count": 110,
   "id": "5187e5db",
   "metadata": {},
   "outputs": [
    {
     "data": {
      "text/plain": [
       "LinearModel{GLM.LmResp{Vector{Float64}}, GLM.DensePredChol{Float64, CholeskyPivoted{Float64, Matrix{Float64}, Vector{Int64}}}}:\n",
       "\n",
       "Coefficients:\n",
       "────────────────────────────────────────────────────────────────────────────\n",
       "            Coef.   Std. Error       t  Pr(>|t|)     Lower 95%     Upper 95%\n",
       "────────────────────────────────────────────────────────────────────────────\n",
       "x1    4.56578      0.154755      29.50    <1e-99   4.26172       4.86984\n",
       "x2   -0.011835     0.00124547    -9.50    <1e-19  -0.0142821    -0.00938789\n",
       "x3    5.17744e-5   0.000506807    0.10    0.9187  -0.000944004   0.00104755\n",
       "x4    4.30655e-5   0.00237506     0.02    0.9855  -0.00462346    0.00470959\n",
       "x5    0.0912068    0.0332114      2.75    0.0062   0.0259528     0.156461\n",
       "x6   -0.634756     0.113236      -5.61    <1e-07  -0.857242     -0.41227\n",
       "x7    0.00628201   0.00131369     4.78    <1e-05   0.00370087    0.00886316\n",
       "x8    0.000110762  0.00052691     0.21    0.8336  -0.000924515   0.00114604\n",
       "x9   -0.190859     0.033404      -5.71    <1e-07  -0.256491     -0.125226\n",
       "x10   0.0930878    0.0193767      4.80    <1e-05   0.0550163     0.131159\n",
       "x11  -0.000406041  0.000123814   -3.28    0.0011  -0.000649313  -0.00016277\n",
       "x12  -0.0313095    0.00501913    -6.24    <1e-09  -0.0411712    -0.0214479\n",
       "x13   0.00036292   0.000103146    3.52    0.0005   0.000160258   0.000565582\n",
       "x14  -0.372639     0.0250742    -14.86    <1e-40  -0.421905     -0.323373\n",
       "────────────────────────────────────────────────────────────────────────────\n"
      ]
     },
     "metadata": {},
     "output_type": "display_data"
    },
    {
     "name": "stdout",
     "output_type": "stream",
     "text": [
      "  0.010937 seconds (39 allocations: 127.956 KiB)\n"
     ]
    }
   ],
   "source": [
    "@time ols = lm(X, Y)"
   ]
  },
  {
   "cell_type": "code",
   "execution_count": 111,
   "id": "f0f1b17d",
   "metadata": {},
   "outputs": [
    {
     "name": "stdout",
     "output_type": "stream",
     "text": [
      "  0.000046 seconds (36 allocations: 12.654 KiB)\n"
     ]
    },
    {
     "data": {
      "text/plain": [
       "LinearModel{GLM.LmResp{Vector{Float64}}, GLM.DensePredChol{Float64, CholeskyPivoted{Float64, Matrix{Float64}, Vector{Int64}}}}:\n",
       "\n",
       "Coefficients:\n",
       "──────────────────────────────────────────────────────────────────────────────\n",
       "            Coef.     Std. Error       t  Pr(>|t|)     Lower 95%     Upper 95%\n",
       "──────────────────────────────────────────────────────────────────────────────\n",
       "x1    0.0          NaN            NaN       NaN     NaN           NaN\n",
       "x2   -0.227777       0.170105      -1.34    0.1956   -0.582611      0.127056\n",
       "x3    0.294308       0.0960001      3.07    0.0061    0.0940551     0.49456\n",
       "x4    0.190122       0.078214       2.43    0.0246    0.0269699     0.353273\n",
       "x5    0.0          NaN            NaN       NaN     NaN           NaN\n",
       "x6    0.0          NaN            NaN       NaN     NaN           NaN\n",
       "x7    0.0174738      0.00763661     2.29    0.0332    0.00154407    0.0334034\n",
       "x8   -0.00241066     0.00229721    -1.05    0.3065   -0.00720255    0.00238123\n",
       "x9   -0.667983       0.402542      -1.66    0.1126   -1.50767       0.171706\n",
       "x10   0.0          NaN            NaN       NaN     NaN           NaN\n",
       "x11  -0.0304335      0.011194      -2.72    0.0132   -0.0537838    -0.00708318\n",
       "x12   0.562435       0.166991       3.37    0.0031    0.214098      0.910772\n",
       "x13   0.000370072    0.000891357    0.42    0.6824   -0.00148927    0.00222941\n",
       "x14  -0.21774        0.14838       -1.47    0.1578   -0.527255      0.0917752\n",
       "──────────────────────────────────────────────────────────────────────────────\n"
      ]
     },
     "metadata": {},
     "output_type": "display_data"
    }
   ],
   "source": [
    "X_mini = X[1:30,:]; Y_mini = Y[1:30];\n",
    "@time ols_mini = lm(X_mini, Y_mini) "
   ]
  },
  {
   "cell_type": "code",
   "execution_count": null,
   "id": "e54cd125",
   "metadata": {},
   "outputs": [],
   "source": [
    "X_mini = X[1:250,:]; Y_mini = Y[1:250];"
   ]
  },
  {
   "cell_type": "markdown",
   "id": "50a24179",
   "metadata": {},
   "source": [
    "### **Biased vs Unbiased MCQMC**"
   ]
  },
  {
   "cell_type": "code",
   "execution_count": 52,
   "id": "767f532d",
   "metadata": {},
   "outputs": [
    {
     "ename": "UndefVarError",
     "evalue": "UndefVarError: `blm` not defined in `Main`\nSuggestion: check for spelling errors or missing imports.",
     "output_type": "error",
     "traceback": [
      "UndefVarError: `blm` not defined in `Main`\n",
      "Suggestion: check for spelling errors or missing imports.\n",
      "\n",
      "Stacktrace:\n",
      " [1] top-level scope\n",
      "   @ c:\\Users\\mussi\\Documents\\Manhattan\\Leuven\\MCQMC\\jl_notebook_cell_df34fa98e69747e1a8f8a730347b8e2f_Y116sZmlsZQ==.jl:2"
     ]
    }
   ],
   "source": [
    "wcud_12_10 = digit_shift_mat(vec_wcud_12, p+1 , 10);\n",
    "N = (2^12)-1; burn_in = 500; R = 10\n",
    "biased_linear_wcud_12_10 = R_Fkm(R, N, wcud_12_10, blm, burn_in, f);\n",
    "\n",
    "println(DataFrame(\n",
    "                    Coeff    = biased_linear_wcud_12_10.mu_pool,\n",
    "                    Std_Err  = sqrt.(biased_linear_wcud_12_10.sigma_pool)\n",
    "                ))"
   ]
  },
  {
   "cell_type": "code",
   "execution_count": null,
   "id": "51f44010",
   "metadata": {},
   "outputs": [
    {
     "name": "stdout",
     "output_type": "stream",
     "text": [
      "  5.816045 seconds (23.39 M allocations: 17.902 GiB, 15.22% gc time)\n",
      "\u001b[1m15×2 DataFrame\u001b[0m\n",
      "\u001b[1m Row \u001b[0m│\u001b[1m Coeff        \u001b[0m\u001b[1m Std_Err     \u001b[0m\n",
      "     │\u001b[90m Float64      \u001b[0m\u001b[90m Float64     \u001b[0m\n",
      "─────┼───────────────────────────\n",
      "   1 │  4.56477      0.000282223\n",
      "   2 │ -0.0118349    1.37425e-6\n",
      "   3 │  5.25397e-5   6.56314e-7\n",
      "   4 │  4.63417e-5   4.0891e-6\n",
      "   5 │  0.0911538    2.67207e-5\n",
      "   6 │ -0.634281     0.000149634\n",
      "   7 │  0.00628957   2.65416e-6\n",
      "   8 │  0.000110687  1.01991e-6\n",
      "   9 │ -0.190799     9.79296e-5\n",
      "  10 │  0.0930396    4.87215e-5\n",
      "  11 │ -0.000406179  2.91057e-7\n",
      "  12 │ -0.0312887    7.92906e-6\n",
      "  13 │  0.000363055  1.01998e-7\n",
      "  14 │ -0.372569     2.93928e-5\n",
      "  15 │  0.0331231    9.87787e-7\n"
     ]
    }
   ],
   "source": [
    "@time F_Lin_wcud_12_10 = R_UbFkm(R, N, wcud_12_10, blm, burn_in, f);\n",
    "\n",
    "println(DataFrame(\n",
    "                    Coeff    = F_Lin_wcud_12_10.mu_pool,\n",
    "                    Std_Err  = sqrt.(F_Lin_wcud_12_10.sigma_pool)\n",
    "                ))"
   ]
  },
  {
   "cell_type": "markdown",
   "id": "834533a3",
   "metadata": {},
   "source": [
    "### **UnMCQMC**   "
   ]
  },
  {
   "cell_type": "markdown",
   "id": "91d2bf6b",
   "metadata": {},
   "source": [
    "#### **Whole vs mini dataset for 2^12 IIDs**"
   ]
  },
  {
   "cell_type": "code",
   "execution_count": 18,
   "id": "e987d3ab",
   "metadata": {},
   "outputs": [
    {
     "data": {
      "text/plain": [
       "#53 (generic function with 1 method)"
      ]
     },
     "metadata": {},
     "output_type": "display_data"
    }
   ],
   "source": [
    "# Parameter initialisation -- pag 14 (He, and Du 2024) --\n",
    "p = size(X, 2); b0= zeros(p); B0= Matrix{Float64}(I, p, p)*100; n0=5.0; s0=0.01\n",
    "blm = UnMCQMC_linear(p, Y, X, b0, B0, n0, s0);\n",
    "f = x -> x"
   ]
  },
  {
   "cell_type": "code",
   "execution_count": null,
   "id": "4674b948",
   "metadata": {},
   "outputs": [
    {
     "name": "stdout",
     "output_type": "stream",
     "text": [
      " 95.462463 seconds (308.99 M allocations: 237.391 GiB, 17.28% gc time)\n",
      "\u001b[1m15×2 DataFrame\u001b[0m\n",
      "\u001b[1m Row \u001b[0m│\u001b[1m Coeff        \u001b[0m\u001b[1m Std_Err     \u001b[0m\n",
      "     │\u001b[90m Float64      \u001b[0m\u001b[90m Float64     \u001b[0m\n",
      "─────┼───────────────────────────\n",
      "   1 │  4.56474      0.000253239\n",
      "   2 │ -0.0118328    1.919e-6\n",
      "   3 │  5.17019e-5   8.22982e-7\n",
      "   4 │  5.03105e-5   3.71774e-6\n",
      "   5 │  0.091277     5.53989e-5\n",
      "   6 │ -0.634761     0.000188027\n",
      "   7 │  0.00629139   2.21115e-6\n",
      "   8 │  0.000110844  8.45598e-7\n",
      "   9 │ -0.190709     5.16559e-5\n",
      "  10 │  0.0930847    2.88507e-5\n",
      "  11 │ -0.000406025  1.8563e-7\n",
      "  12 │ -0.0313073    6.77547e-6\n",
      "  13 │  0.000363204  1.73236e-7\n",
      "  14 │ -0.372522     3.92425e-5\n",
      "  15 │  0.0331203    3.30985e-6\n",
      "0.00032813805798404504\n"
     ]
    }
   ],
   "source": [
    "N = (2^12)-1; burn_in = 8; R = 100 \n",
    "Random.seed!(1234) \n",
    "iid_12_100 = rand(p+1, N, R)\n",
    "@time F_Lin_iid_12_100 = R_UbFkm(R, N, iid_12_100, blm, burn_in, f);\n",
    "\n",
    "println(DataFrame(\n",
    "                    Coeff    = F_Lin_iid_12_100.mu_pool,\n",
    "                    Std_Err  = sqrt.(F_Lin_iid_12_100.sigma_pool)\n",
    "                ))\n",
    "\n",
    "rmse_iid_12 = sqrt(sum(F_Lin_iid_12_100.sigma_pool))\n",
    "println(\"RMSE:\", rmse_iid_12)"
   ]
  },
  {
   "cell_type": "code",
   "execution_count": 6,
   "id": "ceec1bff",
   "metadata": {},
   "outputs": [],
   "source": [
    "# Definition blm mini model\n",
    "p = size(X, 2); b0= zeros(p); B0= Matrix{Float64}(I, p, p)*100; n0=5.0; s0=0.01\n",
    "blm_mini = UnMCQMC_linear(p, Y[1:40], X[1:40,:], b0, B0, n0, s0);"
   ]
  },
  {
   "cell_type": "code",
   "execution_count": 7,
   "id": "51990c7f",
   "metadata": {},
   "outputs": [
    {
     "name": "stdout",
     "output_type": "stream",
     "text": [
      "  5.596372 seconds (20.14 M allocations: 7.925 GiB, 37.77% gc time, 4.00% compilation time)\n",
      "\u001b[1m15×2 DataFrame\u001b[0m\n",
      "\u001b[1m Row \u001b[0m│\u001b[1m Coeff        \u001b[0m\u001b[1m Std_Err     \u001b[0m\n",
      "     │\u001b[90m Float64      \u001b[0m\u001b[90m Float64     \u001b[0m\n",
      "─────┼───────────────────────────\n",
      "   1 │  2.00366      0.00226876\n",
      "   2 │ -0.235258     0.000172512\n",
      "   3 │ -0.00826209   1.51449e-5\n",
      "   4 │ -0.192112     0.000201818\n",
      "   5 │  0.0213106    0.0167987\n",
      "   6 │ -0.173319     0.0155998\n",
      "   7 │  0.0209958    1.07641e-5\n",
      "   8 │ -0.00463703   2.06522e-6\n",
      "   9 │ -0.363793     0.000442556\n",
      "  10 │ -1.02751      0.00103161\n",
      "  11 │  0.0174651    2.94298e-5\n",
      "  12 │ -0.0527192    4.64712e-5\n",
      "  13 │  0.000569573  9.98695e-7\n",
      "  14 │ -0.0883494    0.000131946\n",
      "  15 │  0.00991559   4.81831e-6\n"
     ]
    }
   ],
   "source": [
    "N = (2^12)-1; burn_in = 8; R = 100 \n",
    "f = x -> x\n",
    "Random.seed!(1234) \n",
    "iid_12_100 = rand(p+1, N, R)\n",
    "\n",
    "@time mini_F_Lin_iid_12_100 = R_UbFkm(R, N, iid_12_100, blm_mini, burn_in, f);\n",
    "\n",
    "println(DataFrame(\n",
    "                    Coeff    = mini_F_Lin_iid_12_100.mu_pool,\n",
    "                    Std_Err  = sqrt.(mini_F_Lin_iid_12_100.sigma_pool)\n",
    "                ))"
   ]
  },
  {
   "cell_type": "code",
   "execution_count": 19,
   "id": "16889cbf",
   "metadata": {},
   "outputs": [
    {
     "name": "stdout",
     "output_type": "stream",
     "text": [
      "RMSE:0.023066159116839204\n"
     ]
    }
   ],
   "source": [
    "rmse_iid_12_mini = sqrt(sum(mini_F_Lin_iid_12_100.sigma_pool))\n",
    "println(\"RMSE:\", rmse_iid_12_mini)"
   ]
  },
  {
   "cell_type": "markdown",
   "id": "fca3a50b",
   "metadata": {},
   "source": [
    "#### **Whole vs mini dataset for 2^12 wcud pts**"
   ]
  },
  {
   "cell_type": "code",
   "execution_count": null,
   "id": "811340a9",
   "metadata": {},
   "outputs": [
    {
     "name": "stdout",
     "output_type": "stream",
     "text": [
      " 97.770648 seconds (346.88 M allocations: 266.884 GiB, 17.30% gc time)\n",
      "\u001b[1m15×2 DataFrame\u001b[0m\n",
      "\u001b[1m Row \u001b[0m│\u001b[1m Coeff        \u001b[0m\u001b[1m Std_Err    \u001b[0m\n",
      "     │\u001b[90m Float64      \u001b[0m\u001b[90m Float64    \u001b[0m\n",
      "─────┼──────────────────────────\n",
      "   1 │  4.56463      6.03721e-6\n",
      "   2 │ -0.0118346    6.58999e-8\n",
      "   3 │  5.23351e-5   4.15342e-8\n",
      "   4 │  4.42996e-5   1.50963e-7\n",
      "   5 │  0.0912126    9.04226e-7\n",
      "   6 │ -0.63435      1.28773e-5\n",
      "   7 │  0.00628804   6.52536e-8\n",
      "   8 │  0.000110781  5.53978e-8\n",
      "   9 │ -0.190755     2.05341e-6\n",
      "  10 │  0.0930813    1.03231e-6\n",
      "  11 │ -0.000406105  8.48659e-9\n",
      "  12 │ -0.0312886    2.83972e-7\n",
      "  13 │  0.000363215  5.78583e-9\n",
      "  14 │ -0.372564     1.95439e-6\n",
      "  15 │  0.0331238    1.15665e-7\n"
     ]
    }
   ],
   "source": [
    "# WHOLE DATA SET HARASE'S PTS\n",
    "p = size(X, 2)\n",
    "wcud_12_100 = digit_shift_mat(vec_wcud_12, p+1 , 100);\n",
    "N = (2^12)-1; burn_in = 8; R = 100 \n",
    "@time F_Lin_wcud_12_100 = R_UbFkm(R, N, wcud_12_100, blm, burn_in, f);\n",
    "\n",
    "println(DataFrame(\n",
    "                    Coeff    = F_Lin_wcud_12_100.mu_pool,\n",
    "                    Std_Err  = sqrt.(F_Lin_wcud_12_100.sigma_pool)\n",
    "                ))\n",
    "\n",
    "rmse_wcud_12 = sqrt(sum(F_Lin_wcud_12_100.sigma_pool))\n",
    "println(\"RMSE:\", rmse_wcud_12)"
   ]
  },
  {
   "cell_type": "code",
   "execution_count": null,
   "id": "522270e0",
   "metadata": {},
   "outputs": [
    {
     "name": "stdout",
     "output_type": "stream",
     "text": [
      "  6.231787 seconds (24.61 M allocations: 11.504 GiB, 33.53% gc time)\n",
      "\u001b[1m15×2 DataFrame\u001b[0m\n",
      "\u001b[1m Row \u001b[0m│\u001b[1m Coeff        \u001b[0m\u001b[1m Std_Err     \u001b[0m\n",
      "     │\u001b[90m Float64      \u001b[0m\u001b[90m Float64     \u001b[0m\n",
      "─────┼───────────────────────────\n",
      "   1 │  2.00268      6.81774e-5\n",
      "   2 │ -0.235425     9.65596e-6\n",
      "   3 │ -0.00826017   6.02629e-7\n",
      "   4 │ -0.192277     9.58226e-6\n",
      "   5 │ -0.000400455  0.000249797\n",
      "   6 │ -0.159401     0.000635584\n",
      "   7 │  0.0209929    4.86202e-7\n",
      "   8 │ -0.00464019   1.64608e-7\n",
      "   9 │ -0.36426      2.59609e-5\n",
      "  10 │ -1.02847      5.32976e-5\n",
      "  11 │  0.0174677    1.19981e-6\n",
      "  12 │ -0.0527596    3.08103e-6\n",
      "  13 │  0.000570937  4.60379e-8\n",
      "  14 │ -0.0882104    8.94432e-6\n",
      "  15 │  0.00991795   5.11495e-7\n"
     ]
    }
   ],
   "source": [
    "# MINI DATA SET HARASE'S PTS\n",
    "N = (2^12)-1; burn_in = 8; R = 100\n",
    "@time mini_F_Lin_wcud_12_100 = R_UbFkm(R, N, wcud_12_100, blm_mini, burn_in, f);\n",
    "\n",
    "println(DataFrame(\n",
    "                    Coeff    = mini_F_Lin_wcud_12_100.mu_pool,\n",
    "                    Std_Err  = sqrt.(mini_F_Lin_wcud_12_100.sigma_pool)\n",
    "                ))\n",
    "\n",
    "rmse_wcud_12_mini = sqrt(sum(mini_F_Lin_wcud_12_100.sigma_pool))\n",
    "println(\"RMSE:\", rmse_wcud_12_mini)"
   ]
  },
  {
   "cell_type": "markdown",
   "id": "c3e7d6f7",
   "metadata": {},
   "source": [
    "#### **Whole vs mini dataset 2^12 d-dim Sobol pts**"
   ]
  },
  {
   "cell_type": "code",
   "execution_count": 10,
   "id": "d1bfe059",
   "metadata": {},
   "outputs": [
    {
     "data": {
      "text/plain": [
       "(15, 4095, 100)"
      ]
     },
     "metadata": {},
     "output_type": "display_data"
    }
   ],
   "source": [
    "folder_path = raw\"C:\\Users\\mussi\\Documents\\Manhattan\\Leuven\\MCQMC\\Data_Libraries\\Pts\\\\\" \n",
    "sobol_12_d15 = CSV.read(folder_path * \"sobol_15d.txt\", Tables.matrix; header=false, delim = ' ', ignorerepeated = true);\n",
    "array_sobol_12_d15 = digital_shift(sobol_12_d15[2:end,:], 100);          # digital shift on d-dim sobol (no zero vector, since there the inverse probability function is not defined)\n",
    "size(array_sobol_12_d15)"
   ]
  },
  {
   "cell_type": "code",
   "execution_count": null,
   "id": "98dabada",
   "metadata": {},
   "outputs": [
    {
     "name": "stdout",
     "output_type": "stream",
     "text": [
      "113.747912 seconds (396.42 M allocations: 305.450 GiB, 16.76% gc time)\n",
      "\u001b[1m15×2 DataFrame\u001b[0m\n",
      "\u001b[1m Row \u001b[0m│\u001b[1m Coeff        \u001b[0m\u001b[1m Std_Err    \u001b[0m\n",
      "     │\u001b[90m Float64      \u001b[0m\u001b[90m Float64    \u001b[0m\n",
      "─────┼──────────────────────────\n",
      "   1 │  4.56464      9.29425e-6\n",
      "   2 │ -0.0118346    8.36484e-8\n",
      "   3 │  5.22632e-5   3.21229e-8\n",
      "   4 │  4.42411e-5   2.9921e-7\n",
      "   5 │  0.0912183    1.90617e-6\n",
      "   6 │ -0.634354     7.6496e-6\n",
      "   7 │  0.00628808   8.71285e-8\n",
      "   8 │  0.000110771  3.14546e-8\n",
      "   9 │ -0.190754     2.23221e-6\n",
      "  10 │  0.0930807    1.26788e-6\n",
      "  11 │ -0.000406096  8.57883e-9\n",
      "  12 │ -0.0312891    3.35855e-7\n",
      "  13 │  0.000363192  6.17401e-9\n",
      "  14 │ -0.372564     1.57002e-6\n",
      "  15 │  0.0331229    1.41543e-7\n"
     ]
    }
   ],
   "source": [
    "# Whole data set with d-dim Sobol sequence\n",
    "N = (2^12)-1; burn_in = 8; R = 100 \n",
    "@time F_Lin_sob_12_100 = R_UbFkm(R, N, array_sobol_12_d15, blm, burn_in, f);\n",
    "\n",
    "println(DataFrame(\n",
    "                    Coeff    = F_Lin_sob_12_100.mu_pool,\n",
    "                    Std_Err  = sqrt.(F_Lin_sob_12_100.sigma_pool)\n",
    "                ))\n",
    "\n",
    "rmse_sob_12 = sqrt(sum(F_Lin_sob_12_100.sigma_pool))\n",
    "println(\"RMSE:\", rmse_sob_12)"
   ]
  },
  {
   "cell_type": "code",
   "execution_count": 12,
   "id": "9c72bf89",
   "metadata": {},
   "outputs": [
    {
     "name": "stdout",
     "output_type": "stream",
     "text": [
      "  6.775462 seconds (20.54 M allocations: 8.333 GiB, 38.68% gc time)\n",
      "\u001b[1m15×2 DataFrame\u001b[0m\n",
      "\u001b[1m Row \u001b[0m│\u001b[1m Coeff        \u001b[0m\u001b[1m Std_Err     \u001b[0m\n",
      "     │\u001b[90m Float64      \u001b[0m\u001b[90m Float64     \u001b[0m\n",
      "─────┼───────────────────────────\n",
      "   1 │  2.00312      0.000146534\n",
      "   2 │ -0.235419     1.23293e-5\n",
      "   3 │ -0.0082613    8.48951e-7\n",
      "   4 │ -0.192293     1.96102e-5\n",
      "   5 │  0.00132068   0.000561546\n",
      "   6 │ -0.160228     0.0011334\n",
      "   7 │  0.0209909    8.58269e-7\n",
      "   8 │ -0.00463967   2.00742e-7\n",
      "   9 │ -0.364337     6.42811e-5\n",
      "  10 │ -1.02856      9.42384e-5\n",
      "  11 │  0.0174697    1.60562e-6\n",
      "  12 │ -0.0527712    7.24774e-6\n",
      "  13 │  0.000570683  9.61474e-8\n",
      "  14 │ -0.0882471    1.47017e-5\n",
      "  15 │  0.00985082   3.92778e-7\n"
     ]
    }
   ],
   "source": [
    "# Mini data set with d-dim Sobol sequence\n",
    "N = (2^12)-1; burn_in = 8; R = 100\n",
    "@time mini_F_Lin_sob_12_100 = R_UbFkm(R, N, array_sobol_12_d15, blm_mini, burn_in, f);\n",
    "\n",
    "println(DataFrame(\n",
    "                    Coeff    = mini_F_Lin_sob_12_100.mu_pool,\n",
    "                    Std_Err  = sqrt.(mini_F_Lin_sob_12_100.sigma_pool)\n",
    "                ))"
   ]
  },
  {
   "cell_type": "code",
   "execution_count": 24,
   "id": "57f92132",
   "metadata": {},
   "outputs": [
    {
     "name": "stdout",
     "output_type": "stream",
     "text": [
      "RMSE:0.0012787624947694668\n"
     ]
    }
   ],
   "source": [
    "rmse_sob_12_mini = sqrt(sum(mini_F_Lin_sob_12_100.sigma_pool))\n",
    "println(\"RMSE:\", rmse_sob_12_mini)"
   ]
  },
  {
   "cell_type": "markdown",
   "id": "1f0006b2",
   "metadata": {},
   "source": [
    "#### **Digital Nets (The Magic Point Shop; nxs32m32.col)**"
   ]
  },
  {
   "cell_type": "code",
   "execution_count": 23,
   "id": "642351f3",
   "metadata": {},
   "outputs": [
    {
     "data": {
      "text/plain": [
       "1024×1 Matrix{String}:\n",
       " \"0                         0    \"\u001b[93m\u001b[1m ⋯ 329 bytes ⋯ \u001b[22m\u001b[39m\"    0                         \"\n",
       " \"0.988995883846655488014   0.504\"\u001b[93m\u001b[1m ⋯ 329 bytes ⋯ \u001b[22m\u001b[39m\"8   0.218769359402358531952   \"\n",
       " \"0.900180473458021879196   0.753\"\u001b[93m\u001b[1m ⋯ 329 bytes ⋯ \u001b[22m\u001b[39m\"6   0.379345443332567811012   \"\n",
       " \"0.106886844849213957787   0.250\"\u001b[93m\u001b[1m ⋯ 329 bytes ⋯ \u001b[22m\u001b[39m\"3   0.348107143538072705269   \"\n",
       " \"0.00623979931697249412537 0.689\"\u001b[93m\u001b[1m ⋯ 329 bytes ⋯ \u001b[22m\u001b[39m\"3   0.660371175967156887054   \"\n",
       " \"0.987155670067295432091   0.192\"\u001b[93m\u001b[1m ⋯ 329 bytes ⋯ \u001b[22m\u001b[39m\"7   0.566639963537454605103   \"\n",
       " \"0.905926959589123725891   0.443\"\u001b[93m\u001b[1m ⋯ 329 bytes ⋯ \u001b[22m\u001b[39m\"67  0.781537871109321713448   \"\n",
       " \"0.10455333278514444828    0.938\"\u001b[93m\u001b[1m ⋯ 329 bytes ⋯ \u001b[22m\u001b[39m\"2   0.937799059087410569191   \"\n",
       " \"0.996471657184883952141   0.023\"\u001b[93m\u001b[1m ⋯ 329 bytes ⋯ \u001b[22m\u001b[39m\"4   0.645740943262353539467   \"\n",
       " \"0.00863752746954560279846 0.528\"\u001b[93m\u001b[1m ⋯ 329 bytes ⋯ \u001b[22m\u001b[39m\"4   0.614471645327284932137   \"\n",
       " \"0.0992888223845511674881  0.777\"\u001b[93m\u001b[1m ⋯ 329 bytes ⋯ \u001b[22m\u001b[39m\"48  0.766900015994906425476   \"\n",
       " \"0.89166519511491060257    0.274\"\u001b[93m\u001b[1m ⋯ 329 bytes ⋯ \u001b[22m\u001b[39m\"4   0.985638377256691455841   \"\n",
       " \"0.994143146323040127754   0.712\"\u001b[93m\u001b[1m ⋯ 329 bytes ⋯ \u001b[22m\u001b[39m\"03  0.0478717435616999864578  \"\n",
       " ⋮\n",
       " \"0.212469878373667597771   0.127\"\u001b[93m\u001b[1m ⋯ 329 bytes ⋯ \u001b[22m\u001b[39m\"4   0.588110726559534668922   \"\n",
       " \"0.794108903501182794571   0.631\"\u001b[93m\u001b[1m ⋯ 329 bytes ⋯ \u001b[22m\u001b[39m\"92  0.681871920125558972359   \"\n",
       " \"0.812840891303494572639   0.880\"\u001b[93m\u001b[1m ⋯ 329 bytes ⋯ \u001b[22m\u001b[39m\"5   0.967081353068351745605   \"\n",
       " \"0.176643528975546360016   0.377\"\u001b[93m\u001b[1m ⋯ 329 bytes ⋯ \u001b[22m\u001b[39m\"    0.810850146226584911346   \"\n",
       " \"0.784733252134174108505   0.589\"\u001b[93m\u001b[1m ⋯ 329 bytes ⋯ \u001b[22m\u001b[39m\"1   0.604724773205816745758   \"\n",
       " \"0.210122277727350592613   0.092\"\u001b[93m\u001b[1m ⋯ 329 bytes ⋯ \u001b[22m\u001b[39m\"28  0.635963136330246925354   \"\n",
       " \"0.181983796879649162292   0.343\"\u001b[93m\u001b[1m ⋯ 329 bytes ⋯ \u001b[22m\u001b[39m\"6   0.983703037025406956673   \"\n",
       " \"0.827036435017362236977   0.839\"\u001b[93m\u001b[1m ⋯ 329 bytes ⋯ \u001b[22m\u001b[39m\"7   0.764933740952983498573   \"\n",
       " \"0.787058424204587936401   0.150\"\u001b[93m\u001b[1m ⋯ 329 bytes ⋯ \u001b[22m\u001b[39m\"9   0.202166317030787467957   \"\n",
       " \"0.204383649164810776711   0.655\"\u001b[93m\u001b[1m ⋯ 329 bytes ⋯ \u001b[22m\u001b[39m\"5   0.0459050657227635383606  \"\n",
       " \"0.183816138189285993576   0.904\"\u001b[93m\u001b[1m ⋯ 329 bytes ⋯ \u001b[22m\u001b[39m\"4   0.323698254534974694252   \"\n",
       " \"0.820804990595206618309   0.401\"\u001b[93m\u001b[1m ⋯ 329 bytes ⋯ \u001b[22m\u001b[39m\"06  0.417429403634741902351   \""
      ]
     },
     "execution_count": 23,
     "metadata": {},
     "output_type": "execute_result"
    }
   ],
   "source": [
    "folder_path = raw\"C:\\Users\\mussi\\Documents\\Manhattan\\Leuven\\MCQMC\\Data_Libraries\\Pts\\\\\" \n",
    "\n",
    "dig_net_12_d15 = open(folder_path * \"nx_15d_10.csv\", enc\"UTF-16LE\") do io\n",
    "    CSV.read(IOBuffer(read(io, String)), Tables.matrix; header=false, delim=',')\n",
    "end\n",
    "\n",
    "# array_dig_net_d15 = digital_shift(dig_net_12_d15[2:end,:], 100);          # digital shift on d-dim sobol (no zero vector, since there the inverse probability function is not defined)"
   ]
  },
  {
   "cell_type": "code",
   "execution_count": null,
   "id": "1f4b0859",
   "metadata": {},
   "outputs": [],
   "source": [
    "# Whole data set with digital nets sequence\n",
    "N = (2^12)-1; burn_in = 8; R = 100 \n",
    "@time F_Lin_sob_12_100 = R_UbFkm(R, N, array_sobol_12_d15, blm, burn_in, f);\n",
    "\n",
    "println(DataFrame(\n",
    "                    Coeff    = F_Lin_sob_12_100.mu_pool,\n",
    "                    Std_Err  = sqrt.(F_Lin_sob_12_100.sigma_pool)\n",
    "                ))"
   ]
  },
  {
   "cell_type": "code",
   "execution_count": null,
   "id": "3f7b4493",
   "metadata": {},
   "outputs": [],
   "source": [
    "# Mini data set with with digital nets sequence\n",
    "N = (2^12)-1; burn_in = 8; R = 100\n",
    "@time mini_F_Lin_sob_12_100 = R_UbFkm(R, N, array_sobol_12_d15, blm_mini, burn_in, f);\n",
    "\n",
    "println(DataFrame(\n",
    "                    Coeff    = mini_F_Lin_sob_12_100.mu_pool,\n",
    "                    Std_Err  = sqrt.(mini_F_Lin_sob_12_100.sigma_pool)\n",
    "                ))"
   ]
  },
  {
   "cell_type": "markdown",
   "id": "70f270ea",
   "metadata": {},
   "source": [
    "#### **Whole vs mini dataset 2^12 Chen's (t,m,s)-net pts**"
   ]
  },
  {
   "cell_type": "code",
   "execution_count": null,
   "id": "3d8540be",
   "metadata": {},
   "outputs": [],
   "source": [
    "# Whole data set with chen's tms sequence\n",
    "N = (2^12)-1; burn_in = 8; R = 100 \n",
    "@time F_Lin_sob_12_100 = R_UbFkm(R, N, array_sobol_12_d15, blm, burn_in, f);\n",
    "\n",
    "println(DataFrame(\n",
    "                    Coeff    = F_Lin_sob_12_100.mu_pool,\n",
    "                    Std_Err  = sqrt.(F_Lin_sob_12_100.sigma_pool)\n",
    "                ))"
   ]
  },
  {
   "cell_type": "code",
   "execution_count": null,
   "id": "3b596031",
   "metadata": {},
   "outputs": [],
   "source": [
    "# Mini data set with chen's tms sequence\n",
    "N = (2^12)-1; burn_in = 8; R = 100\n",
    "@time mini_F_Lin_sob_12_100 = R_UbFkm(R, N, array_sobol_12_d15, blm_mini, burn_in, f);\n",
    "\n",
    "println(DataFrame(\n",
    "                    Coeff    = mini_F_Lin_sob_12_100.mu_pool,\n",
    "                    Std_Err  = sqrt.(mini_F_Lin_sob_12_100.sigma_pool)\n",
    "                ))"
   ]
  },
  {
   "cell_type": "markdown",
   "id": "a1d6f1b7",
   "metadata": {},
   "source": [
    "### **N-size COMPARISON**"
   ]
  },
  {
   "cell_type": "code",
   "execution_count": 8,
   "id": "924fe1e8",
   "metadata": {},
   "outputs": [
    {
     "data": {
      "text/plain": [
       "#27 (generic function with 1 method)"
      ]
     },
     "execution_count": 8,
     "metadata": {},
     "output_type": "execute_result"
    }
   ],
   "source": [
    "# Parameter initialisation -- pag 14 (He, and Du 2024) --\n",
    "p = size(X, 2); b0= zeros(p); B0= Matrix{Float64}(I, p, p)*100; n0=5.0; s0=0.01\n",
    "blm = UnMCQMC_linear(p, Y, X, b0, B0, n0, s0);\n",
    "f = x -> x"
   ]
  },
  {
   "cell_type": "code",
   "execution_count": 30,
   "id": "73ff8e51",
   "metadata": {},
   "outputs": [
    {
     "name": "stdout",
     "output_type": "stream",
     "text": [
      "Dimensione array risultati: (15, 2, 5)\n",
      "RMSE: [0.0006197323062960761, 0.0004406278220376575, 0.00032342979591014695, 0.00021933741725967243, 0.0001650699765898814]\n"
     ]
    }
   ],
   "source": [
    "# unMCQMC linear model with IID \n",
    "ms = [10, 11, 12, 13, 14]; num_m = length(ms)    # number of exponents\n",
    "burn_in = 8; R = 100\n",
    "\n",
    "results_linear_iid = Array{Float64}(undef, p+1, 2, num_m)\n",
    "rmse_vec = Vector{Float64}(undef, num_m)\n",
    "\n",
    "Random.seed!(1234)\n",
    "for (i, m) in enumerate(ms)\n",
    "    N = 2^m\n",
    "    iid = rand(p+1, N, R)\n",
    "\n",
    "    F = R_UbFkm(R, N, iid, blm, burn_in, f)\n",
    "\n",
    "    results_linear_iid[:, 1, i] = F.mu_pool\n",
    "    results_linear_iid[:, 2, i] = sqrt.(F.sigma_pool)\n",
    "\n",
    "    rmse_vec[i] = sqrt(sum(F.sigma_pool))\n",
    "end\n",
    "\n",
    "@save \"linear_iid_results.jld2\" results_linear_iid rmse_vec ms\n",
    "\n",
    "println(\"Dimensione array risultati: \", size(results_linear_iid))\n",
    "println(\"RMSE: \", rmse_vec)\n"
   ]
  },
  {
   "cell_type": "code",
   "execution_count": 28,
   "id": "0c0215d8",
   "metadata": {},
   "outputs": [
    {
     "name": "stdout",
     "output_type": "stream",
     "text": [
      "Dimensione array risultati: (15, 2, 5)\n",
      "RMSE: [4.3284620550919665e-5, 3.073235200317625e-5, 1.438647465907782e-5, 4.694566543208594e-6, 3.066051648434625e-6]\n"
     ]
    }
   ],
   "source": [
    "# unMCQMC linear model with Harase's \n",
    "ms = [10, 11, 12, 13, 14]; num_m = length(ms)    # number of exponents\n",
    "burn_in = 8; R = 100\n",
    "\n",
    "results_linear_harase = Array{Float64}(undef, p+1, 2, num_m)\n",
    "rmse_vec_harase = Vector{Float64}(undef, num_m)\n",
    "\n",
    "Random.seed!(1234)\n",
    "wcud_12_10 = digit_shift_mat(vec_wcud_10, p+1 , 100);\n",
    "wcud_12_11 = digit_shift_mat(vec_wcud_11, p+1 , 100);\n",
    "wcud_12_12 = digit_shift_mat(vec_wcud_12, p+1 , 100);\n",
    "wcud_12_13 = digit_shift_mat(vec_wcud_13, p+1 , 100);\n",
    "wcud_12_14 = digit_shift_mat(vec_wcud_14, p+1 , 100);\n",
    "wcud_arrays = [wcud_12_10, wcud_12_11, wcud_12_12, wcud_12_13, wcud_12_14]\n",
    "\n",
    "for (i, m) in enumerate(ms)\n",
    "    N = (2^m)-1\n",
    "\n",
    "    F = R_UbFkm(R, N, wcud_arrays[i], blm, burn_in, f)\n",
    "\n",
    "    results_linear_harase[:, 1, i] = F.mu_pool\n",
    "    results_linear_harase[:, 2, i] = sqrt.(F.sigma_pool)\n",
    "\n",
    "    rmse_vec_harase[i] = sqrt(sum(F.sigma_pool))\n",
    "end\n",
    "\n",
    "@save \"linear_harase_results.jld2\" results_linear_harase rmse_vec_harase\n",
    "\n",
    "println(\"Dimensione array risultati: \", size(results_linear_harase))\n",
    "println(\"RMSE: \", rmse_vec_harase)"
   ]
  },
  {
   "cell_type": "code",
   "execution_count": 29,
   "id": "e06e41a0",
   "metadata": {},
   "outputs": [
    {
     "name": "stdout",
     "output_type": "stream",
     "text": [
      "Dimensione array risultati: (15, 2, 5)\n",
      "RMSE: [4.9499612661104386e-5, 2.5182345514957015e-5, 1.2061497886868093e-5, 6.654573881743969e-6, 4.2269779540893906e-6]\n"
     ]
    }
   ],
   "source": [
    "# unMCQMC linear model with Sobol\n",
    "ms = [10, 11, 12, 13, 14]; num_m = length(ms)    # number of exponents\n",
    "burn_in = 8; R = 100\n",
    "\n",
    "results_linear_sobol = Array{Float64}(undef, p+1, 2, num_m)\n",
    "rmse_vec_sobol = Vector{Float64}(undef, num_m)\n",
    "\n",
    "Random.seed!(1234)\n",
    "array_sobol_15d_10  = digital_shift(sobol_15d_10[2:end,:], 100);          # digital shift on d-dim sobol (no zero vector, since there the inverse probability function is not defined)\n",
    "array_sobol_15d_11  = digital_shift(sobol_15d_11[2:end,:], 100);          \n",
    "array_sobol_15d_12  = digital_shift(sobol_15d_12[2:end,:], 100);\n",
    "array_sobol_15d_13  = digital_shift(sobol_15d_13[2:end,:], 100);\n",
    "array_sobol_15d_14  = digital_shift(sobol_15d_14[2:end,:], 100);\n",
    "sobol_arrays = [array_sobol_15d_10, array_sobol_15d_11, array_sobol_15d_12, array_sobol_15d_13, array_sobol_15d_14]\n",
    "\n",
    "for (i, m) in enumerate(ms)\n",
    "    N = (2^m)-1\n",
    "    iid = rand(p+1, N, R)\n",
    "\n",
    "    F = R_UbFkm(R, N, sobol_arrays[i], blm, burn_in, f)\n",
    "\n",
    "    results_linear_sobol[:, 1, i] = F.mu_pool\n",
    "    results_linear_sobol[:, 2, i] = sqrt.(F.sigma_pool)\n",
    "\n",
    "    rmse_vec_sobol[i] = sqrt(sum(F.sigma_pool))\n",
    "end\n",
    "\n",
    "@save \"linear_sobol_results.jld2\" results_linear_sobol rmse_vec_sobol\n",
    "\n",
    "println(\"Dimensione array risultati: \", size(results_linear_sobol))\n",
    "println(\"RMSE: \", rmse_vec_sobol)"
   ]
  },
  {
   "cell_type": "code",
   "execution_count": 6,
   "id": "935f56e0",
   "metadata": {},
   "outputs": [
    {
     "data": {
      "text/plain": [
       "2-element Vector{Symbol}:\n",
       " :results_linear_sobol\n",
       " :rmse_vec_sobol"
      ]
     },
     "execution_count": 6,
     "metadata": {},
     "output_type": "execute_result"
    }
   ],
   "source": [
    "@load \"linear_iid_results.jld2\" results_linear_iid rmse_vec \n",
    "@load \"linear_harase_results.jld2\" results_linear_harase rmse_vec_harase\n",
    "@load \"linear_sobol_results.jld2\" results_linear_sobol rmse_vec_sobol "
   ]
  },
  {
   "cell_type": "code",
   "execution_count": 34,
   "id": "da37b7a0",
   "metadata": {},
   "outputs": [
    {
     "name": "stdout",
     "output_type": "stream",
     "text": [
      "Convergence rates:\n",
      "IID-0.48235435159785284\n",
      "Harase-1.034949553533728\n",
      "Sobol-0.9019431956753844\n"
     ]
    }
   ],
   "source": [
    "x = [10,11,12,13,14]\n",
    "\n",
    "function ols_fit(x, y)\n",
    "    ylog = log2.(y)\n",
    "    X = hcat(ones(length(x)), x)   \n",
    "    model = lm(X, ylog)\n",
    "    return coef(model)             \n",
    "end\n",
    "\n",
    "coef_iid    = ols_fit(x, rmse_vec)\n",
    "coef_harase = ols_fit(x, rmse_vec_harase)\n",
    "coef_sobol  = ols_fit(x, rmse_vec_sobol)\n",
    "\n",
    "println(\"Convergence rates:\")\n",
    "println(\"IID\", coef_iid[2])\n",
    "println(\"Harase\", coef_harase[2])\n",
    "println(\"Sobol\", coef_sobol[2])"
   ]
  },
  {
   "cell_type": "code",
   "execution_count": 35,
   "id": "85c2ee3a",
   "metadata": {},
   "outputs": [
    {
     "name": "stdout",
     "output_type": "stream",
     "text": [
      "IID-5.835282550279425\n",
      "Harase-3.897877117483964\n",
      "Sobol-5.370250992598443\n"
     ]
    }
   ],
   "source": [
    "println(\"IID\", coef_iid[1])\n",
    "println(\"Harase\", coef_harase[1])\n",
    "println(\"Sobol\", coef_sobol[1])"
   ]
  },
  {
   "cell_type": "code",
   "execution_count": 98,
   "id": "5169ebce",
   "metadata": {},
   "outputs": [
    {
     "data": {
      "image/png": "[encoded data removed]",
      "image/svg+xml": [
       "<?xml version=\"1.0\" encoding=\"utf-8\"?>\n",
       "<svg xmlns=\"http://www.w3.org/2000/svg\" xmlns:xlink=\"http://www.w3.org/1999/xlink\" width=\"600\" height=\"400\" viewBox=\"0 0 2400 1600\">\n",
       "<defs>\n",
       "  <clipPath id=\"clip930\">\n",
       "    <rect x=\"0\" y=\"0\" width=\"2400\" height=\"1600\"/>\n",
       "  </clipPath>\n",
       "</defs>\n",
       "<path clip-path=\"url(#clip930)\" d=\"M0 1600 L2400 1600 L2400 0 L0 0  Z\" fill=\"#ffffff\" fill-rule=\"evenodd\" fill-opacity=\"1\"/>\n",
       "<defs>\n",
       "  <clipPath id=\"clip931\">\n",
       "    <rect x=\"480\" y=\"0\" width=\"1681\" height=\"1600\"/>\n",
       "  </clipPath>\n",
       "</defs>\n",
       "<path clip-path=\"url(#clip930)\" d=\"M253.294 1404.59 L2352.76 1404.59 L2352.76 323.614 L253.294 323.614  Z\" fill=\"#ffffff\" fill-rule=\"evenodd\" fill-opacity=\"1\"/>\n",
       "<defs>\n",
       "  <clipPath id=\"clip932\">\n",
       "    <rect x=\"253\" y=\"323\" width=\"2100\" height=\"1082\"/>\n",
       "  </clipPath>\n",
       "</defs>\n",
       "<polyline clip-path=\"url(#clip932)\" style=\"stroke:#000000; stroke-linecap:round; stroke-linejoin:round; stroke-width:2; stroke-opacity:0.3; fill:none\" points=\"312.713,1404.59 312.713,323.614 \"/>\n",
       "<polyline clip-path=\"url(#clip932)\" style=\"stroke:#000000; stroke-linecap:round; stroke-linejoin:round; stroke-width:2; stroke-opacity:0.3; fill:none\" points=\"807.869,1404.59 807.869,323.614 \"/>\n",
       "<polyline clip-path=\"url(#clip932)\" style=\"stroke:#000000; stroke-linecap:round; stroke-linejoin:round; stroke-width:2; stroke-opacity:0.3; fill:none\" points=\"1303.03,1404.59 1303.03,323.614 \"/>\n",
       "<polyline clip-path=\"url(#clip932)\" style=\"stroke:#000000; stroke-linecap:round; stroke-linejoin:round; stroke-width:2; stroke-opacity:0.3; fill:none\" points=\"1798.18,1404.59 1798.18,323.614 \"/>\n",
       "<polyline clip-path=\"url(#clip932)\" style=\"stroke:#000000; stroke-linecap:round; stroke-linejoin:round; stroke-width:2; stroke-opacity:0.3; fill:none\" points=\"2293.34,1404.59 2293.34,323.614 \"/>\n",
       "<polyline clip-path=\"url(#clip932)\" style=\"stroke:#000000; stroke-linecap:round; stroke-linejoin:round; stroke-width:2; stroke-opacity:0.3; fill:none\" points=\"253.294,1008.12 2352.76,1008.12 \"/>\n",
       "<polyline clip-path=\"url(#clip932)\" style=\"stroke:#000000; stroke-linecap:round; stroke-linejoin:round; stroke-width:2; stroke-opacity:0.3; fill:none\" points=\"253.294,518.659 2352.76,518.659 \"/>\n",
       "<polyline clip-path=\"url(#clip930)\" style=\"stroke:#000000; stroke-linecap:round; stroke-linejoin:round; stroke-width:4; stroke-opacity:1; fill:none\" points=\"253.294,1404.59 2352.76,1404.59 \"/>\n",
       "<polyline clip-path=\"url(#clip930)\" style=\"stroke:#000000; stroke-linecap:round; stroke-linejoin:round; stroke-width:4; stroke-opacity:1; fill:none\" points=\"312.713,1404.59 312.713,1388.64 \"/>\n",
       "<polyline clip-path=\"url(#clip930)\" style=\"stroke:#000000; stroke-linecap:round; stroke-linejoin:round; stroke-width:4; stroke-opacity:1; fill:none\" points=\"807.869,1404.59 807.869,1388.64 \"/>\n",
       "<polyline clip-path=\"url(#clip930)\" style=\"stroke:#000000; stroke-linecap:round; stroke-linejoin:round; stroke-width:4; stroke-opacity:1; fill:none\" points=\"1303.03,1404.59 1303.03,1388.64 \"/>\n",
       "<polyline clip-path=\"url(#clip930)\" style=\"stroke:#000000; stroke-linecap:round; stroke-linejoin:round; stroke-width:4; stroke-opacity:1; fill:none\" points=\"1798.18,1404.59 1798.18,1388.64 \"/>\n",
       "<polyline clip-path=\"url(#clip930)\" style=\"stroke:#000000; stroke-linecap:round; stroke-linejoin:round; stroke-width:4; stroke-opacity:1; fill:none\" points=\"2293.34,1404.59 2293.34,1388.64 \"/>\n",
       "<path clip-path=\"url(#clip930)\" d=\"M286.254 1478.71 L302.574 1478.71 L302.574 1482.65 L280.629 1482.65 L280.629 1478.71 Q283.291 1475.96 287.875 1471.33 Q292.481 1466.67 293.662 1465.33 Q295.907 1462.81 296.787 1461.07 Q297.689 1459.31 297.689 1457.62 Q297.689 1454.87 295.745 1453.13 Q293.824 1451.4 290.722 1451.4 Q288.523 1451.4 286.069 1452.16 Q283.638 1452.92 280.861 1454.48 L280.861 1449.75 Q283.685 1448.62 286.138 1448.04 Q288.592 1447.46 290.629 1447.46 Q296 1447.46 299.194 1450.15 Q302.388 1452.83 302.388 1457.32 Q302.388 1459.45 301.578 1461.37 Q300.791 1463.27 298.685 1465.86 Q298.106 1466.54 295.004 1469.75 Q291.902 1472.95 286.254 1478.71 Z\" fill=\"#000000\" fill-rule=\"nonzero\" fill-opacity=\"1\" /><path clip-path=\"url(#clip930)\" d=\"M303.119 1452.04 L309.326 1452.04 L309.326 1430.62 L302.574 1431.97 L302.574 1428.51 L309.288 1427.16 L313.087 1427.16 L313.087 1452.04 L319.294 1452.04 L319.294 1455.24 L303.119 1455.24 L303.119 1452.04 Z\" fill=\"#000000\" fill-rule=\"nonzero\" fill-opacity=\"1\" /><path clip-path=\"url(#clip930)\" d=\"M335.092 1429.66 Q332.158 1429.66 330.672 1432.55 Q329.205 1435.43 329.205 1441.22 Q329.205 1447 330.672 1449.89 Q332.158 1452.77 335.092 1452.77 Q338.045 1452.77 339.512 1449.89 Q340.998 1447 340.998 1441.22 Q340.998 1435.43 339.512 1432.55 Q338.045 1429.66 335.092 1429.66 M335.092 1426.65 Q339.813 1426.65 342.296 1430.39 Q344.797 1434.11 344.797 1441.22 Q344.797 1448.31 342.296 1452.06 Q339.813 1455.78 335.092 1455.78 Q330.371 1455.78 327.87 1452.06 Q325.387 1448.31 325.387 1441.22 Q325.387 1434.11 327.87 1430.39 Q330.371 1426.65 335.092 1426.65 Z\" fill=\"#000000\" fill-rule=\"nonzero\" fill-opacity=\"1\" /><path clip-path=\"url(#clip930)\" d=\"M781.909 1478.71 L798.228 1478.71 L798.228 1482.65 L776.284 1482.65 L776.284 1478.71 Q778.946 1475.96 783.529 1471.33 Q788.135 1466.67 789.316 1465.33 Q791.561 1462.81 792.441 1461.07 Q793.344 1459.31 793.344 1457.62 Q793.344 1454.87 791.399 1453.13 Q789.478 1451.4 786.376 1451.4 Q784.177 1451.4 781.723 1452.16 Q779.293 1452.92 776.515 1454.48 L776.515 1449.75 Q779.339 1448.62 781.793 1448.04 Q784.247 1447.46 786.284 1447.46 Q791.654 1447.46 794.848 1450.15 Q798.043 1452.83 798.043 1457.32 Q798.043 1459.45 797.233 1461.37 Q796.446 1463.27 794.339 1465.86 Q793.76 1466.54 790.659 1469.75 Q787.557 1472.95 781.909 1478.71 Z\" fill=\"#000000\" fill-rule=\"nonzero\" fill-opacity=\"1\" /><path clip-path=\"url(#clip930)\" d=\"M798.773 1452.04 L804.98 1452.04 L804.98 1430.62 L798.228 1431.97 L798.228 1428.51 L804.942 1427.16 L808.742 1427.16 L808.742 1452.04 L814.948 1452.04 L814.948 1455.24 L798.773 1455.24 L798.773 1452.04 Z\" fill=\"#000000\" fill-rule=\"nonzero\" fill-opacity=\"1\" /><path clip-path=\"url(#clip930)\" d=\"M823.28 1452.04 L829.486 1452.04 L829.486 1430.62 L822.734 1431.97 L822.734 1428.51 L829.449 1427.16 L833.248 1427.16 L833.248 1452.04 L839.455 1452.04 L839.455 1455.24 L823.28 1455.24 L823.28 1452.04 Z\" fill=\"#000000\" fill-rule=\"nonzero\" fill-opacity=\"1\" /><path clip-path=\"url(#clip930)\" d=\"M1277.22 1478.71 L1293.53 1478.71 L1293.53 1482.65 L1271.59 1482.65 L1271.59 1478.71 Q1274.25 1475.96 1278.84 1471.33 Q1283.44 1466.67 1284.62 1465.33 Q1286.87 1462.81 1287.75 1461.07 Q1288.65 1459.31 1288.65 1457.62 Q1288.65 1454.87 1286.71 1453.13 Q1284.78 1451.4 1281.68 1451.4 Q1279.48 1451.4 1277.03 1452.16 Q1274.6 1452.92 1271.82 1454.48 L1271.82 1449.75 Q1274.65 1448.62 1277.1 1448.04 Q1279.55 1447.46 1281.59 1447.46 Q1286.96 1447.46 1290.15 1450.15 Q1293.35 1452.83 1293.35 1457.32 Q1293.35 1459.45 1292.54 1461.37 Q1291.75 1463.27 1289.65 1465.86 Q1289.07 1466.54 1285.97 1469.75 Q1282.86 1472.95 1277.22 1478.71 Z\" fill=\"#000000\" fill-rule=\"nonzero\" fill-opacity=\"1\" /><path clip-path=\"url(#clip930)\" d=\"M1294.08 1452.04 L1300.29 1452.04 L1300.29 1430.62 L1293.53 1431.97 L1293.53 1428.51 L1300.25 1427.16 L1304.05 1427.16 L1304.05 1452.04 L1310.25 1452.04 L1310.25 1455.24 L1294.08 1455.24 L1294.08 1452.04 Z\" fill=\"#000000\" fill-rule=\"nonzero\" fill-opacity=\"1\" /><path clip-path=\"url(#clip930)\" d=\"M1321.2 1452.04 L1334.46 1452.04 L1334.46 1455.24 L1316.63 1455.24 L1316.63 1452.04 Q1318.79 1449.8 1322.52 1446.04 Q1326.26 1442.26 1327.22 1441.17 Q1329.04 1439.12 1329.76 1437.71 Q1330.49 1436.28 1330.49 1434.9 Q1330.49 1432.67 1328.91 1431.26 Q1327.35 1429.85 1324.83 1429.85 Q1323.04 1429.85 1321.05 1430.47 Q1319.08 1431.09 1316.82 1432.35 L1316.82 1428.51 Q1319.11 1427.59 1321.11 1427.12 Q1323.1 1426.65 1324.76 1426.65 Q1329.12 1426.65 1331.71 1428.83 Q1334.31 1431.01 1334.31 1434.66 Q1334.31 1436.39 1333.65 1437.95 Q1333.01 1439.49 1331.3 1441.6 Q1330.83 1442.15 1328.31 1444.76 Q1325.79 1447.36 1321.2 1452.04 Z\" fill=\"#000000\" fill-rule=\"nonzero\" fill-opacity=\"1\" /><path clip-path=\"url(#clip930)\" d=\"M1771.99 1478.71 L1788.3 1478.71 L1788.3 1482.65 L1766.36 1482.65 L1766.36 1478.71 Q1769.02 1475.96 1773.61 1471.33 Q1778.21 1466.67 1779.39 1465.33 Q1781.64 1462.81 1782.52 1461.07 Q1783.42 1459.31 1783.42 1457.62 Q1783.42 1454.87 1781.48 1453.13 Q1779.55 1451.4 1776.45 1451.4 Q1774.25 1451.4 1771.8 1452.16 Q1769.37 1452.92 1766.59 1454.48 L1766.59 1449.75 Q1769.42 1448.62 1771.87 1448.04 Q1774.32 1447.46 1776.36 1447.46 Q1781.73 1447.46 1784.93 1450.15 Q1788.12 1452.83 1788.12 1457.32 Q1788.12 1459.45 1787.31 1461.37 Q1786.52 1463.27 1784.42 1465.86 Q1783.84 1466.54 1780.74 1469.75 Q1777.63 1472.95 1771.99 1478.71 Z\" fill=\"#000000\" fill-rule=\"nonzero\" fill-opacity=\"1\" /><path clip-path=\"url(#clip930)\" d=\"M1788.85 1452.04 L1795.06 1452.04 L1795.06 1430.62 L1788.3 1431.97 L1788.3 1428.51 L1795.02 1427.16 L1798.82 1427.16 L1798.82 1452.04 L1805.03 1452.04 L1805.03 1455.24 L1788.85 1455.24 L1788.85 1452.04 Z\" fill=\"#000000\" fill-rule=\"nonzero\" fill-opacity=\"1\" /><path clip-path=\"url(#clip930)\" d=\"M1824.21 1440.1 Q1826.94 1440.68 1828.46 1442.52 Q1830 1444.37 1830 1447.07 Q1830 1451.23 1827.14 1453.51 Q1824.28 1455.78 1819.02 1455.78 Q1817.25 1455.78 1815.37 1455.42 Q1813.51 1455.09 1811.51 1454.39 L1811.51 1450.72 Q1813.09 1451.64 1814.97 1452.11 Q1816.86 1452.58 1818.91 1452.58 Q1822.48 1452.58 1824.34 1451.17 Q1826.22 1449.76 1826.22 1447.07 Q1826.22 1444.59 1824.47 1443.2 Q1822.74 1441.79 1819.64 1441.79 L1816.37 1441.79 L1816.37 1438.67 L1819.79 1438.67 Q1822.59 1438.67 1824.08 1437.56 Q1825.56 1436.43 1825.56 1434.32 Q1825.56 1432.16 1824.02 1431.01 Q1822.5 1429.85 1819.64 1429.85 Q1818.08 1429.85 1816.29 1430.18 Q1814.5 1430.52 1812.36 1431.24 L1812.36 1427.85 Q1814.52 1427.25 1816.4 1426.95 Q1818.3 1426.65 1819.98 1426.65 Q1824.3 1426.65 1826.82 1428.62 Q1829.34 1430.58 1829.34 1433.93 Q1829.34 1436.26 1828.01 1437.88 Q1826.67 1439.48 1824.21 1440.1 Z\" fill=\"#000000\" fill-rule=\"nonzero\" fill-opacity=\"1\" /><path clip-path=\"url(#clip930)\" d=\"M2266.68 1478.71 L2283 1478.71 L2283 1482.65 L2261.06 1482.65 L2261.06 1478.71 Q2263.72 1475.96 2268.3 1471.33 Q2272.91 1466.67 2274.09 1465.33 Q2276.33 1462.81 2277.21 1461.07 Q2278.12 1459.31 2278.12 1457.62 Q2278.12 1454.87 2276.17 1453.13 Q2274.25 1451.4 2271.15 1451.4 Q2268.95 1451.4 2266.5 1452.16 Q2264.07 1452.92 2261.29 1454.48 L2261.29 1449.75 Q2264.11 1448.62 2266.57 1448.04 Q2269.02 1447.46 2271.06 1447.46 Q2276.43 1447.46 2279.62 1450.15 Q2282.81 1452.83 2282.81 1457.32 Q2282.81 1459.45 2282 1461.37 Q2281.22 1463.27 2279.11 1465.86 Q2278.53 1466.54 2275.43 1469.75 Q2272.33 1472.95 2266.68 1478.71 Z\" fill=\"#000000\" fill-rule=\"nonzero\" fill-opacity=\"1\" /><path clip-path=\"url(#clip930)\" d=\"M2283.55 1452.04 L2289.75 1452.04 L2289.75 1430.62 L2283 1431.97 L2283 1428.51 L2289.71 1427.16 L2293.51 1427.16 L2293.51 1452.04 L2299.72 1452.04 L2299.72 1455.24 L2283.55 1455.24 L2283.55 1452.04 Z\" fill=\"#000000\" fill-rule=\"nonzero\" fill-opacity=\"1\" /><path clip-path=\"url(#clip930)\" d=\"M2317.83 1430.47 L2308.24 1445.46 L2317.83 1445.46 L2317.83 1430.47 M2316.84 1427.16 L2321.61 1427.16 L2321.61 1445.46 L2325.62 1445.46 L2325.62 1448.62 L2321.61 1448.62 L2321.61 1455.24 L2317.83 1455.24 L2317.83 1448.62 L2305.16 1448.62 L2305.16 1444.95 L2316.84 1427.16 Z\" fill=\"#000000\" fill-rule=\"nonzero\" fill-opacity=\"1\" /><path clip-path=\"url(#clip930)\" d=\"M1192.15 1551.78 L1192.15 1549.75 Q1195.66 1549.75 1196.47 1549.33 Q1197.27 1548.88 1197.27 1546.75 L1197.27 1512.45 Q1197.27 1510.01 1196.4 1509.39 Q1195.56 1508.78 1192.15 1508.78 L1192.15 1506.72 L1201.62 1506.01 L1201.62 1546.75 Q1201.62 1548.88 1202.46 1549.33 Q1203.29 1549.75 1206.77 1549.75 L1206.77 1551.78 Q1205.97 1551.78 1204.29 1551.71 Q1202.62 1551.65 1201.39 1551.62 Q1200.17 1551.58 1199.46 1551.58 Q1198.69 1551.58 1192.15 1551.78 Z\" fill=\"#000000\" fill-rule=\"nonzero\" fill-opacity=\"1\" /><path clip-path=\"url(#clip930)\" d=\"M1216.7 1548.23 Q1212.35 1543.92 1212.35 1537.67 Q1212.35 1531.39 1216.6 1526.82 Q1220.88 1522.21 1227 1522.21 Q1232.99 1522.21 1237.28 1526.78 Q1241.59 1531.33 1241.59 1537.67 Q1241.59 1543.89 1237.24 1548.2 Q1232.93 1552.52 1226.94 1552.52 Q1221.08 1552.52 1216.7 1548.23 M1217.82 1537.12 Q1217.82 1543.53 1219.5 1546.43 Q1222.08 1550.84 1227 1550.84 Q1229.45 1550.84 1231.48 1549.52 Q1233.54 1548.2 1234.67 1545.98 Q1236.12 1543.08 1236.12 1537.12 Q1236.12 1530.78 1234.38 1527.98 Q1231.8 1523.69 1226.94 1523.69 Q1224.81 1523.69 1222.72 1524.82 Q1220.66 1525.92 1219.4 1528.11 Q1217.82 1531 1217.82 1537.12 Z\" fill=\"#000000\" fill-rule=\"nonzero\" fill-opacity=\"1\" /><path clip-path=\"url(#clip930)\" d=\"M1242.64 1556.99 Q1242.64 1554.87 1244.25 1553.03 Q1245.89 1551.2 1248.72 1550.39 Q1245.83 1548.56 1245.83 1544.53 Q1245.83 1541.44 1247.85 1539.06 Q1244.76 1536.48 1244.76 1532.26 Q1244.76 1528.36 1247.85 1525.5 Q1250.95 1522.63 1255.45 1522.63 Q1259.42 1522.63 1262.44 1525.01 Q1265.6 1521.92 1269.43 1521.89 Q1271.14 1521.89 1271.94 1522.95 Q1272.78 1524.02 1272.78 1525.14 Q1272.78 1526.14 1272.14 1526.62 Q1271.53 1527.11 1270.88 1527.11 Q1270.08 1527.11 1269.5 1526.59 Q1268.95 1526.04 1268.95 1525.21 Q1268.95 1523.82 1270.01 1523.4 Q1269.82 1523.34 1269.37 1523.34 Q1266.15 1523.34 1263.41 1525.92 Q1266.12 1528.43 1266.12 1532.32 Q1266.12 1536.22 1263.02 1539.09 Q1259.93 1541.95 1255.45 1541.95 Q1251.75 1541.95 1248.92 1539.89 Q1247.79 1541.21 1247.79 1543.02 Q1247.79 1544.66 1248.79 1545.95 Q1249.79 1547.24 1251.3 1547.43 Q1251.75 1547.49 1256.23 1547.49 Q1258.87 1547.49 1260.32 1547.56 Q1261.77 1547.62 1263.83 1548.07 Q1265.92 1548.49 1267.56 1549.33 Q1271.85 1551.71 1271.88 1556.87 Q1271.88 1560.63 1267.53 1562.98 Q1263.22 1565.37 1257.23 1565.37 Q1251.17 1565.37 1246.89 1562.95 Q1242.64 1560.57 1242.64 1556.99 M1246.08 1556.99 Q1246.08 1559.7 1249.27 1561.76 Q1252.46 1563.85 1257.29 1563.85 Q1262.02 1563.85 1265.21 1561.79 Q1268.43 1559.76 1268.43 1556.99 Q1268.43 1555.03 1267.31 1553.77 Q1266.18 1552.52 1263.86 1552 Q1261.57 1551.52 1259.96 1551.42 Q1258.35 1551.33 1255.39 1551.33 L1251.49 1551.33 Q1249.24 1551.45 1247.66 1553.1 Q1246.08 1554.74 1246.08 1556.99 M1249.69 1532.32 Q1249.69 1540.44 1255.45 1540.44 Q1258.35 1540.44 1260.12 1537.8 Q1261.19 1536.03 1261.19 1532.26 Q1261.19 1524.14 1255.45 1524.14 Q1252.56 1524.14 1250.75 1526.78 Q1249.69 1528.56 1249.69 1532.32 Z\" fill=\"#000000\" fill-rule=\"nonzero\" fill-opacity=\"1\" /><path clip-path=\"url(#clip930)\" d=\"M1290.19 1583.52 Q1290.19 1582.69 1290.25 1582.44 Q1290.34 1582.19 1290.7 1581.81 L1299.56 1571.93 Q1304.41 1566.48 1304.41 1561.72 Q1304.41 1558.63 1302.79 1556.42 Q1301.19 1554.21 1298.23 1554.21 Q1296.2 1554.21 1294.49 1555.45 Q1292.78 1556.69 1291.99 1558.9 Q1292.12 1558.86 1292.6 1558.86 Q1293.75 1558.86 1294.38 1559.58 Q1295.03 1560.3 1295.03 1561.27 Q1295.03 1562.51 1294.22 1563.12 Q1293.43 1563.71 1292.64 1563.71 Q1292.33 1563.71 1291.9 1563.64 Q1291.49 1563.57 1290.84 1562.94 Q1290.19 1562.29 1290.19 1561.14 Q1290.19 1557.91 1292.62 1555.34 Q1295.08 1552.77 1298.82 1552.77 Q1303.06 1552.77 1305.83 1555.3 Q1308.63 1557.8 1308.63 1561.72 Q1308.63 1563.1 1308.2 1564.36 Q1307.79 1565.6 1307.23 1566.57 Q1306.69 1567.54 1305.2 1569.09 Q1303.71 1570.65 1302.52 1571.75 Q1301.32 1572.86 1298.64 1575.2 L1293.75 1579.96 L1302.07 1579.96 Q1306.12 1579.96 1306.44 1579.6 Q1306.89 1578.95 1307.45 1575.5 L1308.63 1575.5 L1307.32 1583.52 L1290.19 1583.52 Z\" fill=\"#000000\" fill-rule=\"nonzero\" fill-opacity=\"1\" /><path clip-path=\"url(#clip930)\" d=\"M1315.48 1535.29 Q1315.48 1524.14 1319.63 1515.16 Q1321.41 1511.39 1323.89 1508.23 Q1326.37 1505.08 1328.01 1503.69 Q1329.65 1502.31 1330.1 1502.31 Q1330.75 1502.31 1330.78 1502.95 Q1330.78 1503.27 1329.91 1504.08 Q1319.28 1514.9 1319.31 1535.29 Q1319.31 1555.74 1329.65 1566.14 Q1330.78 1567.27 1330.78 1567.62 Q1330.78 1568.27 1330.1 1568.27 Q1329.65 1568.27 1328.07 1566.95 Q1326.49 1565.63 1324.05 1562.6 Q1321.6 1559.57 1319.83 1555.87 Q1315.48 1546.88 1315.48 1535.29 Z\" fill=\"#000000\" fill-rule=\"nonzero\" fill-opacity=\"1\" /><path clip-path=\"url(#clip930)\" d=\"M1392.37 1507.46 Q1392.37 1508.78 1391.24 1508.78 Q1387.6 1508.91 1386.12 1510.13 Q1384.67 1511.33 1384.13 1513.64 L1374.91 1550.39 Q1374.59 1551.55 1374.4 1551.68 Q1374.21 1551.78 1373.85 1551.78 Q1373.4 1551.78 1373.14 1551.55 Q1372.92 1551.33 1372.6 1550.52 L1356.17 1511.68 Q1356.04 1511.42 1355.88 1511.07 Q1355.72 1510.71 1355.59 1510.49 L1346.86 1545.3 Q1346.61 1546.3 1346.61 1546.82 Q1346.61 1548.07 1347.48 1548.88 Q1348.38 1549.65 1350.95 1549.75 Q1352.27 1549.75 1352.27 1550.46 Q1352.27 1551.78 1351.08 1551.78 Q1349.99 1551.78 1347.7 1551.68 Q1345.41 1551.58 1344.29 1551.58 Q1343.19 1551.58 1340.97 1551.68 Q1338.75 1551.78 1337.68 1551.78 Q1336.85 1551.78 1336.85 1551.04 Q1336.85 1550.46 1337.07 1550.17 Q1337.3 1549.84 1337.49 1549.81 Q1337.68 1549.75 1337.97 1549.75 Q1339.91 1549.68 1341.23 1549.3 Q1342.55 1548.91 1343.29 1548.17 Q1344.06 1547.43 1344.42 1546.69 Q1344.8 1545.92 1345.09 1544.79 L1353.92 1509.36 Q1353.92 1508.78 1349.44 1508.78 Q1348.67 1508.78 1348.34 1508.75 Q1348.05 1508.72 1347.83 1508.56 Q1347.6 1508.4 1347.6 1508.04 Q1347.6 1507.14 1347.99 1506.95 Q1348.38 1506.72 1349.5 1506.72 L1358.36 1506.72 Q1359.49 1506.72 1359.78 1506.91 Q1360.07 1507.07 1360.45 1507.98 L1375.04 1542.4 L1382.42 1513.07 Q1382.61 1512.49 1382.61 1511.68 Q1382.61 1510.39 1381.65 1509.62 Q1380.71 1508.81 1378.14 1508.78 Q1376.94 1508.78 1376.94 1508.04 Q1376.94 1507.43 1377.17 1507.14 Q1377.43 1506.82 1377.62 1506.79 Q1377.85 1506.72 1378.14 1506.72 Q1379.23 1506.72 1381.48 1506.82 Q1383.74 1506.91 1384.87 1506.91 Q1385.96 1506.91 1388.18 1506.82 Q1390.44 1506.72 1391.53 1506.72 Q1391.92 1506.72 1392.11 1506.91 Q1392.34 1507.07 1392.37 1507.27 L1392.37 1507.46 Z\" fill=\"#000000\" fill-rule=\"nonzero\" fill-opacity=\"1\" /><path clip-path=\"url(#clip930)\" d=\"M1396.42 1567.62 Q1396.42 1567.3 1397.25 1566.49 Q1407.88 1555.67 1407.88 1535.29 Q1407.88 1514.84 1397.67 1504.5 Q1396.42 1503.31 1396.42 1502.95 Q1396.42 1502.31 1397.06 1502.31 Q1397.51 1502.31 1399.09 1503.63 Q1400.7 1504.95 1403.12 1507.98 Q1405.56 1511 1407.37 1514.71 Q1411.71 1523.69 1411.71 1535.29 Q1411.71 1546.43 1407.56 1555.42 Q1405.79 1559.18 1403.31 1562.34 Q1400.83 1565.5 1399.19 1566.88 Q1397.54 1568.27 1397.06 1568.27 Q1396.42 1568.27 1396.42 1567.62 Z\" fill=\"#000000\" fill-rule=\"nonzero\" fill-opacity=\"1\" /><polyline clip-path=\"url(#clip930)\" style=\"stroke:#000000; stroke-linecap:round; stroke-linejoin:round; stroke-width:4; stroke-opacity:1; fill:none\" points=\"253.294,1404.59 253.294,323.614 \"/>\n",
       "<polyline clip-path=\"url(#clip930)\" style=\"stroke:#000000; stroke-linecap:round; stroke-linejoin:round; stroke-width:4; stroke-opacity:1; fill:none\" points=\"253.294,1008.12 272.192,1008.12 \"/>\n",
       "<polyline clip-path=\"url(#clip930)\" style=\"stroke:#000000; stroke-linecap:round; stroke-linejoin:round; stroke-width:4; stroke-opacity:1; fill:none\" points=\"253.294,518.659 272.192,518.659 \"/>\n",
       "<path clip-path=\"url(#clip930)\" d=\"M126.195 1027.91 L142.515 1027.91 L142.515 1031.85 L120.57 1031.85 L120.57 1027.91 Q123.232 1025.16 127.816 1020.53 Q132.422 1015.88 133.603 1014.53 Q135.848 1012.01 136.728 1010.27 Q137.63 1008.51 137.63 1006.82 Q137.63 1004.07 135.686 1002.33 Q133.765 1000.6 130.663 1000.6 Q128.464 1000.6 126.01 1001.36 Q123.58 1002.13 120.802 1003.68 L120.802 998.955 Q123.626 997.82 126.08 997.242 Q128.533 996.663 130.57 996.663 Q135.941 996.663 139.135 999.348 Q142.33 1002.03 142.33 1006.52 Q142.33 1008.65 141.519 1010.57 Q140.732 1012.47 138.626 1015.07 Q138.047 1015.74 134.945 1018.95 Q131.843 1022.15 126.195 1027.91 Z\" fill=\"#000000\" fill-rule=\"nonzero\" fill-opacity=\"1\" /><path clip-path=\"url(#clip930)\" d=\"M142.515 990.764 L166.626 990.764 L166.626 993.962 L142.515 993.962 L142.515 990.764 Z\" fill=\"#000000\" fill-rule=\"nonzero\" fill-opacity=\"1\" /><path clip-path=\"url(#clip930)\" d=\"M175.485 1001.24 L181.691 1001.24 L181.691 979.818 L174.939 981.172 L174.939 977.712 L181.654 976.357 L185.453 976.357 L185.453 1001.24 L191.659 1001.24 L191.659 1004.44 L175.485 1004.44 L175.485 1001.24 Z\" fill=\"#000000\" fill-rule=\"nonzero\" fill-opacity=\"1\" /><path clip-path=\"url(#clip930)\" d=\"M207.928 988.883 Q205.37 988.883 203.866 990.633 Q202.38 992.382 202.38 995.429 Q202.38 998.457 203.866 1000.22 Q205.37 1001.97 207.928 1001.97 Q210.486 1001.97 211.972 1000.22 Q213.476 998.457 213.476 995.429 Q213.476 992.382 211.972 990.633 Q210.486 988.883 207.928 988.883 M215.47 976.978 L215.47 980.439 Q214.041 979.762 212.574 979.404 Q211.125 979.047 209.696 979.047 Q205.934 979.047 203.941 981.586 Q201.966 984.125 201.684 989.26 Q202.794 987.623 204.467 986.758 Q206.141 985.874 208.154 985.874 Q212.386 985.874 214.831 988.451 Q217.294 991.009 217.294 995.429 Q217.294 999.754 214.737 1002.37 Q212.179 1004.98 207.928 1004.98 Q203.057 1004.98 200.48 1001.26 Q197.904 997.516 197.904 990.426 Q197.904 983.768 201.063 979.818 Q204.223 975.85 209.546 975.85 Q210.975 975.85 212.423 976.132 Q213.89 976.414 215.47 976.978 Z\" fill=\"#000000\" fill-rule=\"nonzero\" fill-opacity=\"1\" /><path clip-path=\"url(#clip930)\" d=\"M127.625 538.451 L143.944 538.451 L143.944 542.386 L122 542.386 L122 538.451 Q124.662 535.696 129.245 531.067 Q133.852 526.414 135.032 525.071 Q137.277 522.548 138.157 520.812 Q139.06 519.053 139.06 517.363 Q139.06 514.609 137.115 512.872 Q135.194 511.136 132.092 511.136 Q129.893 511.136 127.44 511.9 Q125.009 512.664 122.231 514.215 L122.231 509.493 Q125.055 508.359 127.509 507.78 Q129.963 507.201 132 507.201 Q137.37 507.201 140.564 509.886 Q143.759 512.571 143.759 517.062 Q143.759 519.192 142.949 521.113 Q142.162 523.011 140.055 525.604 Q139.477 526.275 136.375 529.493 Q133.273 532.687 127.625 538.451 Z\" fill=\"#000000\" fill-rule=\"nonzero\" fill-opacity=\"1\" /><path clip-path=\"url(#clip930)\" d=\"M143.944 501.302 L168.056 501.302 L168.056 504.5 L143.944 504.5 L143.944 501.302 Z\" fill=\"#000000\" fill-rule=\"nonzero\" fill-opacity=\"1\" /><path clip-path=\"url(#clip930)\" d=\"M176.914 511.778 L183.121 511.778 L183.121 490.356 L176.369 491.711 L176.369 488.25 L183.083 486.896 L186.882 486.896 L186.882 511.778 L193.089 511.778 L193.089 514.976 L176.914 514.976 L176.914 511.778 Z\" fill=\"#000000\" fill-rule=\"nonzero\" fill-opacity=\"1\" /><path clip-path=\"url(#clip930)\" d=\"M204.035 511.778 L217.294 511.778 L217.294 514.976 L199.465 514.976 L199.465 511.778 Q201.628 509.54 205.351 505.779 Q209.094 501.998 210.053 500.908 Q211.878 498.857 212.592 497.447 Q213.326 496.017 213.326 494.645 Q213.326 492.406 211.746 490.996 Q210.185 489.585 207.665 489.585 Q205.878 489.585 203.884 490.206 Q201.91 490.827 199.653 492.087 L199.653 488.25 Q201.947 487.328 203.941 486.858 Q205.934 486.388 207.59 486.388 Q211.953 486.388 214.548 488.57 Q217.144 490.751 217.144 494.4 Q217.144 496.13 216.486 497.691 Q215.846 499.234 214.135 501.34 Q213.664 501.886 211.144 504.5 Q208.624 507.095 204.035 511.778 Z\" fill=\"#000000\" fill-rule=\"nonzero\" fill-opacity=\"1\" /><path clip-path=\"url(#clip930)\" d=\"M60.8996 1046.45 L58.8706 1046.45 Q58.8706 1042.94 58.4519 1042.13 Q58.0011 1041.33 55.8755 1041.33 L21.5762 1041.33 Q19.1286 1041.33 18.5167 1042.2 Q17.9048 1043.03 17.9048 1046.45 L15.8436 1046.45 L15.1351 1036.98 L55.8755 1036.98 Q58.0011 1036.98 58.4519 1036.14 Q58.8706 1035.3 58.8706 1031.82 L60.8996 1031.82 Q60.8996 1032.63 60.8352 1034.3 Q60.7708 1035.98 60.7386 1037.2 Q60.7063 1038.43 60.7063 1039.14 Q60.7063 1039.91 60.8996 1046.45 Z\" fill=\"#000000\" fill-rule=\"nonzero\" fill-opacity=\"1\" /><path clip-path=\"url(#clip930)\" d=\"M57.3569 1021.9 Q53.0414 1026.25 46.7934 1026.25 Q40.5133 1026.25 35.94 1022 Q31.3346 1017.71 31.3346 1011.59 Q31.3346 1005.6 35.9078 1001.32 Q40.4489 997.005 46.7934 997.005 Q53.0091 997.005 57.3247 1001.35 Q61.6403 1005.67 61.6403 1011.66 Q61.6403 1017.52 57.3569 1021.9 M46.2459 1020.77 Q52.6549 1020.77 55.5534 1019.1 Q59.9656 1016.52 59.9656 1011.59 Q59.9656 1009.15 58.6452 1007.12 Q57.3247 1005.06 55.1025 1003.93 Q52.204 1002.48 46.2459 1002.48 Q39.9014 1002.48 37.0995 1004.22 Q32.8161 1006.8 32.8161 1011.66 Q32.8161 1013.78 33.9433 1015.88 Q35.0383 1017.94 37.2283 1019.19 Q40.1268 1020.77 46.2459 1020.77 Z\" fill=\"#000000\" fill-rule=\"nonzero\" fill-opacity=\"1\" /><path clip-path=\"url(#clip930)\" d=\"M66.1169 995.96 Q63.9913 995.96 62.1556 994.35 Q60.3199 992.707 59.5147 989.873 Q57.679 992.771 53.6533 992.771 Q50.5615 992.771 48.1783 990.742 Q45.6018 993.834 41.3828 993.834 Q37.4859 993.834 34.6196 990.742 Q31.7533 987.651 31.7533 983.142 Q31.7533 979.181 34.1365 976.153 Q31.0448 972.997 31.0125 969.165 Q31.0125 967.458 32.0753 966.653 Q33.1381 965.815 34.2653 965.815 Q35.2637 965.815 35.7468 966.459 Q36.2299 967.071 36.2299 967.715 Q36.2299 968.52 35.7146 969.1 Q35.1671 969.648 34.3297 969.648 Q32.9449 969.648 32.5262 968.585 Q32.4618 968.778 32.4618 969.229 Q32.4618 972.45 35.0383 975.187 Q37.5503 972.482 41.4472 972.482 Q45.3442 972.482 48.2105 975.574 Q51.0768 978.665 51.0768 983.142 Q51.0768 986.846 49.0156 989.68 Q50.3361 990.807 52.1396 990.807 Q53.7821 990.807 55.0703 989.809 Q56.3586 988.81 56.5518 987.296 Q56.6162 986.846 56.6162 982.369 Q56.6162 979.728 56.6806 978.279 Q56.745 976.83 57.1959 974.768 Q57.6146 972.675 58.4519 971.032 Q60.8352 966.749 65.9881 966.717 Q69.7562 966.717 72.1072 971.065 Q74.4905 975.38 74.4905 981.371 Q74.4905 987.425 72.075 991.709 Q69.6918 995.96 66.1169 995.96 M66.1169 992.514 Q68.8222 992.514 70.8834 989.325 Q72.9768 986.137 72.9768 981.306 Q72.9768 976.572 70.9156 973.384 Q68.8866 970.163 66.1169 970.163 Q64.1524 970.163 62.8963 971.29 Q61.6403 972.417 61.125 974.736 Q60.6419 977.023 60.5453 978.633 Q60.4487 980.243 60.4487 983.206 L60.4487 987.103 Q60.5775 989.358 62.22 990.936 Q63.8625 992.514 66.1169 992.514 M41.4472 988.907 Q49.5631 988.907 49.5631 983.142 Q49.5631 980.243 46.9222 978.472 Q45.1509 977.409 41.3828 977.409 Q33.267 977.409 33.267 983.142 Q33.267 986.04 35.9078 987.844 Q37.6792 988.907 41.4472 988.907 Z\" fill=\"#000000\" fill-rule=\"nonzero\" fill-opacity=\"1\" /><path clip-path=\"url(#clip930)\" d=\"M92.6449 948.412 Q91.8108 948.412 91.5628 948.344 Q91.3148 948.254 90.9315 947.893 L81.0572 939.033 Q75.6016 934.186 70.8447 934.186 Q67.7562 934.186 65.5469 935.81 Q63.3376 937.41 63.3376 940.364 Q63.3376 942.393 64.5775 944.106 Q65.8174 945.819 68.0267 946.608 Q67.9816 946.473 67.9816 946 Q67.9816 944.85 68.7031 944.219 Q69.4245 943.565 70.3939 943.565 Q71.6338 943.565 72.2425 944.376 Q72.8286 945.165 72.8286 945.954 Q72.8286 946.27 72.761 946.698 Q72.6934 947.104 72.0621 947.758 Q71.4084 948.412 70.2586 948.412 Q67.0348 948.412 64.4648 945.977 Q61.8947 943.52 61.8947 939.777 Q61.8947 935.539 64.4197 932.766 Q66.9221 929.971 70.8447 929.971 Q72.2199 929.971 73.4824 930.399 Q74.7223 930.805 75.6917 931.368 Q76.6611 931.91 78.2167 933.397 Q79.7722 934.885 80.8769 936.08 Q81.9815 937.275 84.3261 939.958 L89.0829 944.85 L89.0829 936.531 Q89.0829 932.473 88.7222 932.157 Q88.0684 931.707 84.6192 931.143 L84.6192 929.971 L92.6449 931.278 L92.6449 948.412 Z\" fill=\"#000000\" fill-rule=\"nonzero\" fill-opacity=\"1\" /><path clip-path=\"url(#clip930)\" d=\"M44.4102 923.117 Q33.267 923.117 24.2815 918.963 Q20.5134 917.191 17.3573 914.711 Q14.2011 912.232 12.8162 910.589 Q11.4314 908.947 11.4314 908.496 Q11.4314 907.852 12.0755 907.819 Q12.3976 907.819 13.2027 908.689 Q24.0239 919.317 44.4102 919.285 Q64.8609 919.285 75.2634 908.947 Q76.3906 907.819 76.7449 907.819 Q77.389 907.819 77.389 908.496 Q77.389 908.947 76.0685 910.525 Q74.7481 912.103 71.7208 914.55 Q68.6934 916.998 64.9897 918.769 Q56.0043 923.117 44.4102 923.117 Z\" fill=\"#000000\" fill-rule=\"nonzero\" fill-opacity=\"1\" /><path clip-path=\"url(#clip930)\" d=\"M60.8996 897.79 L58.8706 897.79 L58.8706 896.212 Q58.8706 892.637 58.2909 891.832 Q57.679 890.994 55.7466 890.994 L20.9965 890.994 Q19.0964 890.994 18.5167 891.832 Q17.9048 892.669 17.9048 896.212 L17.9048 897.79 L15.8436 897.79 L15.8436 877.081 Q15.8436 869.899 19.3862 864.908 Q22.8967 859.883 27.7275 859.883 Q31.4312 859.883 34.3297 863.136 Q37.2283 866.389 38.4843 871.413 Q40.7387 864.875 46.1171 863.362 L51.3989 862.524 Q53.299 862.267 54.2652 862.106 Q55.2314 861.912 56.5518 861.623 Q57.8722 861.333 58.5164 861.043 Q59.1283 860.721 59.8046 860.27 Q60.4487 859.819 60.6741 859.239 Q60.8996 858.627 60.8996 857.822 Q60.8996 856.309 59.5469 855.02 Q58.1943 853.732 55.0381 853.474 Q53.9753 853.346 53.9753 852.669 Q53.9753 851.832 55.0381 851.832 Q55.9721 851.832 57.0671 852.09 Q58.1299 852.347 59.3859 852.991 Q60.6419 853.603 61.4793 854.956 Q62.3488 856.309 62.3488 858.08 Q62.3488 863.233 59.5791 866.389 Q58.3875 867.709 56.8416 868.321 Q55.2958 868.901 54.0719 868.998 Q52.8481 869.094 50.1428 869.094 Q46.3103 869.094 44.6356 869.513 Q42.9609 869.899 41.3184 871.606 Q39.064 873.925 39.064 877.758 L39.064 885.326 L55.7466 885.326 Q57.6468 885.326 58.2587 884.521 Q58.8706 883.684 58.8706 880.109 L58.8706 878.531 L60.8996 878.531 Q60.7063 880.914 60.7063 888.16 Q60.7063 895.406 60.8996 897.79 M37.6147 885.326 L37.6147 878.015 Q37.6147 874.505 36.7774 872.154 Q35.9078 869.771 34.362 868.643 Q32.8161 867.516 31.2702 867.098 Q29.6921 866.679 27.7275 866.679 Q25.4087 866.679 23.6696 867.194 Q21.9305 867.709 20.8999 868.837 Q19.8693 869.964 19.2252 871.091 Q18.5489 872.218 18.2912 873.957 Q18.0336 875.696 17.9692 876.888 Q17.9048 878.08 17.9048 879.98 Q17.9048 883.2 18.0336 883.877 Q18.098 884.618 18.4523 884.907 Q18.8065 885.197 19.2252 885.262 Q19.6117 885.326 20.5456 885.326 L37.6147 885.326 Z\" fill=\"#000000\" fill-rule=\"nonzero\" fill-opacity=\"1\" /><path clip-path=\"url(#clip930)\" d=\"M60.8996 849.983 L58.8706 849.983 Q58.8706 847.599 58.4197 846.086 Q57.9366 844.572 57.0671 844.025 Q56.1653 843.445 55.5856 843.316 Q54.9737 843.187 53.9753 843.187 L20.9965 843.187 Q19.0964 843.187 18.5167 844.025 Q17.9048 844.83 17.9048 848.405 L17.9048 849.983 L15.8436 849.983 L15.8436 838.839 Q15.8436 837.648 16.069 837.326 Q16.2623 837.004 17.2928 836.521 L54.233 822.221 L17.0996 807.793 Q16.1656 807.471 16.0046 807.181 Q15.8436 806.859 15.8436 805.603 L15.8436 794.46 L17.9048 794.46 L17.9048 796.038 Q17.9048 799.613 18.5167 800.45 Q19.0964 801.255 20.9965 801.255 L55.7466 801.255 Q57.6468 801.255 58.2587 800.45 Q58.8706 799.613 58.8706 796.038 L58.8706 794.46 L60.8996 794.46 Q60.7063 796.907 60.7063 803.896 Q60.7063 810.949 60.8996 813.397 L58.8706 813.397 L58.8706 811.787 Q58.8706 808.212 58.2909 807.407 Q57.679 806.601 55.7466 806.601 L17.9048 806.601 L17.9048 806.666 L59.6436 822.865 Q60.8996 823.316 60.8996 824.057 Q60.8996 824.862 59.4503 825.377 L18.4201 841.287 L18.4201 841.351 L53.9753 841.351 Q54.9737 841.351 55.5856 841.223 Q56.1653 841.094 57.0671 840.546 Q57.9366 839.967 58.4197 838.453 Q58.8706 836.939 58.8706 834.556 L60.8996 834.556 Q60.7063 841.48 60.7063 842.285 Q60.7063 843.058 60.8996 849.983 Z\" fill=\"#000000\" fill-rule=\"nonzero\" fill-opacity=\"1\" /><path clip-path=\"url(#clip930)\" d=\"M60.7708 783.837 L47.5664 783.837 Q46.8256 783.837 46.568 783.805 Q46.3103 783.773 46.1171 783.579 Q45.9239 783.386 45.9239 783 Q45.9239 782.259 46.6002 782.194 Q53.138 782.001 56.745 778.104 Q60.3199 774.272 60.3199 767.702 Q60.3199 763.741 57.4858 761.293 Q54.6194 758.845 50.8836 758.845 Q47.3087 758.845 44.7967 760.906 Q43.6694 761.776 42.9609 762.871 Q42.2202 763.934 41.9947 764.61 Q41.7693 765.254 41.4472 766.51 Q39.4827 774.691 39.2572 775.206 Q37.9368 779.103 34.6196 781.486 Q31.2702 783.837 27.18 783.837 Q21.8983 783.837 18.1624 780.133 Q14.3943 776.397 14.3943 770.987 Q14.3943 768.282 15.2639 766.027 Q16.1012 763.741 16.8742 762.807 Q17.6471 761.873 19.032 760.423 L15.2639 758.137 Q14.3943 757.621 14.3943 757.138 Q14.3943 756.623 14.7164 756.526 Q15.0062 756.398 15.9724 756.398 L29.2412 756.398 Q29.982 756.398 30.2396 756.43 Q30.4973 756.462 30.6583 756.687 Q30.8193 756.881 30.8193 757.267 Q30.8193 757.911 30.0464 758.072 Q16.2623 759.908 16.2623 770.922 Q16.2623 774.691 18.8065 777.17 Q21.3186 779.618 24.8934 779.618 Q27.792 779.618 30.1752 777.814 Q32.5262 776.011 33.267 772.951 L35.2959 764.513 Q36.2943 760.295 40.0302 757.46 Q43.7661 754.626 48.6292 754.626 Q54.233 754.626 58.2909 758.298 Q62.3488 761.937 62.3488 767.637 Q62.3488 771.728 60.9962 774.884 Q59.6436 778.04 57.7434 779.747 Q59.9334 781.067 61.1572 781.937 L61.4793 782.13 Q62.3488 782.645 62.3488 783.128 Q62.3488 783.644 62.0268 783.74 Q61.7047 783.837 60.7708 783.837 Z\" fill=\"#000000\" fill-rule=\"nonzero\" fill-opacity=\"1\" /><path clip-path=\"url(#clip930)\" d=\"M60.8996 743.64 L58.8706 743.64 L58.8706 742.062 Q58.8706 738.487 58.2909 737.682 Q57.679 736.845 55.7466 736.845 L21.1898 736.845 Q19.2896 736.845 18.7099 737.682 Q18.098 738.52 18.098 742.062 L18.098 743.64 L16.0368 743.64 L16.0368 706.507 L30.8837 704.671 L30.8837 706.314 Q27.1156 706.765 24.9578 707.376 Q22.7678 707.956 21.0931 709.405 Q19.4184 710.823 18.7743 713.174 Q18.098 715.492 18.098 719.26 L18.098 727.763 Q18.098 730.017 18.5811 730.5 Q19.032 730.983 20.7389 730.983 L36.552 730.983 L36.552 725.058 Q36.552 720.516 34.9739 719.228 Q33.3958 717.94 28.8548 717.94 L28.8548 716.265 L46.3103 716.265 L46.3103 717.94 Q41.8337 717.94 40.2234 719.228 Q38.6131 720.516 38.6131 725.058 L38.6131 730.983 L56.2297 730.983 Q57.9366 730.983 58.4197 730.5 Q58.8706 729.985 58.8706 727.763 L58.8706 718.971 Q58.8706 716.136 58.5164 714.075 Q58.1299 711.982 57.2281 710.533 Q56.2941 709.083 55.2314 708.117 Q54.1686 707.119 52.2684 706.443 Q50.3361 705.734 48.5647 705.348 Q46.7934 704.929 43.8949 704.478 L43.8949 702.835 L60.8996 705.605 L60.8996 743.64 Z\" fill=\"#000000\" fill-rule=\"nonzero\" fill-opacity=\"1\" /><path clip-path=\"url(#clip930)\" d=\"M76.7449 699.238 Q76.4228 699.238 75.6177 698.4 Q64.7965 687.772 44.4102 687.772 Q23.9595 687.772 13.6214 697.982 Q12.4298 699.238 12.0755 699.238 Q11.4314 699.238 11.4314 698.593 Q11.4314 698.143 12.7518 696.565 Q14.0723 694.954 17.0996 692.539 Q20.127 690.091 23.8306 688.288 Q32.8161 683.94 44.4102 683.94 Q55.5534 683.94 64.5388 688.094 Q68.3069 689.866 71.4631 692.346 Q74.6193 694.825 76.0041 696.468 Q77.389 698.11 77.389 698.593 Q77.389 699.238 76.7449 699.238 Z\" fill=\"#000000\" fill-rule=\"nonzero\" fill-opacity=\"1\" /><path clip-path=\"url(#clip930)\" d=\"M825.849 44.2197 Q828.482 45.1109 830.953 48.0275 Q833.465 50.9442 835.976 56.0483 L844.28 72.576 L835.49 72.576 L827.753 57.061 Q824.755 50.9847 821.92 48.9997 Q819.124 47.0148 814.263 47.0148 L805.351 47.0148 L805.351 72.576 L797.168 72.576 L797.168 12.096 L815.641 12.096 Q826.011 12.096 831.115 16.4305 Q836.219 20.7649 836.219 29.5149 Q836.219 35.2267 833.546 38.994 Q830.913 42.7613 825.849 44.2197 M805.351 18.8205 L805.351 40.2903 L815.641 40.2903 Q821.555 40.2903 824.553 37.5762 Q827.591 34.8216 827.591 29.5149 Q827.591 24.2082 824.553 21.5346 Q821.555 18.8205 815.641 18.8205 L805.351 18.8205 Z\" fill=\"#000000\" fill-rule=\"nonzero\" fill-opacity=\"1\" /><path clip-path=\"url(#clip930)\" d=\"M854.813 12.096 L867.006 12.096 L882.44 53.2532 L897.955 12.096 L910.148 12.096 L910.148 72.576 L902.168 72.576 L902.168 19.4686 L886.572 60.9499 L878.349 60.9499 L862.753 19.4686 L862.753 72.576 L854.813 72.576 L854.813 12.096 Z\" fill=\"#000000\" fill-rule=\"nonzero\" fill-opacity=\"1\" /><path clip-path=\"url(#clip930)\" d=\"M962.648 14.0809 L962.648 22.0612 Q957.989 19.8332 953.857 18.7395 Q949.726 17.6457 945.877 17.6457 Q939.193 17.6457 935.547 20.2383 Q931.942 22.8309 931.942 27.611 Q931.942 31.6214 934.332 33.6873 Q936.763 35.7128 943.487 36.9686 L948.429 37.9813 Q957.584 39.7232 961.919 44.1387 Q966.294 48.5136 966.294 55.8863 Q966.294 64.6767 960.379 69.2137 Q954.506 73.7508 943.123 73.7508 Q938.829 73.7508 933.968 72.7785 Q929.147 71.8063 923.962 69.9024 L923.962 61.4765 Q928.944 64.2716 933.724 65.6895 Q938.505 67.1073 943.123 67.1073 Q950.131 67.1073 953.938 64.3527 Q957.746 61.598 957.746 56.4939 Q957.746 52.0379 954.992 49.5264 Q952.278 47.0148 946.039 45.759 L941.057 44.7868 Q931.902 42.9639 927.81 39.075 Q923.719 35.1862 923.719 28.2591 Q923.719 20.2383 929.349 15.6203 Q935.021 11.0023 944.945 11.0023 Q949.199 11.0023 953.614 11.7719 Q958.03 12.5416 962.648 14.0809 Z\" fill=\"#000000\" fill-rule=\"nonzero\" fill-opacity=\"1\" /><path clip-path=\"url(#clip930)\" d=\"M979.054 12.096 L1017.29 12.096 L1017.29 18.9825 L987.237 18.9825 L987.237 36.8875 L1016.04 36.8875 L1016.04 43.7741 L987.237 43.7741 L987.237 65.6895 L1018.02 65.6895 L1018.02 72.576 L979.054 72.576 L979.054 12.096 Z\" fill=\"#000000\" fill-rule=\"nonzero\" fill-opacity=\"1\" /><path clip-path=\"url(#clip930)\" d=\"M1103.13 16.7545 L1103.13 25.383 Q1099 21.5346 1094.3 19.6307 Q1089.64 17.7268 1084.38 17.7268 Q1074.01 17.7268 1068.5 24.0867 Q1062.99 30.4061 1062.99 42.3968 Q1062.99 54.3469 1068.5 60.7069 Q1074.01 67.0263 1084.38 67.0263 Q1089.64 67.0263 1094.3 65.1223 Q1099 63.2184 1103.13 59.3701 L1103.13 67.9175 Q1098.84 70.8341 1094.02 72.2924 Q1089.24 73.7508 1083.89 73.7508 Q1070.16 73.7508 1062.26 65.3654 Q1054.36 56.9395 1054.36 42.3968 Q1054.36 27.8135 1062.26 19.4281 Q1070.16 11.0023 1083.89 11.0023 Q1089.32 11.0023 1094.1 12.4606 Q1098.92 13.8784 1103.13 16.7545 Z\" fill=\"#000000\" fill-rule=\"nonzero\" fill-opacity=\"1\" /><path clip-path=\"url(#clip930)\" d=\"M1133.03 32.4315 Q1127.03 32.4315 1123.55 37.1306 Q1120.07 41.7891 1120.07 49.9314 Q1120.07 58.0738 1123.51 62.7728 Q1126.99 67.4314 1133.03 67.4314 Q1138.98 67.4314 1142.47 62.7323 Q1145.95 58.0333 1145.95 49.9314 Q1145.95 41.8701 1142.47 37.1711 Q1138.98 32.4315 1133.03 32.4315 M1133.03 26.1121 Q1142.75 26.1121 1148.3 32.4315 Q1153.85 38.7509 1153.85 49.9314 Q1153.85 61.0714 1148.3 67.4314 Q1142.75 73.7508 1133.03 73.7508 Q1123.27 73.7508 1117.72 67.4314 Q1112.21 61.0714 1112.21 49.9314 Q1112.21 38.7509 1117.72 32.4315 Q1123.27 26.1121 1133.03 26.1121 Z\" fill=\"#000000\" fill-rule=\"nonzero\" fill-opacity=\"1\" /><path clip-path=\"url(#clip930)\" d=\"M1203.92 45.1919 L1203.92 72.576 L1196.47 72.576 L1196.47 45.4349 Q1196.47 38.994 1193.95 35.7938 Q1191.44 32.5936 1186.42 32.5936 Q1180.38 32.5936 1176.9 36.4419 Q1173.42 40.2903 1173.42 46.9338 L1173.42 72.576 L1165.92 72.576 L1165.92 27.2059 L1173.42 27.2059 L1173.42 34.2544 Q1176.09 30.163 1179.7 28.1376 Q1183.34 26.1121 1188.08 26.1121 Q1195.9 26.1121 1199.91 30.9732 Q1203.92 35.7938 1203.92 45.1919 Z\" fill=\"#000000\" fill-rule=\"nonzero\" fill-opacity=\"1\" /><path clip-path=\"url(#clip930)\" d=\"M1213.44 27.2059 L1221.34 27.2059 L1235.52 65.2844 L1249.69 27.2059 L1257.59 27.2059 L1240.58 72.576 L1230.45 72.576 L1213.44 27.2059 Z\" fill=\"#000000\" fill-rule=\"nonzero\" fill-opacity=\"1\" /><path clip-path=\"url(#clip930)\" d=\"M1306.69 48.0275 L1306.69 51.6733 L1272.42 51.6733 Q1272.91 59.3701 1277.04 63.421 Q1281.21 67.4314 1288.62 67.4314 Q1292.92 67.4314 1296.93 66.3781 Q1300.98 65.3249 1304.95 63.2184 L1304.95 70.267 Q1300.94 71.9684 1296.73 72.8596 Q1292.51 73.7508 1288.18 73.7508 Q1277.32 73.7508 1270.96 67.4314 Q1264.64 61.1119 1264.64 50.3365 Q1264.64 39.1965 1270.64 32.6746 Q1276.67 26.1121 1286.88 26.1121 Q1296.04 26.1121 1301.34 32.0264 Q1306.69 37.9003 1306.69 48.0275 M1299.24 45.84 Q1299.16 39.7232 1295.79 36.0774 Q1292.47 32.4315 1286.96 32.4315 Q1280.72 32.4315 1276.96 35.9558 Q1273.23 39.4801 1272.66 45.8805 L1299.24 45.84 Z\" fill=\"#000000\" fill-rule=\"nonzero\" fill-opacity=\"1\" /><path clip-path=\"url(#clip930)\" d=\"M1345.22 34.1734 Q1343.96 33.4443 1342.46 33.1202 Q1341 32.7556 1339.22 32.7556 Q1332.9 32.7556 1329.5 36.8875 Q1326.14 40.9789 1326.14 48.6757 L1326.14 72.576 L1318.64 72.576 L1318.64 27.2059 L1326.14 27.2059 L1326.14 34.2544 Q1328.49 30.1225 1332.25 28.1376 Q1336.02 26.1121 1341.41 26.1121 Q1342.18 26.1121 1343.11 26.2337 Q1344.04 26.3147 1345.17 26.5172 L1345.22 34.1734 Z\" fill=\"#000000\" fill-rule=\"nonzero\" fill-opacity=\"1\" /><path clip-path=\"url(#clip930)\" d=\"M1381.43 49.3643 Q1381.43 41.2625 1378.07 36.8065 Q1374.75 32.3505 1368.71 32.3505 Q1362.72 32.3505 1359.35 36.8065 Q1356.03 41.2625 1356.03 49.3643 Q1356.03 57.4256 1359.35 61.8816 Q1362.72 66.3376 1368.71 66.3376 Q1374.75 66.3376 1378.07 61.8816 Q1381.43 57.4256 1381.43 49.3643 M1388.88 66.9452 Q1388.88 78.5308 1383.74 84.1616 Q1378.59 89.8329 1367.98 89.8329 Q1364.05 89.8329 1360.57 89.2252 Q1357.08 88.6581 1353.8 87.4428 L1353.8 80.1917 Q1357.08 81.9741 1360.28 82.8248 Q1363.48 83.6755 1366.81 83.6755 Q1374.14 83.6755 1377.78 79.8271 Q1381.43 76.0193 1381.43 68.282 L1381.43 64.5957 Q1379.12 68.6061 1375.52 70.5911 Q1371.91 72.576 1366.89 72.576 Q1358.54 72.576 1353.44 66.2161 Q1348.33 59.8562 1348.33 49.3643 Q1348.33 38.832 1353.44 32.472 Q1358.54 26.1121 1366.89 26.1121 Q1371.91 26.1121 1375.52 28.0971 Q1379.12 30.082 1381.43 34.0924 L1381.43 27.2059 L1388.88 27.2059 L1388.88 66.9452 Z\" fill=\"#000000\" fill-rule=\"nonzero\" fill-opacity=\"1\" /><path clip-path=\"url(#clip930)\" d=\"M1443.04 48.0275 L1443.04 51.6733 L1408.77 51.6733 Q1409.26 59.3701 1413.39 63.421 Q1417.56 67.4314 1424.98 67.4314 Q1429.27 67.4314 1433.28 66.3781 Q1437.33 65.3249 1441.3 63.2184 L1441.3 70.267 Q1437.29 71.9684 1433.08 72.8596 Q1428.87 73.7508 1424.53 73.7508 Q1413.68 73.7508 1407.32 67.4314 Q1401 61.1119 1401 50.3365 Q1401 39.1965 1406.99 32.6746 Q1413.03 26.1121 1423.24 26.1121 Q1432.39 26.1121 1437.7 32.0264 Q1443.04 37.9003 1443.04 48.0275 M1435.59 45.84 Q1435.51 39.7232 1432.15 36.0774 Q1428.83 32.4315 1423.32 32.4315 Q1417.08 32.4315 1413.31 35.9558 Q1409.58 39.4801 1409.02 45.8805 L1435.59 45.84 Z\" fill=\"#000000\" fill-rule=\"nonzero\" fill-opacity=\"1\" /><path clip-path=\"url(#clip930)\" d=\"M1492.99 45.1919 L1492.99 72.576 L1485.54 72.576 L1485.54 45.4349 Q1485.54 38.994 1483.03 35.7938 Q1480.52 32.5936 1475.49 32.5936 Q1469.46 32.5936 1465.97 36.4419 Q1462.49 40.2903 1462.49 46.9338 L1462.49 72.576 L1454.99 72.576 L1454.99 27.2059 L1462.49 27.2059 L1462.49 34.2544 Q1465.16 30.163 1468.77 28.1376 Q1472.41 26.1121 1477.15 26.1121 Q1484.97 26.1121 1488.98 30.9732 Q1492.99 35.7938 1492.99 45.1919 Z\" fill=\"#000000\" fill-rule=\"nonzero\" fill-opacity=\"1\" /><path clip-path=\"url(#clip930)\" d=\"M1540.51 28.9478 L1540.51 35.9153 Q1537.35 34.1734 1534.15 33.3227 Q1530.99 32.4315 1527.75 32.4315 Q1520.5 32.4315 1516.49 37.0496 Q1512.48 41.6271 1512.48 49.9314 Q1512.48 58.2358 1516.49 62.8538 Q1520.5 67.4314 1527.75 67.4314 Q1530.99 67.4314 1534.15 66.5807 Q1537.35 65.6895 1540.51 63.9476 L1540.51 70.8341 Q1537.39 72.2924 1534.03 73.0216 Q1530.71 73.7508 1526.94 73.7508 Q1516.69 73.7508 1510.65 67.3098 Q1504.62 60.8689 1504.62 49.9314 Q1504.62 38.832 1510.69 32.472 Q1516.81 26.1121 1527.42 26.1121 Q1530.87 26.1121 1534.15 26.8413 Q1537.43 27.5299 1540.51 28.9478 Z\" fill=\"#000000\" fill-rule=\"nonzero\" fill-opacity=\"1\" /><path clip-path=\"url(#clip930)\" d=\"M1592.28 48.0275 L1592.28 51.6733 L1558.01 51.6733 Q1558.5 59.3701 1562.63 63.421 Q1566.8 67.4314 1574.21 67.4314 Q1578.51 67.4314 1582.52 66.3781 Q1586.57 65.3249 1590.54 63.2184 L1590.54 70.267 Q1586.53 71.9684 1582.31 72.8596 Q1578.1 73.7508 1573.77 73.7508 Q1562.91 73.7508 1556.55 67.4314 Q1550.23 61.1119 1550.23 50.3365 Q1550.23 39.1965 1556.23 32.6746 Q1562.26 26.1121 1572.47 26.1121 Q1581.63 26.1121 1586.93 32.0264 Q1592.28 37.9003 1592.28 48.0275 M1584.83 45.84 Q1584.75 39.7232 1581.38 36.0774 Q1578.06 32.4315 1572.55 32.4315 Q1566.31 32.4315 1562.55 35.9558 Q1558.82 39.4801 1558.25 45.8805 L1584.83 45.84 Z\" fill=\"#000000\" fill-rule=\"nonzero\" fill-opacity=\"1\" /><path clip-path=\"url(#clip930)\" d=\"M1659.89 44.2197 Q1662.52 45.1109 1664.99 48.0275 Q1667.51 50.9442 1670.02 56.0483 L1678.32 72.576 L1669.53 72.576 L1661.79 57.061 Q1658.8 50.9847 1655.96 48.9997 Q1653.17 47.0148 1648.3 47.0148 L1639.39 47.0148 L1639.39 72.576 L1631.21 72.576 L1631.21 12.096 L1649.68 12.096 Q1660.05 12.096 1665.16 16.4305 Q1670.26 20.7649 1670.26 29.5149 Q1670.26 35.2267 1667.59 38.994 Q1664.95 42.7613 1659.89 44.2197 M1639.39 18.8205 L1639.39 40.2903 L1649.68 40.2903 Q1655.6 40.2903 1658.59 37.5762 Q1661.63 34.8216 1661.63 29.5149 Q1661.63 24.2082 1658.59 21.5346 Q1655.6 18.8205 1649.68 18.8205 L1639.39 18.8205 Z\" fill=\"#000000\" fill-rule=\"nonzero\" fill-opacity=\"1\" /><path clip-path=\"url(#clip930)\" d=\"M1707.33 49.7694 Q1698.29 49.7694 1694.81 51.8354 Q1691.32 53.9013 1691.32 58.8839 Q1691.32 62.8538 1693.92 65.2034 Q1696.55 67.5124 1701.05 67.5124 Q1707.24 67.5124 1710.97 63.1374 Q1714.74 58.7219 1714.74 51.4303 L1714.74 49.7694 L1707.33 49.7694 M1722.19 46.6907 L1722.19 72.576 L1714.74 72.576 L1714.74 65.6895 Q1712.19 69.8214 1708.38 71.8063 Q1704.57 73.7508 1699.06 73.7508 Q1692.09 73.7508 1687.96 69.8619 Q1683.87 65.9325 1683.87 59.3701 Q1683.87 51.7138 1688.98 47.825 Q1694.12 43.9361 1704.29 43.9361 L1714.74 43.9361 L1714.74 43.2069 Q1714.74 38.0623 1711.34 35.2672 Q1707.97 32.4315 1701.86 32.4315 Q1697.97 32.4315 1694.28 33.3632 Q1690.6 34.295 1687.19 36.1584 L1687.19 29.2718 Q1691.28 27.692 1695.13 26.9223 Q1698.98 26.1121 1702.63 26.1121 Q1712.47 26.1121 1717.33 31.2163 Q1722.19 36.3204 1722.19 46.6907 Z\" fill=\"#000000\" fill-rule=\"nonzero\" fill-opacity=\"1\" /><path clip-path=\"url(#clip930)\" d=\"M1744.92 14.324 L1744.92 27.2059 L1760.27 27.2059 L1760.27 32.9987 L1744.92 32.9987 L1744.92 57.6282 Q1744.92 63.1779 1746.42 64.7578 Q1747.96 66.3376 1752.61 66.3376 L1760.27 66.3376 L1760.27 72.576 L1752.61 72.576 Q1743.99 72.576 1740.71 69.3758 Q1737.42 66.1351 1737.42 57.6282 L1737.42 32.9987 L1731.96 32.9987 L1731.96 27.2059 L1737.42 27.2059 L1737.42 14.324 L1744.92 14.324 Z\" fill=\"#000000\" fill-rule=\"nonzero\" fill-opacity=\"1\" /><path clip-path=\"url(#clip930)\" d=\"M1808.88 48.0275 L1808.88 51.6733 L1774.61 51.6733 Q1775.1 59.3701 1779.23 63.421 Q1783.4 67.4314 1790.81 67.4314 Q1795.11 67.4314 1799.12 66.3781 Q1803.17 65.3249 1807.14 63.2184 L1807.14 70.267 Q1803.13 71.9684 1798.92 72.8596 Q1794.7 73.7508 1790.37 73.7508 Q1779.51 73.7508 1773.15 67.4314 Q1766.83 61.1119 1766.83 50.3365 Q1766.83 39.1965 1772.83 32.6746 Q1778.86 26.1121 1789.07 26.1121 Q1798.23 26.1121 1803.53 32.0264 Q1808.88 37.9003 1808.88 48.0275 M1801.43 45.84 Q1801.35 39.7232 1797.98 36.0774 Q1794.66 32.4315 1789.15 32.4315 Q1782.92 32.4315 1779.15 35.9558 Q1775.42 39.4801 1774.85 45.8805 L1801.43 45.84 Z\" fill=\"#000000\" fill-rule=\"nonzero\" fill-opacity=\"1\" /><polyline clip-path=\"url(#clip932)\" style=\"stroke:#009af9; stroke-linecap:round; stroke-linejoin:round; stroke-width:8; stroke-opacity:1; fill:none\" points=\"312.713,354.208 807.869,414.422 1303.03,469.01 1798.18,537.571 2293.34,587.75 \"/>\n",
       "<circle clip-path=\"url(#clip932)\" cx=\"312.713\" cy=\"354.208\" r=\"14.4\" fill=\"#009af9\" fill-rule=\"evenodd\" fill-opacity=\"1\" stroke=\"#000000\" stroke-opacity=\"1\" stroke-width=\"3.2\"/>\n",
       "<circle clip-path=\"url(#clip932)\" cx=\"807.869\" cy=\"414.422\" r=\"14.4\" fill=\"#009af9\" fill-rule=\"evenodd\" fill-opacity=\"1\" stroke=\"#000000\" stroke-opacity=\"1\" stroke-width=\"3.2\"/>\n",
       "<circle clip-path=\"url(#clip932)\" cx=\"1303.03\" cy=\"469.01\" r=\"14.4\" fill=\"#009af9\" fill-rule=\"evenodd\" fill-opacity=\"1\" stroke=\"#000000\" stroke-opacity=\"1\" stroke-width=\"3.2\"/>\n",
       "<circle clip-path=\"url(#clip932)\" cx=\"1798.18\" cy=\"537.571\" r=\"14.4\" fill=\"#009af9\" fill-rule=\"evenodd\" fill-opacity=\"1\" stroke=\"#000000\" stroke-opacity=\"1\" stroke-width=\"3.2\"/>\n",
       "<circle clip-path=\"url(#clip932)\" cx=\"2293.34\" cy=\"587.75\" r=\"14.4\" fill=\"#009af9\" fill-rule=\"evenodd\" fill-opacity=\"1\" stroke=\"#000000\" stroke-opacity=\"1\" stroke-width=\"3.2\"/>\n",
       "<polyline clip-path=\"url(#clip932)\" style=\"stroke:#e26f46; stroke-linecap:round; stroke-linejoin:round; stroke-width:8; stroke-opacity:1; fill:none\" points=\"312.713,824.056 807.869,884.517 1303.03,1018.51 1798.18,1216.21 2293.34,1291.42 \"/>\n",
       "<path clip-path=\"url(#clip932)\" d=\"M296.713 808.056 L296.713 840.056 L328.713 840.056 L328.713 808.056 L296.713 808.056 Z\" fill=\"#e26f46\" fill-rule=\"evenodd\" fill-opacity=\"1\" stroke=\"#000000\" stroke-opacity=\"1\" stroke-width=\"3.2\"/>\n",
       "<path clip-path=\"url(#clip932)\" d=\"M791.869 868.517 L791.869 900.517 L823.869 900.517 L823.869 868.517 L791.869 868.517 Z\" fill=\"#e26f46\" fill-rule=\"evenodd\" fill-opacity=\"1\" stroke=\"#000000\" stroke-opacity=\"1\" stroke-width=\"3.2\"/>\n",
       "<path clip-path=\"url(#clip932)\" d=\"M1287.03 1002.51 L1287.03 1034.51 L1319.03 1034.51 L1319.03 1002.51 L1287.03 1002.51 Z\" fill=\"#e26f46\" fill-rule=\"evenodd\" fill-opacity=\"1\" stroke=\"#000000\" stroke-opacity=\"1\" stroke-width=\"3.2\"/>\n",
       "<path clip-path=\"url(#clip932)\" d=\"M1782.18 1200.21 L1782.18 1232.21 L1814.18 1232.21 L1814.18 1200.21 L1782.18 1200.21 Z\" fill=\"#e26f46\" fill-rule=\"evenodd\" fill-opacity=\"1\" stroke=\"#000000\" stroke-opacity=\"1\" stroke-width=\"3.2\"/>\n",
       "<path clip-path=\"url(#clip932)\" d=\"M2277.34 1275.42 L2277.34 1307.42 L2309.34 1307.42 L2309.34 1275.42 L2277.34 1275.42 Z\" fill=\"#e26f46\" fill-rule=\"evenodd\" fill-opacity=\"1\" stroke=\"#000000\" stroke-opacity=\"1\" stroke-width=\"3.2\"/>\n",
       "<polyline clip-path=\"url(#clip932)\" style=\"stroke:#3da44d; stroke-linecap:round; stroke-linejoin:round; stroke-width:8; stroke-opacity:1; fill:none\" points=\"312.713,800.371 807.869,919.678 1303.03,1049.63 1798.18,1154.62 2293.34,1234.73 \"/>\n",
       "<path clip-path=\"url(#clip932)\" d=\"M312.713 784.371 L296.713 800.371 L312.713 816.371 L328.713 800.371 L312.713 784.371 Z\" fill=\"#3da44d\" fill-rule=\"evenodd\" fill-opacity=\"1\" stroke=\"#000000\" stroke-opacity=\"1\" stroke-width=\"3.2\"/>\n",
       "<path clip-path=\"url(#clip932)\" d=\"M807.869 903.678 L791.869 919.678 L807.869 935.678 L823.869 919.678 L807.869 903.678 Z\" fill=\"#3da44d\" fill-rule=\"evenodd\" fill-opacity=\"1\" stroke=\"#000000\" stroke-opacity=\"1\" stroke-width=\"3.2\"/>\n",
       "<path clip-path=\"url(#clip932)\" d=\"M1303.03 1033.63 L1287.03 1049.63 L1303.03 1065.63 L1319.03 1049.63 L1303.03 1033.63 Z\" fill=\"#3da44d\" fill-rule=\"evenodd\" fill-opacity=\"1\" stroke=\"#000000\" stroke-opacity=\"1\" stroke-width=\"3.2\"/>\n",
       "<path clip-path=\"url(#clip932)\" d=\"M1798.18 1138.62 L1782.18 1154.62 L1798.18 1170.62 L1814.18 1154.62 L1798.18 1138.62 Z\" fill=\"#3da44d\" fill-rule=\"evenodd\" fill-opacity=\"1\" stroke=\"#000000\" stroke-opacity=\"1\" stroke-width=\"3.2\"/>\n",
       "<path clip-path=\"url(#clip932)\" d=\"M2293.34 1218.73 L2277.34 1234.73 L2293.34 1250.73 L2309.34 1234.73 L2293.34 1218.73 Z\" fill=\"#3da44d\" fill-rule=\"evenodd\" fill-opacity=\"1\" stroke=\"#000000\" stroke-opacity=\"1\" stroke-width=\"3.2\"/>\n",
       "<polyline clip-path=\"url(#clip932)\" style=\"stroke:#ff0000; stroke-linecap:round; stroke-linejoin:round; stroke-width:6; stroke-opacity:1; fill:none\" stroke-dasharray=\"24, 15\" points=\"312.713,884.531 807.869,1006.9 1303.03,1129.26 1798.18,1251.63 2293.34,1373.99 \"/>\n",
       "<polyline clip-path=\"url(#clip932)\" style=\"stroke:#000000; stroke-linecap:round; stroke-linejoin:round; stroke-width:6; stroke-opacity:1; fill:none\" stroke-dasharray=\"24, 15\" points=\"312.713,396.293 807.869,457.476 1303.03,518.659 1798.18,579.841 2293.34,641.024 \"/>\n",
       "<path clip-path=\"url(#clip930)\" d=\"M255.921 280.91 L2350.13 280.91 L2350.13 123.472 L255.921 123.472  Z\" fill=\"#ffffff\" fill-rule=\"evenodd\" fill-opacity=\"1\"/>\n",
       "<polyline clip-path=\"url(#clip930)\" style=\"stroke:#000000; stroke-linecap:round; stroke-linejoin:round; stroke-width:4; stroke-opacity:0; fill:none\" points=\"255.921,280.91 2350.13,280.91 2350.13,123.472 255.921,123.472 255.921,280.91 \"/>\n",
       "<polyline clip-path=\"url(#clip930)\" style=\"stroke:#009af9; stroke-linecap:round; stroke-linejoin:round; stroke-width:9; stroke-opacity:1; fill:none\" points=\"279.248,202.191 419.212,202.191 \"/>\n",
       "<circle clip-path=\"url(#clip930)\" cx=\"349.23\" cy=\"202.191\" r=\"12.8017\" fill=\"#009af9\" fill-rule=\"evenodd\" fill-opacity=\"1\" stroke=\"#000000\" stroke-opacity=\"1\" stroke-width=\"5.12\"/>\n",
       "<path clip-path=\"url(#clip930)\" d=\"M442.54 182.751 L447.8 182.751 L447.8 221.631 L442.54 221.631 L442.54 182.751 Z\" fill=\"#000000\" fill-rule=\"nonzero\" fill-opacity=\"1\" /><path clip-path=\"url(#clip930)\" d=\"M458.269 182.751 L463.529 182.751 L463.529 221.631 L458.269 221.631 L458.269 182.751 Z\" fill=\"#000000\" fill-rule=\"nonzero\" fill-opacity=\"1\" /><path clip-path=\"url(#clip930)\" d=\"M479.258 187.074 L479.258 217.308 L485.613 217.308 Q493.659 217.308 497.383 213.662 Q501.133 210.017 501.133 202.152 Q501.133 194.34 497.383 190.72 Q493.659 187.074 485.613 187.074 L479.258 187.074 M473.998 182.751 L484.805 182.751 Q496.107 182.751 501.394 187.465 Q506.68 192.152 506.68 202.152 Q506.68 212.204 501.368 216.918 Q496.055 221.631 484.805 221.631 L473.998 221.631 L473.998 182.751 Z\" fill=\"#000000\" fill-rule=\"nonzero\" fill-opacity=\"1\" /><polyline clip-path=\"url(#clip930)\" style=\"stroke:#e26f46; stroke-linecap:round; stroke-linejoin:round; stroke-width:9; stroke-opacity:1; fill:none\" points=\"693.425,202.191 833.389,202.191 \"/>\n",
       "<path clip-path=\"url(#clip930)\" d=\"M749.182 187.967 L749.182 216.415 L777.631 216.415 L777.631 187.967 L749.182 187.967 Z\" fill=\"#e26f46\" fill-rule=\"evenodd\" fill-opacity=\"1\" stroke=\"#000000\" stroke-opacity=\"1\" stroke-width=\"5.12\"/>\n",
       "<path clip-path=\"url(#clip930)\" d=\"M856.716 182.751 L861.976 182.751 L861.976 198.689 L881.091 198.689 L881.091 182.751 L886.351 182.751 L886.351 221.631 L881.091 221.631 L881.091 203.116 L861.976 203.116 L861.976 221.631 L856.716 221.631 L856.716 182.751 Z\" fill=\"#000000\" fill-rule=\"nonzero\" fill-opacity=\"1\" /><path clip-path=\"url(#clip930)\" d=\"M909.867 206.97 Q904.06 206.97 901.82 208.298 Q899.58 209.626 899.58 212.829 Q899.58 215.381 901.247 216.892 Q902.94 218.376 905.83 218.376 Q909.815 218.376 912.211 215.564 Q914.632 212.725 914.632 208.038 L914.632 206.97 L909.867 206.97 M919.424 204.991 L919.424 221.631 L914.632 221.631 L914.632 217.204 Q912.992 219.86 910.544 221.136 Q908.096 222.386 904.554 222.386 Q900.075 222.386 897.419 219.886 Q894.789 217.36 894.789 213.142 Q894.789 208.22 898.07 205.72 Q901.377 203.22 907.914 203.22 L914.632 203.22 L914.632 202.751 Q914.632 199.444 912.445 197.647 Q910.283 195.824 906.351 195.824 Q903.851 195.824 901.481 196.423 Q899.112 197.022 896.924 198.22 L896.924 193.793 Q899.554 192.777 902.028 192.282 Q904.502 191.762 906.846 191.762 Q913.174 191.762 916.299 195.043 Q919.424 198.324 919.424 204.991 Z\" fill=\"#000000\" fill-rule=\"nonzero\" fill-opacity=\"1\" /><path clip-path=\"url(#clip930)\" d=\"M946.195 196.944 Q945.387 196.475 944.424 196.267 Q943.486 196.032 942.341 196.032 Q938.278 196.032 936.091 198.689 Q933.929 201.319 933.929 206.267 L933.929 221.631 L929.111 221.631 L929.111 192.465 L933.929 192.465 L933.929 196.996 Q935.44 194.34 937.861 193.064 Q940.283 191.762 943.747 191.762 Q944.242 191.762 944.841 191.84 Q945.439 191.892 946.169 192.022 L946.195 196.944 Z\" fill=\"#000000\" fill-rule=\"nonzero\" fill-opacity=\"1\" /><path clip-path=\"url(#clip930)\" d=\"M964.476 206.97 Q958.669 206.97 956.429 208.298 Q954.189 209.626 954.189 212.829 Q954.189 215.381 955.856 216.892 Q957.549 218.376 960.439 218.376 Q964.424 218.376 966.82 215.564 Q969.241 212.725 969.241 208.038 L969.241 206.97 L964.476 206.97 M974.033 204.991 L974.033 221.631 L969.241 221.631 L969.241 217.204 Q967.601 219.86 965.153 221.136 Q962.705 222.386 959.163 222.386 Q954.684 222.386 952.028 219.886 Q949.398 217.36 949.398 213.142 Q949.398 208.22 952.679 205.72 Q955.986 203.22 962.523 203.22 L969.241 203.22 L969.241 202.751 Q969.241 199.444 967.054 197.647 Q964.893 195.824 960.96 195.824 Q958.46 195.824 956.09 196.423 Q953.721 197.022 951.533 198.22 L951.533 193.793 Q954.163 192.777 956.637 192.282 Q959.111 191.762 961.455 191.762 Q967.783 191.762 970.908 195.043 Q974.033 198.324 974.033 204.991 Z\" fill=\"#000000\" fill-rule=\"nonzero\" fill-opacity=\"1\" /><path clip-path=\"url(#clip930)\" d=\"M1002.5 193.324 L1002.5 197.855 Q1000.47 196.814 998.278 196.293 Q996.09 195.772 993.747 195.772 Q990.179 195.772 988.382 196.866 Q986.611 197.959 986.611 200.147 Q986.611 201.814 987.887 202.777 Q989.163 203.715 993.017 204.574 L994.658 204.939 Q999.762 206.032 1001.9 208.038 Q1004.06 210.017 1004.06 213.584 Q1004.06 217.647 1000.83 220.017 Q997.627 222.386 992.002 222.386 Q989.658 222.386 987.106 221.918 Q984.58 221.475 981.767 220.563 L981.767 215.616 Q984.424 216.996 987.002 217.699 Q989.58 218.376 992.106 218.376 Q995.491 218.376 997.314 217.23 Q999.137 216.058 999.137 213.949 Q999.137 211.996 997.809 210.954 Q996.507 209.913 992.054 208.949 L990.387 208.558 Q985.934 207.621 983.955 205.694 Q981.976 203.741 981.976 200.355 Q981.976 196.241 984.892 194.001 Q987.809 191.762 993.174 191.762 Q995.83 191.762 998.174 192.152 Q1000.52 192.543 1002.5 193.324 Z\" fill=\"#000000\" fill-rule=\"nonzero\" fill-opacity=\"1\" /><path clip-path=\"url(#clip930)\" d=\"M1036.64 205.85 L1036.64 208.194 L1014.61 208.194 Q1014.92 213.142 1017.57 215.746 Q1020.26 218.324 1025.02 218.324 Q1027.78 218.324 1030.36 217.647 Q1032.97 216.97 1035.52 215.616 L1035.52 220.147 Q1032.94 221.241 1030.23 221.813 Q1027.52 222.386 1024.74 222.386 Q1017.76 222.386 1013.67 218.324 Q1009.61 214.261 1009.61 207.334 Q1009.61 200.173 1013.46 195.98 Q1017.34 191.762 1023.9 191.762 Q1029.79 191.762 1033.2 195.564 Q1036.64 199.34 1036.64 205.85 M1031.85 204.444 Q1031.79 200.512 1029.63 198.168 Q1027.5 195.824 1023.95 195.824 Q1019.94 195.824 1017.52 198.09 Q1015.13 200.355 1014.76 204.47 L1031.85 204.444 Z\" fill=\"#000000\" fill-rule=\"nonzero\" fill-opacity=\"1\" /><polyline clip-path=\"url(#clip930)\" style=\"stroke:#3da44d; stroke-linecap:round; stroke-linejoin:round; stroke-width:9; stroke-opacity:1; fill:none\" points=\"1107.6,202.191 1247.56,202.191 \"/>\n",
       "<path clip-path=\"url(#clip930)\" d=\"M1177.58 187.967 L1163.36 202.191 L1177.58 216.415 L1191.81 202.191 L1177.58 187.967 Z\" fill=\"#3da44d\" fill-rule=\"evenodd\" fill-opacity=\"1\" stroke=\"#000000\" stroke-opacity=\"1\" stroke-width=\"5.12\"/>\n",
       "<path clip-path=\"url(#clip930)\" d=\"M1295.92 184.027 L1295.92 189.157 Q1292.92 187.725 1290.27 187.022 Q1287.61 186.319 1285.14 186.319 Q1280.84 186.319 1278.5 187.986 Q1276.18 189.652 1276.18 192.725 Q1276.18 195.303 1277.72 196.631 Q1279.28 197.933 1283.6 198.741 L1286.78 199.392 Q1292.66 200.512 1295.45 203.35 Q1298.26 206.163 1298.26 210.902 Q1298.26 216.553 1294.46 219.47 Q1290.68 222.386 1283.37 222.386 Q1280.61 222.386 1277.48 221.761 Q1274.38 221.136 1271.05 219.912 L1271.05 214.496 Q1274.25 216.293 1277.32 217.204 Q1280.4 218.116 1283.37 218.116 Q1287.87 218.116 1290.32 216.345 Q1292.77 214.574 1292.77 211.293 Q1292.77 208.428 1291 206.814 Q1289.25 205.199 1285.24 204.392 L1282.04 203.767 Q1276.15 202.595 1273.52 200.095 Q1270.89 197.595 1270.89 193.142 Q1270.89 187.986 1274.51 185.017 Q1278.16 182.048 1284.54 182.048 Q1287.27 182.048 1290.11 182.543 Q1292.95 183.038 1295.92 184.027 Z\" fill=\"#000000\" fill-rule=\"nonzero\" fill-opacity=\"1\" /><path clip-path=\"url(#clip930)\" d=\"M1317.56 195.824 Q1313.7 195.824 1311.46 198.845 Q1309.23 201.84 1309.23 207.074 Q1309.23 212.308 1311.44 215.329 Q1313.68 218.324 1317.56 218.324 Q1321.39 218.324 1323.63 215.303 Q1325.87 212.282 1325.87 207.074 Q1325.87 201.892 1323.63 198.871 Q1321.39 195.824 1317.56 195.824 M1317.56 191.762 Q1323.81 191.762 1327.38 195.824 Q1330.94 199.887 1330.94 207.074 Q1330.94 214.235 1327.38 218.324 Q1323.81 222.386 1317.56 222.386 Q1311.28 222.386 1307.71 218.324 Q1304.17 214.235 1304.17 207.074 Q1304.17 199.887 1307.71 195.824 Q1311.28 191.762 1317.56 191.762 Z\" fill=\"#000000\" fill-rule=\"nonzero\" fill-opacity=\"1\" /><path clip-path=\"url(#clip930)\" d=\"M1359.82 207.074 Q1359.82 201.788 1357.64 198.793 Q1355.48 195.772 1351.67 195.772 Q1347.87 195.772 1345.68 198.793 Q1343.52 201.788 1343.52 207.074 Q1343.52 212.36 1345.68 215.381 Q1347.87 218.376 1351.67 218.376 Q1355.48 218.376 1357.64 215.381 Q1359.82 212.36 1359.82 207.074 M1343.52 196.892 Q1345.03 194.288 1347.32 193.038 Q1349.64 191.762 1352.84 191.762 Q1358.16 191.762 1361.46 195.98 Q1364.8 200.199 1364.8 207.074 Q1364.8 213.949 1361.46 218.168 Q1358.16 222.386 1352.84 222.386 Q1349.64 222.386 1347.32 221.136 Q1345.03 219.86 1343.52 217.256 L1343.52 221.631 L1338.7 221.631 L1338.7 181.111 L1343.52 181.111 L1343.52 196.892 Z\" fill=\"#000000\" fill-rule=\"nonzero\" fill-opacity=\"1\" /><path clip-path=\"url(#clip930)\" d=\"M1384.04 195.824 Q1380.19 195.824 1377.95 198.845 Q1375.71 201.84 1375.71 207.074 Q1375.71 212.308 1377.92 215.329 Q1380.16 218.324 1384.04 218.324 Q1387.87 218.324 1390.11 215.303 Q1392.35 212.282 1392.35 207.074 Q1392.35 201.892 1390.11 198.871 Q1387.87 195.824 1384.04 195.824 M1384.04 191.762 Q1390.29 191.762 1393.86 195.824 Q1397.43 199.887 1397.43 207.074 Q1397.43 214.235 1393.86 218.324 Q1390.29 222.386 1384.04 222.386 Q1377.77 222.386 1374.2 218.324 Q1370.66 214.235 1370.66 207.074 Q1370.66 199.887 1374.2 195.824 Q1377.77 191.762 1384.04 191.762 Z\" fill=\"#000000\" fill-rule=\"nonzero\" fill-opacity=\"1\" /><path clip-path=\"url(#clip930)\" d=\"M1405.37 181.111 L1410.16 181.111 L1410.16 221.631 L1405.37 221.631 L1405.37 181.111 Z\" fill=\"#000000\" fill-rule=\"nonzero\" fill-opacity=\"1\" /><polyline clip-path=\"url(#clip930)\" style=\"stroke:#ff0000; stroke-linecap:round; stroke-linejoin:round; stroke-width:6.75; stroke-opacity:1; fill:none\" stroke-dasharray=\"27, 17\" points=\"1521.78,202.191 1661.74,202.191 \"/>\n",
       "<path clip-path=\"url(#clip930)\" d=\"M1722.38 198.951 Q1722.38 202.719 1721.04 206.461 Q1719.72 210.176 1717.4 213.233 Q1715.08 216.29 1712.13 218.661 Q1709.18 221.033 1705.73 222.35 Q1702.28 223.668 1698.9 223.668 Q1692.92 223.668 1688.99 219.742 Q1685.07 215.815 1685.07 209.254 Q1685.07 204.669 1687.12 200.111 Q1689.18 195.526 1692.45 192.126 Q1695.71 188.701 1700.01 186.567 Q1704.33 184.432 1708.6 184.432 Q1714.66 184.432 1718.51 188.464 Q1722.38 192.469 1722.38 198.951 M1717.56 196.843 Q1717.56 193.945 1716.74 191.758 Q1715.92 189.544 1714.55 188.279 Q1713.21 187.015 1711.6 186.408 Q1710.02 185.776 1708.28 185.776 Q1704.91 185.776 1701.3 187.963 Q1697.69 190.15 1695 194.208 Q1693.55 196.422 1692.5 199.083 Q1691.45 201.718 1690.97 204.063 Q1690.5 206.382 1690.29 208.016 Q1690.1 209.649 1690.1 210.782 Q1690.1 216.053 1692.63 219.162 Q1695.16 222.271 1699.22 222.271 Q1702.41 222.271 1705.52 220.4 Q1708.63 218.503 1710.76 215.789 Q1712.66 213.444 1714.05 210.624 Q1715.48 207.805 1716.19 205.223 Q1716.9 202.64 1717.22 200.559 Q1717.56 198.477 1717.56 196.843 Z\" fill=\"#000000\" fill-rule=\"nonzero\" fill-opacity=\"1\" /><path clip-path=\"url(#clip930)\" d=\"M1729.5 208.991 Q1729.5 199.873 1732.9 192.522 Q1734.35 189.439 1736.37 186.856 Q1738.4 184.274 1739.75 183.141 Q1741.09 182.008 1741.46 182.008 Q1741.99 182.008 1742.01 182.535 Q1742.01 182.798 1741.3 183.457 Q1732.61 192.311 1732.63 208.991 Q1732.63 225.723 1741.09 234.234 Q1742.01 235.156 1742.01 235.446 Q1742.01 235.973 1741.46 235.973 Q1741.09 235.973 1739.8 234.893 Q1738.51 233.813 1736.51 231.336 Q1734.5 228.859 1733.05 225.828 Q1729.5 218.477 1729.5 208.991 Z\" fill=\"#000000\" fill-rule=\"nonzero\" fill-opacity=\"1\" /><path clip-path=\"url(#clip930)\" d=\"M1795.64 186.224 Q1795.64 187.304 1794.72 187.304 Q1791.74 187.41 1790.53 188.411 Q1789.34 189.386 1788.9 191.283 L1781.36 221.349 Q1781.1 222.298 1780.94 222.403 Q1780.78 222.482 1780.49 222.482 Q1780.12 222.482 1779.91 222.298 Q1779.73 222.113 1779.46 221.454 L1766.02 189.676 Q1765.92 189.465 1765.79 189.175 Q1765.66 188.885 1765.55 188.701 L1758.41 217.186 Q1758.2 218.002 1758.2 218.424 Q1758.2 219.452 1758.91 220.11 Q1759.65 220.743 1761.76 220.822 Q1762.84 220.822 1762.84 221.402 Q1762.84 222.482 1761.86 222.482 Q1760.97 222.482 1759.09 222.403 Q1757.22 222.324 1756.3 222.324 Q1755.41 222.324 1753.59 222.403 Q1751.77 222.482 1750.9 222.482 Q1750.21 222.482 1750.21 221.876 Q1750.21 221.402 1750.4 221.164 Q1750.58 220.901 1750.74 220.875 Q1750.9 220.822 1751.14 220.822 Q1752.72 220.769 1753.8 220.453 Q1754.88 220.137 1755.48 219.531 Q1756.12 218.925 1756.41 218.319 Q1756.72 217.686 1756.96 216.764 L1764.18 187.779 Q1764.18 187.304 1760.52 187.304 Q1759.88 187.304 1759.62 187.278 Q1759.38 187.252 1759.2 187.12 Q1759.02 186.988 1759.02 186.698 Q1759.02 185.961 1759.33 185.802 Q1759.65 185.618 1760.57 185.618 L1767.82 185.618 Q1768.74 185.618 1768.98 185.776 Q1769.21 185.908 1769.53 186.646 L1781.47 214.814 L1787.5 190.809 Q1787.66 190.335 1787.66 189.676 Q1787.66 188.622 1786.87 187.989 Q1786.1 187.331 1784 187.304 Q1783.02 187.304 1783.02 186.698 Q1783.02 186.198 1783.2 185.961 Q1783.42 185.697 1783.57 185.671 Q1783.76 185.618 1784 185.618 Q1784.89 185.618 1786.74 185.697 Q1788.58 185.776 1789.5 185.776 Q1790.4 185.776 1792.22 185.697 Q1794.06 185.618 1794.96 185.618 Q1795.27 185.618 1795.43 185.776 Q1795.62 185.908 1795.64 186.066 L1795.64 186.224 Z\" fill=\"#000000\" fill-rule=\"nonzero\" fill-opacity=\"1\" /><path clip-path=\"url(#clip930)\" d=\"M1825.88 183.478 Q1826.1 183.699 1826.1 184.013 Q1826.1 184.326 1825.88 184.548 Q1825.66 184.769 1825.35 184.769 L1801.7 184.769 Q1801.39 184.769 1801.16 184.548 Q1800.94 184.326 1800.94 184.013 Q1800.94 183.699 1801.16 183.478 Q1801.39 183.256 1801.7 183.256 L1825.35 183.256 Q1825.66 183.256 1825.88 183.478 Z\" fill=\"#000000\" fill-rule=\"nonzero\" fill-opacity=\"1\" /><path clip-path=\"url(#clip930)\" d=\"M1830.04 171.894 L1830.04 170.714 Q1834.58 170.714 1836.92 168.297 Q1837.56 168.297 1837.68 168.445 Q1837.79 168.593 1837.79 169.275 L1837.79 190.469 Q1837.79 191.594 1838.34 191.944 Q1838.89 192.295 1841.31 192.295 L1842.51 192.295 L1842.51 193.457 Q1841.18 193.346 1836.38 193.346 Q1831.59 193.346 1830.28 193.457 L1830.28 192.295 L1831.48 192.295 Q1833.86 192.295 1834.43 191.963 Q1835 191.612 1835 190.469 L1835 170.898 Q1833.03 171.894 1830.04 171.894 Z\" fill=\"#000000\" fill-rule=\"nonzero\" fill-opacity=\"1\" /><path clip-path=\"url(#clip930)\" d=\"M1854.5 235.446 Q1854.5 235.183 1855.19 234.524 Q1863.88 225.67 1863.88 208.991 Q1863.88 192.258 1855.53 183.8 Q1854.5 182.825 1854.5 182.535 Q1854.5 182.008 1855.03 182.008 Q1855.4 182.008 1856.69 183.088 Q1858.01 184.169 1859.98 186.646 Q1861.99 189.123 1863.46 192.153 Q1867.02 199.505 1867.02 208.991 Q1867.02 218.108 1863.62 225.46 Q1862.17 228.543 1860.14 231.125 Q1858.11 233.707 1856.77 234.84 Q1855.42 235.973 1855.03 235.973 Q1854.5 235.973 1854.5 235.446 Z\" fill=\"#000000\" fill-rule=\"nonzero\" fill-opacity=\"1\" /><polyline clip-path=\"url(#clip930)\" style=\"stroke:#000000; stroke-linecap:round; stroke-linejoin:round; stroke-width:6.75; stroke-opacity:1; fill:none\" stroke-dasharray=\"27, 17\" points=\"1935.95,202.191 2075.92,202.191 \"/>\n",
       "<path clip-path=\"url(#clip930)\" d=\"M2136.56 204.661 Q2136.56 208.429 2135.21 212.17 Q2133.9 215.886 2131.58 218.942 Q2129.26 221.999 2126.31 224.371 Q2123.36 226.742 2119.9 228.06 Q2116.45 229.377 2113.08 229.377 Q2107.1 229.377 2103.17 225.451 Q2099.24 221.525 2099.24 214.964 Q2099.24 210.379 2101.3 205.82 Q2103.36 201.235 2106.62 197.836 Q2109.89 194.41 2114.19 192.276 Q2118.51 190.142 2122.78 190.142 Q2128.84 190.142 2132.68 194.173 Q2136.56 198.178 2136.56 204.661 M2131.73 202.553 Q2131.73 199.654 2130.92 197.467 Q2130.1 195.254 2128.73 193.989 Q2127.39 192.724 2125.78 192.118 Q2124.2 191.485 2122.46 191.485 Q2119.09 191.485 2115.48 193.673 Q2111.87 195.86 2109.18 199.918 Q2107.73 202.131 2106.68 204.792 Q2105.62 207.427 2105.15 209.773 Q2104.67 212.091 2104.46 213.725 Q2104.28 215.359 2104.28 216.492 Q2104.28 221.762 2106.81 224.871 Q2109.34 227.981 2113.39 227.981 Q2116.58 227.981 2119.69 226.11 Q2122.8 224.212 2124.94 221.498 Q2126.83 219.153 2128.23 216.334 Q2129.65 213.514 2130.36 210.932 Q2131.08 208.35 2131.39 206.268 Q2131.73 204.186 2131.73 202.553 Z\" fill=\"#000000\" fill-rule=\"nonzero\" fill-opacity=\"1\" /><path clip-path=\"url(#clip930)\" d=\"M2143.67 214.7 Q2143.67 205.583 2147.07 198.231 Q2148.52 195.148 2150.55 192.566 Q2152.58 189.983 2153.92 188.85 Q2155.27 187.717 2155.64 187.717 Q2156.16 187.717 2156.19 188.244 Q2156.19 188.508 2155.48 189.167 Q2146.78 198.02 2146.81 214.7 Q2146.81 231.432 2155.27 239.944 Q2156.19 240.866 2156.19 241.156 Q2156.19 241.683 2155.64 241.683 Q2155.27 241.683 2153.98 240.602 Q2152.68 239.522 2150.68 237.045 Q2148.68 234.568 2147.23 231.538 Q2143.67 224.186 2143.67 214.7 Z\" fill=\"#000000\" fill-rule=\"nonzero\" fill-opacity=\"1\" /><path clip-path=\"url(#clip930)\" d=\"M2209.82 191.933 Q2209.82 193.014 2208.9 193.014 Q2205.92 193.119 2204.71 194.12 Q2203.52 195.095 2203.07 196.993 L2195.54 227.058 Q2195.27 228.007 2195.11 228.112 Q2194.96 228.191 2194.67 228.191 Q2194.3 228.191 2194.09 228.007 Q2193.9 227.822 2193.64 227.164 L2180.2 195.385 Q2180.1 195.174 2179.96 194.885 Q2179.83 194.595 2179.73 194.41 L2172.59 222.895 Q2172.37 223.712 2172.37 224.133 Q2172.37 225.161 2173.09 225.82 Q2173.82 226.452 2175.93 226.531 Q2177.01 226.531 2177.01 227.111 Q2177.01 228.191 2176.04 228.191 Q2175.14 228.191 2173.27 228.112 Q2171.4 228.033 2170.48 228.033 Q2169.58 228.033 2167.76 228.112 Q2165.95 228.191 2165.08 228.191 Q2164.39 228.191 2164.39 227.585 Q2164.39 227.111 2164.57 226.874 Q2164.76 226.61 2164.92 226.584 Q2165.08 226.531 2165.31 226.531 Q2166.89 226.479 2167.97 226.162 Q2169.05 225.846 2169.66 225.24 Q2170.29 224.634 2170.58 224.028 Q2170.9 223.396 2171.14 222.473 L2178.36 193.488 Q2178.36 193.014 2174.69 193.014 Q2174.06 193.014 2173.8 192.987 Q2173.56 192.961 2173.38 192.829 Q2173.19 192.698 2173.19 192.408 Q2173.19 191.67 2173.51 191.512 Q2173.82 191.327 2174.75 191.327 L2181.99 191.327 Q2182.91 191.327 2183.15 191.485 Q2183.39 191.617 2183.71 192.355 L2195.64 220.523 L2201.68 196.518 Q2201.83 196.044 2201.83 195.385 Q2201.83 194.331 2201.04 193.699 Q2200.28 193.04 2198.17 193.014 Q2197.2 193.014 2197.2 192.408 Q2197.2 191.907 2197.38 191.67 Q2197.59 191.406 2197.75 191.38 Q2197.93 191.327 2198.17 191.327 Q2199.07 191.327 2200.91 191.406 Q2202.76 191.485 2203.68 191.485 Q2204.57 191.485 2206.39 191.406 Q2208.24 191.327 2209.13 191.327 Q2209.45 191.327 2209.61 191.485 Q2209.79 191.617 2209.82 191.775 L2209.82 191.933 Z\" fill=\"#000000\" fill-rule=\"nonzero\" fill-opacity=\"1\" /><path clip-path=\"url(#clip930)\" d=\"M2240.06 180.831 Q2240.28 181.052 2240.28 181.366 Q2240.28 181.679 2240.06 181.901 Q2239.84 182.122 2239.52 182.122 L2215.88 182.122 Q2215.56 182.122 2215.34 181.901 Q2215.12 181.679 2215.12 181.366 Q2215.12 181.052 2215.34 180.831 Q2215.56 180.61 2215.88 180.61 L2239.52 180.61 Q2239.84 180.61 2240.06 180.831 Z\" fill=\"#000000\" fill-rule=\"nonzero\" fill-opacity=\"1\" /><path clip-path=\"url(#clip930)\" d=\"M2244.22 169.247 L2244.22 168.067 Q2248.75 168.067 2251.1 165.651 Q2251.74 165.651 2251.85 165.798 Q2251.96 165.946 2251.96 166.628 L2251.96 187.822 Q2251.96 188.947 2252.52 189.297 Q2253.07 189.648 2255.49 189.648 L2256.68 189.648 L2256.68 190.81 Q2255.36 190.699 2250.56 190.699 Q2245.76 190.699 2244.45 190.81 L2244.45 189.648 L2245.65 189.648 Q2248.03 189.648 2248.61 189.316 Q2249.18 188.965 2249.18 187.822 L2249.18 168.251 Q2247.2 169.247 2244.22 169.247 Z\" fill=\"#000000\" fill-rule=\"nonzero\" fill-opacity=\"1\" /><path clip-path=\"url(#clip930)\" d=\"M2262.92 199.719 Q2262.92 199.534 2263.07 199.129 L2276.4 163.492 Q2276.4 163.456 2276.49 163.253 Q2276.59 163.05 2276.64 162.921 Q2276.7 162.773 2276.81 162.662 Q2276.94 162.552 2277.08 162.552 Q2277.45 162.552 2277.45 163.013 Q2277.45 163.05 2277.34 163.492 L2263.97 199.165 Q2263.75 199.811 2263.6 199.995 Q2263.47 200.18 2263.25 200.18 Q2262.92 200.18 2262.92 199.719 Z\" fill=\"#000000\" fill-rule=\"nonzero\" fill-opacity=\"1\" /><path clip-path=\"url(#clip930)\" d=\"M2281.62 190.81 Q2281.62 190.127 2281.68 189.924 Q2281.75 189.722 2282.05 189.408 L2289.29 181.329 Q2293.26 176.865 2293.26 172.973 Q2293.26 170.446 2291.93 168.639 Q2290.62 166.831 2288.21 166.831 Q2286.55 166.831 2285.14 167.846 Q2283.74 168.86 2283.1 170.668 Q2283.21 170.631 2283.59 170.631 Q2284.54 170.631 2285.05 171.221 Q2285.59 171.811 2285.59 172.604 Q2285.59 173.619 2284.92 174.117 Q2284.28 174.596 2283.63 174.596 Q2283.37 174.596 2283.02 174.541 Q2282.69 174.486 2282.16 173.969 Q2281.62 173.434 2281.62 172.494 Q2281.62 169.856 2283.61 167.753 Q2285.62 165.651 2288.69 165.651 Q2292.15 165.651 2294.42 167.716 Q2296.71 169.764 2296.71 172.973 Q2296.71 174.098 2296.36 175.131 Q2296.03 176.146 2295.57 176.939 Q2295.12 177.732 2293.91 179.005 Q2292.69 180.278 2291.71 181.181 Q2290.73 182.085 2288.54 184.004 L2284.54 187.895 L2291.34 187.895 Q2294.66 187.895 2294.92 187.6 Q2295.29 187.065 2295.75 184.243 L2296.71 184.243 L2295.64 190.81 L2281.62 190.81 Z\" fill=\"#000000\" fill-rule=\"nonzero\" fill-opacity=\"1\" /><path clip-path=\"url(#clip930)\" d=\"M2306.08 241.156 Q2306.08 240.892 2306.77 240.233 Q2315.47 231.38 2315.47 214.7 Q2315.47 197.968 2307.11 189.509 Q2306.08 188.534 2306.08 188.244 Q2306.08 187.717 2306.61 187.717 Q2306.98 187.717 2308.27 188.798 Q2309.59 189.878 2311.57 192.355 Q2313.57 194.832 2315.04 197.862 Q2318.6 205.214 2318.6 214.7 Q2318.6 223.817 2315.2 231.169 Q2313.75 234.252 2311.72 236.834 Q2309.69 239.417 2308.35 240.55 Q2307.01 241.683 2306.61 241.683 Q2306.08 241.683 2306.08 241.156 Z\" fill=\"#000000\" fill-rule=\"nonzero\" fill-opacity=\"1\" /></svg>\n"
      ],
      "text/html": [
       "<?xml version=\"1.0\" encoding=\"utf-8\"?>\n",
       "<svg xmlns=\"http://www.w3.org/2000/svg\" xmlns:xlink=\"http://www.w3.org/1999/xlink\" width=\"600\" height=\"400\" viewBox=\"0 0 2400 1600\">\n",
       "<defs>\n",
       "  <clipPath id=\"clip980\">\n",
       "    <rect x=\"0\" y=\"0\" width=\"2400\" height=\"1600\"/>\n",
       "  </clipPath>\n",
       "</defs>\n",
       "<path clip-path=\"url(#clip980)\" d=\"M0 1600 L2400 1600 L2400 0 L0 0  Z\" fill=\"#ffffff\" fill-rule=\"evenodd\" fill-opacity=\"1\"/>\n",
       "<defs>\n",
       "  <clipPath id=\"clip981\">\n",
       "    <rect x=\"480\" y=\"0\" width=\"1681\" height=\"1600\"/>\n",
       "  </clipPath>\n",
       "</defs>\n",
       "<path clip-path=\"url(#clip980)\" d=\"M253.294 1404.59 L2352.76 1404.59 L2352.76 323.614 L253.294 323.614  Z\" fill=\"#ffffff\" fill-rule=\"evenodd\" fill-opacity=\"1\"/>\n",
       "<defs>\n",
       "  <clipPath id=\"clip982\">\n",
       "    <rect x=\"253\" y=\"323\" width=\"2100\" height=\"1082\"/>\n",
       "  </clipPath>\n",
       "</defs>\n",
       "<polyline clip-path=\"url(#clip982)\" style=\"stroke:#000000; stroke-linecap:round; stroke-linejoin:round; stroke-width:2; stroke-opacity:0.3; fill:none\" points=\"312.713,1404.59 312.713,323.614 \"/>\n",
       "<polyline clip-path=\"url(#clip982)\" style=\"stroke:#000000; stroke-linecap:round; stroke-linejoin:round; stroke-width:2; stroke-opacity:0.3; fill:none\" points=\"807.869,1404.59 807.869,323.614 \"/>\n",
       "<polyline clip-path=\"url(#clip982)\" style=\"stroke:#000000; stroke-linecap:round; stroke-linejoin:round; stroke-width:2; stroke-opacity:0.3; fill:none\" points=\"1303.03,1404.59 1303.03,323.614 \"/>\n",
       "<polyline clip-path=\"url(#clip982)\" style=\"stroke:#000000; stroke-linecap:round; stroke-linejoin:round; stroke-width:2; stroke-opacity:0.3; fill:none\" points=\"1798.18,1404.59 1798.18,323.614 \"/>\n",
       "<polyline clip-path=\"url(#clip982)\" style=\"stroke:#000000; stroke-linecap:round; stroke-linejoin:round; stroke-width:2; stroke-opacity:0.3; fill:none\" points=\"2293.34,1404.59 2293.34,323.614 \"/>\n",
       "<polyline clip-path=\"url(#clip982)\" style=\"stroke:#000000; stroke-linecap:round; stroke-linejoin:round; stroke-width:2; stroke-opacity:0.3; fill:none\" points=\"253.294,1008.12 2352.76,1008.12 \"/>\n",
       "<polyline clip-path=\"url(#clip982)\" style=\"stroke:#000000; stroke-linecap:round; stroke-linejoin:round; stroke-width:2; stroke-opacity:0.3; fill:none\" points=\"253.294,518.659 2352.76,518.659 \"/>\n",
       "<polyline clip-path=\"url(#clip980)\" style=\"stroke:#000000; stroke-linecap:round; stroke-linejoin:round; stroke-width:4; stroke-opacity:1; fill:none\" points=\"253.294,1404.59 2352.76,1404.59 \"/>\n",
       "<polyline clip-path=\"url(#clip980)\" style=\"stroke:#000000; stroke-linecap:round; stroke-linejoin:round; stroke-width:4; stroke-opacity:1; fill:none\" points=\"312.713,1404.59 312.713,1388.64 \"/>\n",
       "<polyline clip-path=\"url(#clip980)\" style=\"stroke:#000000; stroke-linecap:round; stroke-linejoin:round; stroke-width:4; stroke-opacity:1; fill:none\" points=\"807.869,1404.59 807.869,1388.64 \"/>\n",
       "<polyline clip-path=\"url(#clip980)\" style=\"stroke:#000000; stroke-linecap:round; stroke-linejoin:round; stroke-width:4; stroke-opacity:1; fill:none\" points=\"1303.03,1404.59 1303.03,1388.64 \"/>\n",
       "<polyline clip-path=\"url(#clip980)\" style=\"stroke:#000000; stroke-linecap:round; stroke-linejoin:round; stroke-width:4; stroke-opacity:1; fill:none\" points=\"1798.18,1404.59 1798.18,1388.64 \"/>\n",
       "<polyline clip-path=\"url(#clip980)\" style=\"stroke:#000000; stroke-linecap:round; stroke-linejoin:round; stroke-width:4; stroke-opacity:1; fill:none\" points=\"2293.34,1404.59 2293.34,1388.64 \"/>\n",
       "<path clip-path=\"url(#clip980)\" d=\"M286.254 1478.71 L302.574 1478.71 L302.574 1482.65 L280.629 1482.65 L280.629 1478.71 Q283.291 1475.96 287.875 1471.33 Q292.481 1466.67 293.662 1465.33 Q295.907 1462.81 296.787 1461.07 Q297.689 1459.31 297.689 1457.62 Q297.689 1454.87 295.745 1453.13 Q293.824 1451.4 290.722 1451.4 Q288.523 1451.4 286.069 1452.16 Q283.638 1452.92 280.861 1454.48 L280.861 1449.75 Q283.685 1448.62 286.138 1448.04 Q288.592 1447.46 290.629 1447.46 Q296 1447.46 299.194 1450.15 Q302.388 1452.83 302.388 1457.32 Q302.388 1459.45 301.578 1461.37 Q300.791 1463.27 298.685 1465.86 Q298.106 1466.54 295.004 1469.75 Q291.902 1472.95 286.254 1478.71 Z\" fill=\"#000000\" fill-rule=\"nonzero\" fill-opacity=\"1\" /><path clip-path=\"url(#clip980)\" d=\"M303.119 1452.04 L309.326 1452.04 L309.326 1430.62 L302.574 1431.97 L302.574 1428.51 L309.288 1427.16 L313.087 1427.16 L313.087 1452.04 L319.294 1452.04 L319.294 1455.24 L303.119 1455.24 L303.119 1452.04 Z\" fill=\"#000000\" fill-rule=\"nonzero\" fill-opacity=\"1\" /><path clip-path=\"url(#clip980)\" d=\"M335.092 1429.66 Q332.158 1429.66 330.672 1432.55 Q329.205 1435.43 329.205 1441.22 Q329.205 1447 330.672 1449.89 Q332.158 1452.77 335.092 1452.77 Q338.045 1452.77 339.512 1449.89 Q340.998 1447 340.998 1441.22 Q340.998 1435.43 339.512 1432.55 Q338.045 1429.66 335.092 1429.66 M335.092 1426.65 Q339.813 1426.65 342.296 1430.39 Q344.797 1434.11 344.797 1441.22 Q344.797 1448.31 342.296 1452.06 Q339.813 1455.78 335.092 1455.78 Q330.371 1455.78 327.87 1452.06 Q325.387 1448.31 325.387 1441.22 Q325.387 1434.11 327.87 1430.39 Q330.371 1426.65 335.092 1426.65 Z\" fill=\"#000000\" fill-rule=\"nonzero\" fill-opacity=\"1\" /><path clip-path=\"url(#clip980)\" d=\"M781.909 1478.71 L798.228 1478.71 L798.228 1482.65 L776.284 1482.65 L776.284 1478.71 Q778.946 1475.96 783.529 1471.33 Q788.135 1466.67 789.316 1465.33 Q791.561 1462.81 792.441 1461.07 Q793.344 1459.31 793.344 1457.62 Q793.344 1454.87 791.399 1453.13 Q789.478 1451.4 786.376 1451.4 Q784.177 1451.4 781.723 1452.16 Q779.293 1452.92 776.515 1454.48 L776.515 1449.75 Q779.339 1448.62 781.793 1448.04 Q784.247 1447.46 786.284 1447.46 Q791.654 1447.46 794.848 1450.15 Q798.043 1452.83 798.043 1457.32 Q798.043 1459.45 797.233 1461.37 Q796.446 1463.27 794.339 1465.86 Q793.76 1466.54 790.659 1469.75 Q787.557 1472.95 781.909 1478.71 Z\" fill=\"#000000\" fill-rule=\"nonzero\" fill-opacity=\"1\" /><path clip-path=\"url(#clip980)\" d=\"M798.773 1452.04 L804.98 1452.04 L804.98 1430.62 L798.228 1431.97 L798.228 1428.51 L804.942 1427.16 L808.742 1427.16 L808.742 1452.04 L814.948 1452.04 L814.948 1455.24 L798.773 1455.24 L798.773 1452.04 Z\" fill=\"#000000\" fill-rule=\"nonzero\" fill-opacity=\"1\" /><path clip-path=\"url(#clip980)\" d=\"M823.28 1452.04 L829.486 1452.04 L829.486 1430.62 L822.734 1431.97 L822.734 1428.51 L829.449 1427.16 L833.248 1427.16 L833.248 1452.04 L839.455 1452.04 L839.455 1455.24 L823.28 1455.24 L823.28 1452.04 Z\" fill=\"#000000\" fill-rule=\"nonzero\" fill-opacity=\"1\" /><path clip-path=\"url(#clip980)\" d=\"M1277.22 1478.71 L1293.53 1478.71 L1293.53 1482.65 L1271.59 1482.65 L1271.59 1478.71 Q1274.25 1475.96 1278.84 1471.33 Q1283.44 1466.67 1284.62 1465.33 Q1286.87 1462.81 1287.75 1461.07 Q1288.65 1459.31 1288.65 1457.62 Q1288.65 1454.87 1286.71 1453.13 Q1284.78 1451.4 1281.68 1451.4 Q1279.48 1451.4 1277.03 1452.16 Q1274.6 1452.92 1271.82 1454.48 L1271.82 1449.75 Q1274.65 1448.62 1277.1 1448.04 Q1279.55 1447.46 1281.59 1447.46 Q1286.96 1447.46 1290.15 1450.15 Q1293.35 1452.83 1293.35 1457.32 Q1293.35 1459.45 1292.54 1461.37 Q1291.75 1463.27 1289.65 1465.86 Q1289.07 1466.54 1285.97 1469.75 Q1282.86 1472.95 1277.22 1478.71 Z\" fill=\"#000000\" fill-rule=\"nonzero\" fill-opacity=\"1\" /><path clip-path=\"url(#clip980)\" d=\"M1294.08 1452.04 L1300.29 1452.04 L1300.29 1430.62 L1293.53 1431.97 L1293.53 1428.51 L1300.25 1427.16 L1304.05 1427.16 L1304.05 1452.04 L1310.25 1452.04 L1310.25 1455.24 L1294.08 1455.24 L1294.08 1452.04 Z\" fill=\"#000000\" fill-rule=\"nonzero\" fill-opacity=\"1\" /><path clip-path=\"url(#clip980)\" d=\"M1321.2 1452.04 L1334.46 1452.04 L1334.46 1455.24 L1316.63 1455.24 L1316.63 1452.04 Q1318.79 1449.8 1322.52 1446.04 Q1326.26 1442.26 1327.22 1441.17 Q1329.04 1439.12 1329.76 1437.71 Q1330.49 1436.28 1330.49 1434.9 Q1330.49 1432.67 1328.91 1431.26 Q1327.35 1429.85 1324.83 1429.85 Q1323.04 1429.85 1321.05 1430.47 Q1319.08 1431.09 1316.82 1432.35 L1316.82 1428.51 Q1319.11 1427.59 1321.11 1427.12 Q1323.1 1426.65 1324.76 1426.65 Q1329.12 1426.65 1331.71 1428.83 Q1334.31 1431.01 1334.31 1434.66 Q1334.31 1436.39 1333.65 1437.95 Q1333.01 1439.49 1331.3 1441.6 Q1330.83 1442.15 1328.31 1444.76 Q1325.79 1447.36 1321.2 1452.04 Z\" fill=\"#000000\" fill-rule=\"nonzero\" fill-opacity=\"1\" /><path clip-path=\"url(#clip980)\" d=\"M1771.99 1478.71 L1788.3 1478.71 L1788.3 1482.65 L1766.36 1482.65 L1766.36 1478.71 Q1769.02 1475.96 1773.61 1471.33 Q1778.21 1466.67 1779.39 1465.33 Q1781.64 1462.81 1782.52 1461.07 Q1783.42 1459.31 1783.42 1457.62 Q1783.42 1454.87 1781.48 1453.13 Q1779.55 1451.4 1776.45 1451.4 Q1774.25 1451.4 1771.8 1452.16 Q1769.37 1452.92 1766.59 1454.48 L1766.59 1449.75 Q1769.42 1448.62 1771.87 1448.04 Q1774.32 1447.46 1776.36 1447.46 Q1781.73 1447.46 1784.93 1450.15 Q1788.12 1452.83 1788.12 1457.32 Q1788.12 1459.45 1787.31 1461.37 Q1786.52 1463.27 1784.42 1465.86 Q1783.84 1466.54 1780.74 1469.75 Q1777.63 1472.95 1771.99 1478.71 Z\" fill=\"#000000\" fill-rule=\"nonzero\" fill-opacity=\"1\" /><path clip-path=\"url(#clip980)\" d=\"M1788.85 1452.04 L1795.06 1452.04 L1795.06 1430.62 L1788.3 1431.97 L1788.3 1428.51 L1795.02 1427.16 L1798.82 1427.16 L1798.82 1452.04 L1805.03 1452.04 L1805.03 1455.24 L1788.85 1455.24 L1788.85 1452.04 Z\" fill=\"#000000\" fill-rule=\"nonzero\" fill-opacity=\"1\" /><path clip-path=\"url(#clip980)\" d=\"M1824.21 1440.1 Q1826.94 1440.68 1828.46 1442.52 Q1830 1444.37 1830 1447.07 Q1830 1451.23 1827.14 1453.51 Q1824.28 1455.78 1819.02 1455.78 Q1817.25 1455.78 1815.37 1455.42 Q1813.51 1455.09 1811.51 1454.39 L1811.51 1450.72 Q1813.09 1451.64 1814.97 1452.11 Q1816.86 1452.58 1818.91 1452.58 Q1822.48 1452.58 1824.34 1451.17 Q1826.22 1449.76 1826.22 1447.07 Q1826.22 1444.59 1824.47 1443.2 Q1822.74 1441.79 1819.64 1441.79 L1816.37 1441.79 L1816.37 1438.67 L1819.79 1438.67 Q1822.59 1438.67 1824.08 1437.56 Q1825.56 1436.43 1825.56 1434.32 Q1825.56 1432.16 1824.02 1431.01 Q1822.5 1429.85 1819.64 1429.85 Q1818.08 1429.85 1816.29 1430.18 Q1814.5 1430.52 1812.36 1431.24 L1812.36 1427.85 Q1814.52 1427.25 1816.4 1426.95 Q1818.3 1426.65 1819.98 1426.65 Q1824.3 1426.65 1826.82 1428.62 Q1829.34 1430.58 1829.34 1433.93 Q1829.34 1436.26 1828.01 1437.88 Q1826.67 1439.48 1824.21 1440.1 Z\" fill=\"#000000\" fill-rule=\"nonzero\" fill-opacity=\"1\" /><path clip-path=\"url(#clip980)\" d=\"M2266.68 1478.71 L2283 1478.71 L2283 1482.65 L2261.06 1482.65 L2261.06 1478.71 Q2263.72 1475.96 2268.3 1471.33 Q2272.91 1466.67 2274.09 1465.33 Q2276.33 1462.81 2277.21 1461.07 Q2278.12 1459.31 2278.12 1457.62 Q2278.12 1454.87 2276.17 1453.13 Q2274.25 1451.4 2271.15 1451.4 Q2268.95 1451.4 2266.5 1452.16 Q2264.07 1452.92 2261.29 1454.48 L2261.29 1449.75 Q2264.11 1448.62 2266.57 1448.04 Q2269.02 1447.46 2271.06 1447.46 Q2276.43 1447.46 2279.62 1450.15 Q2282.81 1452.83 2282.81 1457.32 Q2282.81 1459.45 2282 1461.37 Q2281.22 1463.27 2279.11 1465.86 Q2278.53 1466.54 2275.43 1469.75 Q2272.33 1472.95 2266.68 1478.71 Z\" fill=\"#000000\" fill-rule=\"nonzero\" fill-opacity=\"1\" /><path clip-path=\"url(#clip980)\" d=\"M2283.55 1452.04 L2289.75 1452.04 L2289.75 1430.62 L2283 1431.97 L2283 1428.51 L2289.71 1427.16 L2293.51 1427.16 L2293.51 1452.04 L2299.72 1452.04 L2299.72 1455.24 L2283.55 1455.24 L2283.55 1452.04 Z\" fill=\"#000000\" fill-rule=\"nonzero\" fill-opacity=\"1\" /><path clip-path=\"url(#clip980)\" d=\"M2317.83 1430.47 L2308.24 1445.46 L2317.83 1445.46 L2317.83 1430.47 M2316.84 1427.16 L2321.61 1427.16 L2321.61 1445.46 L2325.62 1445.46 L2325.62 1448.62 L2321.61 1448.62 L2321.61 1455.24 L2317.83 1455.24 L2317.83 1448.62 L2305.16 1448.62 L2305.16 1444.95 L2316.84 1427.16 Z\" fill=\"#000000\" fill-rule=\"nonzero\" fill-opacity=\"1\" /><path clip-path=\"url(#clip980)\" d=\"M1192.15 1551.78 L1192.15 1549.75 Q1195.66 1549.75 1196.47 1549.33 Q1197.27 1548.88 1197.27 1546.75 L1197.27 1512.45 Q1197.27 1510.01 1196.4 1509.39 Q1195.56 1508.78 1192.15 1508.78 L1192.15 1506.72 L1201.62 1506.01 L1201.62 1546.75 Q1201.62 1548.88 1202.46 1549.33 Q1203.29 1549.75 1206.77 1549.75 L1206.77 1551.78 Q1205.97 1551.78 1204.29 1551.71 Q1202.62 1551.65 1201.39 1551.62 Q1200.17 1551.58 1199.46 1551.58 Q1198.69 1551.58 1192.15 1551.78 Z\" fill=\"#000000\" fill-rule=\"nonzero\" fill-opacity=\"1\" /><path clip-path=\"url(#clip980)\" d=\"M1216.7 1548.23 Q1212.35 1543.92 1212.35 1537.67 Q1212.35 1531.39 1216.6 1526.82 Q1220.88 1522.21 1227 1522.21 Q1232.99 1522.21 1237.28 1526.78 Q1241.59 1531.33 1241.59 1537.67 Q1241.59 1543.89 1237.24 1548.2 Q1232.93 1552.52 1226.94 1552.52 Q1221.08 1552.52 1216.7 1548.23 M1217.82 1537.12 Q1217.82 1543.53 1219.5 1546.43 Q1222.08 1550.84 1227 1550.84 Q1229.45 1550.84 1231.48 1549.52 Q1233.54 1548.2 1234.67 1545.98 Q1236.12 1543.08 1236.12 1537.12 Q1236.12 1530.78 1234.38 1527.98 Q1231.8 1523.69 1226.94 1523.69 Q1224.81 1523.69 1222.72 1524.82 Q1220.66 1525.92 1219.4 1528.11 Q1217.82 1531 1217.82 1537.12 Z\" fill=\"#000000\" fill-rule=\"nonzero\" fill-opacity=\"1\" /><path clip-path=\"url(#clip980)\" d=\"M1242.64 1556.99 Q1242.64 1554.87 1244.25 1553.03 Q1245.89 1551.2 1248.72 1550.39 Q1245.83 1548.56 1245.83 1544.53 Q1245.83 1541.44 1247.85 1539.06 Q1244.76 1536.48 1244.76 1532.26 Q1244.76 1528.36 1247.85 1525.5 Q1250.95 1522.63 1255.45 1522.63 Q1259.42 1522.63 1262.44 1525.01 Q1265.6 1521.92 1269.43 1521.89 Q1271.14 1521.89 1271.94 1522.95 Q1272.78 1524.02 1272.78 1525.14 Q1272.78 1526.14 1272.14 1526.62 Q1271.53 1527.11 1270.88 1527.11 Q1270.08 1527.11 1269.5 1526.59 Q1268.95 1526.04 1268.95 1525.21 Q1268.95 1523.82 1270.01 1523.4 Q1269.82 1523.34 1269.37 1523.34 Q1266.15 1523.34 1263.41 1525.92 Q1266.12 1528.43 1266.12 1532.32 Q1266.12 1536.22 1263.02 1539.09 Q1259.93 1541.95 1255.45 1541.95 Q1251.75 1541.95 1248.92 1539.89 Q1247.79 1541.21 1247.79 1543.02 Q1247.79 1544.66 1248.79 1545.95 Q1249.79 1547.24 1251.3 1547.43 Q1251.75 1547.49 1256.23 1547.49 Q1258.87 1547.49 1260.32 1547.56 Q1261.77 1547.62 1263.83 1548.07 Q1265.92 1548.49 1267.56 1549.33 Q1271.85 1551.71 1271.88 1556.87 Q1271.88 1560.63 1267.53 1562.98 Q1263.22 1565.37 1257.23 1565.37 Q1251.17 1565.37 1246.89 1562.95 Q1242.64 1560.57 1242.64 1556.99 M1246.08 1556.99 Q1246.08 1559.7 1249.27 1561.76 Q1252.46 1563.85 1257.29 1563.85 Q1262.02 1563.85 1265.21 1561.79 Q1268.43 1559.76 1268.43 1556.99 Q1268.43 1555.03 1267.31 1553.77 Q1266.18 1552.52 1263.86 1552 Q1261.57 1551.52 1259.96 1551.42 Q1258.35 1551.33 1255.39 1551.33 L1251.49 1551.33 Q1249.24 1551.45 1247.66 1553.1 Q1246.08 1554.74 1246.08 1556.99 M1249.69 1532.32 Q1249.69 1540.44 1255.45 1540.44 Q1258.35 1540.44 1260.12 1537.8 Q1261.19 1536.03 1261.19 1532.26 Q1261.19 1524.14 1255.45 1524.14 Q1252.56 1524.14 1250.75 1526.78 Q1249.69 1528.56 1249.69 1532.32 Z\" fill=\"#000000\" fill-rule=\"nonzero\" fill-opacity=\"1\" /><path clip-path=\"url(#clip980)\" d=\"M1290.19 1583.52 Q1290.19 1582.69 1290.25 1582.44 Q1290.34 1582.19 1290.7 1581.81 L1299.56 1571.93 Q1304.41 1566.48 1304.41 1561.72 Q1304.41 1558.63 1302.79 1556.42 Q1301.19 1554.21 1298.23 1554.21 Q1296.2 1554.21 1294.49 1555.45 Q1292.78 1556.69 1291.99 1558.9 Q1292.12 1558.86 1292.6 1558.86 Q1293.75 1558.86 1294.38 1559.58 Q1295.03 1560.3 1295.03 1561.27 Q1295.03 1562.51 1294.22 1563.12 Q1293.43 1563.71 1292.64 1563.71 Q1292.33 1563.71 1291.9 1563.64 Q1291.49 1563.57 1290.84 1562.94 Q1290.19 1562.29 1290.19 1561.14 Q1290.19 1557.91 1292.62 1555.34 Q1295.08 1552.77 1298.82 1552.77 Q1303.06 1552.77 1305.83 1555.3 Q1308.63 1557.8 1308.63 1561.72 Q1308.63 1563.1 1308.2 1564.36 Q1307.79 1565.6 1307.23 1566.57 Q1306.69 1567.54 1305.2 1569.09 Q1303.71 1570.65 1302.52 1571.75 Q1301.32 1572.86 1298.64 1575.2 L1293.75 1579.96 L1302.07 1579.96 Q1306.12 1579.96 1306.44 1579.6 Q1306.89 1578.95 1307.45 1575.5 L1308.63 1575.5 L1307.32 1583.52 L1290.19 1583.52 Z\" fill=\"#000000\" fill-rule=\"nonzero\" fill-opacity=\"1\" /><path clip-path=\"url(#clip980)\" d=\"M1315.48 1535.29 Q1315.48 1524.14 1319.63 1515.16 Q1321.41 1511.39 1323.89 1508.23 Q1326.37 1505.08 1328.01 1503.69 Q1329.65 1502.31 1330.1 1502.31 Q1330.75 1502.31 1330.78 1502.95 Q1330.78 1503.27 1329.91 1504.08 Q1319.28 1514.9 1319.31 1535.29 Q1319.31 1555.74 1329.65 1566.14 Q1330.78 1567.27 1330.78 1567.62 Q1330.78 1568.27 1330.1 1568.27 Q1329.65 1568.27 1328.07 1566.95 Q1326.49 1565.63 1324.05 1562.6 Q1321.6 1559.57 1319.83 1555.87 Q1315.48 1546.88 1315.48 1535.29 Z\" fill=\"#000000\" fill-rule=\"nonzero\" fill-opacity=\"1\" /><path clip-path=\"url(#clip980)\" d=\"M1392.37 1507.46 Q1392.37 1508.78 1391.24 1508.78 Q1387.6 1508.91 1386.12 1510.13 Q1384.67 1511.33 1384.13 1513.64 L1374.91 1550.39 Q1374.59 1551.55 1374.4 1551.68 Q1374.21 1551.78 1373.85 1551.78 Q1373.4 1551.78 1373.14 1551.55 Q1372.92 1551.33 1372.6 1550.52 L1356.17 1511.68 Q1356.04 1511.42 1355.88 1511.07 Q1355.72 1510.71 1355.59 1510.49 L1346.86 1545.3 Q1346.61 1546.3 1346.61 1546.82 Q1346.61 1548.07 1347.48 1548.88 Q1348.38 1549.65 1350.95 1549.75 Q1352.27 1549.75 1352.27 1550.46 Q1352.27 1551.78 1351.08 1551.78 Q1349.99 1551.78 1347.7 1551.68 Q1345.41 1551.58 1344.29 1551.58 Q1343.19 1551.58 1340.97 1551.68 Q1338.75 1551.78 1337.68 1551.78 Q1336.85 1551.78 1336.85 1551.04 Q1336.85 1550.46 1337.07 1550.17 Q1337.3 1549.84 1337.49 1549.81 Q1337.68 1549.75 1337.97 1549.75 Q1339.91 1549.68 1341.23 1549.3 Q1342.55 1548.91 1343.29 1548.17 Q1344.06 1547.43 1344.42 1546.69 Q1344.8 1545.92 1345.09 1544.79 L1353.92 1509.36 Q1353.92 1508.78 1349.44 1508.78 Q1348.67 1508.78 1348.34 1508.75 Q1348.05 1508.72 1347.83 1508.56 Q1347.6 1508.4 1347.6 1508.04 Q1347.6 1507.14 1347.99 1506.95 Q1348.38 1506.72 1349.5 1506.72 L1358.36 1506.72 Q1359.49 1506.72 1359.78 1506.91 Q1360.07 1507.07 1360.45 1507.98 L1375.04 1542.4 L1382.42 1513.07 Q1382.61 1512.49 1382.61 1511.68 Q1382.61 1510.39 1381.65 1509.62 Q1380.71 1508.81 1378.14 1508.78 Q1376.94 1508.78 1376.94 1508.04 Q1376.94 1507.43 1377.17 1507.14 Q1377.43 1506.82 1377.62 1506.79 Q1377.85 1506.72 1378.14 1506.72 Q1379.23 1506.72 1381.48 1506.82 Q1383.74 1506.91 1384.87 1506.91 Q1385.96 1506.91 1388.18 1506.82 Q1390.44 1506.72 1391.53 1506.72 Q1391.92 1506.72 1392.11 1506.91 Q1392.34 1507.07 1392.37 1507.27 L1392.37 1507.46 Z\" fill=\"#000000\" fill-rule=\"nonzero\" fill-opacity=\"1\" /><path clip-path=\"url(#clip980)\" d=\"M1396.42 1567.62 Q1396.42 1567.3 1397.25 1566.49 Q1407.88 1555.67 1407.88 1535.29 Q1407.88 1514.84 1397.67 1504.5 Q1396.42 1503.31 1396.42 1502.95 Q1396.42 1502.31 1397.06 1502.31 Q1397.51 1502.31 1399.09 1503.63 Q1400.7 1504.95 1403.12 1507.98 Q1405.56 1511 1407.37 1514.71 Q1411.71 1523.69 1411.71 1535.29 Q1411.71 1546.43 1407.56 1555.42 Q1405.79 1559.18 1403.31 1562.34 Q1400.83 1565.5 1399.19 1566.88 Q1397.54 1568.27 1397.06 1568.27 Q1396.42 1568.27 1396.42 1567.62 Z\" fill=\"#000000\" fill-rule=\"nonzero\" fill-opacity=\"1\" /><polyline clip-path=\"url(#clip980)\" style=\"stroke:#000000; stroke-linecap:round; stroke-linejoin:round; stroke-width:4; stroke-opacity:1; fill:none\" points=\"253.294,1404.59 253.294,323.614 \"/>\n",
       "<polyline clip-path=\"url(#clip980)\" style=\"stroke:#000000; stroke-linecap:round; stroke-linejoin:round; stroke-width:4; stroke-opacity:1; fill:none\" points=\"253.294,1008.12 272.192,1008.12 \"/>\n",
       "<polyline clip-path=\"url(#clip980)\" style=\"stroke:#000000; stroke-linecap:round; stroke-linejoin:round; stroke-width:4; stroke-opacity:1; fill:none\" points=\"253.294,518.659 272.192,518.659 \"/>\n",
       "<path clip-path=\"url(#clip980)\" d=\"M126.195 1027.91 L142.515 1027.91 L142.515 1031.85 L120.57 1031.85 L120.57 1027.91 Q123.232 1025.16 127.816 1020.53 Q132.422 1015.88 133.603 1014.53 Q135.848 1012.01 136.728 1010.27 Q137.63 1008.51 137.63 1006.82 Q137.63 1004.07 135.686 1002.33 Q133.765 1000.6 130.663 1000.6 Q128.464 1000.6 126.01 1001.36 Q123.58 1002.13 120.802 1003.68 L120.802 998.955 Q123.626 997.82 126.08 997.242 Q128.533 996.663 130.57 996.663 Q135.941 996.663 139.135 999.348 Q142.33 1002.03 142.33 1006.52 Q142.33 1008.65 141.519 1010.57 Q140.732 1012.47 138.626 1015.07 Q138.047 1015.74 134.945 1018.95 Q131.843 1022.15 126.195 1027.91 Z\" fill=\"#000000\" fill-rule=\"nonzero\" fill-opacity=\"1\" /><path clip-path=\"url(#clip980)\" d=\"M142.515 990.764 L166.626 990.764 L166.626 993.962 L142.515 993.962 L142.515 990.764 Z\" fill=\"#000000\" fill-rule=\"nonzero\" fill-opacity=\"1\" /><path clip-path=\"url(#clip980)\" d=\"M175.485 1001.24 L181.691 1001.24 L181.691 979.818 L174.939 981.172 L174.939 977.712 L181.654 976.357 L185.453 976.357 L185.453 1001.24 L191.659 1001.24 L191.659 1004.44 L175.485 1004.44 L175.485 1001.24 Z\" fill=\"#000000\" fill-rule=\"nonzero\" fill-opacity=\"1\" /><path clip-path=\"url(#clip980)\" d=\"M207.928 988.883 Q205.37 988.883 203.866 990.633 Q202.38 992.382 202.38 995.429 Q202.38 998.457 203.866 1000.22 Q205.37 1001.97 207.928 1001.97 Q210.486 1001.97 211.972 1000.22 Q213.476 998.457 213.476 995.429 Q213.476 992.382 211.972 990.633 Q210.486 988.883 207.928 988.883 M215.47 976.978 L215.47 980.439 Q214.041 979.762 212.574 979.404 Q211.125 979.047 209.696 979.047 Q205.934 979.047 203.941 981.586 Q201.966 984.125 201.684 989.26 Q202.794 987.623 204.467 986.758 Q206.141 985.874 208.154 985.874 Q212.386 985.874 214.831 988.451 Q217.294 991.009 217.294 995.429 Q217.294 999.754 214.737 1002.37 Q212.179 1004.98 207.928 1004.98 Q203.057 1004.98 200.48 1001.26 Q197.904 997.516 197.904 990.426 Q197.904 983.768 201.063 979.818 Q204.223 975.85 209.546 975.85 Q210.975 975.85 212.423 976.132 Q213.89 976.414 215.47 976.978 Z\" fill=\"#000000\" fill-rule=\"nonzero\" fill-opacity=\"1\" /><path clip-path=\"url(#clip980)\" d=\"M127.625 538.451 L143.944 538.451 L143.944 542.386 L122 542.386 L122 538.451 Q124.662 535.696 129.245 531.067 Q133.852 526.414 135.032 525.071 Q137.277 522.548 138.157 520.812 Q139.06 519.053 139.06 517.363 Q139.06 514.609 137.115 512.872 Q135.194 511.136 132.092 511.136 Q129.893 511.136 127.44 511.9 Q125.009 512.664 122.231 514.215 L122.231 509.493 Q125.055 508.359 127.509 507.78 Q129.963 507.201 132 507.201 Q137.37 507.201 140.564 509.886 Q143.759 512.571 143.759 517.062 Q143.759 519.192 142.949 521.113 Q142.162 523.011 140.055 525.604 Q139.477 526.275 136.375 529.493 Q133.273 532.687 127.625 538.451 Z\" fill=\"#000000\" fill-rule=\"nonzero\" fill-opacity=\"1\" /><path clip-path=\"url(#clip980)\" d=\"M143.944 501.302 L168.056 501.302 L168.056 504.5 L143.944 504.5 L143.944 501.302 Z\" fill=\"#000000\" fill-rule=\"nonzero\" fill-opacity=\"1\" /><path clip-path=\"url(#clip980)\" d=\"M176.914 511.778 L183.121 511.778 L183.121 490.356 L176.369 491.711 L176.369 488.25 L183.083 486.896 L186.882 486.896 L186.882 511.778 L193.089 511.778 L193.089 514.976 L176.914 514.976 L176.914 511.778 Z\" fill=\"#000000\" fill-rule=\"nonzero\" fill-opacity=\"1\" /><path clip-path=\"url(#clip980)\" d=\"M204.035 511.778 L217.294 511.778 L217.294 514.976 L199.465 514.976 L199.465 511.778 Q201.628 509.54 205.351 505.779 Q209.094 501.998 210.053 500.908 Q211.878 498.857 212.592 497.447 Q213.326 496.017 213.326 494.645 Q213.326 492.406 211.746 490.996 Q210.185 489.585 207.665 489.585 Q205.878 489.585 203.884 490.206 Q201.91 490.827 199.653 492.087 L199.653 488.25 Q201.947 487.328 203.941 486.858 Q205.934 486.388 207.59 486.388 Q211.953 486.388 214.548 488.57 Q217.144 490.751 217.144 494.4 Q217.144 496.13 216.486 497.691 Q215.846 499.234 214.135 501.34 Q213.664 501.886 211.144 504.5 Q208.624 507.095 204.035 511.778 Z\" fill=\"#000000\" fill-rule=\"nonzero\" fill-opacity=\"1\" /><path clip-path=\"url(#clip980)\" d=\"M60.8996 1046.45 L58.8706 1046.45 Q58.8706 1042.94 58.4519 1042.13 Q58.0011 1041.33 55.8755 1041.33 L21.5762 1041.33 Q19.1286 1041.33 18.5167 1042.2 Q17.9048 1043.03 17.9048 1046.45 L15.8436 1046.45 L15.1351 1036.98 L55.8755 1036.98 Q58.0011 1036.98 58.4519 1036.14 Q58.8706 1035.3 58.8706 1031.82 L60.8996 1031.82 Q60.8996 1032.63 60.8352 1034.3 Q60.7708 1035.98 60.7386 1037.2 Q60.7063 1038.43 60.7063 1039.14 Q60.7063 1039.91 60.8996 1046.45 Z\" fill=\"#000000\" fill-rule=\"nonzero\" fill-opacity=\"1\" /><path clip-path=\"url(#clip980)\" d=\"M57.3569 1021.9 Q53.0414 1026.25 46.7934 1026.25 Q40.5133 1026.25 35.94 1022 Q31.3346 1017.71 31.3346 1011.59 Q31.3346 1005.6 35.9078 1001.32 Q40.4489 997.005 46.7934 997.005 Q53.0091 997.005 57.3247 1001.35 Q61.6403 1005.67 61.6403 1011.66 Q61.6403 1017.52 57.3569 1021.9 M46.2459 1020.77 Q52.6549 1020.77 55.5534 1019.1 Q59.9656 1016.52 59.9656 1011.59 Q59.9656 1009.15 58.6452 1007.12 Q57.3247 1005.06 55.1025 1003.93 Q52.204 1002.48 46.2459 1002.48 Q39.9014 1002.48 37.0995 1004.22 Q32.8161 1006.8 32.8161 1011.66 Q32.8161 1013.78 33.9433 1015.88 Q35.0383 1017.94 37.2283 1019.19 Q40.1268 1020.77 46.2459 1020.77 Z\" fill=\"#000000\" fill-rule=\"nonzero\" fill-opacity=\"1\" /><path clip-path=\"url(#clip980)\" d=\"M66.1169 995.96 Q63.9913 995.96 62.1556 994.35 Q60.3199 992.707 59.5147 989.873 Q57.679 992.771 53.6533 992.771 Q50.5615 992.771 48.1783 990.742 Q45.6018 993.834 41.3828 993.834 Q37.4859 993.834 34.6196 990.742 Q31.7533 987.651 31.7533 983.142 Q31.7533 979.181 34.1365 976.153 Q31.0448 972.997 31.0125 969.165 Q31.0125 967.458 32.0753 966.653 Q33.1381 965.815 34.2653 965.815 Q35.2637 965.815 35.7468 966.459 Q36.2299 967.071 36.2299 967.715 Q36.2299 968.52 35.7146 969.1 Q35.1671 969.648 34.3297 969.648 Q32.9449 969.648 32.5262 968.585 Q32.4618 968.778 32.4618 969.229 Q32.4618 972.45 35.0383 975.187 Q37.5503 972.482 41.4472 972.482 Q45.3442 972.482 48.2105 975.574 Q51.0768 978.665 51.0768 983.142 Q51.0768 986.846 49.0156 989.68 Q50.3361 990.807 52.1396 990.807 Q53.7821 990.807 55.0703 989.809 Q56.3586 988.81 56.5518 987.296 Q56.6162 986.846 56.6162 982.369 Q56.6162 979.728 56.6806 978.279 Q56.745 976.83 57.1959 974.768 Q57.6146 972.675 58.4519 971.032 Q60.8352 966.749 65.9881 966.717 Q69.7562 966.717 72.1072 971.065 Q74.4905 975.38 74.4905 981.371 Q74.4905 987.425 72.075 991.709 Q69.6918 995.96 66.1169 995.96 M66.1169 992.514 Q68.8222 992.514 70.8834 989.325 Q72.9768 986.137 72.9768 981.306 Q72.9768 976.572 70.9156 973.384 Q68.8866 970.163 66.1169 970.163 Q64.1524 970.163 62.8963 971.29 Q61.6403 972.417 61.125 974.736 Q60.6419 977.023 60.5453 978.633 Q60.4487 980.243 60.4487 983.206 L60.4487 987.103 Q60.5775 989.358 62.22 990.936 Q63.8625 992.514 66.1169 992.514 M41.4472 988.907 Q49.5631 988.907 49.5631 983.142 Q49.5631 980.243 46.9222 978.472 Q45.1509 977.409 41.3828 977.409 Q33.267 977.409 33.267 983.142 Q33.267 986.04 35.9078 987.844 Q37.6792 988.907 41.4472 988.907 Z\" fill=\"#000000\" fill-rule=\"nonzero\" fill-opacity=\"1\" /><path clip-path=\"url(#clip980)\" d=\"M92.6449 948.412 Q91.8108 948.412 91.5628 948.344 Q91.3148 948.254 90.9315 947.893 L81.0572 939.033 Q75.6016 934.186 70.8447 934.186 Q67.7562 934.186 65.5469 935.81 Q63.3376 937.41 63.3376 940.364 Q63.3376 942.393 64.5775 944.106 Q65.8174 945.819 68.0267 946.608 Q67.9816 946.473 67.9816 946 Q67.9816 944.85 68.7031 944.219 Q69.4245 943.565 70.3939 943.565 Q71.6338 943.565 72.2425 944.376 Q72.8286 945.165 72.8286 945.954 Q72.8286 946.27 72.761 946.698 Q72.6934 947.104 72.0621 947.758 Q71.4084 948.412 70.2586 948.412 Q67.0348 948.412 64.4648 945.977 Q61.8947 943.52 61.8947 939.777 Q61.8947 935.539 64.4197 932.766 Q66.9221 929.971 70.8447 929.971 Q72.2199 929.971 73.4824 930.399 Q74.7223 930.805 75.6917 931.368 Q76.6611 931.91 78.2167 933.397 Q79.7722 934.885 80.8769 936.08 Q81.9815 937.275 84.3261 939.958 L89.0829 944.85 L89.0829 936.531 Q89.0829 932.473 88.7222 932.157 Q88.0684 931.707 84.6192 931.143 L84.6192 929.971 L92.6449 931.278 L92.6449 948.412 Z\" fill=\"#000000\" fill-rule=\"nonzero\" fill-opacity=\"1\" /><path clip-path=\"url(#clip980)\" d=\"M44.4102 923.117 Q33.267 923.117 24.2815 918.963 Q20.5134 917.191 17.3573 914.711 Q14.2011 912.232 12.8162 910.589 Q11.4314 908.947 11.4314 908.496 Q11.4314 907.852 12.0755 907.819 Q12.3976 907.819 13.2027 908.689 Q24.0239 919.317 44.4102 919.285 Q64.8609 919.285 75.2634 908.947 Q76.3906 907.819 76.7449 907.819 Q77.389 907.819 77.389 908.496 Q77.389 908.947 76.0685 910.525 Q74.7481 912.103 71.7208 914.55 Q68.6934 916.998 64.9897 918.769 Q56.0043 923.117 44.4102 923.117 Z\" fill=\"#000000\" fill-rule=\"nonzero\" fill-opacity=\"1\" /><path clip-path=\"url(#clip980)\" d=\"M60.8996 897.79 L58.8706 897.79 L58.8706 896.212 Q58.8706 892.637 58.2909 891.832 Q57.679 890.994 55.7466 890.994 L20.9965 890.994 Q19.0964 890.994 18.5167 891.832 Q17.9048 892.669 17.9048 896.212 L17.9048 897.79 L15.8436 897.79 L15.8436 877.081 Q15.8436 869.899 19.3862 864.908 Q22.8967 859.883 27.7275 859.883 Q31.4312 859.883 34.3297 863.136 Q37.2283 866.389 38.4843 871.413 Q40.7387 864.875 46.1171 863.362 L51.3989 862.524 Q53.299 862.267 54.2652 862.106 Q55.2314 861.912 56.5518 861.623 Q57.8722 861.333 58.5164 861.043 Q59.1283 860.721 59.8046 860.27 Q60.4487 859.819 60.6741 859.239 Q60.8996 858.627 60.8996 857.822 Q60.8996 856.309 59.5469 855.02 Q58.1943 853.732 55.0381 853.474 Q53.9753 853.346 53.9753 852.669 Q53.9753 851.832 55.0381 851.832 Q55.9721 851.832 57.0671 852.09 Q58.1299 852.347 59.3859 852.991 Q60.6419 853.603 61.4793 854.956 Q62.3488 856.309 62.3488 858.08 Q62.3488 863.233 59.5791 866.389 Q58.3875 867.709 56.8416 868.321 Q55.2958 868.901 54.0719 868.998 Q52.8481 869.094 50.1428 869.094 Q46.3103 869.094 44.6356 869.513 Q42.9609 869.899 41.3184 871.606 Q39.064 873.925 39.064 877.758 L39.064 885.326 L55.7466 885.326 Q57.6468 885.326 58.2587 884.521 Q58.8706 883.684 58.8706 880.109 L58.8706 878.531 L60.8996 878.531 Q60.7063 880.914 60.7063 888.16 Q60.7063 895.406 60.8996 897.79 M37.6147 885.326 L37.6147 878.015 Q37.6147 874.505 36.7774 872.154 Q35.9078 869.771 34.362 868.643 Q32.8161 867.516 31.2702 867.098 Q29.6921 866.679 27.7275 866.679 Q25.4087 866.679 23.6696 867.194 Q21.9305 867.709 20.8999 868.837 Q19.8693 869.964 19.2252 871.091 Q18.5489 872.218 18.2912 873.957 Q18.0336 875.696 17.9692 876.888 Q17.9048 878.08 17.9048 879.98 Q17.9048 883.2 18.0336 883.877 Q18.098 884.618 18.4523 884.907 Q18.8065 885.197 19.2252 885.262 Q19.6117 885.326 20.5456 885.326 L37.6147 885.326 Z\" fill=\"#000000\" fill-rule=\"nonzero\" fill-opacity=\"1\" /><path clip-path=\"url(#clip980)\" d=\"M60.8996 849.983 L58.8706 849.983 Q58.8706 847.599 58.4197 846.086 Q57.9366 844.572 57.0671 844.025 Q56.1653 843.445 55.5856 843.316 Q54.9737 843.187 53.9753 843.187 L20.9965 843.187 Q19.0964 843.187 18.5167 844.025 Q17.9048 844.83 17.9048 848.405 L17.9048 849.983 L15.8436 849.983 L15.8436 838.839 Q15.8436 837.648 16.069 837.326 Q16.2623 837.004 17.2928 836.521 L54.233 822.221 L17.0996 807.793 Q16.1656 807.471 16.0046 807.181 Q15.8436 806.859 15.8436 805.603 L15.8436 794.46 L17.9048 794.46 L17.9048 796.038 Q17.9048 799.613 18.5167 800.45 Q19.0964 801.255 20.9965 801.255 L55.7466 801.255 Q57.6468 801.255 58.2587 800.45 Q58.8706 799.613 58.8706 796.038 L58.8706 794.46 L60.8996 794.46 Q60.7063 796.907 60.7063 803.896 Q60.7063 810.949 60.8996 813.397 L58.8706 813.397 L58.8706 811.787 Q58.8706 808.212 58.2909 807.407 Q57.679 806.601 55.7466 806.601 L17.9048 806.601 L17.9048 806.666 L59.6436 822.865 Q60.8996 823.316 60.8996 824.057 Q60.8996 824.862 59.4503 825.377 L18.4201 841.287 L18.4201 841.351 L53.9753 841.351 Q54.9737 841.351 55.5856 841.223 Q56.1653 841.094 57.0671 840.546 Q57.9366 839.967 58.4197 838.453 Q58.8706 836.939 58.8706 834.556 L60.8996 834.556 Q60.7063 841.48 60.7063 842.285 Q60.7063 843.058 60.8996 849.983 Z\" fill=\"#000000\" fill-rule=\"nonzero\" fill-opacity=\"1\" /><path clip-path=\"url(#clip980)\" d=\"M60.7708 783.837 L47.5664 783.837 Q46.8256 783.837 46.568 783.805 Q46.3103 783.773 46.1171 783.579 Q45.9239 783.386 45.9239 783 Q45.9239 782.259 46.6002 782.194 Q53.138 782.001 56.745 778.104 Q60.3199 774.272 60.3199 767.702 Q60.3199 763.741 57.4858 761.293 Q54.6194 758.845 50.8836 758.845 Q47.3087 758.845 44.7967 760.906 Q43.6694 761.776 42.9609 762.871 Q42.2202 763.934 41.9947 764.61 Q41.7693 765.254 41.4472 766.51 Q39.4827 774.691 39.2572 775.206 Q37.9368 779.103 34.6196 781.486 Q31.2702 783.837 27.18 783.837 Q21.8983 783.837 18.1624 780.133 Q14.3943 776.397 14.3943 770.987 Q14.3943 768.282 15.2639 766.027 Q16.1012 763.741 16.8742 762.807 Q17.6471 761.873 19.032 760.423 L15.2639 758.137 Q14.3943 757.621 14.3943 757.138 Q14.3943 756.623 14.7164 756.526 Q15.0062 756.398 15.9724 756.398 L29.2412 756.398 Q29.982 756.398 30.2396 756.43 Q30.4973 756.462 30.6583 756.687 Q30.8193 756.881 30.8193 757.267 Q30.8193 757.911 30.0464 758.072 Q16.2623 759.908 16.2623 770.922 Q16.2623 774.691 18.8065 777.17 Q21.3186 779.618 24.8934 779.618 Q27.792 779.618 30.1752 777.814 Q32.5262 776.011 33.267 772.951 L35.2959 764.513 Q36.2943 760.295 40.0302 757.46 Q43.7661 754.626 48.6292 754.626 Q54.233 754.626 58.2909 758.298 Q62.3488 761.937 62.3488 767.637 Q62.3488 771.728 60.9962 774.884 Q59.6436 778.04 57.7434 779.747 Q59.9334 781.067 61.1572 781.937 L61.4793 782.13 Q62.3488 782.645 62.3488 783.128 Q62.3488 783.644 62.0268 783.74 Q61.7047 783.837 60.7708 783.837 Z\" fill=\"#000000\" fill-rule=\"nonzero\" fill-opacity=\"1\" /><path clip-path=\"url(#clip980)\" d=\"M60.8996 743.64 L58.8706 743.64 L58.8706 742.062 Q58.8706 738.487 58.2909 737.682 Q57.679 736.845 55.7466 736.845 L21.1898 736.845 Q19.2896 736.845 18.7099 737.682 Q18.098 738.52 18.098 742.062 L18.098 743.64 L16.0368 743.64 L16.0368 706.507 L30.8837 704.671 L30.8837 706.314 Q27.1156 706.765 24.9578 707.376 Q22.7678 707.956 21.0931 709.405 Q19.4184 710.823 18.7743 713.174 Q18.098 715.492 18.098 719.26 L18.098 727.763 Q18.098 730.017 18.5811 730.5 Q19.032 730.983 20.7389 730.983 L36.552 730.983 L36.552 725.058 Q36.552 720.516 34.9739 719.228 Q33.3958 717.94 28.8548 717.94 L28.8548 716.265 L46.3103 716.265 L46.3103 717.94 Q41.8337 717.94 40.2234 719.228 Q38.6131 720.516 38.6131 725.058 L38.6131 730.983 L56.2297 730.983 Q57.9366 730.983 58.4197 730.5 Q58.8706 729.985 58.8706 727.763 L58.8706 718.971 Q58.8706 716.136 58.5164 714.075 Q58.1299 711.982 57.2281 710.533 Q56.2941 709.083 55.2314 708.117 Q54.1686 707.119 52.2684 706.443 Q50.3361 705.734 48.5647 705.348 Q46.7934 704.929 43.8949 704.478 L43.8949 702.835 L60.8996 705.605 L60.8996 743.64 Z\" fill=\"#000000\" fill-rule=\"nonzero\" fill-opacity=\"1\" /><path clip-path=\"url(#clip980)\" d=\"M76.7449 699.238 Q76.4228 699.238 75.6177 698.4 Q64.7965 687.772 44.4102 687.772 Q23.9595 687.772 13.6214 697.982 Q12.4298 699.238 12.0755 699.238 Q11.4314 699.238 11.4314 698.593 Q11.4314 698.143 12.7518 696.565 Q14.0723 694.954 17.0996 692.539 Q20.127 690.091 23.8306 688.288 Q32.8161 683.94 44.4102 683.94 Q55.5534 683.94 64.5388 688.094 Q68.3069 689.866 71.4631 692.346 Q74.6193 694.825 76.0041 696.468 Q77.389 698.11 77.389 698.593 Q77.389 699.238 76.7449 699.238 Z\" fill=\"#000000\" fill-rule=\"nonzero\" fill-opacity=\"1\" /><path clip-path=\"url(#clip980)\" d=\"M825.849 44.2197 Q828.482 45.1109 830.953 48.0275 Q833.465 50.9442 835.976 56.0483 L844.28 72.576 L835.49 72.576 L827.753 57.061 Q824.755 50.9847 821.92 48.9997 Q819.124 47.0148 814.263 47.0148 L805.351 47.0148 L805.351 72.576 L797.168 72.576 L797.168 12.096 L815.641 12.096 Q826.011 12.096 831.115 16.4305 Q836.219 20.7649 836.219 29.5149 Q836.219 35.2267 833.546 38.994 Q830.913 42.7613 825.849 44.2197 M805.351 18.8205 L805.351 40.2903 L815.641 40.2903 Q821.555 40.2903 824.553 37.5762 Q827.591 34.8216 827.591 29.5149 Q827.591 24.2082 824.553 21.5346 Q821.555 18.8205 815.641 18.8205 L805.351 18.8205 Z\" fill=\"#000000\" fill-rule=\"nonzero\" fill-opacity=\"1\" /><path clip-path=\"url(#clip980)\" d=\"M854.813 12.096 L867.006 12.096 L882.44 53.2532 L897.955 12.096 L910.148 12.096 L910.148 72.576 L902.168 72.576 L902.168 19.4686 L886.572 60.9499 L878.349 60.9499 L862.753 19.4686 L862.753 72.576 L854.813 72.576 L854.813 12.096 Z\" fill=\"#000000\" fill-rule=\"nonzero\" fill-opacity=\"1\" /><path clip-path=\"url(#clip980)\" d=\"M962.648 14.0809 L962.648 22.0612 Q957.989 19.8332 953.857 18.7395 Q949.726 17.6457 945.877 17.6457 Q939.193 17.6457 935.547 20.2383 Q931.942 22.8309 931.942 27.611 Q931.942 31.6214 934.332 33.6873 Q936.763 35.7128 943.487 36.9686 L948.429 37.9813 Q957.584 39.7232 961.919 44.1387 Q966.294 48.5136 966.294 55.8863 Q966.294 64.6767 960.379 69.2137 Q954.506 73.7508 943.123 73.7508 Q938.829 73.7508 933.968 72.7785 Q929.147 71.8063 923.962 69.9024 L923.962 61.4765 Q928.944 64.2716 933.724 65.6895 Q938.505 67.1073 943.123 67.1073 Q950.131 67.1073 953.938 64.3527 Q957.746 61.598 957.746 56.4939 Q957.746 52.0379 954.992 49.5264 Q952.278 47.0148 946.039 45.759 L941.057 44.7868 Q931.902 42.9639 927.81 39.075 Q923.719 35.1862 923.719 28.2591 Q923.719 20.2383 929.349 15.6203 Q935.021 11.0023 944.945 11.0023 Q949.199 11.0023 953.614 11.7719 Q958.03 12.5416 962.648 14.0809 Z\" fill=\"#000000\" fill-rule=\"nonzero\" fill-opacity=\"1\" /><path clip-path=\"url(#clip980)\" d=\"M979.054 12.096 L1017.29 12.096 L1017.29 18.9825 L987.237 18.9825 L987.237 36.8875 L1016.04 36.8875 L1016.04 43.7741 L987.237 43.7741 L987.237 65.6895 L1018.02 65.6895 L1018.02 72.576 L979.054 72.576 L979.054 12.096 Z\" fill=\"#000000\" fill-rule=\"nonzero\" fill-opacity=\"1\" /><path clip-path=\"url(#clip980)\" d=\"M1103.13 16.7545 L1103.13 25.383 Q1099 21.5346 1094.3 19.6307 Q1089.64 17.7268 1084.38 17.7268 Q1074.01 17.7268 1068.5 24.0867 Q1062.99 30.4061 1062.99 42.3968 Q1062.99 54.3469 1068.5 60.7069 Q1074.01 67.0263 1084.38 67.0263 Q1089.64 67.0263 1094.3 65.1223 Q1099 63.2184 1103.13 59.3701 L1103.13 67.9175 Q1098.84 70.8341 1094.02 72.2924 Q1089.24 73.7508 1083.89 73.7508 Q1070.16 73.7508 1062.26 65.3654 Q1054.36 56.9395 1054.36 42.3968 Q1054.36 27.8135 1062.26 19.4281 Q1070.16 11.0023 1083.89 11.0023 Q1089.32 11.0023 1094.1 12.4606 Q1098.92 13.8784 1103.13 16.7545 Z\" fill=\"#000000\" fill-rule=\"nonzero\" fill-opacity=\"1\" /><path clip-path=\"url(#clip980)\" d=\"M1133.03 32.4315 Q1127.03 32.4315 1123.55 37.1306 Q1120.07 41.7891 1120.07 49.9314 Q1120.07 58.0738 1123.51 62.7728 Q1126.99 67.4314 1133.03 67.4314 Q1138.98 67.4314 1142.47 62.7323 Q1145.95 58.0333 1145.95 49.9314 Q1145.95 41.8701 1142.47 37.1711 Q1138.98 32.4315 1133.03 32.4315 M1133.03 26.1121 Q1142.75 26.1121 1148.3 32.4315 Q1153.85 38.7509 1153.85 49.9314 Q1153.85 61.0714 1148.3 67.4314 Q1142.75 73.7508 1133.03 73.7508 Q1123.27 73.7508 1117.72 67.4314 Q1112.21 61.0714 1112.21 49.9314 Q1112.21 38.7509 1117.72 32.4315 Q1123.27 26.1121 1133.03 26.1121 Z\" fill=\"#000000\" fill-rule=\"nonzero\" fill-opacity=\"1\" /><path clip-path=\"url(#clip980)\" d=\"M1203.92 45.1919 L1203.92 72.576 L1196.47 72.576 L1196.47 45.4349 Q1196.47 38.994 1193.95 35.7938 Q1191.44 32.5936 1186.42 32.5936 Q1180.38 32.5936 1176.9 36.4419 Q1173.42 40.2903 1173.42 46.9338 L1173.42 72.576 L1165.92 72.576 L1165.92 27.2059 L1173.42 27.2059 L1173.42 34.2544 Q1176.09 30.163 1179.7 28.1376 Q1183.34 26.1121 1188.08 26.1121 Q1195.9 26.1121 1199.91 30.9732 Q1203.92 35.7938 1203.92 45.1919 Z\" fill=\"#000000\" fill-rule=\"nonzero\" fill-opacity=\"1\" /><path clip-path=\"url(#clip980)\" d=\"M1213.44 27.2059 L1221.34 27.2059 L1235.52 65.2844 L1249.69 27.2059 L1257.59 27.2059 L1240.58 72.576 L1230.45 72.576 L1213.44 27.2059 Z\" fill=\"#000000\" fill-rule=\"nonzero\" fill-opacity=\"1\" /><path clip-path=\"url(#clip980)\" d=\"M1306.69 48.0275 L1306.69 51.6733 L1272.42 51.6733 Q1272.91 59.3701 1277.04 63.421 Q1281.21 67.4314 1288.62 67.4314 Q1292.92 67.4314 1296.93 66.3781 Q1300.98 65.3249 1304.95 63.2184 L1304.95 70.267 Q1300.94 71.9684 1296.73 72.8596 Q1292.51 73.7508 1288.18 73.7508 Q1277.32 73.7508 1270.96 67.4314 Q1264.64 61.1119 1264.64 50.3365 Q1264.64 39.1965 1270.64 32.6746 Q1276.67 26.1121 1286.88 26.1121 Q1296.04 26.1121 1301.34 32.0264 Q1306.69 37.9003 1306.69 48.0275 M1299.24 45.84 Q1299.16 39.7232 1295.79 36.0774 Q1292.47 32.4315 1286.96 32.4315 Q1280.72 32.4315 1276.96 35.9558 Q1273.23 39.4801 1272.66 45.8805 L1299.24 45.84 Z\" fill=\"#000000\" fill-rule=\"nonzero\" fill-opacity=\"1\" /><path clip-path=\"url(#clip980)\" d=\"M1345.22 34.1734 Q1343.96 33.4443 1342.46 33.1202 Q1341 32.7556 1339.22 32.7556 Q1332.9 32.7556 1329.5 36.8875 Q1326.14 40.9789 1326.14 48.6757 L1326.14 72.576 L1318.64 72.576 L1318.64 27.2059 L1326.14 27.2059 L1326.14 34.2544 Q1328.49 30.1225 1332.25 28.1376 Q1336.02 26.1121 1341.41 26.1121 Q1342.18 26.1121 1343.11 26.2337 Q1344.04 26.3147 1345.17 26.5172 L1345.22 34.1734 Z\" fill=\"#000000\" fill-rule=\"nonzero\" fill-opacity=\"1\" /><path clip-path=\"url(#clip980)\" d=\"M1381.43 49.3643 Q1381.43 41.2625 1378.07 36.8065 Q1374.75 32.3505 1368.71 32.3505 Q1362.72 32.3505 1359.35 36.8065 Q1356.03 41.2625 1356.03 49.3643 Q1356.03 57.4256 1359.35 61.8816 Q1362.72 66.3376 1368.71 66.3376 Q1374.75 66.3376 1378.07 61.8816 Q1381.43 57.4256 1381.43 49.3643 M1388.88 66.9452 Q1388.88 78.5308 1383.74 84.1616 Q1378.59 89.8329 1367.98 89.8329 Q1364.05 89.8329 1360.57 89.2252 Q1357.08 88.6581 1353.8 87.4428 L1353.8 80.1917 Q1357.08 81.9741 1360.28 82.8248 Q1363.48 83.6755 1366.81 83.6755 Q1374.14 83.6755 1377.78 79.8271 Q1381.43 76.0193 1381.43 68.282 L1381.43 64.5957 Q1379.12 68.6061 1375.52 70.5911 Q1371.91 72.576 1366.89 72.576 Q1358.54 72.576 1353.44 66.2161 Q1348.33 59.8562 1348.33 49.3643 Q1348.33 38.832 1353.44 32.472 Q1358.54 26.1121 1366.89 26.1121 Q1371.91 26.1121 1375.52 28.0971 Q1379.12 30.082 1381.43 34.0924 L1381.43 27.2059 L1388.88 27.2059 L1388.88 66.9452 Z\" fill=\"#000000\" fill-rule=\"nonzero\" fill-opacity=\"1\" /><path clip-path=\"url(#clip980)\" d=\"M1443.04 48.0275 L1443.04 51.6733 L1408.77 51.6733 Q1409.26 59.3701 1413.39 63.421 Q1417.56 67.4314 1424.98 67.4314 Q1429.27 67.4314 1433.28 66.3781 Q1437.33 65.3249 1441.3 63.2184 L1441.3 70.267 Q1437.29 71.9684 1433.08 72.8596 Q1428.87 73.7508 1424.53 73.7508 Q1413.68 73.7508 1407.32 67.4314 Q1401 61.1119 1401 50.3365 Q1401 39.1965 1406.99 32.6746 Q1413.03 26.1121 1423.24 26.1121 Q1432.39 26.1121 1437.7 32.0264 Q1443.04 37.9003 1443.04 48.0275 M1435.59 45.84 Q1435.51 39.7232 1432.15 36.0774 Q1428.83 32.4315 1423.32 32.4315 Q1417.08 32.4315 1413.31 35.9558 Q1409.58 39.4801 1409.02 45.8805 L1435.59 45.84 Z\" fill=\"#000000\" fill-rule=\"nonzero\" fill-opacity=\"1\" /><path clip-path=\"url(#clip980)\" d=\"M1492.99 45.1919 L1492.99 72.576 L1485.54 72.576 L1485.54 45.4349 Q1485.54 38.994 1483.03 35.7938 Q1480.52 32.5936 1475.49 32.5936 Q1469.46 32.5936 1465.97 36.4419 Q1462.49 40.2903 1462.49 46.9338 L1462.49 72.576 L1454.99 72.576 L1454.99 27.2059 L1462.49 27.2059 L1462.49 34.2544 Q1465.16 30.163 1468.77 28.1376 Q1472.41 26.1121 1477.15 26.1121 Q1484.97 26.1121 1488.98 30.9732 Q1492.99 35.7938 1492.99 45.1919 Z\" fill=\"#000000\" fill-rule=\"nonzero\" fill-opacity=\"1\" /><path clip-path=\"url(#clip980)\" d=\"M1540.51 28.9478 L1540.51 35.9153 Q1537.35 34.1734 1534.15 33.3227 Q1530.99 32.4315 1527.75 32.4315 Q1520.5 32.4315 1516.49 37.0496 Q1512.48 41.6271 1512.48 49.9314 Q1512.48 58.2358 1516.49 62.8538 Q1520.5 67.4314 1527.75 67.4314 Q1530.99 67.4314 1534.15 66.5807 Q1537.35 65.6895 1540.51 63.9476 L1540.51 70.8341 Q1537.39 72.2924 1534.03 73.0216 Q1530.71 73.7508 1526.94 73.7508 Q1516.69 73.7508 1510.65 67.3098 Q1504.62 60.8689 1504.62 49.9314 Q1504.62 38.832 1510.69 32.472 Q1516.81 26.1121 1527.42 26.1121 Q1530.87 26.1121 1534.15 26.8413 Q1537.43 27.5299 1540.51 28.9478 Z\" fill=\"#000000\" fill-rule=\"nonzero\" fill-opacity=\"1\" /><path clip-path=\"url(#clip980)\" d=\"M1592.28 48.0275 L1592.28 51.6733 L1558.01 51.6733 Q1558.5 59.3701 1562.63 63.421 Q1566.8 67.4314 1574.21 67.4314 Q1578.51 67.4314 1582.52 66.3781 Q1586.57 65.3249 1590.54 63.2184 L1590.54 70.267 Q1586.53 71.9684 1582.31 72.8596 Q1578.1 73.7508 1573.77 73.7508 Q1562.91 73.7508 1556.55 67.4314 Q1550.23 61.1119 1550.23 50.3365 Q1550.23 39.1965 1556.23 32.6746 Q1562.26 26.1121 1572.47 26.1121 Q1581.63 26.1121 1586.93 32.0264 Q1592.28 37.9003 1592.28 48.0275 M1584.83 45.84 Q1584.75 39.7232 1581.38 36.0774 Q1578.06 32.4315 1572.55 32.4315 Q1566.31 32.4315 1562.55 35.9558 Q1558.82 39.4801 1558.25 45.8805 L1584.83 45.84 Z\" fill=\"#000000\" fill-rule=\"nonzero\" fill-opacity=\"1\" /><path clip-path=\"url(#clip980)\" d=\"M1659.89 44.2197 Q1662.52 45.1109 1664.99 48.0275 Q1667.51 50.9442 1670.02 56.0483 L1678.32 72.576 L1669.53 72.576 L1661.79 57.061 Q1658.8 50.9847 1655.96 48.9997 Q1653.17 47.0148 1648.3 47.0148 L1639.39 47.0148 L1639.39 72.576 L1631.21 72.576 L1631.21 12.096 L1649.68 12.096 Q1660.05 12.096 1665.16 16.4305 Q1670.26 20.7649 1670.26 29.5149 Q1670.26 35.2267 1667.59 38.994 Q1664.95 42.7613 1659.89 44.2197 M1639.39 18.8205 L1639.39 40.2903 L1649.68 40.2903 Q1655.6 40.2903 1658.59 37.5762 Q1661.63 34.8216 1661.63 29.5149 Q1661.63 24.2082 1658.59 21.5346 Q1655.6 18.8205 1649.68 18.8205 L1639.39 18.8205 Z\" fill=\"#000000\" fill-rule=\"nonzero\" fill-opacity=\"1\" /><path clip-path=\"url(#clip980)\" d=\"M1707.33 49.7694 Q1698.29 49.7694 1694.81 51.8354 Q1691.32 53.9013 1691.32 58.8839 Q1691.32 62.8538 1693.92 65.2034 Q1696.55 67.5124 1701.05 67.5124 Q1707.24 67.5124 1710.97 63.1374 Q1714.74 58.7219 1714.74 51.4303 L1714.74 49.7694 L1707.33 49.7694 M1722.19 46.6907 L1722.19 72.576 L1714.74 72.576 L1714.74 65.6895 Q1712.19 69.8214 1708.38 71.8063 Q1704.57 73.7508 1699.06 73.7508 Q1692.09 73.7508 1687.96 69.8619 Q1683.87 65.9325 1683.87 59.3701 Q1683.87 51.7138 1688.98 47.825 Q1694.12 43.9361 1704.29 43.9361 L1714.74 43.9361 L1714.74 43.2069 Q1714.74 38.0623 1711.34 35.2672 Q1707.97 32.4315 1701.86 32.4315 Q1697.97 32.4315 1694.28 33.3632 Q1690.6 34.295 1687.19 36.1584 L1687.19 29.2718 Q1691.28 27.692 1695.13 26.9223 Q1698.98 26.1121 1702.63 26.1121 Q1712.47 26.1121 1717.33 31.2163 Q1722.19 36.3204 1722.19 46.6907 Z\" fill=\"#000000\" fill-rule=\"nonzero\" fill-opacity=\"1\" /><path clip-path=\"url(#clip980)\" d=\"M1744.92 14.324 L1744.92 27.2059 L1760.27 27.2059 L1760.27 32.9987 L1744.92 32.9987 L1744.92 57.6282 Q1744.92 63.1779 1746.42 64.7578 Q1747.96 66.3376 1752.61 66.3376 L1760.27 66.3376 L1760.27 72.576 L1752.61 72.576 Q1743.99 72.576 1740.71 69.3758 Q1737.42 66.1351 1737.42 57.6282 L1737.42 32.9987 L1731.96 32.9987 L1731.96 27.2059 L1737.42 27.2059 L1737.42 14.324 L1744.92 14.324 Z\" fill=\"#000000\" fill-rule=\"nonzero\" fill-opacity=\"1\" /><path clip-path=\"url(#clip980)\" d=\"M1808.88 48.0275 L1808.88 51.6733 L1774.61 51.6733 Q1775.1 59.3701 1779.23 63.421 Q1783.4 67.4314 1790.81 67.4314 Q1795.11 67.4314 1799.12 66.3781 Q1803.17 65.3249 1807.14 63.2184 L1807.14 70.267 Q1803.13 71.9684 1798.92 72.8596 Q1794.7 73.7508 1790.37 73.7508 Q1779.51 73.7508 1773.15 67.4314 Q1766.83 61.1119 1766.83 50.3365 Q1766.83 39.1965 1772.83 32.6746 Q1778.86 26.1121 1789.07 26.1121 Q1798.23 26.1121 1803.53 32.0264 Q1808.88 37.9003 1808.88 48.0275 M1801.43 45.84 Q1801.35 39.7232 1797.98 36.0774 Q1794.66 32.4315 1789.15 32.4315 Q1782.92 32.4315 1779.15 35.9558 Q1775.42 39.4801 1774.85 45.8805 L1801.43 45.84 Z\" fill=\"#000000\" fill-rule=\"nonzero\" fill-opacity=\"1\" /><polyline clip-path=\"url(#clip982)\" style=\"stroke:#009af9; stroke-linecap:round; stroke-linejoin:round; stroke-width:8; stroke-opacity:1; fill:none\" points=\"312.713,354.208 807.869,414.422 1303.03,469.01 1798.18,537.571 2293.34,587.75 \"/>\n",
       "<circle clip-path=\"url(#clip982)\" cx=\"312.713\" cy=\"354.208\" r=\"14.4\" fill=\"#009af9\" fill-rule=\"evenodd\" fill-opacity=\"1\" stroke=\"#000000\" stroke-opacity=\"1\" stroke-width=\"3.2\"/>\n",
       "<circle clip-path=\"url(#clip982)\" cx=\"807.869\" cy=\"414.422\" r=\"14.4\" fill=\"#009af9\" fill-rule=\"evenodd\" fill-opacity=\"1\" stroke=\"#000000\" stroke-opacity=\"1\" stroke-width=\"3.2\"/>\n",
       "<circle clip-path=\"url(#clip982)\" cx=\"1303.03\" cy=\"469.01\" r=\"14.4\" fill=\"#009af9\" fill-rule=\"evenodd\" fill-opacity=\"1\" stroke=\"#000000\" stroke-opacity=\"1\" stroke-width=\"3.2\"/>\n",
       "<circle clip-path=\"url(#clip982)\" cx=\"1798.18\" cy=\"537.571\" r=\"14.4\" fill=\"#009af9\" fill-rule=\"evenodd\" fill-opacity=\"1\" stroke=\"#000000\" stroke-opacity=\"1\" stroke-width=\"3.2\"/>\n",
       "<circle clip-path=\"url(#clip982)\" cx=\"2293.34\" cy=\"587.75\" r=\"14.4\" fill=\"#009af9\" fill-rule=\"evenodd\" fill-opacity=\"1\" stroke=\"#000000\" stroke-opacity=\"1\" stroke-width=\"3.2\"/>\n",
       "<polyline clip-path=\"url(#clip982)\" style=\"stroke:#e26f46; stroke-linecap:round; stroke-linejoin:round; stroke-width:8; stroke-opacity:1; fill:none\" points=\"312.713,824.056 807.869,884.517 1303.03,1018.51 1798.18,1216.21 2293.34,1291.42 \"/>\n",
       "<path clip-path=\"url(#clip982)\" d=\"M296.713 808.056 L296.713 840.056 L328.713 840.056 L328.713 808.056 L296.713 808.056 Z\" fill=\"#e26f46\" fill-rule=\"evenodd\" fill-opacity=\"1\" stroke=\"#000000\" stroke-opacity=\"1\" stroke-width=\"3.2\"/>\n",
       "<path clip-path=\"url(#clip982)\" d=\"M791.869 868.517 L791.869 900.517 L823.869 900.517 L823.869 868.517 L791.869 868.517 Z\" fill=\"#e26f46\" fill-rule=\"evenodd\" fill-opacity=\"1\" stroke=\"#000000\" stroke-opacity=\"1\" stroke-width=\"3.2\"/>\n",
       "<path clip-path=\"url(#clip982)\" d=\"M1287.03 1002.51 L1287.03 1034.51 L1319.03 1034.51 L1319.03 1002.51 L1287.03 1002.51 Z\" fill=\"#e26f46\" fill-rule=\"evenodd\" fill-opacity=\"1\" stroke=\"#000000\" stroke-opacity=\"1\" stroke-width=\"3.2\"/>\n",
       "<path clip-path=\"url(#clip982)\" d=\"M1782.18 1200.21 L1782.18 1232.21 L1814.18 1232.21 L1814.18 1200.21 L1782.18 1200.21 Z\" fill=\"#e26f46\" fill-rule=\"evenodd\" fill-opacity=\"1\" stroke=\"#000000\" stroke-opacity=\"1\" stroke-width=\"3.2\"/>\n",
       "<path clip-path=\"url(#clip982)\" d=\"M2277.34 1275.42 L2277.34 1307.42 L2309.34 1307.42 L2309.34 1275.42 L2277.34 1275.42 Z\" fill=\"#e26f46\" fill-rule=\"evenodd\" fill-opacity=\"1\" stroke=\"#000000\" stroke-opacity=\"1\" stroke-width=\"3.2\"/>\n",
       "<polyline clip-path=\"url(#clip982)\" style=\"stroke:#3da44d; stroke-linecap:round; stroke-linejoin:round; stroke-width:8; stroke-opacity:1; fill:none\" points=\"312.713,800.371 807.869,919.678 1303.03,1049.63 1798.18,1154.62 2293.34,1234.73 \"/>\n",
       "<path clip-path=\"url(#clip982)\" d=\"M312.713 784.371 L296.713 800.371 L312.713 816.371 L328.713 800.371 L312.713 784.371 Z\" fill=\"#3da44d\" fill-rule=\"evenodd\" fill-opacity=\"1\" stroke=\"#000000\" stroke-opacity=\"1\" stroke-width=\"3.2\"/>\n",
       "<path clip-path=\"url(#clip982)\" d=\"M807.869 903.678 L791.869 919.678 L807.869 935.678 L823.869 919.678 L807.869 903.678 Z\" fill=\"#3da44d\" fill-rule=\"evenodd\" fill-opacity=\"1\" stroke=\"#000000\" stroke-opacity=\"1\" stroke-width=\"3.2\"/>\n",
       "<path clip-path=\"url(#clip982)\" d=\"M1303.03 1033.63 L1287.03 1049.63 L1303.03 1065.63 L1319.03 1049.63 L1303.03 1033.63 Z\" fill=\"#3da44d\" fill-rule=\"evenodd\" fill-opacity=\"1\" stroke=\"#000000\" stroke-opacity=\"1\" stroke-width=\"3.2\"/>\n",
       "<path clip-path=\"url(#clip982)\" d=\"M1798.18 1138.62 L1782.18 1154.62 L1798.18 1170.62 L1814.18 1154.62 L1798.18 1138.62 Z\" fill=\"#3da44d\" fill-rule=\"evenodd\" fill-opacity=\"1\" stroke=\"#000000\" stroke-opacity=\"1\" stroke-width=\"3.2\"/>\n",
       "<path clip-path=\"url(#clip982)\" d=\"M2293.34 1218.73 L2277.34 1234.73 L2293.34 1250.73 L2309.34 1234.73 L2293.34 1218.73 Z\" fill=\"#3da44d\" fill-rule=\"evenodd\" fill-opacity=\"1\" stroke=\"#000000\" stroke-opacity=\"1\" stroke-width=\"3.2\"/>\n",
       "<polyline clip-path=\"url(#clip982)\" style=\"stroke:#ff0000; stroke-linecap:round; stroke-linejoin:round; stroke-width:6; stroke-opacity:1; fill:none\" stroke-dasharray=\"24, 15\" points=\"312.713,884.531 807.869,1006.9 1303.03,1129.26 1798.18,1251.63 2293.34,1373.99 \"/>\n",
       "<polyline clip-path=\"url(#clip982)\" style=\"stroke:#000000; stroke-linecap:round; stroke-linejoin:round; stroke-width:6; stroke-opacity:1; fill:none\" stroke-dasharray=\"24, 15\" points=\"312.713,396.293 807.869,457.476 1303.03,518.659 1798.18,579.841 2293.34,641.024 \"/>\n",
       "<path clip-path=\"url(#clip980)\" d=\"M255.921 280.91 L2350.13 280.91 L2350.13 123.472 L255.921 123.472  Z\" fill=\"#ffffff\" fill-rule=\"evenodd\" fill-opacity=\"1\"/>\n",
       "<polyline clip-path=\"url(#clip980)\" style=\"stroke:#000000; stroke-linecap:round; stroke-linejoin:round; stroke-width:4; stroke-opacity:0; fill:none\" points=\"255.921,280.91 2350.13,280.91 2350.13,123.472 255.921,123.472 255.921,280.91 \"/>\n",
       "<polyline clip-path=\"url(#clip980)\" style=\"stroke:#009af9; stroke-linecap:round; stroke-linejoin:round; stroke-width:9; stroke-opacity:1; fill:none\" points=\"279.248,202.191 419.212,202.191 \"/>\n",
       "<circle clip-path=\"url(#clip980)\" cx=\"349.23\" cy=\"202.191\" r=\"12.8017\" fill=\"#009af9\" fill-rule=\"evenodd\" fill-opacity=\"1\" stroke=\"#000000\" stroke-opacity=\"1\" stroke-width=\"5.12\"/>\n",
       "<path clip-path=\"url(#clip980)\" d=\"M442.54 182.751 L447.8 182.751 L447.8 221.631 L442.54 221.631 L442.54 182.751 Z\" fill=\"#000000\" fill-rule=\"nonzero\" fill-opacity=\"1\" /><path clip-path=\"url(#clip980)\" d=\"M458.269 182.751 L463.529 182.751 L463.529 221.631 L458.269 221.631 L458.269 182.751 Z\" fill=\"#000000\" fill-rule=\"nonzero\" fill-opacity=\"1\" /><path clip-path=\"url(#clip980)\" d=\"M479.258 187.074 L479.258 217.308 L485.613 217.308 Q493.659 217.308 497.383 213.662 Q501.133 210.017 501.133 202.152 Q501.133 194.34 497.383 190.72 Q493.659 187.074 485.613 187.074 L479.258 187.074 M473.998 182.751 L484.805 182.751 Q496.107 182.751 501.394 187.465 Q506.68 192.152 506.68 202.152 Q506.68 212.204 501.368 216.918 Q496.055 221.631 484.805 221.631 L473.998 221.631 L473.998 182.751 Z\" fill=\"#000000\" fill-rule=\"nonzero\" fill-opacity=\"1\" /><polyline clip-path=\"url(#clip980)\" style=\"stroke:#e26f46; stroke-linecap:round; stroke-linejoin:round; stroke-width:9; stroke-opacity:1; fill:none\" points=\"693.425,202.191 833.389,202.191 \"/>\n",
       "<path clip-path=\"url(#clip980)\" d=\"M749.182 187.967 L749.182 216.415 L777.631 216.415 L777.631 187.967 L749.182 187.967 Z\" fill=\"#e26f46\" fill-rule=\"evenodd\" fill-opacity=\"1\" stroke=\"#000000\" stroke-opacity=\"1\" stroke-width=\"5.12\"/>\n",
       "<path clip-path=\"url(#clip980)\" d=\"M856.716 182.751 L861.976 182.751 L861.976 198.689 L881.091 198.689 L881.091 182.751 L886.351 182.751 L886.351 221.631 L881.091 221.631 L881.091 203.116 L861.976 203.116 L861.976 221.631 L856.716 221.631 L856.716 182.751 Z\" fill=\"#000000\" fill-rule=\"nonzero\" fill-opacity=\"1\" /><path clip-path=\"url(#clip980)\" d=\"M909.867 206.97 Q904.06 206.97 901.82 208.298 Q899.58 209.626 899.58 212.829 Q899.58 215.381 901.247 216.892 Q902.94 218.376 905.83 218.376 Q909.815 218.376 912.211 215.564 Q914.632 212.725 914.632 208.038 L914.632 206.97 L909.867 206.97 M919.424 204.991 L919.424 221.631 L914.632 221.631 L914.632 217.204 Q912.992 219.86 910.544 221.136 Q908.096 222.386 904.554 222.386 Q900.075 222.386 897.419 219.886 Q894.789 217.36 894.789 213.142 Q894.789 208.22 898.07 205.72 Q901.377 203.22 907.914 203.22 L914.632 203.22 L914.632 202.751 Q914.632 199.444 912.445 197.647 Q910.283 195.824 906.351 195.824 Q903.851 195.824 901.481 196.423 Q899.112 197.022 896.924 198.22 L896.924 193.793 Q899.554 192.777 902.028 192.282 Q904.502 191.762 906.846 191.762 Q913.174 191.762 916.299 195.043 Q919.424 198.324 919.424 204.991 Z\" fill=\"#000000\" fill-rule=\"nonzero\" fill-opacity=\"1\" /><path clip-path=\"url(#clip980)\" d=\"M946.195 196.944 Q945.387 196.475 944.424 196.267 Q943.486 196.032 942.341 196.032 Q938.278 196.032 936.091 198.689 Q933.929 201.319 933.929 206.267 L933.929 221.631 L929.111 221.631 L929.111 192.465 L933.929 192.465 L933.929 196.996 Q935.44 194.34 937.861 193.064 Q940.283 191.762 943.747 191.762 Q944.242 191.762 944.841 191.84 Q945.439 191.892 946.169 192.022 L946.195 196.944 Z\" fill=\"#000000\" fill-rule=\"nonzero\" fill-opacity=\"1\" /><path clip-path=\"url(#clip980)\" d=\"M964.476 206.97 Q958.669 206.97 956.429 208.298 Q954.189 209.626 954.189 212.829 Q954.189 215.381 955.856 216.892 Q957.549 218.376 960.439 218.376 Q964.424 218.376 966.82 215.564 Q969.241 212.725 969.241 208.038 L969.241 206.97 L964.476 206.97 M974.033 204.991 L974.033 221.631 L969.241 221.631 L969.241 217.204 Q967.601 219.86 965.153 221.136 Q962.705 222.386 959.163 222.386 Q954.684 222.386 952.028 219.886 Q949.398 217.36 949.398 213.142 Q949.398 208.22 952.679 205.72 Q955.986 203.22 962.523 203.22 L969.241 203.22 L969.241 202.751 Q969.241 199.444 967.054 197.647 Q964.893 195.824 960.96 195.824 Q958.46 195.824 956.09 196.423 Q953.721 197.022 951.533 198.22 L951.533 193.793 Q954.163 192.777 956.637 192.282 Q959.111 191.762 961.455 191.762 Q967.783 191.762 970.908 195.043 Q974.033 198.324 974.033 204.991 Z\" fill=\"#000000\" fill-rule=\"nonzero\" fill-opacity=\"1\" /><path clip-path=\"url(#clip980)\" d=\"M1002.5 193.324 L1002.5 197.855 Q1000.47 196.814 998.278 196.293 Q996.09 195.772 993.747 195.772 Q990.179 195.772 988.382 196.866 Q986.611 197.959 986.611 200.147 Q986.611 201.814 987.887 202.777 Q989.163 203.715 993.017 204.574 L994.658 204.939 Q999.762 206.032 1001.9 208.038 Q1004.06 210.017 1004.06 213.584 Q1004.06 217.647 1000.83 220.017 Q997.627 222.386 992.002 222.386 Q989.658 222.386 987.106 221.918 Q984.58 221.475 981.767 220.563 L981.767 215.616 Q984.424 216.996 987.002 217.699 Q989.58 218.376 992.106 218.376 Q995.491 218.376 997.314 217.23 Q999.137 216.058 999.137 213.949 Q999.137 211.996 997.809 210.954 Q996.507 209.913 992.054 208.949 L990.387 208.558 Q985.934 207.621 983.955 205.694 Q981.976 203.741 981.976 200.355 Q981.976 196.241 984.892 194.001 Q987.809 191.762 993.174 191.762 Q995.83 191.762 998.174 192.152 Q1000.52 192.543 1002.5 193.324 Z\" fill=\"#000000\" fill-rule=\"nonzero\" fill-opacity=\"1\" /><path clip-path=\"url(#clip980)\" d=\"M1036.64 205.85 L1036.64 208.194 L1014.61 208.194 Q1014.92 213.142 1017.57 215.746 Q1020.26 218.324 1025.02 218.324 Q1027.78 218.324 1030.36 217.647 Q1032.97 216.97 1035.52 215.616 L1035.52 220.147 Q1032.94 221.241 1030.23 221.813 Q1027.52 222.386 1024.74 222.386 Q1017.76 222.386 1013.67 218.324 Q1009.61 214.261 1009.61 207.334 Q1009.61 200.173 1013.46 195.98 Q1017.34 191.762 1023.9 191.762 Q1029.79 191.762 1033.2 195.564 Q1036.64 199.34 1036.64 205.85 M1031.85 204.444 Q1031.79 200.512 1029.63 198.168 Q1027.5 195.824 1023.95 195.824 Q1019.94 195.824 1017.52 198.09 Q1015.13 200.355 1014.76 204.47 L1031.85 204.444 Z\" fill=\"#000000\" fill-rule=\"nonzero\" fill-opacity=\"1\" /><polyline clip-path=\"url(#clip980)\" style=\"stroke:#3da44d; stroke-linecap:round; stroke-linejoin:round; stroke-width:9; stroke-opacity:1; fill:none\" points=\"1107.6,202.191 1247.56,202.191 \"/>\n",
       "<path clip-path=\"url(#clip980)\" d=\"M1177.58 187.967 L1163.36 202.191 L1177.58 216.415 L1191.81 202.191 L1177.58 187.967 Z\" fill=\"#3da44d\" fill-rule=\"evenodd\" fill-opacity=\"1\" stroke=\"#000000\" stroke-opacity=\"1\" stroke-width=\"5.12\"/>\n",
       "<path clip-path=\"url(#clip980)\" d=\"M1295.92 184.027 L1295.92 189.157 Q1292.92 187.725 1290.27 187.022 Q1287.61 186.319 1285.14 186.319 Q1280.84 186.319 1278.5 187.986 Q1276.18 189.652 1276.18 192.725 Q1276.18 195.303 1277.72 196.631 Q1279.28 197.933 1283.6 198.741 L1286.78 199.392 Q1292.66 200.512 1295.45 203.35 Q1298.26 206.163 1298.26 210.902 Q1298.26 216.553 1294.46 219.47 Q1290.68 222.386 1283.37 222.386 Q1280.61 222.386 1277.48 221.761 Q1274.38 221.136 1271.05 219.912 L1271.05 214.496 Q1274.25 216.293 1277.32 217.204 Q1280.4 218.116 1283.37 218.116 Q1287.87 218.116 1290.32 216.345 Q1292.77 214.574 1292.77 211.293 Q1292.77 208.428 1291 206.814 Q1289.25 205.199 1285.24 204.392 L1282.04 203.767 Q1276.15 202.595 1273.52 200.095 Q1270.89 197.595 1270.89 193.142 Q1270.89 187.986 1274.51 185.017 Q1278.16 182.048 1284.54 182.048 Q1287.27 182.048 1290.11 182.543 Q1292.95 183.038 1295.92 184.027 Z\" fill=\"#000000\" fill-rule=\"nonzero\" fill-opacity=\"1\" /><path clip-path=\"url(#clip980)\" d=\"M1317.56 195.824 Q1313.7 195.824 1311.46 198.845 Q1309.23 201.84 1309.23 207.074 Q1309.23 212.308 1311.44 215.329 Q1313.68 218.324 1317.56 218.324 Q1321.39 218.324 1323.63 215.303 Q1325.87 212.282 1325.87 207.074 Q1325.87 201.892 1323.63 198.871 Q1321.39 195.824 1317.56 195.824 M1317.56 191.762 Q1323.81 191.762 1327.38 195.824 Q1330.94 199.887 1330.94 207.074 Q1330.94 214.235 1327.38 218.324 Q1323.81 222.386 1317.56 222.386 Q1311.28 222.386 1307.71 218.324 Q1304.17 214.235 1304.17 207.074 Q1304.17 199.887 1307.71 195.824 Q1311.28 191.762 1317.56 191.762 Z\" fill=\"#000000\" fill-rule=\"nonzero\" fill-opacity=\"1\" /><path clip-path=\"url(#clip980)\" d=\"M1359.82 207.074 Q1359.82 201.788 1357.64 198.793 Q1355.48 195.772 1351.67 195.772 Q1347.87 195.772 1345.68 198.793 Q1343.52 201.788 1343.52 207.074 Q1343.52 212.36 1345.68 215.381 Q1347.87 218.376 1351.67 218.376 Q1355.48 218.376 1357.64 215.381 Q1359.82 212.36 1359.82 207.074 M1343.52 196.892 Q1345.03 194.288 1347.32 193.038 Q1349.64 191.762 1352.84 191.762 Q1358.16 191.762 1361.46 195.98 Q1364.8 200.199 1364.8 207.074 Q1364.8 213.949 1361.46 218.168 Q1358.16 222.386 1352.84 222.386 Q1349.64 222.386 1347.32 221.136 Q1345.03 219.86 1343.52 217.256 L1343.52 221.631 L1338.7 221.631 L1338.7 181.111 L1343.52 181.111 L1343.52 196.892 Z\" fill=\"#000000\" fill-rule=\"nonzero\" fill-opacity=\"1\" /><path clip-path=\"url(#clip980)\" d=\"M1384.04 195.824 Q1380.19 195.824 1377.95 198.845 Q1375.71 201.84 1375.71 207.074 Q1375.71 212.308 1377.92 215.329 Q1380.16 218.324 1384.04 218.324 Q1387.87 218.324 1390.11 215.303 Q1392.35 212.282 1392.35 207.074 Q1392.35 201.892 1390.11 198.871 Q1387.87 195.824 1384.04 195.824 M1384.04 191.762 Q1390.29 191.762 1393.86 195.824 Q1397.43 199.887 1397.43 207.074 Q1397.43 214.235 1393.86 218.324 Q1390.29 222.386 1384.04 222.386 Q1377.77 222.386 1374.2 218.324 Q1370.66 214.235 1370.66 207.074 Q1370.66 199.887 1374.2 195.824 Q1377.77 191.762 1384.04 191.762 Z\" fill=\"#000000\" fill-rule=\"nonzero\" fill-opacity=\"1\" /><path clip-path=\"url(#clip980)\" d=\"M1405.37 181.111 L1410.16 181.111 L1410.16 221.631 L1405.37 221.631 L1405.37 181.111 Z\" fill=\"#000000\" fill-rule=\"nonzero\" fill-opacity=\"1\" /><polyline clip-path=\"url(#clip980)\" style=\"stroke:#ff0000; stroke-linecap:round; stroke-linejoin:round; stroke-width:6.75; stroke-opacity:1; fill:none\" stroke-dasharray=\"27, 17\" points=\"1521.78,202.191 1661.74,202.191 \"/>\n",
       "<path clip-path=\"url(#clip980)\" d=\"M1722.38 198.951 Q1722.38 202.719 1721.04 206.461 Q1719.72 210.176 1717.4 213.233 Q1715.08 216.29 1712.13 218.661 Q1709.18 221.033 1705.73 222.35 Q1702.28 223.668 1698.9 223.668 Q1692.92 223.668 1688.99 219.742 Q1685.07 215.815 1685.07 209.254 Q1685.07 204.669 1687.12 200.111 Q1689.18 195.526 1692.45 192.126 Q1695.71 188.701 1700.01 186.567 Q1704.33 184.432 1708.6 184.432 Q1714.66 184.432 1718.51 188.464 Q1722.38 192.469 1722.38 198.951 M1717.56 196.843 Q1717.56 193.945 1716.74 191.758 Q1715.92 189.544 1714.55 188.279 Q1713.21 187.015 1711.6 186.408 Q1710.02 185.776 1708.28 185.776 Q1704.91 185.776 1701.3 187.963 Q1697.69 190.15 1695 194.208 Q1693.55 196.422 1692.5 199.083 Q1691.45 201.718 1690.97 204.063 Q1690.5 206.382 1690.29 208.016 Q1690.1 209.649 1690.1 210.782 Q1690.1 216.053 1692.63 219.162 Q1695.16 222.271 1699.22 222.271 Q1702.41 222.271 1705.52 220.4 Q1708.63 218.503 1710.76 215.789 Q1712.66 213.444 1714.05 210.624 Q1715.48 207.805 1716.19 205.223 Q1716.9 202.64 1717.22 200.559 Q1717.56 198.477 1717.56 196.843 Z\" fill=\"#000000\" fill-rule=\"nonzero\" fill-opacity=\"1\" /><path clip-path=\"url(#clip980)\" d=\"M1729.5 208.991 Q1729.5 199.873 1732.9 192.522 Q1734.35 189.439 1736.37 186.856 Q1738.4 184.274 1739.75 183.141 Q1741.09 182.008 1741.46 182.008 Q1741.99 182.008 1742.01 182.535 Q1742.01 182.798 1741.3 183.457 Q1732.61 192.311 1732.63 208.991 Q1732.63 225.723 1741.09 234.234 Q1742.01 235.156 1742.01 235.446 Q1742.01 235.973 1741.46 235.973 Q1741.09 235.973 1739.8 234.893 Q1738.51 233.813 1736.51 231.336 Q1734.5 228.859 1733.05 225.828 Q1729.5 218.477 1729.5 208.991 Z\" fill=\"#000000\" fill-rule=\"nonzero\" fill-opacity=\"1\" /><path clip-path=\"url(#clip980)\" d=\"M1795.64 186.224 Q1795.64 187.304 1794.72 187.304 Q1791.74 187.41 1790.53 188.411 Q1789.34 189.386 1788.9 191.283 L1781.36 221.349 Q1781.1 222.298 1780.94 222.403 Q1780.78 222.482 1780.49 222.482 Q1780.12 222.482 1779.91 222.298 Q1779.73 222.113 1779.46 221.454 L1766.02 189.676 Q1765.92 189.465 1765.79 189.175 Q1765.66 188.885 1765.55 188.701 L1758.41 217.186 Q1758.2 218.002 1758.2 218.424 Q1758.2 219.452 1758.91 220.11 Q1759.65 220.743 1761.76 220.822 Q1762.84 220.822 1762.84 221.402 Q1762.84 222.482 1761.86 222.482 Q1760.97 222.482 1759.09 222.403 Q1757.22 222.324 1756.3 222.324 Q1755.41 222.324 1753.59 222.403 Q1751.77 222.482 1750.9 222.482 Q1750.21 222.482 1750.21 221.876 Q1750.21 221.402 1750.4 221.164 Q1750.58 220.901 1750.74 220.875 Q1750.9 220.822 1751.14 220.822 Q1752.72 220.769 1753.8 220.453 Q1754.88 220.137 1755.48 219.531 Q1756.12 218.925 1756.41 218.319 Q1756.72 217.686 1756.96 216.764 L1764.18 187.779 Q1764.18 187.304 1760.52 187.304 Q1759.88 187.304 1759.62 187.278 Q1759.38 187.252 1759.2 187.12 Q1759.02 186.988 1759.02 186.698 Q1759.02 185.961 1759.33 185.802 Q1759.65 185.618 1760.57 185.618 L1767.82 185.618 Q1768.74 185.618 1768.98 185.776 Q1769.21 185.908 1769.53 186.646 L1781.47 214.814 L1787.5 190.809 Q1787.66 190.335 1787.66 189.676 Q1787.66 188.622 1786.87 187.989 Q1786.1 187.331 1784 187.304 Q1783.02 187.304 1783.02 186.698 Q1783.02 186.198 1783.2 185.961 Q1783.42 185.697 1783.57 185.671 Q1783.76 185.618 1784 185.618 Q1784.89 185.618 1786.74 185.697 Q1788.58 185.776 1789.5 185.776 Q1790.4 185.776 1792.22 185.697 Q1794.06 185.618 1794.96 185.618 Q1795.27 185.618 1795.43 185.776 Q1795.62 185.908 1795.64 186.066 L1795.64 186.224 Z\" fill=\"#000000\" fill-rule=\"nonzero\" fill-opacity=\"1\" /><path clip-path=\"url(#clip980)\" d=\"M1825.88 183.478 Q1826.1 183.699 1826.1 184.013 Q1826.1 184.326 1825.88 184.548 Q1825.66 184.769 1825.35 184.769 L1801.7 184.769 Q1801.39 184.769 1801.16 184.548 Q1800.94 184.326 1800.94 184.013 Q1800.94 183.699 1801.16 183.478 Q1801.39 183.256 1801.7 183.256 L1825.35 183.256 Q1825.66 183.256 1825.88 183.478 Z\" fill=\"#000000\" fill-rule=\"nonzero\" fill-opacity=\"1\" /><path clip-path=\"url(#clip980)\" d=\"M1830.04 171.894 L1830.04 170.714 Q1834.58 170.714 1836.92 168.297 Q1837.56 168.297 1837.68 168.445 Q1837.79 168.593 1837.79 169.275 L1837.79 190.469 Q1837.79 191.594 1838.34 191.944 Q1838.89 192.295 1841.31 192.295 L1842.51 192.295 L1842.51 193.457 Q1841.18 193.346 1836.38 193.346 Q1831.59 193.346 1830.28 193.457 L1830.28 192.295 L1831.48 192.295 Q1833.86 192.295 1834.43 191.963 Q1835 191.612 1835 190.469 L1835 170.898 Q1833.03 171.894 1830.04 171.894 Z\" fill=\"#000000\" fill-rule=\"nonzero\" fill-opacity=\"1\" /><path clip-path=\"url(#clip980)\" d=\"M1854.5 235.446 Q1854.5 235.183 1855.19 234.524 Q1863.88 225.67 1863.88 208.991 Q1863.88 192.258 1855.53 183.8 Q1854.5 182.825 1854.5 182.535 Q1854.5 182.008 1855.03 182.008 Q1855.4 182.008 1856.69 183.088 Q1858.01 184.169 1859.98 186.646 Q1861.99 189.123 1863.46 192.153 Q1867.02 199.505 1867.02 208.991 Q1867.02 218.108 1863.62 225.46 Q1862.17 228.543 1860.14 231.125 Q1858.11 233.707 1856.77 234.84 Q1855.42 235.973 1855.03 235.973 Q1854.5 235.973 1854.5 235.446 Z\" fill=\"#000000\" fill-rule=\"nonzero\" fill-opacity=\"1\" /><polyline clip-path=\"url(#clip980)\" style=\"stroke:#000000; stroke-linecap:round; stroke-linejoin:round; stroke-width:6.75; stroke-opacity:1; fill:none\" stroke-dasharray=\"27, 17\" points=\"1935.95,202.191 2075.92,202.191 \"/>\n",
       "<path clip-path=\"url(#clip980)\" d=\"M2136.56 204.661 Q2136.56 208.429 2135.21 212.17 Q2133.9 215.886 2131.58 218.942 Q2129.26 221.999 2126.31 224.371 Q2123.36 226.742 2119.9 228.06 Q2116.45 229.377 2113.08 229.377 Q2107.1 229.377 2103.17 225.451 Q2099.24 221.525 2099.24 214.964 Q2099.24 210.379 2101.3 205.82 Q2103.36 201.235 2106.62 197.836 Q2109.89 194.41 2114.19 192.276 Q2118.51 190.142 2122.78 190.142 Q2128.84 190.142 2132.68 194.173 Q2136.56 198.178 2136.56 204.661 M2131.73 202.553 Q2131.73 199.654 2130.92 197.467 Q2130.1 195.254 2128.73 193.989 Q2127.39 192.724 2125.78 192.118 Q2124.2 191.485 2122.46 191.485 Q2119.09 191.485 2115.48 193.673 Q2111.87 195.86 2109.18 199.918 Q2107.73 202.131 2106.68 204.792 Q2105.62 207.427 2105.15 209.773 Q2104.67 212.091 2104.46 213.725 Q2104.28 215.359 2104.28 216.492 Q2104.28 221.762 2106.81 224.871 Q2109.34 227.981 2113.39 227.981 Q2116.58 227.981 2119.69 226.11 Q2122.8 224.212 2124.94 221.498 Q2126.83 219.153 2128.23 216.334 Q2129.65 213.514 2130.36 210.932 Q2131.08 208.35 2131.39 206.268 Q2131.73 204.186 2131.73 202.553 Z\" fill=\"#000000\" fill-rule=\"nonzero\" fill-opacity=\"1\" /><path clip-path=\"url(#clip980)\" d=\"M2143.67 214.7 Q2143.67 205.583 2147.07 198.231 Q2148.52 195.148 2150.55 192.566 Q2152.58 189.983 2153.92 188.85 Q2155.27 187.717 2155.64 187.717 Q2156.16 187.717 2156.19 188.244 Q2156.19 188.508 2155.48 189.167 Q2146.78 198.02 2146.81 214.7 Q2146.81 231.432 2155.27 239.944 Q2156.19 240.866 2156.19 241.156 Q2156.19 241.683 2155.64 241.683 Q2155.27 241.683 2153.98 240.602 Q2152.68 239.522 2150.68 237.045 Q2148.68 234.568 2147.23 231.538 Q2143.67 224.186 2143.67 214.7 Z\" fill=\"#000000\" fill-rule=\"nonzero\" fill-opacity=\"1\" /><path clip-path=\"url(#clip980)\" d=\"M2209.82 191.933 Q2209.82 193.014 2208.9 193.014 Q2205.92 193.119 2204.71 194.12 Q2203.52 195.095 2203.07 196.993 L2195.54 227.058 Q2195.27 228.007 2195.11 228.112 Q2194.96 228.191 2194.67 228.191 Q2194.3 228.191 2194.09 228.007 Q2193.9 227.822 2193.64 227.164 L2180.2 195.385 Q2180.1 195.174 2179.96 194.885 Q2179.83 194.595 2179.73 194.41 L2172.59 222.895 Q2172.37 223.712 2172.37 224.133 Q2172.37 225.161 2173.09 225.82 Q2173.82 226.452 2175.93 226.531 Q2177.01 226.531 2177.01 227.111 Q2177.01 228.191 2176.04 228.191 Q2175.14 228.191 2173.27 228.112 Q2171.4 228.033 2170.48 228.033 Q2169.58 228.033 2167.76 228.112 Q2165.95 228.191 2165.08 228.191 Q2164.39 228.191 2164.39 227.585 Q2164.39 227.111 2164.57 226.874 Q2164.76 226.61 2164.92 226.584 Q2165.08 226.531 2165.31 226.531 Q2166.89 226.479 2167.97 226.162 Q2169.05 225.846 2169.66 225.24 Q2170.29 224.634 2170.58 224.028 Q2170.9 223.396 2171.14 222.473 L2178.36 193.488 Q2178.36 193.014 2174.69 193.014 Q2174.06 193.014 2173.8 192.987 Q2173.56 192.961 2173.38 192.829 Q2173.19 192.698 2173.19 192.408 Q2173.19 191.67 2173.51 191.512 Q2173.82 191.327 2174.75 191.327 L2181.99 191.327 Q2182.91 191.327 2183.15 191.485 Q2183.39 191.617 2183.71 192.355 L2195.64 220.523 L2201.68 196.518 Q2201.83 196.044 2201.83 195.385 Q2201.83 194.331 2201.04 193.699 Q2200.28 193.04 2198.17 193.014 Q2197.2 193.014 2197.2 192.408 Q2197.2 191.907 2197.38 191.67 Q2197.59 191.406 2197.75 191.38 Q2197.93 191.327 2198.17 191.327 Q2199.07 191.327 2200.91 191.406 Q2202.76 191.485 2203.68 191.485 Q2204.57 191.485 2206.39 191.406 Q2208.24 191.327 2209.13 191.327 Q2209.45 191.327 2209.61 191.485 Q2209.79 191.617 2209.82 191.775 L2209.82 191.933 Z\" fill=\"#000000\" fill-rule=\"nonzero\" fill-opacity=\"1\" /><path clip-path=\"url(#clip980)\" d=\"M2240.06 180.831 Q2240.28 181.052 2240.28 181.366 Q2240.28 181.679 2240.06 181.901 Q2239.84 182.122 2239.52 182.122 L2215.88 182.122 Q2215.56 182.122 2215.34 181.901 Q2215.12 181.679 2215.12 181.366 Q2215.12 181.052 2215.34 180.831 Q2215.56 180.61 2215.88 180.61 L2239.52 180.61 Q2239.84 180.61 2240.06 180.831 Z\" fill=\"#000000\" fill-rule=\"nonzero\" fill-opacity=\"1\" /><path clip-path=\"url(#clip980)\" d=\"M2244.22 169.247 L2244.22 168.067 Q2248.75 168.067 2251.1 165.651 Q2251.74 165.651 2251.85 165.798 Q2251.96 165.946 2251.96 166.628 L2251.96 187.822 Q2251.96 188.947 2252.52 189.297 Q2253.07 189.648 2255.49 189.648 L2256.68 189.648 L2256.68 190.81 Q2255.36 190.699 2250.56 190.699 Q2245.76 190.699 2244.45 190.81 L2244.45 189.648 L2245.65 189.648 Q2248.03 189.648 2248.61 189.316 Q2249.18 188.965 2249.18 187.822 L2249.18 168.251 Q2247.2 169.247 2244.22 169.247 Z\" fill=\"#000000\" fill-rule=\"nonzero\" fill-opacity=\"1\" /><path clip-path=\"url(#clip980)\" d=\"M2262.92 199.719 Q2262.92 199.534 2263.07 199.129 L2276.4 163.492 Q2276.4 163.456 2276.49 163.253 Q2276.59 163.05 2276.64 162.921 Q2276.7 162.773 2276.81 162.662 Q2276.94 162.552 2277.08 162.552 Q2277.45 162.552 2277.45 163.013 Q2277.45 163.05 2277.34 163.492 L2263.97 199.165 Q2263.75 199.811 2263.6 199.995 Q2263.47 200.18 2263.25 200.18 Q2262.92 200.18 2262.92 199.719 Z\" fill=\"#000000\" fill-rule=\"nonzero\" fill-opacity=\"1\" /><path clip-path=\"url(#clip980)\" d=\"M2281.62 190.81 Q2281.62 190.127 2281.68 189.924 Q2281.75 189.722 2282.05 189.408 L2289.29 181.329 Q2293.26 176.865 2293.26 172.973 Q2293.26 170.446 2291.93 168.639 Q2290.62 166.831 2288.21 166.831 Q2286.55 166.831 2285.14 167.846 Q2283.74 168.86 2283.1 170.668 Q2283.21 170.631 2283.59 170.631 Q2284.54 170.631 2285.05 171.221 Q2285.59 171.811 2285.59 172.604 Q2285.59 173.619 2284.92 174.117 Q2284.28 174.596 2283.63 174.596 Q2283.37 174.596 2283.02 174.541 Q2282.69 174.486 2282.16 173.969 Q2281.62 173.434 2281.62 172.494 Q2281.62 169.856 2283.61 167.753 Q2285.62 165.651 2288.69 165.651 Q2292.15 165.651 2294.42 167.716 Q2296.71 169.764 2296.71 172.973 Q2296.71 174.098 2296.36 175.131 Q2296.03 176.146 2295.57 176.939 Q2295.12 177.732 2293.91 179.005 Q2292.69 180.278 2291.71 181.181 Q2290.73 182.085 2288.54 184.004 L2284.54 187.895 L2291.34 187.895 Q2294.66 187.895 2294.92 187.6 Q2295.29 187.065 2295.75 184.243 L2296.71 184.243 L2295.64 190.81 L2281.62 190.81 Z\" fill=\"#000000\" fill-rule=\"nonzero\" fill-opacity=\"1\" /><path clip-path=\"url(#clip980)\" d=\"M2306.08 241.156 Q2306.08 240.892 2306.77 240.233 Q2315.47 231.38 2315.47 214.7 Q2315.47 197.968 2307.11 189.509 Q2306.08 188.534 2306.08 188.244 Q2306.08 187.717 2306.61 187.717 Q2306.98 187.717 2308.27 188.798 Q2309.59 189.878 2311.57 192.355 Q2313.57 194.832 2315.04 197.862 Q2318.6 205.214 2318.6 214.7 Q2318.6 223.817 2315.2 231.169 Q2313.75 234.252 2311.72 236.834 Q2309.69 239.417 2308.35 240.55 Q2307.01 241.683 2306.61 241.683 Q2306.08 241.683 2306.08 241.156 Z\" fill=\"#000000\" fill-rule=\"nonzero\" fill-opacity=\"1\" /></svg>\n"
      ]
     },
     "execution_count": 98,
     "metadata": {},
     "output_type": "execute_result"
    }
   ],
   "source": [
    "ms = [10, 11, 12, 13, 14]\n",
    "N = 2 .^ ms  # sample sizes\n",
    "\n",
    "p = plot(\n",
    "            N, rmse_vec,xscale=:log2, yscale=:log2,\n",
    "            xlabel=L\"\\log_2(N)\", ylabel=L\"\\log_2(\\mathrm{RMSE})\",\n",
    "            marker=:circle, linewidth=2, label=\"IID\",\n",
    "            grid=:true, gridalpha=0.3, legend=:outertop, legendcolumns=5, legendfontsize=9, legendborder=false, legend_foreground_color=:transparent)\n",
    "\n",
    "plot!(p, N, rmse_vec_harase, marker=:square, linewidth=2, label=\"Harase\")\n",
    "plot!(p, N, rmse_vec_sobol,  marker=:diamond, linewidth=2, label=\"Sobol\")\n",
    "# reference lines\n",
    "plot!(p, N, (2.0^-4.99) .* N.^(-1),linestyle=:dash, color=:red, linewidth=1.5, label=L\"O(N^{-1})\")\n",
    "plot!(p, N, (2.0^-6) .* N.^(-0.5), linestyle=:dash, color=:black,linewidth=1.5, alpha=1, label=L\"O(N^{-1/2})\")\n",
    "\n",
    "title!(\"RMSE Convergence Rate\")"
   ]
  },
  {
   "cell_type": "code",
   "execution_count": 99,
   "id": "ebdaae22",
   "metadata": {},
   "outputs": [
    {
     "data": {
      "text/plain": [
       "\"C:\\\\Users\\\\mussi\\\\Documents\\\\Manhattan\\\\Leuven\\\\MCQMC\\\\Plots\\\\RMSE_Convergence_Rate.png\""
      ]
     },
     "execution_count": 99,
     "metadata": {},
     "output_type": "execute_result"
    }
   ],
   "source": [
    "savefig(p, raw\"C:\\Users\\mussi\\Documents\\Manhattan\\Leuven\\MCQMC\\Plots\\RMSE_Convergence_Rate.png\")"
   ]
  },
  {
   "cell_type": "markdown",
   "id": "a4887b21",
   "metadata": {},
   "source": [
    "### **QUADRATIC FUNCTION CASE**"
   ]
  },
  {
   "cell_type": "code",
   "execution_count": null,
   "id": "e1068f92",
   "metadata": {},
   "outputs": [],
   "source": [
    "# IID CASE\n",
    "p = size(X, 2); b0= zeros(p); B0= Matrix{Float64}(I, p, p)*100; n0=5.0; s0=0.01\n",
    "blm = UnMCQMC_linear(p, Y, X, b0, B0, n0, s0);\n",
    "\n",
    "N = (2^12)-1; burn_in = 8; R = 100 \n",
    "\n",
    "Random.seed!(1234)\n",
    "iid = rand(p+1, N, R)\n",
    "\n",
    "@time F_Lin_iid_12_100 = R_UbFkm(R, N, iid, blm, burn_in, x -> x);\n",
    "@time quadratic_F_Lin_iid_12_100 = R_UbFkm(R, N, iid, blm, burn_in, x -> x.^2);\n",
    "\n",
    "iid_post_mean = F_Lin_iid_12_100.mu_pool\n",
    "iid_post_mean_quad = quadratic_F_Lin_iid_12_100.mu_pool\n",
    "iid_post_var = iid_post_mean_quad - iid_post_mean.^2 \n",
    "\n",
    "@save \"quadratic_F_Lin_iid_12_100.jld2\" iid_post_mean iid_post_mean_quad iid_post_var\n",
    "\n",
    "println(post_var)"
   ]
  },
  {
   "cell_type": "code",
   "execution_count": null,
   "id": "4e914b6d",
   "metadata": {},
   "outputs": [
    {
     "name": "stdout",
     "output_type": "stream",
     "text": [
      "188.613886 seconds (477.98 M allocations: 365.205 GiB, 16.04% gc time, 1.83% compilation time)\n",
      "758.312115 seconds (2.18 G allocations: 1.650 TiB, 15.13% gc time, 0.06% compilation time)\n"
     ]
    },
    {
     "ename": "LoadError",
     "evalue": "UndefVarError: `post_mean_quad` not defined in `Main`\nSuggestion: check for spelling errors or missing imports.",
     "output_type": "error",
     "traceback": [
      "UndefVarError: `post_mean_quad` not defined in `Main`\nSuggestion: check for spelling errors or missing imports.",
      "",
      "Stacktrace:",
      " [1] top-level scope",
      "\u001b[90m   @\u001b[39m \u001b[90m\u001b[4mIn[5]:13\u001b[24m\u001b[39m"
     ]
    }
   ],
   "source": [
    "p = size(X, 2); b0= zeros(p); B0= Matrix{Float64}(I, p, p)*100; n0=5.0; s0=0.01\n",
    "blm = UnMCQMC_linear(p, Y, X, b0, B0, n0, s0);\n",
    "f = x -> x\n",
    "\n",
    "N = (2^12)-1; burn_in = 8; R = 100 \n",
    "wcud_12_100 = digit_shift_mat(vec_wcud_12, p+1 , 100);\n",
    "\n",
    "@time F_Lin_lfsr_12_100 = R_UbFkm(R, N, wcud_12_100, blm, burn_in, x -> x);\n",
    "@time quadratic_F_Lin_lfsr_12_100 = R_UbFkm(R, N, wcud_12_100, blm, burn_in, x -> x.^2);\n",
    "\n",
    "lfsr_post_mean = F_Lin_lfsr_12_100.mu_pool\n",
    "lfsr_post_mean_quad = quadratic_F_Lin_lfsr_12_100.mu_pool\n",
    "lfsr_post_var = lfsr_post_mean_quad - lfsr_post_mean.^2 \n",
    "\n",
    "@save \"quadratic_F_Lin_iid_12_100.jld2\" lfsr_post_mean lfsr_post_mean_quad lfsr_post_var\n",
    "\n",
    "println(post_var)"
   ]
  },
  {
   "cell_type": "markdown",
   "id": "ce67d57d",
   "metadata": {},
   "source": [
    "## **PROBIT REGRESSION**"
   ]
  },
  {
   "cell_type": "code",
   "execution_count": 25,
   "id": "af35542d",
   "metadata": {},
   "outputs": [
    {
     "data": {
      "image/png": "[encoded data removed]",
      "image/svg+xml": [
       "<?xml version=\"1.0\" encoding=\"utf-8\"?>\n",
       "<svg xmlns=\"http://www.w3.org/2000/svg\" xmlns:xlink=\"http://www.w3.org/1999/xlink\" width=\"600\" height=\"400\" viewBox=\"0 0 2400 1600\">\n",
       "<defs>\n",
       "  <clipPath id=\"clip550\">\n",
       "    <rect x=\"0\" y=\"0\" width=\"2400\" height=\"1600\"/>\n",
       "  </clipPath>\n",
       "</defs>\n",
       "<path clip-path=\"url(#clip550)\" d=\"M0 1600 L2400 1600 L2400 0 L0 0  Z\" fill=\"#ffffff\" fill-rule=\"evenodd\" fill-opacity=\"1\"/>\n",
       "<defs>\n",
       "  <clipPath id=\"clip551\">\n",
       "    <rect x=\"480\" y=\"0\" width=\"1681\" height=\"1600\"/>\n",
       "  </clipPath>\n",
       "</defs>\n",
       "<path clip-path=\"url(#clip550)\" d=\"M174.149 1423.18 L2352.76 1423.18 L2352.76 123.472 L174.149 123.472  Z\" fill=\"#ffffff\" fill-rule=\"evenodd\" fill-opacity=\"1\"/>\n",
       "<defs>\n",
       "  <clipPath id=\"clip552\">\n",
       "    <rect x=\"174\" y=\"123\" width=\"2180\" height=\"1301\"/>\n",
       "  </clipPath>\n",
       "</defs>\n",
       "<polyline clip-path=\"url(#clip552)\" style=\"stroke:#000000; stroke-linecap:round; stroke-linejoin:round; stroke-width:2; stroke-opacity:0.1; fill:none\" points=\"298.089,1423.18 298.089,123.472 \"/>\n",
       "<polyline clip-path=\"url(#clip552)\" style=\"stroke:#000000; stroke-linecap:round; stroke-linejoin:round; stroke-width:2; stroke-opacity:0.1; fill:none\" points=\"609.497,1423.18 609.497,123.472 \"/>\n",
       "<polyline clip-path=\"url(#clip552)\" style=\"stroke:#000000; stroke-linecap:round; stroke-linejoin:round; stroke-width:2; stroke-opacity:0.1; fill:none\" points=\"920.904,1423.18 920.904,123.472 \"/>\n",
       "<polyline clip-path=\"url(#clip552)\" style=\"stroke:#000000; stroke-linecap:round; stroke-linejoin:round; stroke-width:2; stroke-opacity:0.1; fill:none\" points=\"1232.31,1423.18 1232.31,123.472 \"/>\n",
       "<polyline clip-path=\"url(#clip552)\" style=\"stroke:#000000; stroke-linecap:round; stroke-linejoin:round; stroke-width:2; stroke-opacity:0.1; fill:none\" points=\"1543.72,1423.18 1543.72,123.472 \"/>\n",
       "<polyline clip-path=\"url(#clip552)\" style=\"stroke:#000000; stroke-linecap:round; stroke-linejoin:round; stroke-width:2; stroke-opacity:0.1; fill:none\" points=\"1855.13,1423.18 1855.13,123.472 \"/>\n",
       "<polyline clip-path=\"url(#clip552)\" style=\"stroke:#000000; stroke-linecap:round; stroke-linejoin:round; stroke-width:2; stroke-opacity:0.1; fill:none\" points=\"2166.53,1423.18 2166.53,123.472 \"/>\n",
       "<polyline clip-path=\"url(#clip552)\" style=\"stroke:#000000; stroke-linecap:round; stroke-linejoin:round; stroke-width:2; stroke-opacity:0.1; fill:none\" points=\"174.149,1396.28 2352.76,1396.28 \"/>\n",
       "<polyline clip-path=\"url(#clip552)\" style=\"stroke:#000000; stroke-linecap:round; stroke-linejoin:round; stroke-width:2; stroke-opacity:0.1; fill:none\" points=\"174.149,1066.68 2352.76,1066.68 \"/>\n",
       "<polyline clip-path=\"url(#clip552)\" style=\"stroke:#000000; stroke-linecap:round; stroke-linejoin:round; stroke-width:2; stroke-opacity:0.1; fill:none\" points=\"174.149,737.069 2352.76,737.069 \"/>\n",
       "<polyline clip-path=\"url(#clip552)\" style=\"stroke:#000000; stroke-linecap:round; stroke-linejoin:round; stroke-width:2; stroke-opacity:0.1; fill:none\" points=\"174.149,407.462 2352.76,407.462 \"/>\n",
       "<polyline clip-path=\"url(#clip550)\" style=\"stroke:#000000; stroke-linecap:round; stroke-linejoin:round; stroke-width:4; stroke-opacity:1; fill:none\" points=\"174.149,1423.18 2352.76,1423.18 \"/>\n",
       "<polyline clip-path=\"url(#clip550)\" style=\"stroke:#000000; stroke-linecap:round; stroke-linejoin:round; stroke-width:4; stroke-opacity:1; fill:none\" points=\"298.089,1423.18 298.089,1404.28 \"/>\n",
       "<polyline clip-path=\"url(#clip550)\" style=\"stroke:#000000; stroke-linecap:round; stroke-linejoin:round; stroke-width:4; stroke-opacity:1; fill:none\" points=\"609.497,1423.18 609.497,1404.28 \"/>\n",
       "<polyline clip-path=\"url(#clip550)\" style=\"stroke:#000000; stroke-linecap:round; stroke-linejoin:round; stroke-width:4; stroke-opacity:1; fill:none\" points=\"920.904,1423.18 920.904,1404.28 \"/>\n",
       "<polyline clip-path=\"url(#clip550)\" style=\"stroke:#000000; stroke-linecap:round; stroke-linejoin:round; stroke-width:4; stroke-opacity:1; fill:none\" points=\"1232.31,1423.18 1232.31,1404.28 \"/>\n",
       "<polyline clip-path=\"url(#clip550)\" style=\"stroke:#000000; stroke-linecap:round; stroke-linejoin:round; stroke-width:4; stroke-opacity:1; fill:none\" points=\"1543.72,1423.18 1543.72,1404.28 \"/>\n",
       "<polyline clip-path=\"url(#clip550)\" style=\"stroke:#000000; stroke-linecap:round; stroke-linejoin:round; stroke-width:4; stroke-opacity:1; fill:none\" points=\"1855.13,1423.18 1855.13,1404.28 \"/>\n",
       "<polyline clip-path=\"url(#clip550)\" style=\"stroke:#000000; stroke-linecap:round; stroke-linejoin:round; stroke-width:4; stroke-opacity:1; fill:none\" points=\"2166.53,1423.18 2166.53,1404.28 \"/>\n",
       "<path clip-path=\"url(#clip550)\" d=\"M275.971 1454.1 Q272.36 1454.1 270.531 1457.66 Q268.726 1461.2 268.726 1468.33 Q268.726 1475.44 270.531 1479.01 Q272.36 1482.55 275.971 1482.55 Q279.605 1482.55 281.411 1479.01 Q283.24 1475.44 283.24 1468.33 Q283.24 1461.2 281.411 1457.66 Q279.605 1454.1 275.971 1454.1 M275.971 1450.39 Q281.781 1450.39 284.837 1455 Q287.916 1459.58 287.916 1468.33 Q287.916 1477.06 284.837 1481.67 Q281.781 1486.25 275.971 1486.25 Q270.161 1486.25 267.082 1481.67 Q264.027 1477.06 264.027 1468.33 Q264.027 1459.58 267.082 1455 Q270.161 1450.39 275.971 1450.39 Z\" fill=\"#000000\" fill-rule=\"nonzero\" fill-opacity=\"1\" /><path clip-path=\"url(#clip550)\" d=\"M296.133 1479.7 L301.017 1479.7 L301.017 1485.58 L296.133 1485.58 L296.133 1479.7 Z\" fill=\"#000000\" fill-rule=\"nonzero\" fill-opacity=\"1\" /><path clip-path=\"url(#clip550)\" d=\"M311.249 1451.02 L329.605 1451.02 L329.605 1454.96 L315.531 1454.96 L315.531 1463.43 Q316.55 1463.08 317.568 1462.92 Q318.587 1462.73 319.605 1462.73 Q325.392 1462.73 328.772 1465.9 Q332.151 1469.08 332.151 1474.49 Q332.151 1480.07 328.679 1483.17 Q325.207 1486.25 318.888 1486.25 Q316.712 1486.25 314.443 1485.88 Q312.198 1485.51 309.79 1484.77 L309.79 1480.07 Q311.874 1481.2 314.096 1481.76 Q316.318 1482.32 318.795 1482.32 Q322.8 1482.32 325.138 1480.21 Q327.476 1478.1 327.476 1474.49 Q327.476 1470.88 325.138 1468.77 Q322.8 1466.67 318.795 1466.67 Q316.92 1466.67 315.045 1467.08 Q313.193 1467.5 311.249 1468.38 L311.249 1451.02 Z\" fill=\"#000000\" fill-rule=\"nonzero\" fill-opacity=\"1\" /><path clip-path=\"url(#clip550)\" d=\"M576.65 1481.64 L584.288 1481.64 L584.288 1455.28 L575.978 1456.95 L575.978 1452.69 L584.242 1451.02 L588.918 1451.02 L588.918 1481.64 L596.557 1481.64 L596.557 1485.58 L576.65 1485.58 L576.65 1481.64 Z\" fill=\"#000000\" fill-rule=\"nonzero\" fill-opacity=\"1\" /><path clip-path=\"url(#clip550)\" d=\"M606.001 1479.7 L610.886 1479.7 L610.886 1485.58 L606.001 1485.58 L606.001 1479.7 Z\" fill=\"#000000\" fill-rule=\"nonzero\" fill-opacity=\"1\" /><path clip-path=\"url(#clip550)\" d=\"M631.071 1454.1 Q627.459 1454.1 625.631 1457.66 Q623.825 1461.2 623.825 1468.33 Q623.825 1475.44 625.631 1479.01 Q627.459 1482.55 631.071 1482.55 Q634.705 1482.55 636.51 1479.01 Q638.339 1475.44 638.339 1468.33 Q638.339 1461.2 636.51 1457.66 Q634.705 1454.1 631.071 1454.1 M631.071 1450.39 Q636.881 1450.39 639.936 1455 Q643.015 1459.58 643.015 1468.33 Q643.015 1477.06 639.936 1481.67 Q636.881 1486.25 631.071 1486.25 Q625.26 1486.25 622.182 1481.67 Q619.126 1477.06 619.126 1468.33 Q619.126 1459.58 622.182 1455 Q625.26 1450.39 631.071 1450.39 Z\" fill=\"#000000\" fill-rule=\"nonzero\" fill-opacity=\"1\" /><path clip-path=\"url(#clip550)\" d=\"M888.555 1481.64 L896.194 1481.64 L896.194 1455.28 L887.883 1456.95 L887.883 1452.69 L896.147 1451.02 L900.823 1451.02 L900.823 1481.64 L908.462 1481.64 L908.462 1485.58 L888.555 1485.58 L888.555 1481.64 Z\" fill=\"#000000\" fill-rule=\"nonzero\" fill-opacity=\"1\" /><path clip-path=\"url(#clip550)\" d=\"M917.906 1479.7 L922.791 1479.7 L922.791 1485.58 L917.906 1485.58 L917.906 1479.7 Z\" fill=\"#000000\" fill-rule=\"nonzero\" fill-opacity=\"1\" /><path clip-path=\"url(#clip550)\" d=\"M933.022 1451.02 L951.379 1451.02 L951.379 1454.96 L937.305 1454.96 L937.305 1463.43 Q938.323 1463.08 939.342 1462.92 Q940.36 1462.73 941.379 1462.73 Q947.166 1462.73 950.545 1465.9 Q953.925 1469.08 953.925 1474.49 Q953.925 1480.07 950.453 1483.17 Q946.98 1486.25 940.661 1486.25 Q938.485 1486.25 936.217 1485.88 Q933.971 1485.51 931.564 1484.77 L931.564 1480.07 Q933.647 1481.2 935.869 1481.76 Q938.092 1482.32 940.568 1482.32 Q944.573 1482.32 946.911 1480.21 Q949.249 1478.1 949.249 1474.49 Q949.249 1470.88 946.911 1468.77 Q944.573 1466.67 940.568 1466.67 Q938.693 1466.67 936.818 1467.08 Q934.967 1467.5 933.022 1468.38 L933.022 1451.02 Z\" fill=\"#000000\" fill-rule=\"nonzero\" fill-opacity=\"1\" /><path clip-path=\"url(#clip550)\" d=\"M1203.55 1481.64 L1219.87 1481.64 L1219.87 1485.58 L1197.93 1485.58 L1197.93 1481.64 Q1200.59 1478.89 1205.17 1474.26 Q1209.78 1469.61 1210.96 1468.27 Q1213.2 1465.74 1214.08 1464.01 Q1214.99 1462.25 1214.99 1460.56 Q1214.99 1457.8 1213.04 1456.07 Q1211.12 1454.33 1208.02 1454.33 Q1205.82 1454.33 1203.37 1455.09 Q1200.93 1455.86 1198.16 1457.41 L1198.16 1452.69 Q1200.98 1451.55 1203.43 1450.97 Q1205.89 1450.39 1207.93 1450.39 Q1213.3 1450.39 1216.49 1453.08 Q1219.68 1455.77 1219.68 1460.26 Q1219.68 1462.39 1218.87 1464.31 Q1218.09 1466.2 1215.98 1468.8 Q1215.4 1469.47 1212.3 1472.69 Q1209.2 1475.88 1203.55 1481.64 Z\" fill=\"#000000\" fill-rule=\"nonzero\" fill-opacity=\"1\" /><path clip-path=\"url(#clip550)\" d=\"M1229.68 1479.7 L1234.57 1479.7 L1234.57 1485.58 L1229.68 1485.58 L1229.68 1479.7 Z\" fill=\"#000000\" fill-rule=\"nonzero\" fill-opacity=\"1\" /><path clip-path=\"url(#clip550)\" d=\"M1254.75 1454.1 Q1251.14 1454.1 1249.31 1457.66 Q1247.51 1461.2 1247.51 1468.33 Q1247.51 1475.44 1249.31 1479.01 Q1251.14 1482.55 1254.75 1482.55 Q1258.39 1482.55 1260.19 1479.01 Q1262.02 1475.44 1262.02 1468.33 Q1262.02 1461.2 1260.19 1457.66 Q1258.39 1454.1 1254.75 1454.1 M1254.75 1450.39 Q1260.56 1450.39 1263.62 1455 Q1266.7 1459.58 1266.7 1468.33 Q1266.7 1477.06 1263.62 1481.67 Q1260.56 1486.25 1254.75 1486.25 Q1248.94 1486.25 1245.86 1481.67 Q1242.81 1477.06 1242.81 1468.33 Q1242.81 1459.58 1245.86 1455 Q1248.94 1450.39 1254.75 1450.39 Z\" fill=\"#000000\" fill-rule=\"nonzero\" fill-opacity=\"1\" /><path clip-path=\"url(#clip550)\" d=\"M1515.46 1481.64 L1531.77 1481.64 L1531.77 1485.58 L1509.83 1485.58 L1509.83 1481.64 Q1512.49 1478.89 1517.08 1474.26 Q1521.68 1469.61 1522.86 1468.27 Q1525.11 1465.74 1525.99 1464.01 Q1526.89 1462.25 1526.89 1460.56 Q1526.89 1457.8 1524.95 1456.07 Q1523.02 1454.33 1519.92 1454.33 Q1517.72 1454.33 1515.27 1455.09 Q1512.84 1455.86 1510.06 1457.41 L1510.06 1452.69 Q1512.89 1451.55 1515.34 1450.97 Q1517.79 1450.39 1519.83 1450.39 Q1525.2 1450.39 1528.4 1453.08 Q1531.59 1455.77 1531.59 1460.26 Q1531.59 1462.39 1530.78 1464.31 Q1529.99 1466.2 1527.89 1468.8 Q1527.31 1469.47 1524.21 1472.69 Q1521.1 1475.88 1515.46 1481.64 Z\" fill=\"#000000\" fill-rule=\"nonzero\" fill-opacity=\"1\" /><path clip-path=\"url(#clip550)\" d=\"M1541.59 1479.7 L1546.47 1479.7 L1546.47 1485.58 L1541.59 1485.58 L1541.59 1479.7 Z\" fill=\"#000000\" fill-rule=\"nonzero\" fill-opacity=\"1\" /><path clip-path=\"url(#clip550)\" d=\"M1556.71 1451.02 L1575.06 1451.02 L1575.06 1454.96 L1560.99 1454.96 L1560.99 1463.43 Q1562.01 1463.08 1563.02 1462.92 Q1564.04 1462.73 1565.06 1462.73 Q1570.85 1462.73 1574.23 1465.9 Q1577.61 1469.08 1577.61 1474.49 Q1577.61 1480.07 1574.14 1483.17 Q1570.66 1486.25 1564.34 1486.25 Q1562.17 1486.25 1559.9 1485.88 Q1557.65 1485.51 1555.25 1484.77 L1555.25 1480.07 Q1557.33 1481.2 1559.55 1481.76 Q1561.77 1482.32 1564.25 1482.32 Q1568.26 1482.32 1570.59 1480.21 Q1572.93 1478.1 1572.93 1474.49 Q1572.93 1470.88 1570.59 1468.77 Q1568.26 1466.67 1564.25 1466.67 Q1562.38 1466.67 1560.5 1467.08 Q1558.65 1467.5 1556.71 1468.38 L1556.71 1451.02 Z\" fill=\"#000000\" fill-rule=\"nonzero\" fill-opacity=\"1\" /><path clip-path=\"url(#clip550)\" d=\"M1836.43 1466.95 Q1839.79 1467.66 1841.67 1469.93 Q1843.56 1472.2 1843.56 1475.53 Q1843.56 1480.65 1840.05 1483.45 Q1836.53 1486.25 1830.05 1486.25 Q1827.87 1486.25 1825.56 1485.81 Q1823.26 1485.39 1820.81 1484.54 L1820.81 1480.02 Q1822.75 1481.16 1825.07 1481.74 Q1827.38 1482.32 1829.91 1482.32 Q1834.31 1482.32 1836.6 1480.58 Q1838.91 1478.84 1838.91 1475.53 Q1838.91 1472.48 1836.76 1470.77 Q1834.63 1469.03 1830.81 1469.03 L1826.78 1469.03 L1826.78 1465.19 L1830.99 1465.19 Q1834.44 1465.19 1836.27 1463.82 Q1838.1 1462.43 1838.1 1459.84 Q1838.1 1457.18 1836.2 1455.77 Q1834.33 1454.33 1830.81 1454.33 Q1828.89 1454.33 1826.69 1454.75 Q1824.49 1455.16 1821.85 1456.04 L1821.85 1451.88 Q1824.51 1451.14 1826.83 1450.77 Q1829.17 1450.39 1831.23 1450.39 Q1836.55 1450.39 1839.65 1452.83 Q1842.75 1455.23 1842.75 1459.35 Q1842.75 1462.22 1841.11 1464.21 Q1839.47 1466.18 1836.43 1466.95 Z\" fill=\"#000000\" fill-rule=\"nonzero\" fill-opacity=\"1\" /><path clip-path=\"url(#clip550)\" d=\"M1852.43 1479.7 L1857.31 1479.7 L1857.31 1485.58 L1852.43 1485.58 L1852.43 1479.7 Z\" fill=\"#000000\" fill-rule=\"nonzero\" fill-opacity=\"1\" /><path clip-path=\"url(#clip550)\" d=\"M1877.5 1454.1 Q1873.89 1454.1 1872.06 1457.66 Q1870.25 1461.2 1870.25 1468.33 Q1870.25 1475.44 1872.06 1479.01 Q1873.89 1482.55 1877.5 1482.55 Q1881.13 1482.55 1882.94 1479.01 Q1884.77 1475.44 1884.77 1468.33 Q1884.77 1461.2 1882.94 1457.66 Q1881.13 1454.1 1877.5 1454.1 M1877.5 1450.39 Q1883.31 1450.39 1886.36 1455 Q1889.44 1459.58 1889.44 1468.33 Q1889.44 1477.06 1886.36 1481.67 Q1883.31 1486.25 1877.5 1486.25 Q1871.69 1486.25 1868.61 1481.67 Q1865.55 1477.06 1865.55 1468.33 Q1865.55 1459.58 1868.61 1455 Q1871.69 1450.39 1877.5 1450.39 Z\" fill=\"#000000\" fill-rule=\"nonzero\" fill-opacity=\"1\" /><path clip-path=\"url(#clip550)\" d=\"M2148.34 1466.95 Q2151.7 1467.66 2153.57 1469.93 Q2155.47 1472.2 2155.47 1475.53 Q2155.47 1480.65 2151.95 1483.45 Q2148.43 1486.25 2141.95 1486.25 Q2139.78 1486.25 2137.46 1485.81 Q2135.17 1485.39 2132.71 1484.54 L2132.71 1480.02 Q2134.66 1481.16 2136.97 1481.74 Q2139.29 1482.32 2141.81 1482.32 Q2146.21 1482.32 2148.5 1480.58 Q2150.82 1478.84 2150.82 1475.53 Q2150.82 1472.48 2148.66 1470.77 Q2146.53 1469.03 2142.71 1469.03 L2138.69 1469.03 L2138.69 1465.19 L2142.9 1465.19 Q2146.35 1465.19 2148.18 1463.82 Q2150.01 1462.43 2150.01 1459.84 Q2150.01 1457.18 2148.11 1455.77 Q2146.23 1454.33 2142.71 1454.33 Q2140.79 1454.33 2138.59 1454.75 Q2136.4 1455.16 2133.76 1456.04 L2133.76 1451.88 Q2136.42 1451.14 2138.73 1450.77 Q2141.07 1450.39 2143.13 1450.39 Q2148.46 1450.39 2151.56 1452.83 Q2154.66 1455.23 2154.66 1459.35 Q2154.66 1462.22 2153.02 1464.21 Q2151.37 1466.18 2148.34 1466.95 Z\" fill=\"#000000\" fill-rule=\"nonzero\" fill-opacity=\"1\" /><path clip-path=\"url(#clip550)\" d=\"M2164.34 1479.7 L2169.22 1479.7 L2169.22 1485.58 L2164.34 1485.58 L2164.34 1479.7 Z\" fill=\"#000000\" fill-rule=\"nonzero\" fill-opacity=\"1\" /><path clip-path=\"url(#clip550)\" d=\"M2179.45 1451.02 L2197.81 1451.02 L2197.81 1454.96 L2183.73 1454.96 L2183.73 1463.43 Q2184.75 1463.08 2185.77 1462.92 Q2186.79 1462.73 2187.81 1462.73 Q2193.59 1462.73 2196.97 1465.9 Q2200.35 1469.08 2200.35 1474.49 Q2200.35 1480.07 2196.88 1483.17 Q2193.41 1486.25 2187.09 1486.25 Q2184.91 1486.25 2182.65 1485.88 Q2180.4 1485.51 2177.99 1484.77 L2177.99 1480.07 Q2180.08 1481.2 2182.3 1481.76 Q2184.52 1482.32 2187 1482.32 Q2191 1482.32 2193.34 1480.21 Q2195.68 1478.1 2195.68 1474.49 Q2195.68 1470.88 2193.34 1468.77 Q2191 1466.67 2187 1466.67 Q2185.12 1466.67 2183.25 1467.08 Q2181.4 1467.5 2179.45 1468.38 L2179.45 1451.02 Z\" fill=\"#000000\" fill-rule=\"nonzero\" fill-opacity=\"1\" /><path clip-path=\"url(#clip550)\" d=\"M928.807 1568.04 L910.665 1520.52 L917.381 1520.52 L932.436 1560.53 L947.522 1520.52 L954.206 1520.52 L936.096 1568.04 L928.807 1568.04 Z\" fill=\"#000000\" fill-rule=\"nonzero\" fill-opacity=\"1\" /><path clip-path=\"url(#clip550)\" d=\"M969.643 1536.5 Q964.933 1536.5 962.195 1540.19 Q959.458 1543.85 959.458 1550.25 Q959.458 1556.65 962.164 1560.34 Q964.901 1564 969.643 1564 Q974.322 1564 977.059 1560.31 Q979.797 1556.62 979.797 1550.25 Q979.797 1543.92 977.059 1540.23 Q974.322 1536.5 969.643 1536.5 M969.643 1531.54 Q977.282 1531.54 981.643 1536.5 Q986.003 1541.47 986.003 1550.25 Q986.003 1559 981.643 1564 Q977.282 1568.97 969.643 1568.97 Q961.973 1568.97 957.612 1564 Q953.283 1559 953.283 1550.25 Q953.283 1541.47 957.612 1536.5 Q961.973 1531.54 969.643 1531.54 Z\" fill=\"#000000\" fill-rule=\"nonzero\" fill-opacity=\"1\" /><path clip-path=\"url(#clip550)\" d=\"M995.711 1518.52 L1001.57 1518.52 L1001.57 1568.04 L995.711 1568.04 L995.711 1518.52 Z\" fill=\"#000000\" fill-rule=\"nonzero\" fill-opacity=\"1\" /><path clip-path=\"url(#clip550)\" d=\"M1013.22 1553.98 L1013.22 1532.4 L1019.07 1532.4 L1019.07 1553.75 Q1019.07 1558.81 1021.05 1561.36 Q1023.02 1563.87 1026.97 1563.87 Q1031.71 1563.87 1034.45 1560.85 Q1037.22 1557.83 1037.22 1552.61 L1037.22 1532.4 L1043.07 1532.4 L1043.07 1568.04 L1037.22 1568.04 L1037.22 1562.57 Q1035.08 1565.82 1032.25 1567.41 Q1029.45 1568.97 1025.73 1568.97 Q1019.58 1568.97 1016.4 1565.15 Q1013.22 1561.33 1013.22 1553.98 M1027.95 1531.54 L1027.95 1531.54 Z\" fill=\"#000000\" fill-rule=\"nonzero\" fill-opacity=\"1\" /><path clip-path=\"url(#clip550)\" d=\"M1082.89 1539.24 Q1085.09 1535.29 1088.14 1533.41 Q1091.2 1531.54 1095.33 1531.54 Q1100.9 1531.54 1103.93 1535.45 Q1106.95 1539.33 1106.95 1546.53 L1106.95 1568.04 L1101.06 1568.04 L1101.06 1546.72 Q1101.06 1541.59 1099.25 1539.11 Q1097.43 1536.63 1093.71 1536.63 Q1089.16 1536.63 1086.52 1539.65 Q1083.88 1542.68 1083.88 1547.9 L1083.88 1568.04 L1077.99 1568.04 L1077.99 1546.72 Q1077.99 1541.56 1076.17 1539.11 Q1074.36 1536.63 1070.57 1536.63 Q1066.08 1536.63 1063.44 1539.68 Q1060.8 1542.71 1060.8 1547.9 L1060.8 1568.04 L1054.91 1568.04 L1054.91 1532.4 L1060.8 1532.4 L1060.8 1537.93 Q1062.81 1534.66 1065.61 1533.1 Q1068.41 1531.54 1072.26 1531.54 Q1076.14 1531.54 1078.85 1533.51 Q1081.58 1535.48 1082.89 1539.24 Z\" fill=\"#000000\" fill-rule=\"nonzero\" fill-opacity=\"1\" /><path clip-path=\"url(#clip550)\" d=\"M1149.12 1548.76 L1149.12 1551.62 L1122.2 1551.62 Q1122.58 1557.67 1125.83 1560.85 Q1129.1 1564 1134.93 1564 Q1138.3 1564 1141.45 1563.17 Q1144.64 1562.35 1147.76 1560.69 L1147.76 1566.23 Q1144.6 1567.57 1141.29 1568.27 Q1137.98 1568.97 1134.58 1568.97 Q1126.05 1568.97 1121.05 1564 Q1116.09 1559.04 1116.09 1550.57 Q1116.09 1541.82 1120.8 1536.69 Q1125.54 1531.54 1133.56 1531.54 Q1140.75 1531.54 1144.92 1536.18 Q1149.12 1540.8 1149.12 1548.76 M1143.27 1547.04 Q1143.2 1542.23 1140.56 1539.37 Q1137.95 1536.5 1133.62 1536.5 Q1128.72 1536.5 1125.76 1539.27 Q1122.83 1542.04 1122.39 1547.07 L1143.27 1547.04 Z\" fill=\"#000000\" fill-rule=\"nonzero\" fill-opacity=\"1\" /><path clip-path=\"url(#clip550)\" d=\"M1193.27 1536.5 Q1188.56 1536.5 1185.82 1540.19 Q1183.09 1543.85 1183.09 1550.25 Q1183.09 1556.65 1185.79 1560.34 Q1188.53 1564 1193.27 1564 Q1197.95 1564 1200.69 1560.31 Q1203.42 1556.62 1203.42 1550.25 Q1203.42 1543.92 1200.69 1540.23 Q1197.95 1536.5 1193.27 1536.5 M1193.27 1531.54 Q1200.91 1531.54 1205.27 1536.5 Q1209.63 1541.47 1209.63 1550.25 Q1209.63 1559 1205.27 1564 Q1200.91 1568.97 1193.27 1568.97 Q1185.6 1568.97 1181.24 1564 Q1176.91 1559 1176.91 1550.25 Q1176.91 1541.47 1181.24 1536.5 Q1185.6 1531.54 1193.27 1531.54 Z\" fill=\"#000000\" fill-rule=\"nonzero\" fill-opacity=\"1\" /><path clip-path=\"url(#clip550)\" d=\"M1237.38 1518.52 L1237.38 1523.39 L1231.78 1523.39 Q1228.63 1523.39 1227.39 1524.66 Q1226.18 1525.93 1226.18 1529.24 L1226.18 1532.4 L1235.83 1532.4 L1235.83 1536.95 L1226.18 1536.95 L1226.18 1568.04 L1220.29 1568.04 L1220.29 1536.95 L1214.69 1536.95 L1214.69 1532.4 L1220.29 1532.4 L1220.29 1529.91 Q1220.29 1523.96 1223.06 1521.26 Q1225.83 1518.52 1231.85 1518.52 L1237.38 1518.52 Z\" fill=\"#000000\" fill-rule=\"nonzero\" fill-opacity=\"1\" /><path clip-path=\"url(#clip550)\" d=\"M1279.21 1550.12 Q1272.11 1550.12 1269.37 1551.75 Q1266.64 1553.37 1266.64 1557.29 Q1266.64 1560.4 1268.67 1562.25 Q1270.74 1564.07 1274.27 1564.07 Q1279.14 1564.07 1282.07 1560.63 Q1285.03 1557.16 1285.03 1551.43 L1285.03 1550.12 L1279.21 1550.12 M1290.89 1547.71 L1290.89 1568.04 L1285.03 1568.04 L1285.03 1562.63 Q1283.03 1565.88 1280.04 1567.44 Q1277.04 1568.97 1272.71 1568.97 Q1267.24 1568.97 1263.99 1565.91 Q1260.78 1562.82 1260.78 1557.67 Q1260.78 1551.65 1264.79 1548.6 Q1268.83 1545.54 1276.82 1545.54 L1285.03 1545.54 L1285.03 1544.97 Q1285.03 1540.93 1282.36 1538.73 Q1279.72 1536.5 1274.91 1536.5 Q1271.86 1536.5 1268.96 1537.23 Q1266.06 1537.97 1263.39 1539.43 L1263.39 1534.02 Q1266.6 1532.78 1269.63 1532.17 Q1272.65 1531.54 1275.52 1531.54 Q1283.25 1531.54 1287.07 1535.55 Q1290.89 1539.56 1290.89 1547.71 Z\" fill=\"#000000\" fill-rule=\"nonzero\" fill-opacity=\"1\" /><path clip-path=\"url(#clip550)\" d=\"M1302.95 1532.4 L1308.81 1532.4 L1308.81 1568.04 L1302.95 1568.04 L1302.95 1532.4 M1302.95 1518.52 L1308.81 1518.52 L1308.81 1525.93 L1302.95 1525.93 L1302.95 1518.52 Z\" fill=\"#000000\" fill-rule=\"nonzero\" fill-opacity=\"1\" /><path clip-path=\"url(#clip550)\" d=\"M1341.72 1537.87 Q1340.73 1537.3 1339.55 1537.04 Q1338.41 1536.76 1337.01 1536.76 Q1332.04 1536.76 1329.37 1540 Q1326.73 1543.22 1326.73 1549.27 L1326.73 1568.04 L1320.84 1568.04 L1320.84 1532.4 L1326.73 1532.4 L1326.73 1537.93 Q1328.57 1534.69 1331.53 1533.13 Q1334.49 1531.54 1338.73 1531.54 Q1339.33 1531.54 1340.06 1531.63 Q1340.8 1531.7 1341.69 1531.85 L1341.72 1537.87 Z\" fill=\"#000000\" fill-rule=\"nonzero\" fill-opacity=\"1\" /><path clip-path=\"url(#clip550)\" d=\"M1368.58 1532.4 L1374.44 1532.4 L1374.44 1568.04 L1368.58 1568.04 L1368.58 1532.4 M1368.58 1518.52 L1374.44 1518.52 L1374.44 1525.93 L1368.58 1525.93 L1368.58 1518.52 Z\" fill=\"#000000\" fill-rule=\"nonzero\" fill-opacity=\"1\" /><path clip-path=\"url(#clip550)\" d=\"M1416.32 1546.53 L1416.32 1568.04 L1410.47 1568.04 L1410.47 1546.72 Q1410.47 1541.66 1408.5 1539.14 Q1406.52 1536.63 1402.57 1536.63 Q1397.83 1536.63 1395.1 1539.65 Q1392.36 1542.68 1392.36 1547.9 L1392.36 1568.04 L1386.47 1568.04 L1386.47 1532.4 L1392.36 1532.4 L1392.36 1537.93 Q1394.46 1534.72 1397.29 1533.13 Q1400.16 1531.54 1403.88 1531.54 Q1410.02 1531.54 1413.17 1535.36 Q1416.32 1539.14 1416.32 1546.53 Z\" fill=\"#000000\" fill-rule=\"nonzero\" fill-opacity=\"1\" /><path clip-path=\"url(#clip550)\" d=\"M1450.73 1533.45 L1450.73 1538.98 Q1448.25 1537.71 1445.58 1537.07 Q1442.9 1536.44 1440.04 1536.44 Q1435.68 1536.44 1433.48 1537.77 Q1431.32 1539.11 1431.32 1541.79 Q1431.32 1543.82 1432.88 1545 Q1434.44 1546.15 1439.15 1547.2 L1441.15 1547.64 Q1447.39 1548.98 1450 1551.43 Q1452.64 1553.85 1452.64 1558.21 Q1452.64 1563.17 1448.69 1566.07 Q1444.78 1568.97 1437.9 1568.97 Q1435.04 1568.97 1431.92 1568.39 Q1428.83 1567.85 1425.4 1566.74 L1425.4 1560.69 Q1428.64 1562.38 1431.79 1563.24 Q1434.94 1564.07 1438.03 1564.07 Q1442.17 1564.07 1444.4 1562.66 Q1446.63 1561.23 1446.63 1558.65 Q1446.63 1556.27 1445 1554.99 Q1443.41 1553.72 1437.97 1552.54 L1435.93 1552.07 Q1430.49 1550.92 1428.07 1548.56 Q1425.65 1546.18 1425.65 1542.04 Q1425.65 1537.01 1429.22 1534.27 Q1432.78 1531.54 1439.34 1531.54 Q1442.58 1531.54 1445.45 1532.01 Q1448.31 1532.49 1450.73 1533.45 Z\" fill=\"#000000\" fill-rule=\"nonzero\" fill-opacity=\"1\" /><path clip-path=\"url(#clip550)\" d=\"M1467.63 1562.7 L1467.63 1581.6 L1461.74 1581.6 L1461.74 1532.4 L1467.63 1532.4 L1467.63 1537.81 Q1469.48 1534.62 1472.28 1533.1 Q1475.11 1531.54 1479.03 1531.54 Q1485.52 1531.54 1489.56 1536.69 Q1493.64 1541.85 1493.64 1550.25 Q1493.64 1558.65 1489.56 1563.81 Q1485.52 1568.97 1479.03 1568.97 Q1475.11 1568.97 1472.28 1567.44 Q1469.48 1565.88 1467.63 1562.7 M1487.56 1550.25 Q1487.56 1543.79 1484.88 1540.13 Q1482.24 1536.44 1477.59 1536.44 Q1472.95 1536.44 1470.27 1540.13 Q1467.63 1543.79 1467.63 1550.25 Q1467.63 1556.71 1470.27 1560.4 Q1472.95 1564.07 1477.59 1564.07 Q1482.24 1564.07 1484.88 1560.4 Q1487.56 1556.71 1487.56 1550.25 Z\" fill=\"#000000\" fill-rule=\"nonzero\" fill-opacity=\"1\" /><path clip-path=\"url(#clip550)\" d=\"M1503.34 1532.4 L1509.2 1532.4 L1509.2 1568.04 L1503.34 1568.04 L1503.34 1532.4 M1503.34 1518.52 L1509.2 1518.52 L1509.2 1525.93 L1503.34 1525.93 L1503.34 1518.52 Z\" fill=\"#000000\" fill-rule=\"nonzero\" fill-opacity=\"1\" /><path clip-path=\"url(#clip550)\" d=\"M1542.11 1537.87 Q1541.12 1537.3 1539.95 1537.04 Q1538.8 1536.76 1537.4 1536.76 Q1532.44 1536.76 1529.76 1540 Q1527.12 1543.22 1527.12 1549.27 L1527.12 1568.04 L1521.23 1568.04 L1521.23 1532.4 L1527.12 1532.4 L1527.12 1537.93 Q1528.97 1534.69 1531.93 1533.13 Q1534.89 1531.54 1539.12 1531.54 Q1539.72 1531.54 1540.46 1531.63 Q1541.19 1531.7 1542.08 1531.85 L1542.11 1537.87 Z\" fill=\"#000000\" fill-rule=\"nonzero\" fill-opacity=\"1\" /><path clip-path=\"url(#clip550)\" d=\"M1577.31 1548.76 L1577.31 1551.62 L1550.39 1551.62 Q1550.77 1557.67 1554.02 1560.85 Q1557.29 1564 1563.12 1564 Q1566.49 1564 1569.64 1563.17 Q1572.83 1562.35 1575.94 1560.69 L1575.94 1566.23 Q1572.79 1567.57 1569.48 1568.27 Q1566.17 1568.97 1562.77 1568.97 Q1554.24 1568.97 1549.24 1564 Q1544.28 1559.04 1544.28 1550.57 Q1544.28 1541.82 1548.99 1536.69 Q1553.73 1531.54 1561.75 1531.54 Q1568.94 1531.54 1573.11 1536.18 Q1577.31 1540.8 1577.31 1548.76 M1571.46 1547.04 Q1571.39 1542.23 1568.75 1539.37 Q1566.14 1536.5 1561.81 1536.5 Q1556.91 1536.5 1553.95 1539.27 Q1551.02 1542.04 1550.58 1547.07 L1571.46 1547.04 Z\" fill=\"#000000\" fill-rule=\"nonzero\" fill-opacity=\"1\" /><path clip-path=\"url(#clip550)\" d=\"M1610.38 1537.81 L1610.38 1518.52 L1616.24 1518.52 L1616.24 1568.04 L1610.38 1568.04 L1610.38 1562.7 Q1608.54 1565.88 1605.7 1567.44 Q1602.9 1568.97 1598.96 1568.97 Q1592.5 1568.97 1588.42 1563.81 Q1584.38 1558.65 1584.38 1550.25 Q1584.38 1541.85 1588.42 1536.69 Q1592.5 1531.54 1598.96 1531.54 Q1602.9 1531.54 1605.7 1533.1 Q1608.54 1534.62 1610.38 1537.81 M1590.43 1550.25 Q1590.43 1556.71 1593.07 1560.4 Q1595.74 1564.07 1600.39 1564.07 Q1605.04 1564.07 1607.71 1560.4 Q1610.38 1556.71 1610.38 1550.25 Q1610.38 1543.79 1607.71 1540.13 Q1605.04 1536.44 1600.39 1536.44 Q1595.74 1536.44 1593.07 1540.13 Q1590.43 1543.79 1590.43 1550.25 Z\" fill=\"#000000\" fill-rule=\"nonzero\" fill-opacity=\"1\" /><polyline clip-path=\"url(#clip550)\" style=\"stroke:#000000; stroke-linecap:round; stroke-linejoin:round; stroke-width:4; stroke-opacity:1; fill:none\" points=\"174.149,1423.18 174.149,123.472 \"/>\n",
       "<polyline clip-path=\"url(#clip550)\" style=\"stroke:#000000; stroke-linecap:round; stroke-linejoin:round; stroke-width:4; stroke-opacity:1; fill:none\" points=\"174.149,1396.28 193.047,1396.28 \"/>\n",
       "<polyline clip-path=\"url(#clip550)\" style=\"stroke:#000000; stroke-linecap:round; stroke-linejoin:round; stroke-width:4; stroke-opacity:1; fill:none\" points=\"174.149,1066.68 193.047,1066.68 \"/>\n",
       "<polyline clip-path=\"url(#clip550)\" style=\"stroke:#000000; stroke-linecap:round; stroke-linejoin:round; stroke-width:4; stroke-opacity:1; fill:none\" points=\"174.149,737.069 193.047,737.069 \"/>\n",
       "<polyline clip-path=\"url(#clip550)\" style=\"stroke:#000000; stroke-linecap:round; stroke-linejoin:round; stroke-width:4; stroke-opacity:1; fill:none\" points=\"174.149,407.462 193.047,407.462 \"/>\n",
       "<path clip-path=\"url(#clip550)\" d=\"M126.205 1382.08 Q122.593 1382.08 120.765 1385.65 Q118.959 1389.19 118.959 1396.32 Q118.959 1403.43 120.765 1406.99 Q122.593 1410.53 126.205 1410.53 Q129.839 1410.53 131.644 1406.99 Q133.473 1403.43 133.473 1396.32 Q133.473 1389.19 131.644 1385.65 Q129.839 1382.08 126.205 1382.08 M126.205 1378.38 Q132.015 1378.38 135.07 1382.99 Q138.149 1387.57 138.149 1396.32 Q138.149 1405.05 135.07 1409.65 Q132.015 1414.24 126.205 1414.24 Q120.394 1414.24 117.316 1409.65 Q114.26 1405.05 114.26 1396.32 Q114.26 1387.57 117.316 1382.99 Q120.394 1378.38 126.205 1378.38 Z\" fill=\"#000000\" fill-rule=\"nonzero\" fill-opacity=\"1\" /><path clip-path=\"url(#clip550)\" d=\"M118.242 1080.02 L125.88 1080.02 L125.88 1053.66 L117.57 1055.32 L117.57 1051.06 L125.834 1049.4 L130.51 1049.4 L130.51 1080.02 L138.149 1080.02 L138.149 1083.96 L118.242 1083.96 L118.242 1080.02 Z\" fill=\"#000000\" fill-rule=\"nonzero\" fill-opacity=\"1\" /><path clip-path=\"url(#clip550)\" d=\"M121.83 750.414 L138.149 750.414 L138.149 754.349 L116.205 754.349 L116.205 750.414 Q118.867 747.659 123.45 743.03 Q128.056 738.377 129.237 737.034 Q131.482 734.511 132.362 732.775 Q133.265 731.016 133.265 729.326 Q133.265 726.572 131.32 724.835 Q129.399 723.099 126.297 723.099 Q124.098 723.099 121.644 723.863 Q119.214 724.627 116.436 726.178 L116.436 721.456 Q119.26 720.322 121.714 719.743 Q124.168 719.164 126.205 719.164 Q131.575 719.164 134.769 721.849 Q137.964 724.535 137.964 729.025 Q137.964 731.155 137.154 733.076 Q136.367 734.974 134.26 737.567 Q133.681 738.238 130.58 741.456 Q127.478 744.65 121.83 750.414 Z\" fill=\"#000000\" fill-rule=\"nonzero\" fill-opacity=\"1\" /><path clip-path=\"url(#clip550)\" d=\"M131.019 406.108 Q134.376 406.825 136.251 409.094 Q138.149 411.362 138.149 414.696 Q138.149 419.811 134.63 422.612 Q131.112 425.413 124.63 425.413 Q122.455 425.413 120.14 424.973 Q117.848 424.557 115.394 423.7 L115.394 419.186 Q117.339 420.321 119.654 420.899 Q121.968 421.478 124.492 421.478 Q128.89 421.478 131.181 419.742 Q133.496 418.006 133.496 414.696 Q133.496 411.64 131.343 409.927 Q129.214 408.191 125.394 408.191 L121.367 408.191 L121.367 404.348 L125.58 404.348 Q129.029 404.348 130.857 402.983 Q132.686 401.594 132.686 399.001 Q132.686 396.339 130.788 394.927 Q128.913 393.492 125.394 393.492 Q123.473 393.492 121.274 393.909 Q119.075 394.325 116.436 395.205 L116.436 391.038 Q119.098 390.298 121.413 389.927 Q123.751 389.557 125.811 389.557 Q131.135 389.557 134.237 391.987 Q137.339 394.395 137.339 398.515 Q137.339 401.385 135.695 403.376 Q134.052 405.344 131.019 406.108 Z\" fill=\"#000000\" fill-rule=\"nonzero\" fill-opacity=\"1\" /><path clip-path=\"url(#clip550)\" d=\"M41.7242 1054.15 Q42.4244 1052.08 44.7161 1050.14 Q47.0077 1048.17 51.0181 1046.19 L64.0042 1039.67 L64.0042 1046.57 L51.8138 1052.65 Q47.0395 1055.01 45.48 1057.24 Q43.9204 1059.43 43.9204 1063.25 L43.9204 1070.25 L64.0042 1070.25 L64.0042 1076.68 L16.4842 1076.68 L16.4842 1062.17 Q16.4842 1054.02 19.8898 1050.01 Q23.2955 1046 30.1704 1046 Q34.6582 1046 37.6183 1048.1 Q40.5784 1050.17 41.7242 1054.15 M21.7677 1070.25 L38.6368 1070.25 L38.6368 1062.17 Q38.6368 1057.52 36.5043 1055.17 Q34.34 1052.78 30.1704 1052.78 Q26.0009 1052.78 23.9002 1055.17 Q21.7677 1057.52 21.7677 1062.17 L21.7677 1070.25 Z\" fill=\"#000000\" fill-rule=\"nonzero\" fill-opacity=\"1\" /><path clip-path=\"url(#clip550)\" d=\"M46.0847 1016.88 Q46.0847 1023.98 47.7079 1026.71 Q49.3312 1029.45 53.2461 1029.45 Q56.3653 1029.45 58.2114 1027.41 Q60.0256 1025.34 60.0256 1021.81 Q60.0256 1016.94 56.5881 1014.01 Q53.1188 1011.05 47.3897 1011.05 L46.0847 1011.05 L46.0847 1016.88 M43.6657 1005.2 L64.0042 1005.2 L64.0042 1011.05 L58.5933 1011.05 Q61.8398 1013.06 63.3994 1016.05 Q64.9272 1019.04 64.9272 1023.37 Q64.9272 1028.85 61.8716 1032.09 Q58.7843 1035.31 53.6281 1035.31 Q47.6125 1035.31 44.5569 1031.3 Q41.5014 1027.25 41.5014 1019.27 L41.5014 1011.05 L40.9285 1011.05 Q36.8862 1011.05 34.6901 1013.73 Q32.4621 1016.37 32.4621 1021.17 Q32.4621 1024.23 33.1941 1027.13 Q33.9262 1030.02 35.3903 1032.7 L29.9795 1032.7 Q28.7381 1029.48 28.1334 1026.46 Q27.4968 1023.43 27.4968 1020.57 Q27.4968 1012.84 31.5072 1009.02 Q35.5176 1005.2 43.6657 1005.2 Z\" fill=\"#000000\" fill-rule=\"nonzero\" fill-opacity=\"1\" /><path clip-path=\"url(#clip550)\" d=\"M18.2347 987.341 L28.3562 987.341 L28.3562 975.278 L32.9077 975.278 L32.9077 987.341 L52.2594 987.341 Q56.6199 987.341 57.8613 986.163 Q59.1026 984.954 59.1026 981.294 L59.1026 975.278 L64.0042 975.278 L64.0042 981.294 Q64.0042 988.073 61.4897 990.651 Q58.9434 993.229 52.2594 993.229 L32.9077 993.229 L32.9077 997.526 L28.3562 997.526 L28.3562 993.229 L18.2347 993.229 L18.2347 987.341 Z\" fill=\"#000000\" fill-rule=\"nonzero\" fill-opacity=\"1\" /><path clip-path=\"url(#clip550)\" d=\"M44.7161 937.084 L47.5806 937.084 L47.5806 964.011 Q53.6281 963.629 56.8109 960.382 Q59.9619 957.104 59.9619 951.279 Q59.9619 947.905 59.1344 944.754 Q58.3069 941.572 56.6518 938.452 L62.1899 938.452 Q63.5267 941.603 64.227 944.914 Q64.9272 948.224 64.9272 951.629 Q64.9272 960.159 59.9619 965.157 Q54.9967 970.122 46.5303 970.122 Q37.7774 970.122 32.6531 965.411 Q27.4968 960.669 27.4968 952.648 Q27.4968 945.455 32.1438 941.285 Q36.7589 937.084 44.7161 937.084 M42.9973 942.94 Q38.1912 943.004 35.3266 945.646 Q32.4621 948.256 32.4621 952.584 Q32.4621 957.486 35.2312 960.446 Q38.0002 963.374 43.0292 963.82 L42.9973 942.94 Z\" fill=\"#000000\" fill-rule=\"nonzero\" fill-opacity=\"1\" /><path clip-path=\"url(#clip550)\" d=\"M32.4621 892.938 Q32.4621 897.648 36.1542 900.385 Q39.8145 903.123 46.212 903.123 Q52.6095 903.123 56.3017 900.417 Q59.9619 897.68 59.9619 892.938 Q59.9619 888.259 56.2698 885.522 Q52.5777 882.784 46.212 882.784 Q39.8781 882.784 36.186 885.522 Q32.4621 888.259 32.4621 892.938 M27.4968 892.938 Q27.4968 885.299 32.4621 880.938 Q37.4273 876.578 46.212 876.578 Q54.9649 876.578 59.9619 880.938 Q64.9272 885.299 64.9272 892.938 Q64.9272 900.608 59.9619 904.969 Q54.9649 909.297 46.212 909.297 Q37.4273 909.297 32.4621 904.969 Q27.4968 900.608 27.4968 892.938 Z\" fill=\"#000000\" fill-rule=\"nonzero\" fill-opacity=\"1\" /><path clip-path=\"url(#clip550)\" d=\"M14.479 848.823 L19.3487 848.823 L19.3487 854.425 Q19.3487 857.576 20.6219 858.817 Q21.895 860.027 25.2052 860.027 L28.3562 860.027 L28.3562 850.383 L32.9077 850.383 L32.9077 860.027 L64.0042 860.027 L64.0042 865.915 L32.9077 865.915 L32.9077 871.517 L28.3562 871.517 L28.3562 865.915 L25.8736 865.915 Q19.9216 865.915 17.2162 863.146 Q14.479 860.377 14.479 854.361 L14.479 848.823 Z\" fill=\"#000000\" fill-rule=\"nonzero\" fill-opacity=\"1\" /><path clip-path=\"url(#clip550)\" d=\"M46.0847 807.001 Q46.0847 814.098 47.7079 816.836 Q49.3312 819.573 53.2461 819.573 Q56.3653 819.573 58.2114 817.536 Q60.0256 815.467 60.0256 811.934 Q60.0256 807.064 56.5881 804.136 Q53.1188 801.176 47.3897 801.176 L46.0847 801.176 L46.0847 807.001 M43.6657 795.32 L64.0042 795.32 L64.0042 801.176 L58.5933 801.176 Q61.8398 803.181 63.3994 806.173 Q64.9272 809.165 64.9272 813.494 Q64.9272 818.968 61.8716 822.215 Q58.7843 825.429 53.6281 825.429 Q47.6125 825.429 44.5569 821.419 Q41.5014 817.377 41.5014 809.388 L41.5014 801.176 L40.9285 801.176 Q36.8862 801.176 34.6901 803.85 Q32.4621 806.491 32.4621 811.297 Q32.4621 814.353 33.1941 817.249 Q33.9262 820.146 35.3903 822.819 L29.9795 822.819 Q28.7381 819.605 28.1334 816.581 Q27.4968 813.557 27.4968 810.693 Q27.4968 802.958 31.5072 799.139 Q35.5176 795.32 43.6657 795.32 Z\" fill=\"#000000\" fill-rule=\"nonzero\" fill-opacity=\"1\" /><path clip-path=\"url(#clip550)\" d=\"M28.3562 783.256 L28.3562 777.4 L64.0042 777.4 L64.0042 783.256 L28.3562 783.256 M14.479 783.256 L14.479 777.4 L21.895 777.4 L21.895 783.256 L14.479 783.256 Z\" fill=\"#000000\" fill-rule=\"nonzero\" fill-opacity=\"1\" /><path clip-path=\"url(#clip550)\" d=\"M33.8307 744.489 Q33.2578 745.476 33.0032 746.654 Q32.7167 747.8 32.7167 749.2 Q32.7167 754.165 35.9632 756.839 Q39.1779 759.481 45.2253 759.481 L64.0042 759.481 L64.0042 765.369 L28.3562 765.369 L28.3562 759.481 L33.8944 759.481 Q30.6479 757.635 29.0883 754.674 Q27.4968 751.714 27.4968 747.481 Q27.4968 746.876 27.5923 746.144 Q27.656 745.412 27.8151 744.521 L33.8307 744.489 Z\" fill=\"#000000\" fill-rule=\"nonzero\" fill-opacity=\"1\" /><path clip-path=\"url(#clip550)\" d=\"M28.3562 717.626 L28.3562 711.77 L64.0042 711.77 L64.0042 717.626 L28.3562 717.626 M14.479 717.626 L14.479 711.77 L21.895 711.77 L21.895 717.626 L14.479 717.626 Z\" fill=\"#000000\" fill-rule=\"nonzero\" fill-opacity=\"1\" /><path clip-path=\"url(#clip550)\" d=\"M42.4881 669.883 L64.0042 669.883 L64.0042 675.74 L42.679 675.74 Q37.6183 675.74 35.1038 677.713 Q32.5894 679.686 32.5894 683.633 Q32.5894 688.376 35.6131 691.113 Q38.6368 693.85 43.8567 693.85 L64.0042 693.85 L64.0042 699.738 L28.3562 699.738 L28.3562 693.85 L33.8944 693.85 Q30.6797 691.749 29.0883 688.917 Q27.4968 686.052 27.4968 682.328 Q27.4968 676.185 31.3163 673.034 Q35.1038 669.883 42.4881 669.883 Z\" fill=\"#000000\" fill-rule=\"nonzero\" fill-opacity=\"1\" /><path clip-path=\"url(#clip550)\" d=\"M29.4065 635.477 L34.9447 635.477 Q33.6716 637.959 33.035 640.633 Q32.3984 643.306 32.3984 646.171 Q32.3984 650.532 33.7352 652.728 Q35.072 654.892 37.7456 654.892 Q39.7826 654.892 40.9603 653.332 Q42.1061 651.773 43.1565 647.062 L43.6021 645.057 Q44.9389 638.819 47.3897 636.209 Q49.8086 633.567 54.1691 633.567 Q59.1344 633.567 62.0308 637.514 Q64.9272 641.429 64.9272 648.304 Q64.9272 651.168 64.3543 654.287 Q63.8132 657.375 62.6992 660.812 L56.6518 660.812 Q58.3387 657.566 59.198 654.415 Q60.0256 651.264 60.0256 648.176 Q60.0256 644.038 58.6251 641.81 Q57.1929 639.582 54.6147 639.582 Q52.2276 639.582 50.9545 641.206 Q49.6813 642.797 48.5037 648.24 L48.0262 650.277 Q46.8804 655.72 44.5251 658.139 Q42.138 660.557 38.0002 660.557 Q32.9713 660.557 30.2341 656.993 Q27.4968 653.428 27.4968 646.871 Q27.4968 643.625 27.9743 640.76 Q28.4517 637.896 29.4065 635.477 Z\" fill=\"#000000\" fill-rule=\"nonzero\" fill-opacity=\"1\" /><path clip-path=\"url(#clip550)\" d=\"M58.657 618.576 L77.5631 618.576 L77.5631 624.464 L28.3562 624.464 L28.3562 618.576 L33.7671 618.576 Q30.5842 616.73 29.0564 613.929 Q27.4968 611.096 27.4968 607.181 Q27.4968 600.688 32.6531 596.646 Q37.8093 592.572 46.212 592.572 Q54.6147 592.572 59.771 596.646 Q64.9272 600.688 64.9272 607.181 Q64.9272 611.096 63.3994 613.929 Q61.8398 616.73 58.657 618.576 M46.212 598.651 Q39.7508 598.651 36.0905 601.325 Q32.3984 603.966 32.3984 608.613 Q32.3984 613.26 36.0905 615.934 Q39.7508 618.576 46.212 618.576 Q52.6732 618.576 56.3653 615.934 Q60.0256 613.26 60.0256 608.613 Q60.0256 603.966 56.3653 601.325 Q52.6732 598.651 46.212 598.651 Z\" fill=\"#000000\" fill-rule=\"nonzero\" fill-opacity=\"1\" /><path clip-path=\"url(#clip550)\" d=\"M28.3562 582.864 L28.3562 577.008 L64.0042 577.008 L64.0042 582.864 L28.3562 582.864 M14.479 582.864 L14.479 577.008 L21.895 577.008 L21.895 582.864 L14.479 582.864 Z\" fill=\"#000000\" fill-rule=\"nonzero\" fill-opacity=\"1\" /><path clip-path=\"url(#clip550)\" d=\"M33.8307 544.097 Q33.2578 545.084 33.0032 546.261 Q32.7167 547.407 32.7167 548.808 Q32.7167 553.773 35.9632 556.446 Q39.1779 559.088 45.2253 559.088 L64.0042 559.088 L64.0042 564.976 L28.3562 564.976 L28.3562 559.088 L33.8944 559.088 Q30.6479 557.242 29.0883 554.282 Q27.4968 551.322 27.4968 547.089 Q27.4968 546.484 27.5923 545.752 Q27.656 545.02 27.8151 544.129 L33.8307 544.097 Z\" fill=\"#000000\" fill-rule=\"nonzero\" fill-opacity=\"1\" /><path clip-path=\"url(#clip550)\" d=\"M44.7161 508.895 L47.5806 508.895 L47.5806 535.821 Q53.6281 535.44 56.8109 532.193 Q59.9619 528.915 59.9619 523.09 Q59.9619 519.716 59.1344 516.565 Q58.3069 513.382 56.6518 510.263 L62.1899 510.263 Q63.5267 513.414 64.227 516.724 Q64.9272 520.035 64.9272 523.44 Q64.9272 531.97 59.9619 536.967 Q54.9967 541.933 46.5303 541.933 Q37.7774 541.933 32.6531 537.222 Q27.4968 532.479 27.4968 524.459 Q27.4968 517.265 32.1438 513.096 Q36.7589 508.895 44.7161 508.895 M42.9973 514.751 Q38.1912 514.815 35.3266 517.456 Q32.4621 520.066 32.4621 524.395 Q32.4621 529.297 35.2312 532.257 Q38.0002 535.185 43.0292 535.63 L42.9973 514.751 Z\" fill=\"#000000\" fill-rule=\"nonzero\" fill-opacity=\"1\" /><path clip-path=\"url(#clip550)\" d=\"M33.7671 475.825 L14.479 475.825 L14.479 469.968 L64.0042 469.968 L64.0042 475.825 L58.657 475.825 Q61.8398 477.671 63.3994 480.503 Q64.9272 483.304 64.9272 487.251 Q64.9272 493.712 59.771 497.786 Q54.6147 501.829 46.212 501.829 Q37.8093 501.829 32.6531 497.786 Q27.4968 493.712 27.4968 487.251 Q27.4968 483.304 29.0564 480.503 Q30.5842 477.671 33.7671 475.825 M46.212 495.781 Q52.6732 495.781 56.3653 493.139 Q60.0256 490.466 60.0256 485.819 Q60.0256 481.172 56.3653 478.498 Q52.6732 475.825 46.212 475.825 Q39.7508 475.825 36.0905 478.498 Q32.3984 481.172 32.3984 485.819 Q32.3984 490.466 36.0905 493.139 Q39.7508 495.781 46.212 495.781 Z\" fill=\"#000000\" fill-rule=\"nonzero\" fill-opacity=\"1\" /><path clip-path=\"url(#clip550)\" d=\"M843.252 72.576 L820.162 12.096 L828.709 12.096 L847.87 63.0159 L867.071 12.096 L875.578 12.096 L852.529 72.576 L843.252 72.576 Z\" fill=\"#000000\" fill-rule=\"nonzero\" fill-opacity=\"1\" /><path clip-path=\"url(#clip550)\" d=\"M898.263 49.7694 Q889.23 49.7694 885.746 51.8354 Q882.262 53.9013 882.262 58.8839 Q882.262 62.8538 884.855 65.2034 Q887.488 67.5124 891.984 67.5124 Q898.182 67.5124 901.909 63.1374 Q905.677 58.7219 905.677 51.4303 L905.677 49.7694 L898.263 49.7694 M913.13 46.6907 L913.13 72.576 L905.677 72.576 L905.677 65.6895 Q903.124 69.8214 899.317 71.8063 Q895.509 73.7508 890 73.7508 Q883.032 73.7508 878.9 69.8619 Q874.809 65.9325 874.809 59.3701 Q874.809 51.7138 879.913 47.825 Q885.057 43.9361 895.225 43.9361 L905.677 43.9361 L905.677 43.2069 Q905.677 38.0623 902.274 35.2672 Q898.912 32.4315 892.795 32.4315 Q888.906 32.4315 885.219 33.3632 Q881.533 34.295 878.13 36.1584 L878.13 29.2718 Q882.222 27.692 886.07 26.9223 Q889.919 26.1121 893.564 26.1121 Q903.408 26.1121 908.269 31.2163 Q913.13 36.3204 913.13 46.6907 Z\" fill=\"#000000\" fill-rule=\"nonzero\" fill-opacity=\"1\" /><path clip-path=\"url(#clip550)\" d=\"M957.407 28.5427 L957.407 35.5912 Q954.247 33.9709 950.844 33.1607 Q947.441 32.3505 943.796 32.3505 Q938.246 32.3505 935.451 34.0519 Q932.696 35.7533 932.696 39.156 Q932.696 41.7486 934.681 43.2475 Q936.666 44.7058 942.661 46.0426 L945.213 46.6097 Q953.153 48.3111 956.475 51.4303 Q959.837 54.509 959.837 60.0587 Q959.837 66.3781 954.814 70.0644 Q949.831 73.7508 941.081 73.7508 Q937.436 73.7508 933.466 73.0216 Q929.536 72.3329 925.161 70.9151 L925.161 63.2184 Q929.293 65.3654 933.304 66.4591 Q937.314 67.5124 941.243 67.5124 Q946.51 67.5124 949.345 65.73 Q952.181 63.9071 952.181 60.6258 Q952.181 57.5877 950.115 55.9673 Q948.09 54.3469 941.162 52.8481 L938.57 52.2405 Q931.643 50.7821 928.564 47.7845 Q925.485 44.7463 925.485 39.4801 Q925.485 33.0797 930.022 29.5959 Q934.559 26.1121 942.904 26.1121 Q947.036 26.1121 950.682 26.7198 Q954.328 27.3274 957.407 28.5427 Z\" fill=\"#000000\" fill-rule=\"nonzero\" fill-opacity=\"1\" /><path clip-path=\"url(#clip550)\" d=\"M989.287 32.4315 Q983.292 32.4315 979.808 37.1306 Q976.324 41.7891 976.324 49.9314 Q976.324 58.0738 979.768 62.7728 Q983.251 67.4314 989.287 67.4314 Q995.242 67.4314 998.726 62.7323 Q1002.21 58.0333 1002.21 49.9314 Q1002.21 41.8701 998.726 37.1711 Q995.242 32.4315 989.287 32.4315 M989.287 26.1121 Q999.009 26.1121 1004.56 32.4315 Q1010.11 38.7509 1010.11 49.9314 Q1010.11 61.0714 1004.56 67.4314 Q999.009 73.7508 989.287 73.7508 Q979.525 73.7508 973.975 67.4314 Q968.466 61.0714 968.466 49.9314 Q968.466 38.7509 973.975 32.4315 Q979.525 26.1121 989.287 26.1121 Z\" fill=\"#000000\" fill-rule=\"nonzero\" fill-opacity=\"1\" /><path clip-path=\"url(#clip550)\" d=\"M1055.11 28.9478 L1055.11 35.9153 Q1051.95 34.1734 1048.75 33.3227 Q1045.59 32.4315 1042.35 32.4315 Q1035.1 32.4315 1031.09 37.0496 Q1027.08 41.6271 1027.08 49.9314 Q1027.08 58.2358 1031.09 62.8538 Q1035.1 67.4314 1042.35 67.4314 Q1045.59 67.4314 1048.75 66.5807 Q1051.95 65.6895 1055.11 63.9476 L1055.11 70.8341 Q1052 72.2924 1048.63 73.0216 Q1045.31 73.7508 1041.54 73.7508 Q1031.3 73.7508 1025.26 67.3098 Q1019.22 60.8689 1019.22 49.9314 Q1019.22 38.832 1025.3 32.472 Q1031.42 26.1121 1042.03 26.1121 Q1045.47 26.1121 1048.75 26.8413 Q1052.04 27.5299 1055.11 28.9478 Z\" fill=\"#000000\" fill-rule=\"nonzero\" fill-opacity=\"1\" /><path clip-path=\"url(#clip550)\" d=\"M1085.66 32.4315 Q1079.66 32.4315 1076.18 37.1306 Q1072.7 41.7891 1072.7 49.9314 Q1072.7 58.0738 1076.14 62.7728 Q1079.62 67.4314 1085.66 67.4314 Q1091.61 67.4314 1095.1 62.7323 Q1098.58 58.0333 1098.58 49.9314 Q1098.58 41.8701 1095.1 37.1711 Q1091.61 32.4315 1085.66 32.4315 M1085.66 26.1121 Q1095.38 26.1121 1100.93 32.4315 Q1106.48 38.7509 1106.48 49.9314 Q1106.48 61.0714 1100.93 67.4314 Q1095.38 73.7508 1085.66 73.7508 Q1075.9 73.7508 1070.35 67.4314 Q1064.84 61.0714 1064.84 49.9314 Q1064.84 38.7509 1070.35 32.4315 Q1075.9 26.1121 1085.66 26.1121 Z\" fill=\"#000000\" fill-rule=\"nonzero\" fill-opacity=\"1\" /><path clip-path=\"url(#clip550)\" d=\"M1156.55 45.1919 L1156.55 72.576 L1149.1 72.576 L1149.1 45.4349 Q1149.1 38.994 1146.58 35.7938 Q1144.07 32.5936 1139.05 32.5936 Q1133.01 32.5936 1129.53 36.4419 Q1126.05 40.2903 1126.05 46.9338 L1126.05 72.576 L1118.55 72.576 L1118.55 27.2059 L1126.05 27.2059 L1126.05 34.2544 Q1128.72 30.163 1132.32 28.1376 Q1135.97 26.1121 1140.71 26.1121 Q1148.53 26.1121 1152.54 30.9732 Q1156.55 35.7938 1156.55 45.1919 Z\" fill=\"#000000\" fill-rule=\"nonzero\" fill-opacity=\"1\" /><path clip-path=\"url(#clip550)\" d=\"M1200.34 28.5427 L1200.34 35.5912 Q1197.18 33.9709 1193.78 33.1607 Q1190.37 32.3505 1186.73 32.3505 Q1181.18 32.3505 1178.38 34.0519 Q1175.63 35.7533 1175.63 39.156 Q1175.63 41.7486 1177.61 43.2475 Q1179.6 44.7058 1185.59 46.0426 L1188.15 46.6097 Q1196.09 48.3111 1199.41 51.4303 Q1202.77 54.509 1202.77 60.0587 Q1202.77 66.3781 1197.75 70.0644 Q1192.76 73.7508 1184.01 73.7508 Q1180.37 73.7508 1176.4 73.0216 Q1172.47 72.3329 1168.09 70.9151 L1168.09 63.2184 Q1172.23 65.3654 1176.24 66.4591 Q1180.25 67.5124 1184.18 67.5124 Q1189.44 67.5124 1192.28 65.73 Q1195.11 63.9071 1195.11 60.6258 Q1195.11 57.5877 1193.05 55.9673 Q1191.02 54.3469 1184.1 52.8481 L1181.5 52.2405 Q1174.58 50.7821 1171.5 47.7845 Q1168.42 44.7463 1168.42 39.4801 Q1168.42 33.0797 1172.96 29.5959 Q1177.49 26.1121 1185.84 26.1121 Q1189.97 26.1121 1193.61 26.7198 Q1197.26 27.3274 1200.34 28.5427 Z\" fill=\"#000000\" fill-rule=\"nonzero\" fill-opacity=\"1\" /><path clip-path=\"url(#clip550)\" d=\"M1222.01 14.324 L1222.01 27.2059 L1237.36 27.2059 L1237.36 32.9987 L1222.01 32.9987 L1222.01 57.6282 Q1222.01 63.1779 1223.51 64.7578 Q1225.05 66.3376 1229.71 66.3376 L1237.36 66.3376 L1237.36 72.576 L1229.71 72.576 Q1221.08 72.576 1217.8 69.3758 Q1214.52 66.1351 1214.52 57.6282 L1214.52 32.9987 L1209.05 32.9987 L1209.05 27.2059 L1214.52 27.2059 L1214.52 14.324 L1222.01 14.324 Z\" fill=\"#000000\" fill-rule=\"nonzero\" fill-opacity=\"1\" /><path clip-path=\"url(#clip550)\" d=\"M1273.46 34.1734 Q1272.2 33.4443 1270.7 33.1202 Q1269.25 32.7556 1267.46 32.7556 Q1261.14 32.7556 1257.74 36.8875 Q1254.38 40.9789 1254.38 48.6757 L1254.38 72.576 L1246.88 72.576 L1246.88 27.2059 L1254.38 27.2059 L1254.38 34.2544 Q1256.73 30.1225 1260.5 28.1376 Q1264.26 26.1121 1269.65 26.1121 Q1270.42 26.1121 1271.35 26.2337 Q1272.28 26.3147 1273.42 26.5172 L1273.46 34.1734 Z\" fill=\"#000000\" fill-rule=\"nonzero\" fill-opacity=\"1\" /><path clip-path=\"url(#clip550)\" d=\"M1281.28 27.2059 L1288.73 27.2059 L1288.73 72.576 L1281.28 72.576 L1281.28 27.2059 M1281.28 9.54393 L1288.73 9.54393 L1288.73 18.9825 L1281.28 18.9825 L1281.28 9.54393 Z\" fill=\"#000000\" fill-rule=\"nonzero\" fill-opacity=\"1\" /><path clip-path=\"url(#clip550)\" d=\"M1336.98 28.9478 L1336.98 35.9153 Q1333.82 34.1734 1330.62 33.3227 Q1327.46 32.4315 1324.22 32.4315 Q1316.96 32.4315 1312.95 37.0496 Q1308.94 41.6271 1308.94 49.9314 Q1308.94 58.2358 1312.95 62.8538 Q1316.96 67.4314 1324.22 67.4314 Q1327.46 67.4314 1330.62 66.5807 Q1333.82 65.6895 1336.98 63.9476 L1336.98 70.8341 Q1333.86 72.2924 1330.49 73.0216 Q1327.17 73.7508 1323.41 73.7508 Q1313.16 73.7508 1307.12 67.3098 Q1301.09 60.8689 1301.09 49.9314 Q1301.09 38.832 1307.16 32.472 Q1313.28 26.1121 1323.89 26.1121 Q1327.34 26.1121 1330.62 26.8413 Q1333.9 27.5299 1336.98 28.9478 Z\" fill=\"#000000\" fill-rule=\"nonzero\" fill-opacity=\"1\" /><path clip-path=\"url(#clip550)\" d=\"M1357.31 14.324 L1357.31 27.2059 L1372.66 27.2059 L1372.66 32.9987 L1357.31 32.9987 L1357.31 57.6282 Q1357.31 63.1779 1358.81 64.7578 Q1360.35 66.3376 1365.01 66.3376 L1372.66 66.3376 L1372.66 72.576 L1365.01 72.576 Q1356.38 72.576 1353.1 69.3758 Q1349.82 66.1351 1349.82 57.6282 L1349.82 32.9987 L1344.35 32.9987 L1344.35 27.2059 L1349.82 27.2059 L1349.82 14.324 L1357.31 14.324 Z\" fill=\"#000000\" fill-rule=\"nonzero\" fill-opacity=\"1\" /><path clip-path=\"url(#clip550)\" d=\"M1382.47 27.2059 L1389.92 27.2059 L1389.92 72.576 L1382.47 72.576 L1382.47 27.2059 M1382.47 9.54393 L1389.92 9.54393 L1389.92 18.9825 L1382.47 18.9825 L1382.47 9.54393 Z\" fill=\"#000000\" fill-rule=\"nonzero\" fill-opacity=\"1\" /><path clip-path=\"url(#clip550)\" d=\"M1423.1 32.4315 Q1417.1 32.4315 1413.62 37.1306 Q1410.14 41.7891 1410.14 49.9314 Q1410.14 58.0738 1413.58 62.7728 Q1417.06 67.4314 1423.1 67.4314 Q1429.05 67.4314 1432.54 62.7323 Q1436.02 58.0333 1436.02 49.9314 Q1436.02 41.8701 1432.54 37.1711 Q1429.05 32.4315 1423.1 32.4315 M1423.1 26.1121 Q1432.82 26.1121 1438.37 32.4315 Q1443.92 38.7509 1443.92 49.9314 Q1443.92 61.0714 1438.37 67.4314 Q1432.82 73.7508 1423.1 73.7508 Q1413.34 73.7508 1407.79 67.4314 Q1402.28 61.0714 1402.28 49.9314 Q1402.28 38.7509 1407.79 32.4315 Q1413.34 26.1121 1423.1 26.1121 Z\" fill=\"#000000\" fill-rule=\"nonzero\" fill-opacity=\"1\" /><path clip-path=\"url(#clip550)\" d=\"M1493.99 45.1919 L1493.99 72.576 L1486.54 72.576 L1486.54 45.4349 Q1486.54 38.994 1484.02 35.7938 Q1481.51 32.5936 1476.49 32.5936 Q1470.45 32.5936 1466.97 36.4419 Q1463.49 40.2903 1463.49 46.9338 L1463.49 72.576 L1455.99 72.576 L1455.99 27.2059 L1463.49 27.2059 L1463.49 34.2544 Q1466.16 30.163 1469.76 28.1376 Q1473.41 26.1121 1478.15 26.1121 Q1485.97 26.1121 1489.98 30.9732 Q1493.99 35.7938 1493.99 45.1919 Z\" fill=\"#000000\" fill-rule=\"nonzero\" fill-opacity=\"1\" /><path clip-path=\"url(#clip550)\" d=\"M1565.08 34.0924 L1565.08 9.54393 L1572.54 9.54393 L1572.54 72.576 L1565.08 72.576 L1565.08 65.7705 Q1562.73 69.8214 1559.13 71.8063 Q1555.56 73.7508 1550.54 73.7508 Q1542.32 73.7508 1537.13 67.1883 Q1531.99 60.6258 1531.99 49.9314 Q1531.99 39.2371 1537.13 32.6746 Q1542.32 26.1121 1550.54 26.1121 Q1555.56 26.1121 1559.13 28.0971 Q1562.73 30.0415 1565.08 34.0924 M1539.68 49.9314 Q1539.68 58.1548 1543.05 62.8538 Q1546.45 67.5124 1552.36 67.5124 Q1558.28 67.5124 1561.68 62.8538 Q1565.08 58.1548 1565.08 49.9314 Q1565.08 41.7081 1561.68 37.0496 Q1558.28 32.3505 1552.36 32.3505 Q1546.45 32.3505 1543.05 37.0496 Q1539.68 41.7081 1539.68 49.9314 Z\" fill=\"#000000\" fill-rule=\"nonzero\" fill-opacity=\"1\" /><path clip-path=\"url(#clip550)\" d=\"M1608.51 49.7694 Q1599.47 49.7694 1595.99 51.8354 Q1592.51 53.9013 1592.51 58.8839 Q1592.51 62.8538 1595.1 65.2034 Q1597.73 67.5124 1602.23 67.5124 Q1608.43 67.5124 1612.15 63.1374 Q1615.92 58.7219 1615.92 51.4303 L1615.92 49.7694 L1608.51 49.7694 M1623.38 46.6907 L1623.38 72.576 L1615.92 72.576 L1615.92 65.6895 Q1613.37 69.8214 1609.56 71.8063 Q1605.75 73.7508 1600.24 73.7508 Q1593.28 73.7508 1589.15 69.8619 Q1585.05 65.9325 1585.05 59.3701 Q1585.05 51.7138 1590.16 47.825 Q1595.3 43.9361 1605.47 43.9361 L1615.92 43.9361 L1615.92 43.2069 Q1615.92 38.0623 1612.52 35.2672 Q1609.16 32.4315 1603.04 32.4315 Q1599.15 32.4315 1595.46 33.3632 Q1591.78 34.295 1588.38 36.1584 L1588.38 29.2718 Q1592.47 27.692 1596.32 26.9223 Q1600.16 26.1121 1603.81 26.1121 Q1613.65 26.1121 1618.51 31.2163 Q1623.38 36.3204 1623.38 46.6907 Z\" fill=\"#000000\" fill-rule=\"nonzero\" fill-opacity=\"1\" /><path clip-path=\"url(#clip550)\" d=\"M1646.1 14.324 L1646.1 27.2059 L1661.45 27.2059 L1661.45 32.9987 L1646.1 32.9987 L1646.1 57.6282 Q1646.1 63.1779 1647.6 64.7578 Q1649.14 66.3376 1653.8 66.3376 L1661.45 66.3376 L1661.45 72.576 L1653.8 72.576 Q1645.17 72.576 1641.89 69.3758 Q1638.61 66.1351 1638.61 57.6282 L1638.61 32.9987 L1633.14 32.9987 L1633.14 27.2059 L1638.61 27.2059 L1638.61 14.324 L1646.1 14.324 Z\" fill=\"#000000\" fill-rule=\"nonzero\" fill-opacity=\"1\" /><path clip-path=\"url(#clip550)\" d=\"M1691.88 49.7694 Q1682.84 49.7694 1679.36 51.8354 Q1675.87 53.9013 1675.87 58.8839 Q1675.87 62.8538 1678.47 65.2034 Q1681.1 67.5124 1685.6 67.5124 Q1691.8 67.5124 1695.52 63.1374 Q1699.29 58.7219 1699.29 51.4303 L1699.29 49.7694 L1691.88 49.7694 M1706.74 46.6907 L1706.74 72.576 L1699.29 72.576 L1699.29 65.6895 Q1696.74 69.8214 1692.93 71.8063 Q1689.12 73.7508 1683.61 73.7508 Q1676.64 73.7508 1672.51 69.8619 Q1668.42 65.9325 1668.42 59.3701 Q1668.42 51.7138 1673.53 47.825 Q1678.67 43.9361 1688.84 43.9361 L1699.29 43.9361 L1699.29 43.2069 Q1699.29 38.0623 1695.89 35.2672 Q1692.52 32.4315 1686.41 32.4315 Q1682.52 32.4315 1678.83 33.3632 Q1675.15 34.295 1671.74 36.1584 L1671.74 29.2718 Q1675.83 27.692 1679.68 26.9223 Q1683.53 26.1121 1687.18 26.1121 Q1697.02 26.1121 1701.88 31.2163 Q1706.74 36.3204 1706.74 46.6907 Z\" fill=\"#000000\" fill-rule=\"nonzero\" fill-opacity=\"1\" /><circle clip-path=\"url(#clip552)\" cx=\"360.371\" cy=\"1149.08\" r=\"21.6\" fill=\"#000000\" fill-rule=\"evenodd\" fill-opacity=\"1\" stroke=\"none\"/>\n",
       "<circle clip-path=\"url(#clip552)\" cx=\"671.778\" cy=\"835.951\" r=\"21.6\" fill=\"#000000\" fill-rule=\"evenodd\" fill-opacity=\"1\" stroke=\"none\"/>\n",
       "<circle clip-path=\"url(#clip552)\" cx=\"547.215\" cy=\"1149.08\" r=\"21.6\" fill=\"#000000\" fill-rule=\"evenodd\" fill-opacity=\"1\" stroke=\"none\"/>\n",
       "<circle clip-path=\"url(#clip552)\" cx=\"547.215\" cy=\"1247.96\" r=\"21.6\" fill=\"#000000\" fill-rule=\"evenodd\" fill-opacity=\"1\" stroke=\"none\"/>\n",
       "<circle clip-path=\"url(#clip552)\" cx=\"484.934\" cy=\"1208.41\" r=\"21.6\" fill=\"#000000\" fill-rule=\"evenodd\" fill-opacity=\"1\" stroke=\"none\"/>\n",
       "<circle clip-path=\"url(#clip552)\" cx=\"329.23\" cy=\"489.864\" r=\"21.6\" fill=\"#000000\" fill-rule=\"evenodd\" fill-opacity=\"1\" stroke=\"none\"/>\n",
       "<circle clip-path=\"url(#clip552)\" cx=\"360.371\" cy=\"407.462\" r=\"21.6\" fill=\"#000000\" fill-rule=\"evenodd\" fill-opacity=\"1\" stroke=\"none\"/>\n",
       "<circle clip-path=\"url(#clip552)\" cx=\"1045.47\" cy=\"1046.9\" r=\"21.6\" fill=\"#000000\" fill-rule=\"evenodd\" fill-opacity=\"1\" stroke=\"none\"/>\n",
       "<circle clip-path=\"url(#clip552)\" cx=\"235.808\" cy=\"737.069\" r=\"21.6\" fill=\"#000000\" fill-rule=\"evenodd\" fill-opacity=\"1\" stroke=\"none\"/>\n",
       "<circle clip-path=\"url(#clip552)\" cx=\"578.356\" cy=\"948.018\" r=\"21.6\" fill=\"#000000\" fill-rule=\"evenodd\" fill-opacity=\"1\" stroke=\"none\"/>\n",
       "<circle clip-path=\"url(#clip552)\" cx=\"827.482\" cy=\"951.314\" r=\"21.6\" fill=\"#000000\" fill-rule=\"evenodd\" fill-opacity=\"1\" stroke=\"none\"/>\n",
       "<circle clip-path=\"url(#clip552)\" cx=\"920.904\" cy=\"948.018\" r=\"21.6\" fill=\"#000000\" fill-rule=\"evenodd\" fill-opacity=\"1\" stroke=\"none\"/>\n",
       "<circle clip-path=\"url(#clip552)\" cx=\"360.371\" cy=\"901.873\" r=\"21.6\" fill=\"#000000\" fill-rule=\"evenodd\" fill-opacity=\"1\" stroke=\"none\"/>\n",
       "<circle clip-path=\"url(#clip552)\" cx=\"578.356\" cy=\"770.03\" r=\"21.6\" fill=\"#000000\" fill-rule=\"evenodd\" fill-opacity=\"1\" stroke=\"none\"/>\n",
       "<circle clip-path=\"url(#clip552)\" cx=\"983.186\" cy=\"1264.44\" r=\"21.6\" fill=\"#000000\" fill-rule=\"evenodd\" fill-opacity=\"1\" stroke=\"none\"/>\n",
       "<circle clip-path=\"url(#clip552)\" cx=\"1450.3\" cy=\"1386.4\" r=\"21.6\" fill=\"#000000\" fill-rule=\"evenodd\" fill-opacity=\"1\" stroke=\"none\"/>\n",
       "<circle clip-path=\"url(#clip552)\" cx=\"671.778\" cy=\"793.102\" r=\"21.6\" fill=\"#000000\" fill-rule=\"evenodd\" fill-opacity=\"1\" stroke=\"none\"/>\n",
       "<circle clip-path=\"url(#clip552)\" cx=\"578.356\" cy=\"770.03\" r=\"21.6\" fill=\"#000000\" fill-rule=\"evenodd\" fill-opacity=\"1\" stroke=\"none\"/>\n",
       "<circle clip-path=\"url(#clip552)\" cx=\"453.793\" cy=\"770.03\" r=\"21.6\" fill=\"#000000\" fill-rule=\"evenodd\" fill-opacity=\"1\" stroke=\"none\"/>\n",
       "<circle clip-path=\"url(#clip552)\" cx=\"2291.1\" cy=\"1124.36\" r=\"21.6\" fill=\"#ff0000\" fill-rule=\"evenodd\" fill-opacity=\"1\" stroke=\"#000000\" stroke-opacity=\"1\" stroke-width=\"3.2\"/>\n",
       "<circle clip-path=\"url(#clip552)\" cx=\"2166.53\" cy=\"1037.01\" r=\"21.6\" fill=\"#ff0000\" fill-rule=\"evenodd\" fill-opacity=\"1\" stroke=\"#000000\" stroke-opacity=\"1\" stroke-width=\"3.2\"/>\n",
       "<circle clip-path=\"url(#clip552)\" cx=\"765.2\" cy=\"572.265\" r=\"21.6\" fill=\"#ff0000\" fill-rule=\"evenodd\" fill-opacity=\"1\" stroke=\"#000000\" stroke-opacity=\"1\" stroke-width=\"3.2\"/>\n",
       "<circle clip-path=\"url(#clip552)\" cx=\"453.793\" cy=\"901.873\" r=\"21.6\" fill=\"#ff0000\" fill-rule=\"evenodd\" fill-opacity=\"1\" stroke=\"#000000\" stroke-opacity=\"1\" stroke-width=\"3.2\"/>\n",
       "<circle clip-path=\"url(#clip552)\" cx=\"484.934\" cy=\"341.54\" r=\"21.6\" fill=\"#ff0000\" fill-rule=\"evenodd\" fill-opacity=\"1\" stroke=\"#000000\" stroke-opacity=\"1\" stroke-width=\"3.2\"/>\n",
       "<circle clip-path=\"url(#clip552)\" cx=\"422.652\" cy=\"242.658\" r=\"21.6\" fill=\"#ff0000\" fill-rule=\"evenodd\" fill-opacity=\"1\" stroke=\"#000000\" stroke-opacity=\"1\" stroke-width=\"3.2\"/>\n",
       "<circle clip-path=\"url(#clip552)\" cx=\"858.623\" cy=\"628.299\" r=\"21.6\" fill=\"#ff0000\" fill-rule=\"evenodd\" fill-opacity=\"1\" stroke=\"#000000\" stroke-opacity=\"1\" stroke-width=\"3.2\"/>\n",
       "<circle clip-path=\"url(#clip552)\" cx=\"453.793\" cy=\"160.256\" r=\"21.6\" fill=\"#ff0000\" fill-rule=\"evenodd\" fill-opacity=\"1\" stroke=\"#000000\" stroke-opacity=\"1\" stroke-width=\"3.2\"/>\n",
       "<circle clip-path=\"url(#clip552)\" cx=\"1419.16\" cy=\"855.728\" r=\"21.6\" fill=\"#ff0000\" fill-rule=\"evenodd\" fill-opacity=\"1\" stroke=\"#000000\" stroke-opacity=\"1\" stroke-width=\"3.2\"/>\n",
       "<circle clip-path=\"url(#clip552)\" cx=\"1979.69\" cy=\"868.912\" r=\"21.6\" fill=\"#ff0000\" fill-rule=\"evenodd\" fill-opacity=\"1\" stroke=\"#000000\" stroke-opacity=\"1\" stroke-width=\"3.2\"/>\n",
       "<circle clip-path=\"url(#clip552)\" cx=\"516.074\" cy=\"929.889\" r=\"21.6\" fill=\"#ff0000\" fill-rule=\"evenodd\" fill-opacity=\"1\" stroke=\"#000000\" stroke-opacity=\"1\" stroke-width=\"3.2\"/>\n",
       "<circle clip-path=\"url(#clip552)\" cx=\"1107.75\" cy=\"802.991\" r=\"21.6\" fill=\"#ff0000\" fill-rule=\"evenodd\" fill-opacity=\"1\" stroke=\"#000000\" stroke-opacity=\"1\" stroke-width=\"3.2\"/>\n",
       "<circle clip-path=\"url(#clip552)\" cx=\"983.186\" cy=\"809.583\" r=\"21.6\" fill=\"#ff0000\" fill-rule=\"evenodd\" fill-opacity=\"1\" stroke=\"#000000\" stroke-opacity=\"1\" stroke-width=\"3.2\"/>\n",
       "<circle clip-path=\"url(#clip552)\" cx=\"1107.75\" cy=\"901.873\" r=\"21.6\" fill=\"#ff0000\" fill-rule=\"evenodd\" fill-opacity=\"1\" stroke=\"#000000\" stroke-opacity=\"1\" stroke-width=\"3.2\"/>\n",
       "<circle clip-path=\"url(#clip552)\" cx=\"1170.03\" cy=\"1083.16\" r=\"21.6\" fill=\"#ff0000\" fill-rule=\"evenodd\" fill-opacity=\"1\" stroke=\"#000000\" stroke-opacity=\"1\" stroke-width=\"3.2\"/>\n",
       "<circle clip-path=\"url(#clip552)\" cx=\"1668.28\" cy=\"1149.08\" r=\"21.6\" fill=\"#ff0000\" fill-rule=\"evenodd\" fill-opacity=\"1\" stroke=\"#000000\" stroke-opacity=\"1\" stroke-width=\"3.2\"/>\n",
       "<circle clip-path=\"url(#clip552)\" cx=\"671.778\" cy=\"671.148\" r=\"21.6\" fill=\"#ff0000\" fill-rule=\"evenodd\" fill-opacity=\"1\" stroke=\"#000000\" stroke-opacity=\"1\" stroke-width=\"3.2\"/>\n",
       "<circle clip-path=\"url(#clip552)\" cx=\"734.06\" cy=\"737.069\" r=\"21.6\" fill=\"#ff0000\" fill-rule=\"evenodd\" fill-opacity=\"1\" stroke=\"#000000\" stroke-opacity=\"1\" stroke-width=\"3.2\"/>\n",
       "<circle clip-path=\"url(#clip552)\" cx=\"484.934\" cy=\"298.691\" r=\"21.6\" fill=\"#ff0000\" fill-rule=\"evenodd\" fill-opacity=\"1\" stroke=\"#000000\" stroke-opacity=\"1\" stroke-width=\"3.2\"/>\n",
       "<circle clip-path=\"url(#clip552)\" cx=\"796.341\" cy=\"860.672\" r=\"21.6\" fill=\"#ff0000\" fill-rule=\"evenodd\" fill-opacity=\"1\" stroke=\"#000000\" stroke-opacity=\"1\" stroke-width=\"3.2\"/>\n",
       "</svg>\n"
      ],
      "text/html": [
       "<?xml version=\"1.0\" encoding=\"utf-8\"?>\n",
       "<svg xmlns=\"http://www.w3.org/2000/svg\" xmlns:xlink=\"http://www.w3.org/1999/xlink\" width=\"600\" height=\"400\" viewBox=\"0 0 2400 1600\">\n",
       "<defs>\n",
       "  <clipPath id=\"clip600\">\n",
       "    <rect x=\"0\" y=\"0\" width=\"2400\" height=\"1600\"/>\n",
       "  </clipPath>\n",
       "</defs>\n",
       "<path clip-path=\"url(#clip600)\" d=\"M0 1600 L2400 1600 L2400 0 L0 0  Z\" fill=\"#ffffff\" fill-rule=\"evenodd\" fill-opacity=\"1\"/>\n",
       "<defs>\n",
       "  <clipPath id=\"clip601\">\n",
       "    <rect x=\"480\" y=\"0\" width=\"1681\" height=\"1600\"/>\n",
       "  </clipPath>\n",
       "</defs>\n",
       "<path clip-path=\"url(#clip600)\" d=\"M174.149 1423.18 L2352.76 1423.18 L2352.76 123.472 L174.149 123.472  Z\" fill=\"#ffffff\" fill-rule=\"evenodd\" fill-opacity=\"1\"/>\n",
       "<defs>\n",
       "  <clipPath id=\"clip602\">\n",
       "    <rect x=\"174\" y=\"123\" width=\"2180\" height=\"1301\"/>\n",
       "  </clipPath>\n",
       "</defs>\n",
       "<polyline clip-path=\"url(#clip602)\" style=\"stroke:#000000; stroke-linecap:round; stroke-linejoin:round; stroke-width:2; stroke-opacity:0.1; fill:none\" points=\"298.089,1423.18 298.089,123.472 \"/>\n",
       "<polyline clip-path=\"url(#clip602)\" style=\"stroke:#000000; stroke-linecap:round; stroke-linejoin:round; stroke-width:2; stroke-opacity:0.1; fill:none\" points=\"609.497,1423.18 609.497,123.472 \"/>\n",
       "<polyline clip-path=\"url(#clip602)\" style=\"stroke:#000000; stroke-linecap:round; stroke-linejoin:round; stroke-width:2; stroke-opacity:0.1; fill:none\" points=\"920.904,1423.18 920.904,123.472 \"/>\n",
       "<polyline clip-path=\"url(#clip602)\" style=\"stroke:#000000; stroke-linecap:round; stroke-linejoin:round; stroke-width:2; stroke-opacity:0.1; fill:none\" points=\"1232.31,1423.18 1232.31,123.472 \"/>\n",
       "<polyline clip-path=\"url(#clip602)\" style=\"stroke:#000000; stroke-linecap:round; stroke-linejoin:round; stroke-width:2; stroke-opacity:0.1; fill:none\" points=\"1543.72,1423.18 1543.72,123.472 \"/>\n",
       "<polyline clip-path=\"url(#clip602)\" style=\"stroke:#000000; stroke-linecap:round; stroke-linejoin:round; stroke-width:2; stroke-opacity:0.1; fill:none\" points=\"1855.13,1423.18 1855.13,123.472 \"/>\n",
       "<polyline clip-path=\"url(#clip602)\" style=\"stroke:#000000; stroke-linecap:round; stroke-linejoin:round; stroke-width:2; stroke-opacity:0.1; fill:none\" points=\"2166.53,1423.18 2166.53,123.472 \"/>\n",
       "<polyline clip-path=\"url(#clip602)\" style=\"stroke:#000000; stroke-linecap:round; stroke-linejoin:round; stroke-width:2; stroke-opacity:0.1; fill:none\" points=\"174.149,1396.28 2352.76,1396.28 \"/>\n",
       "<polyline clip-path=\"url(#clip602)\" style=\"stroke:#000000; stroke-linecap:round; stroke-linejoin:round; stroke-width:2; stroke-opacity:0.1; fill:none\" points=\"174.149,1066.68 2352.76,1066.68 \"/>\n",
       "<polyline clip-path=\"url(#clip602)\" style=\"stroke:#000000; stroke-linecap:round; stroke-linejoin:round; stroke-width:2; stroke-opacity:0.1; fill:none\" points=\"174.149,737.069 2352.76,737.069 \"/>\n",
       "<polyline clip-path=\"url(#clip602)\" style=\"stroke:#000000; stroke-linecap:round; stroke-linejoin:round; stroke-width:2; stroke-opacity:0.1; fill:none\" points=\"174.149,407.462 2352.76,407.462 \"/>\n",
       "<polyline clip-path=\"url(#clip600)\" style=\"stroke:#000000; stroke-linecap:round; stroke-linejoin:round; stroke-width:4; stroke-opacity:1; fill:none\" points=\"174.149,1423.18 2352.76,1423.18 \"/>\n",
       "<polyline clip-path=\"url(#clip600)\" style=\"stroke:#000000; stroke-linecap:round; stroke-linejoin:round; stroke-width:4; stroke-opacity:1; fill:none\" points=\"298.089,1423.18 298.089,1404.28 \"/>\n",
       "<polyline clip-path=\"url(#clip600)\" style=\"stroke:#000000; stroke-linecap:round; stroke-linejoin:round; stroke-width:4; stroke-opacity:1; fill:none\" points=\"609.497,1423.18 609.497,1404.28 \"/>\n",
       "<polyline clip-path=\"url(#clip600)\" style=\"stroke:#000000; stroke-linecap:round; stroke-linejoin:round; stroke-width:4; stroke-opacity:1; fill:none\" points=\"920.904,1423.18 920.904,1404.28 \"/>\n",
       "<polyline clip-path=\"url(#clip600)\" style=\"stroke:#000000; stroke-linecap:round; stroke-linejoin:round; stroke-width:4; stroke-opacity:1; fill:none\" points=\"1232.31,1423.18 1232.31,1404.28 \"/>\n",
       "<polyline clip-path=\"url(#clip600)\" style=\"stroke:#000000; stroke-linecap:round; stroke-linejoin:round; stroke-width:4; stroke-opacity:1; fill:none\" points=\"1543.72,1423.18 1543.72,1404.28 \"/>\n",
       "<polyline clip-path=\"url(#clip600)\" style=\"stroke:#000000; stroke-linecap:round; stroke-linejoin:round; stroke-width:4; stroke-opacity:1; fill:none\" points=\"1855.13,1423.18 1855.13,1404.28 \"/>\n",
       "<polyline clip-path=\"url(#clip600)\" style=\"stroke:#000000; stroke-linecap:round; stroke-linejoin:round; stroke-width:4; stroke-opacity:1; fill:none\" points=\"2166.53,1423.18 2166.53,1404.28 \"/>\n",
       "<path clip-path=\"url(#clip600)\" d=\"M275.971 1454.1 Q272.36 1454.1 270.531 1457.66 Q268.726 1461.2 268.726 1468.33 Q268.726 1475.44 270.531 1479.01 Q272.36 1482.55 275.971 1482.55 Q279.605 1482.55 281.411 1479.01 Q283.24 1475.44 283.24 1468.33 Q283.24 1461.2 281.411 1457.66 Q279.605 1454.1 275.971 1454.1 M275.971 1450.39 Q281.781 1450.39 284.837 1455 Q287.916 1459.58 287.916 1468.33 Q287.916 1477.06 284.837 1481.67 Q281.781 1486.25 275.971 1486.25 Q270.161 1486.25 267.082 1481.67 Q264.027 1477.06 264.027 1468.33 Q264.027 1459.58 267.082 1455 Q270.161 1450.39 275.971 1450.39 Z\" fill=\"#000000\" fill-rule=\"nonzero\" fill-opacity=\"1\" /><path clip-path=\"url(#clip600)\" d=\"M296.133 1479.7 L301.017 1479.7 L301.017 1485.58 L296.133 1485.58 L296.133 1479.7 Z\" fill=\"#000000\" fill-rule=\"nonzero\" fill-opacity=\"1\" /><path clip-path=\"url(#clip600)\" d=\"M311.249 1451.02 L329.605 1451.02 L329.605 1454.96 L315.531 1454.96 L315.531 1463.43 Q316.55 1463.08 317.568 1462.92 Q318.587 1462.73 319.605 1462.73 Q325.392 1462.73 328.772 1465.9 Q332.151 1469.08 332.151 1474.49 Q332.151 1480.07 328.679 1483.17 Q325.207 1486.25 318.888 1486.25 Q316.712 1486.25 314.443 1485.88 Q312.198 1485.51 309.79 1484.77 L309.79 1480.07 Q311.874 1481.2 314.096 1481.76 Q316.318 1482.32 318.795 1482.32 Q322.8 1482.32 325.138 1480.21 Q327.476 1478.1 327.476 1474.49 Q327.476 1470.88 325.138 1468.77 Q322.8 1466.67 318.795 1466.67 Q316.92 1466.67 315.045 1467.08 Q313.193 1467.5 311.249 1468.38 L311.249 1451.02 Z\" fill=\"#000000\" fill-rule=\"nonzero\" fill-opacity=\"1\" /><path clip-path=\"url(#clip600)\" d=\"M576.65 1481.64 L584.288 1481.64 L584.288 1455.28 L575.978 1456.95 L575.978 1452.69 L584.242 1451.02 L588.918 1451.02 L588.918 1481.64 L596.557 1481.64 L596.557 1485.58 L576.65 1485.58 L576.65 1481.64 Z\" fill=\"#000000\" fill-rule=\"nonzero\" fill-opacity=\"1\" /><path clip-path=\"url(#clip600)\" d=\"M606.001 1479.7 L610.886 1479.7 L610.886 1485.58 L606.001 1485.58 L606.001 1479.7 Z\" fill=\"#000000\" fill-rule=\"nonzero\" fill-opacity=\"1\" /><path clip-path=\"url(#clip600)\" d=\"M631.071 1454.1 Q627.459 1454.1 625.631 1457.66 Q623.825 1461.2 623.825 1468.33 Q623.825 1475.44 625.631 1479.01 Q627.459 1482.55 631.071 1482.55 Q634.705 1482.55 636.51 1479.01 Q638.339 1475.44 638.339 1468.33 Q638.339 1461.2 636.51 1457.66 Q634.705 1454.1 631.071 1454.1 M631.071 1450.39 Q636.881 1450.39 639.936 1455 Q643.015 1459.58 643.015 1468.33 Q643.015 1477.06 639.936 1481.67 Q636.881 1486.25 631.071 1486.25 Q625.26 1486.25 622.182 1481.67 Q619.126 1477.06 619.126 1468.33 Q619.126 1459.58 622.182 1455 Q625.26 1450.39 631.071 1450.39 Z\" fill=\"#000000\" fill-rule=\"nonzero\" fill-opacity=\"1\" /><path clip-path=\"url(#clip600)\" d=\"M888.555 1481.64 L896.194 1481.64 L896.194 1455.28 L887.883 1456.95 L887.883 1452.69 L896.147 1451.02 L900.823 1451.02 L900.823 1481.64 L908.462 1481.64 L908.462 1485.58 L888.555 1485.58 L888.555 1481.64 Z\" fill=\"#000000\" fill-rule=\"nonzero\" fill-opacity=\"1\" /><path clip-path=\"url(#clip600)\" d=\"M917.906 1479.7 L922.791 1479.7 L922.791 1485.58 L917.906 1485.58 L917.906 1479.7 Z\" fill=\"#000000\" fill-rule=\"nonzero\" fill-opacity=\"1\" /><path clip-path=\"url(#clip600)\" d=\"M933.022 1451.02 L951.379 1451.02 L951.379 1454.96 L937.305 1454.96 L937.305 1463.43 Q938.323 1463.08 939.342 1462.92 Q940.36 1462.73 941.379 1462.73 Q947.166 1462.73 950.545 1465.9 Q953.925 1469.08 953.925 1474.49 Q953.925 1480.07 950.453 1483.17 Q946.98 1486.25 940.661 1486.25 Q938.485 1486.25 936.217 1485.88 Q933.971 1485.51 931.564 1484.77 L931.564 1480.07 Q933.647 1481.2 935.869 1481.76 Q938.092 1482.32 940.568 1482.32 Q944.573 1482.32 946.911 1480.21 Q949.249 1478.1 949.249 1474.49 Q949.249 1470.88 946.911 1468.77 Q944.573 1466.67 940.568 1466.67 Q938.693 1466.67 936.818 1467.08 Q934.967 1467.5 933.022 1468.38 L933.022 1451.02 Z\" fill=\"#000000\" fill-rule=\"nonzero\" fill-opacity=\"1\" /><path clip-path=\"url(#clip600)\" d=\"M1203.55 1481.64 L1219.87 1481.64 L1219.87 1485.58 L1197.93 1485.58 L1197.93 1481.64 Q1200.59 1478.89 1205.17 1474.26 Q1209.78 1469.61 1210.96 1468.27 Q1213.2 1465.74 1214.08 1464.01 Q1214.99 1462.25 1214.99 1460.56 Q1214.99 1457.8 1213.04 1456.07 Q1211.12 1454.33 1208.02 1454.33 Q1205.82 1454.33 1203.37 1455.09 Q1200.93 1455.86 1198.16 1457.41 L1198.16 1452.69 Q1200.98 1451.55 1203.43 1450.97 Q1205.89 1450.39 1207.93 1450.39 Q1213.3 1450.39 1216.49 1453.08 Q1219.68 1455.77 1219.68 1460.26 Q1219.68 1462.39 1218.87 1464.31 Q1218.09 1466.2 1215.98 1468.8 Q1215.4 1469.47 1212.3 1472.69 Q1209.2 1475.88 1203.55 1481.64 Z\" fill=\"#000000\" fill-rule=\"nonzero\" fill-opacity=\"1\" /><path clip-path=\"url(#clip600)\" d=\"M1229.68 1479.7 L1234.57 1479.7 L1234.57 1485.58 L1229.68 1485.58 L1229.68 1479.7 Z\" fill=\"#000000\" fill-rule=\"nonzero\" fill-opacity=\"1\" /><path clip-path=\"url(#clip600)\" d=\"M1254.75 1454.1 Q1251.14 1454.1 1249.31 1457.66 Q1247.51 1461.2 1247.51 1468.33 Q1247.51 1475.44 1249.31 1479.01 Q1251.14 1482.55 1254.75 1482.55 Q1258.39 1482.55 1260.19 1479.01 Q1262.02 1475.44 1262.02 1468.33 Q1262.02 1461.2 1260.19 1457.66 Q1258.39 1454.1 1254.75 1454.1 M1254.75 1450.39 Q1260.56 1450.39 1263.62 1455 Q1266.7 1459.58 1266.7 1468.33 Q1266.7 1477.06 1263.62 1481.67 Q1260.56 1486.25 1254.75 1486.25 Q1248.94 1486.25 1245.86 1481.67 Q1242.81 1477.06 1242.81 1468.33 Q1242.81 1459.58 1245.86 1455 Q1248.94 1450.39 1254.75 1450.39 Z\" fill=\"#000000\" fill-rule=\"nonzero\" fill-opacity=\"1\" /><path clip-path=\"url(#clip600)\" d=\"M1515.46 1481.64 L1531.77 1481.64 L1531.77 1485.58 L1509.83 1485.58 L1509.83 1481.64 Q1512.49 1478.89 1517.08 1474.26 Q1521.68 1469.61 1522.86 1468.27 Q1525.11 1465.74 1525.99 1464.01 Q1526.89 1462.25 1526.89 1460.56 Q1526.89 1457.8 1524.95 1456.07 Q1523.02 1454.33 1519.92 1454.33 Q1517.72 1454.33 1515.27 1455.09 Q1512.84 1455.86 1510.06 1457.41 L1510.06 1452.69 Q1512.89 1451.55 1515.34 1450.97 Q1517.79 1450.39 1519.83 1450.39 Q1525.2 1450.39 1528.4 1453.08 Q1531.59 1455.77 1531.59 1460.26 Q1531.59 1462.39 1530.78 1464.31 Q1529.99 1466.2 1527.89 1468.8 Q1527.31 1469.47 1524.21 1472.69 Q1521.1 1475.88 1515.46 1481.64 Z\" fill=\"#000000\" fill-rule=\"nonzero\" fill-opacity=\"1\" /><path clip-path=\"url(#clip600)\" d=\"M1541.59 1479.7 L1546.47 1479.7 L1546.47 1485.58 L1541.59 1485.58 L1541.59 1479.7 Z\" fill=\"#000000\" fill-rule=\"nonzero\" fill-opacity=\"1\" /><path clip-path=\"url(#clip600)\" d=\"M1556.71 1451.02 L1575.06 1451.02 L1575.06 1454.96 L1560.99 1454.96 L1560.99 1463.43 Q1562.01 1463.08 1563.02 1462.92 Q1564.04 1462.73 1565.06 1462.73 Q1570.85 1462.73 1574.23 1465.9 Q1577.61 1469.08 1577.61 1474.49 Q1577.61 1480.07 1574.14 1483.17 Q1570.66 1486.25 1564.34 1486.25 Q1562.17 1486.25 1559.9 1485.88 Q1557.65 1485.51 1555.25 1484.77 L1555.25 1480.07 Q1557.33 1481.2 1559.55 1481.76 Q1561.77 1482.32 1564.25 1482.32 Q1568.26 1482.32 1570.59 1480.21 Q1572.93 1478.1 1572.93 1474.49 Q1572.93 1470.88 1570.59 1468.77 Q1568.26 1466.67 1564.25 1466.67 Q1562.38 1466.67 1560.5 1467.08 Q1558.65 1467.5 1556.71 1468.38 L1556.71 1451.02 Z\" fill=\"#000000\" fill-rule=\"nonzero\" fill-opacity=\"1\" /><path clip-path=\"url(#clip600)\" d=\"M1836.43 1466.95 Q1839.79 1467.66 1841.67 1469.93 Q1843.56 1472.2 1843.56 1475.53 Q1843.56 1480.65 1840.05 1483.45 Q1836.53 1486.25 1830.05 1486.25 Q1827.87 1486.25 1825.56 1485.81 Q1823.26 1485.39 1820.81 1484.54 L1820.81 1480.02 Q1822.75 1481.16 1825.07 1481.74 Q1827.38 1482.32 1829.91 1482.32 Q1834.31 1482.32 1836.6 1480.58 Q1838.91 1478.84 1838.91 1475.53 Q1838.91 1472.48 1836.76 1470.77 Q1834.63 1469.03 1830.81 1469.03 L1826.78 1469.03 L1826.78 1465.19 L1830.99 1465.19 Q1834.44 1465.19 1836.27 1463.82 Q1838.1 1462.43 1838.1 1459.84 Q1838.1 1457.18 1836.2 1455.77 Q1834.33 1454.33 1830.81 1454.33 Q1828.89 1454.33 1826.69 1454.75 Q1824.49 1455.16 1821.85 1456.04 L1821.85 1451.88 Q1824.51 1451.14 1826.83 1450.77 Q1829.17 1450.39 1831.23 1450.39 Q1836.55 1450.39 1839.65 1452.83 Q1842.75 1455.23 1842.75 1459.35 Q1842.75 1462.22 1841.11 1464.21 Q1839.47 1466.18 1836.43 1466.95 Z\" fill=\"#000000\" fill-rule=\"nonzero\" fill-opacity=\"1\" /><path clip-path=\"url(#clip600)\" d=\"M1852.43 1479.7 L1857.31 1479.7 L1857.31 1485.58 L1852.43 1485.58 L1852.43 1479.7 Z\" fill=\"#000000\" fill-rule=\"nonzero\" fill-opacity=\"1\" /><path clip-path=\"url(#clip600)\" d=\"M1877.5 1454.1 Q1873.89 1454.1 1872.06 1457.66 Q1870.25 1461.2 1870.25 1468.33 Q1870.25 1475.44 1872.06 1479.01 Q1873.89 1482.55 1877.5 1482.55 Q1881.13 1482.55 1882.94 1479.01 Q1884.77 1475.44 1884.77 1468.33 Q1884.77 1461.2 1882.94 1457.66 Q1881.13 1454.1 1877.5 1454.1 M1877.5 1450.39 Q1883.31 1450.39 1886.36 1455 Q1889.44 1459.58 1889.44 1468.33 Q1889.44 1477.06 1886.36 1481.67 Q1883.31 1486.25 1877.5 1486.25 Q1871.69 1486.25 1868.61 1481.67 Q1865.55 1477.06 1865.55 1468.33 Q1865.55 1459.58 1868.61 1455 Q1871.69 1450.39 1877.5 1450.39 Z\" fill=\"#000000\" fill-rule=\"nonzero\" fill-opacity=\"1\" /><path clip-path=\"url(#clip600)\" d=\"M2148.34 1466.95 Q2151.7 1467.66 2153.57 1469.93 Q2155.47 1472.2 2155.47 1475.53 Q2155.47 1480.65 2151.95 1483.45 Q2148.43 1486.25 2141.95 1486.25 Q2139.78 1486.25 2137.46 1485.81 Q2135.17 1485.39 2132.71 1484.54 L2132.71 1480.02 Q2134.66 1481.16 2136.97 1481.74 Q2139.29 1482.32 2141.81 1482.32 Q2146.21 1482.32 2148.5 1480.58 Q2150.82 1478.84 2150.82 1475.53 Q2150.82 1472.48 2148.66 1470.77 Q2146.53 1469.03 2142.71 1469.03 L2138.69 1469.03 L2138.69 1465.19 L2142.9 1465.19 Q2146.35 1465.19 2148.18 1463.82 Q2150.01 1462.43 2150.01 1459.84 Q2150.01 1457.18 2148.11 1455.77 Q2146.23 1454.33 2142.71 1454.33 Q2140.79 1454.33 2138.59 1454.75 Q2136.4 1455.16 2133.76 1456.04 L2133.76 1451.88 Q2136.42 1451.14 2138.73 1450.77 Q2141.07 1450.39 2143.13 1450.39 Q2148.46 1450.39 2151.56 1452.83 Q2154.66 1455.23 2154.66 1459.35 Q2154.66 1462.22 2153.02 1464.21 Q2151.37 1466.18 2148.34 1466.95 Z\" fill=\"#000000\" fill-rule=\"nonzero\" fill-opacity=\"1\" /><path clip-path=\"url(#clip600)\" d=\"M2164.34 1479.7 L2169.22 1479.7 L2169.22 1485.58 L2164.34 1485.58 L2164.34 1479.7 Z\" fill=\"#000000\" fill-rule=\"nonzero\" fill-opacity=\"1\" /><path clip-path=\"url(#clip600)\" d=\"M2179.45 1451.02 L2197.81 1451.02 L2197.81 1454.96 L2183.73 1454.96 L2183.73 1463.43 Q2184.75 1463.08 2185.77 1462.92 Q2186.79 1462.73 2187.81 1462.73 Q2193.59 1462.73 2196.97 1465.9 Q2200.35 1469.08 2200.35 1474.49 Q2200.35 1480.07 2196.88 1483.17 Q2193.41 1486.25 2187.09 1486.25 Q2184.91 1486.25 2182.65 1485.88 Q2180.4 1485.51 2177.99 1484.77 L2177.99 1480.07 Q2180.08 1481.2 2182.3 1481.76 Q2184.52 1482.32 2187 1482.32 Q2191 1482.32 2193.34 1480.21 Q2195.68 1478.1 2195.68 1474.49 Q2195.68 1470.88 2193.34 1468.77 Q2191 1466.67 2187 1466.67 Q2185.12 1466.67 2183.25 1467.08 Q2181.4 1467.5 2179.45 1468.38 L2179.45 1451.02 Z\" fill=\"#000000\" fill-rule=\"nonzero\" fill-opacity=\"1\" /><path clip-path=\"url(#clip600)\" d=\"M928.807 1568.04 L910.665 1520.52 L917.381 1520.52 L932.436 1560.53 L947.522 1520.52 L954.206 1520.52 L936.096 1568.04 L928.807 1568.04 Z\" fill=\"#000000\" fill-rule=\"nonzero\" fill-opacity=\"1\" /><path clip-path=\"url(#clip600)\" d=\"M969.643 1536.5 Q964.933 1536.5 962.195 1540.19 Q959.458 1543.85 959.458 1550.25 Q959.458 1556.65 962.164 1560.34 Q964.901 1564 969.643 1564 Q974.322 1564 977.059 1560.31 Q979.797 1556.62 979.797 1550.25 Q979.797 1543.92 977.059 1540.23 Q974.322 1536.5 969.643 1536.5 M969.643 1531.54 Q977.282 1531.54 981.643 1536.5 Q986.003 1541.47 986.003 1550.25 Q986.003 1559 981.643 1564 Q977.282 1568.97 969.643 1568.97 Q961.973 1568.97 957.612 1564 Q953.283 1559 953.283 1550.25 Q953.283 1541.47 957.612 1536.5 Q961.973 1531.54 969.643 1531.54 Z\" fill=\"#000000\" fill-rule=\"nonzero\" fill-opacity=\"1\" /><path clip-path=\"url(#clip600)\" d=\"M995.711 1518.52 L1001.57 1518.52 L1001.57 1568.04 L995.711 1568.04 L995.711 1518.52 Z\" fill=\"#000000\" fill-rule=\"nonzero\" fill-opacity=\"1\" /><path clip-path=\"url(#clip600)\" d=\"M1013.22 1553.98 L1013.22 1532.4 L1019.07 1532.4 L1019.07 1553.75 Q1019.07 1558.81 1021.05 1561.36 Q1023.02 1563.87 1026.97 1563.87 Q1031.71 1563.87 1034.45 1560.85 Q1037.22 1557.83 1037.22 1552.61 L1037.22 1532.4 L1043.07 1532.4 L1043.07 1568.04 L1037.22 1568.04 L1037.22 1562.57 Q1035.08 1565.82 1032.25 1567.41 Q1029.45 1568.97 1025.73 1568.97 Q1019.58 1568.97 1016.4 1565.15 Q1013.22 1561.33 1013.22 1553.98 M1027.95 1531.54 L1027.95 1531.54 Z\" fill=\"#000000\" fill-rule=\"nonzero\" fill-opacity=\"1\" /><path clip-path=\"url(#clip600)\" d=\"M1082.89 1539.24 Q1085.09 1535.29 1088.14 1533.41 Q1091.2 1531.54 1095.33 1531.54 Q1100.9 1531.54 1103.93 1535.45 Q1106.95 1539.33 1106.95 1546.53 L1106.95 1568.04 L1101.06 1568.04 L1101.06 1546.72 Q1101.06 1541.59 1099.25 1539.11 Q1097.43 1536.63 1093.71 1536.63 Q1089.16 1536.63 1086.52 1539.65 Q1083.88 1542.68 1083.88 1547.9 L1083.88 1568.04 L1077.99 1568.04 L1077.99 1546.72 Q1077.99 1541.56 1076.17 1539.11 Q1074.36 1536.63 1070.57 1536.63 Q1066.08 1536.63 1063.44 1539.68 Q1060.8 1542.71 1060.8 1547.9 L1060.8 1568.04 L1054.91 1568.04 L1054.91 1532.4 L1060.8 1532.4 L1060.8 1537.93 Q1062.81 1534.66 1065.61 1533.1 Q1068.41 1531.54 1072.26 1531.54 Q1076.14 1531.54 1078.85 1533.51 Q1081.58 1535.48 1082.89 1539.24 Z\" fill=\"#000000\" fill-rule=\"nonzero\" fill-opacity=\"1\" /><path clip-path=\"url(#clip600)\" d=\"M1149.12 1548.76 L1149.12 1551.62 L1122.2 1551.62 Q1122.58 1557.67 1125.83 1560.85 Q1129.1 1564 1134.93 1564 Q1138.3 1564 1141.45 1563.17 Q1144.64 1562.35 1147.76 1560.69 L1147.76 1566.23 Q1144.6 1567.57 1141.29 1568.27 Q1137.98 1568.97 1134.58 1568.97 Q1126.05 1568.97 1121.05 1564 Q1116.09 1559.04 1116.09 1550.57 Q1116.09 1541.82 1120.8 1536.69 Q1125.54 1531.54 1133.56 1531.54 Q1140.75 1531.54 1144.92 1536.18 Q1149.12 1540.8 1149.12 1548.76 M1143.27 1547.04 Q1143.2 1542.23 1140.56 1539.37 Q1137.95 1536.5 1133.62 1536.5 Q1128.72 1536.5 1125.76 1539.27 Q1122.83 1542.04 1122.39 1547.07 L1143.27 1547.04 Z\" fill=\"#000000\" fill-rule=\"nonzero\" fill-opacity=\"1\" /><path clip-path=\"url(#clip600)\" d=\"M1193.27 1536.5 Q1188.56 1536.5 1185.82 1540.19 Q1183.09 1543.85 1183.09 1550.25 Q1183.09 1556.65 1185.79 1560.34 Q1188.53 1564 1193.27 1564 Q1197.95 1564 1200.69 1560.31 Q1203.42 1556.62 1203.42 1550.25 Q1203.42 1543.92 1200.69 1540.23 Q1197.95 1536.5 1193.27 1536.5 M1193.27 1531.54 Q1200.91 1531.54 1205.27 1536.5 Q1209.63 1541.47 1209.63 1550.25 Q1209.63 1559 1205.27 1564 Q1200.91 1568.97 1193.27 1568.97 Q1185.6 1568.97 1181.24 1564 Q1176.91 1559 1176.91 1550.25 Q1176.91 1541.47 1181.24 1536.5 Q1185.6 1531.54 1193.27 1531.54 Z\" fill=\"#000000\" fill-rule=\"nonzero\" fill-opacity=\"1\" /><path clip-path=\"url(#clip600)\" d=\"M1237.38 1518.52 L1237.38 1523.39 L1231.78 1523.39 Q1228.63 1523.39 1227.39 1524.66 Q1226.18 1525.93 1226.18 1529.24 L1226.18 1532.4 L1235.83 1532.4 L1235.83 1536.95 L1226.18 1536.95 L1226.18 1568.04 L1220.29 1568.04 L1220.29 1536.95 L1214.69 1536.95 L1214.69 1532.4 L1220.29 1532.4 L1220.29 1529.91 Q1220.29 1523.96 1223.06 1521.26 Q1225.83 1518.52 1231.85 1518.52 L1237.38 1518.52 Z\" fill=\"#000000\" fill-rule=\"nonzero\" fill-opacity=\"1\" /><path clip-path=\"url(#clip600)\" d=\"M1279.21 1550.12 Q1272.11 1550.12 1269.37 1551.75 Q1266.64 1553.37 1266.64 1557.29 Q1266.64 1560.4 1268.67 1562.25 Q1270.74 1564.07 1274.27 1564.07 Q1279.14 1564.07 1282.07 1560.63 Q1285.03 1557.16 1285.03 1551.43 L1285.03 1550.12 L1279.21 1550.12 M1290.89 1547.71 L1290.89 1568.04 L1285.03 1568.04 L1285.03 1562.63 Q1283.03 1565.88 1280.04 1567.44 Q1277.04 1568.97 1272.71 1568.97 Q1267.24 1568.97 1263.99 1565.91 Q1260.78 1562.82 1260.78 1557.67 Q1260.78 1551.65 1264.79 1548.6 Q1268.83 1545.54 1276.82 1545.54 L1285.03 1545.54 L1285.03 1544.97 Q1285.03 1540.93 1282.36 1538.73 Q1279.72 1536.5 1274.91 1536.5 Q1271.86 1536.5 1268.96 1537.23 Q1266.06 1537.97 1263.39 1539.43 L1263.39 1534.02 Q1266.6 1532.78 1269.63 1532.17 Q1272.65 1531.54 1275.52 1531.54 Q1283.25 1531.54 1287.07 1535.55 Q1290.89 1539.56 1290.89 1547.71 Z\" fill=\"#000000\" fill-rule=\"nonzero\" fill-opacity=\"1\" /><path clip-path=\"url(#clip600)\" d=\"M1302.95 1532.4 L1308.81 1532.4 L1308.81 1568.04 L1302.95 1568.04 L1302.95 1532.4 M1302.95 1518.52 L1308.81 1518.52 L1308.81 1525.93 L1302.95 1525.93 L1302.95 1518.52 Z\" fill=\"#000000\" fill-rule=\"nonzero\" fill-opacity=\"1\" /><path clip-path=\"url(#clip600)\" d=\"M1341.72 1537.87 Q1340.73 1537.3 1339.55 1537.04 Q1338.41 1536.76 1337.01 1536.76 Q1332.04 1536.76 1329.37 1540 Q1326.73 1543.22 1326.73 1549.27 L1326.73 1568.04 L1320.84 1568.04 L1320.84 1532.4 L1326.73 1532.4 L1326.73 1537.93 Q1328.57 1534.69 1331.53 1533.13 Q1334.49 1531.54 1338.73 1531.54 Q1339.33 1531.54 1340.06 1531.63 Q1340.8 1531.7 1341.69 1531.85 L1341.72 1537.87 Z\" fill=\"#000000\" fill-rule=\"nonzero\" fill-opacity=\"1\" /><path clip-path=\"url(#clip600)\" d=\"M1368.58 1532.4 L1374.44 1532.4 L1374.44 1568.04 L1368.58 1568.04 L1368.58 1532.4 M1368.58 1518.52 L1374.44 1518.52 L1374.44 1525.93 L1368.58 1525.93 L1368.58 1518.52 Z\" fill=\"#000000\" fill-rule=\"nonzero\" fill-opacity=\"1\" /><path clip-path=\"url(#clip600)\" d=\"M1416.32 1546.53 L1416.32 1568.04 L1410.47 1568.04 L1410.47 1546.72 Q1410.47 1541.66 1408.5 1539.14 Q1406.52 1536.63 1402.57 1536.63 Q1397.83 1536.63 1395.1 1539.65 Q1392.36 1542.68 1392.36 1547.9 L1392.36 1568.04 L1386.47 1568.04 L1386.47 1532.4 L1392.36 1532.4 L1392.36 1537.93 Q1394.46 1534.72 1397.29 1533.13 Q1400.16 1531.54 1403.88 1531.54 Q1410.02 1531.54 1413.17 1535.36 Q1416.32 1539.14 1416.32 1546.53 Z\" fill=\"#000000\" fill-rule=\"nonzero\" fill-opacity=\"1\" /><path clip-path=\"url(#clip600)\" d=\"M1450.73 1533.45 L1450.73 1538.98 Q1448.25 1537.71 1445.58 1537.07 Q1442.9 1536.44 1440.04 1536.44 Q1435.68 1536.44 1433.48 1537.77 Q1431.32 1539.11 1431.32 1541.79 Q1431.32 1543.82 1432.88 1545 Q1434.44 1546.15 1439.15 1547.2 L1441.15 1547.64 Q1447.39 1548.98 1450 1551.43 Q1452.64 1553.85 1452.64 1558.21 Q1452.64 1563.17 1448.69 1566.07 Q1444.78 1568.97 1437.9 1568.97 Q1435.04 1568.97 1431.92 1568.39 Q1428.83 1567.85 1425.4 1566.74 L1425.4 1560.69 Q1428.64 1562.38 1431.79 1563.24 Q1434.94 1564.07 1438.03 1564.07 Q1442.17 1564.07 1444.4 1562.66 Q1446.63 1561.23 1446.63 1558.65 Q1446.63 1556.27 1445 1554.99 Q1443.41 1553.72 1437.97 1552.54 L1435.93 1552.07 Q1430.49 1550.92 1428.07 1548.56 Q1425.65 1546.18 1425.65 1542.04 Q1425.65 1537.01 1429.22 1534.27 Q1432.78 1531.54 1439.34 1531.54 Q1442.58 1531.54 1445.45 1532.01 Q1448.31 1532.49 1450.73 1533.45 Z\" fill=\"#000000\" fill-rule=\"nonzero\" fill-opacity=\"1\" /><path clip-path=\"url(#clip600)\" d=\"M1467.63 1562.7 L1467.63 1581.6 L1461.74 1581.6 L1461.74 1532.4 L1467.63 1532.4 L1467.63 1537.81 Q1469.48 1534.62 1472.28 1533.1 Q1475.11 1531.54 1479.03 1531.54 Q1485.52 1531.54 1489.56 1536.69 Q1493.64 1541.85 1493.64 1550.25 Q1493.64 1558.65 1489.56 1563.81 Q1485.52 1568.97 1479.03 1568.97 Q1475.11 1568.97 1472.28 1567.44 Q1469.48 1565.88 1467.63 1562.7 M1487.56 1550.25 Q1487.56 1543.79 1484.88 1540.13 Q1482.24 1536.44 1477.59 1536.44 Q1472.95 1536.44 1470.27 1540.13 Q1467.63 1543.79 1467.63 1550.25 Q1467.63 1556.71 1470.27 1560.4 Q1472.95 1564.07 1477.59 1564.07 Q1482.24 1564.07 1484.88 1560.4 Q1487.56 1556.71 1487.56 1550.25 Z\" fill=\"#000000\" fill-rule=\"nonzero\" fill-opacity=\"1\" /><path clip-path=\"url(#clip600)\" d=\"M1503.34 1532.4 L1509.2 1532.4 L1509.2 1568.04 L1503.34 1568.04 L1503.34 1532.4 M1503.34 1518.52 L1509.2 1518.52 L1509.2 1525.93 L1503.34 1525.93 L1503.34 1518.52 Z\" fill=\"#000000\" fill-rule=\"nonzero\" fill-opacity=\"1\" /><path clip-path=\"url(#clip600)\" d=\"M1542.11 1537.87 Q1541.12 1537.3 1539.95 1537.04 Q1538.8 1536.76 1537.4 1536.76 Q1532.44 1536.76 1529.76 1540 Q1527.12 1543.22 1527.12 1549.27 L1527.12 1568.04 L1521.23 1568.04 L1521.23 1532.4 L1527.12 1532.4 L1527.12 1537.93 Q1528.97 1534.69 1531.93 1533.13 Q1534.89 1531.54 1539.12 1531.54 Q1539.72 1531.54 1540.46 1531.63 Q1541.19 1531.7 1542.08 1531.85 L1542.11 1537.87 Z\" fill=\"#000000\" fill-rule=\"nonzero\" fill-opacity=\"1\" /><path clip-path=\"url(#clip600)\" d=\"M1577.31 1548.76 L1577.31 1551.62 L1550.39 1551.62 Q1550.77 1557.67 1554.02 1560.85 Q1557.29 1564 1563.12 1564 Q1566.49 1564 1569.64 1563.17 Q1572.83 1562.35 1575.94 1560.69 L1575.94 1566.23 Q1572.79 1567.57 1569.48 1568.27 Q1566.17 1568.97 1562.77 1568.97 Q1554.24 1568.97 1549.24 1564 Q1544.28 1559.04 1544.28 1550.57 Q1544.28 1541.82 1548.99 1536.69 Q1553.73 1531.54 1561.75 1531.54 Q1568.94 1531.54 1573.11 1536.18 Q1577.31 1540.8 1577.31 1548.76 M1571.46 1547.04 Q1571.39 1542.23 1568.75 1539.37 Q1566.14 1536.5 1561.81 1536.5 Q1556.91 1536.5 1553.95 1539.27 Q1551.02 1542.04 1550.58 1547.07 L1571.46 1547.04 Z\" fill=\"#000000\" fill-rule=\"nonzero\" fill-opacity=\"1\" /><path clip-path=\"url(#clip600)\" d=\"M1610.38 1537.81 L1610.38 1518.52 L1616.24 1518.52 L1616.24 1568.04 L1610.38 1568.04 L1610.38 1562.7 Q1608.54 1565.88 1605.7 1567.44 Q1602.9 1568.97 1598.96 1568.97 Q1592.5 1568.97 1588.42 1563.81 Q1584.38 1558.65 1584.38 1550.25 Q1584.38 1541.85 1588.42 1536.69 Q1592.5 1531.54 1598.96 1531.54 Q1602.9 1531.54 1605.7 1533.1 Q1608.54 1534.62 1610.38 1537.81 M1590.43 1550.25 Q1590.43 1556.71 1593.07 1560.4 Q1595.74 1564.07 1600.39 1564.07 Q1605.04 1564.07 1607.71 1560.4 Q1610.38 1556.71 1610.38 1550.25 Q1610.38 1543.79 1607.71 1540.13 Q1605.04 1536.44 1600.39 1536.44 Q1595.74 1536.44 1593.07 1540.13 Q1590.43 1543.79 1590.43 1550.25 Z\" fill=\"#000000\" fill-rule=\"nonzero\" fill-opacity=\"1\" /><polyline clip-path=\"url(#clip600)\" style=\"stroke:#000000; stroke-linecap:round; stroke-linejoin:round; stroke-width:4; stroke-opacity:1; fill:none\" points=\"174.149,1423.18 174.149,123.472 \"/>\n",
       "<polyline clip-path=\"url(#clip600)\" style=\"stroke:#000000; stroke-linecap:round; stroke-linejoin:round; stroke-width:4; stroke-opacity:1; fill:none\" points=\"174.149,1396.28 193.047,1396.28 \"/>\n",
       "<polyline clip-path=\"url(#clip600)\" style=\"stroke:#000000; stroke-linecap:round; stroke-linejoin:round; stroke-width:4; stroke-opacity:1; fill:none\" points=\"174.149,1066.68 193.047,1066.68 \"/>\n",
       "<polyline clip-path=\"url(#clip600)\" style=\"stroke:#000000; stroke-linecap:round; stroke-linejoin:round; stroke-width:4; stroke-opacity:1; fill:none\" points=\"174.149,737.069 193.047,737.069 \"/>\n",
       "<polyline clip-path=\"url(#clip600)\" style=\"stroke:#000000; stroke-linecap:round; stroke-linejoin:round; stroke-width:4; stroke-opacity:1; fill:none\" points=\"174.149,407.462 193.047,407.462 \"/>\n",
       "<path clip-path=\"url(#clip600)\" d=\"M126.205 1382.08 Q122.593 1382.08 120.765 1385.65 Q118.959 1389.19 118.959 1396.32 Q118.959 1403.43 120.765 1406.99 Q122.593 1410.53 126.205 1410.53 Q129.839 1410.53 131.644 1406.99 Q133.473 1403.43 133.473 1396.32 Q133.473 1389.19 131.644 1385.65 Q129.839 1382.08 126.205 1382.08 M126.205 1378.38 Q132.015 1378.38 135.07 1382.99 Q138.149 1387.57 138.149 1396.32 Q138.149 1405.05 135.07 1409.65 Q132.015 1414.24 126.205 1414.24 Q120.394 1414.24 117.316 1409.65 Q114.26 1405.05 114.26 1396.32 Q114.26 1387.57 117.316 1382.99 Q120.394 1378.38 126.205 1378.38 Z\" fill=\"#000000\" fill-rule=\"nonzero\" fill-opacity=\"1\" /><path clip-path=\"url(#clip600)\" d=\"M118.242 1080.02 L125.88 1080.02 L125.88 1053.66 L117.57 1055.32 L117.57 1051.06 L125.834 1049.4 L130.51 1049.4 L130.51 1080.02 L138.149 1080.02 L138.149 1083.96 L118.242 1083.96 L118.242 1080.02 Z\" fill=\"#000000\" fill-rule=\"nonzero\" fill-opacity=\"1\" /><path clip-path=\"url(#clip600)\" d=\"M121.83 750.414 L138.149 750.414 L138.149 754.349 L116.205 754.349 L116.205 750.414 Q118.867 747.659 123.45 743.03 Q128.056 738.377 129.237 737.034 Q131.482 734.511 132.362 732.775 Q133.265 731.016 133.265 729.326 Q133.265 726.572 131.32 724.835 Q129.399 723.099 126.297 723.099 Q124.098 723.099 121.644 723.863 Q119.214 724.627 116.436 726.178 L116.436 721.456 Q119.26 720.322 121.714 719.743 Q124.168 719.164 126.205 719.164 Q131.575 719.164 134.769 721.849 Q137.964 724.535 137.964 729.025 Q137.964 731.155 137.154 733.076 Q136.367 734.974 134.26 737.567 Q133.681 738.238 130.58 741.456 Q127.478 744.65 121.83 750.414 Z\" fill=\"#000000\" fill-rule=\"nonzero\" fill-opacity=\"1\" /><path clip-path=\"url(#clip600)\" d=\"M131.019 406.108 Q134.376 406.825 136.251 409.094 Q138.149 411.362 138.149 414.696 Q138.149 419.811 134.63 422.612 Q131.112 425.413 124.63 425.413 Q122.455 425.413 120.14 424.973 Q117.848 424.557 115.394 423.7 L115.394 419.186 Q117.339 420.321 119.654 420.899 Q121.968 421.478 124.492 421.478 Q128.89 421.478 131.181 419.742 Q133.496 418.006 133.496 414.696 Q133.496 411.64 131.343 409.927 Q129.214 408.191 125.394 408.191 L121.367 408.191 L121.367 404.348 L125.58 404.348 Q129.029 404.348 130.857 402.983 Q132.686 401.594 132.686 399.001 Q132.686 396.339 130.788 394.927 Q128.913 393.492 125.394 393.492 Q123.473 393.492 121.274 393.909 Q119.075 394.325 116.436 395.205 L116.436 391.038 Q119.098 390.298 121.413 389.927 Q123.751 389.557 125.811 389.557 Q131.135 389.557 134.237 391.987 Q137.339 394.395 137.339 398.515 Q137.339 401.385 135.695 403.376 Q134.052 405.344 131.019 406.108 Z\" fill=\"#000000\" fill-rule=\"nonzero\" fill-opacity=\"1\" /><path clip-path=\"url(#clip600)\" d=\"M41.7242 1054.15 Q42.4244 1052.08 44.7161 1050.14 Q47.0077 1048.17 51.0181 1046.19 L64.0042 1039.67 L64.0042 1046.57 L51.8138 1052.65 Q47.0395 1055.01 45.48 1057.24 Q43.9204 1059.43 43.9204 1063.25 L43.9204 1070.25 L64.0042 1070.25 L64.0042 1076.68 L16.4842 1076.68 L16.4842 1062.17 Q16.4842 1054.02 19.8898 1050.01 Q23.2955 1046 30.1704 1046 Q34.6582 1046 37.6183 1048.1 Q40.5784 1050.17 41.7242 1054.15 M21.7677 1070.25 L38.6368 1070.25 L38.6368 1062.17 Q38.6368 1057.52 36.5043 1055.17 Q34.34 1052.78 30.1704 1052.78 Q26.0009 1052.78 23.9002 1055.17 Q21.7677 1057.52 21.7677 1062.17 L21.7677 1070.25 Z\" fill=\"#000000\" fill-rule=\"nonzero\" fill-opacity=\"1\" /><path clip-path=\"url(#clip600)\" d=\"M46.0847 1016.88 Q46.0847 1023.98 47.7079 1026.71 Q49.3312 1029.45 53.2461 1029.45 Q56.3653 1029.45 58.2114 1027.41 Q60.0256 1025.34 60.0256 1021.81 Q60.0256 1016.94 56.5881 1014.01 Q53.1188 1011.05 47.3897 1011.05 L46.0847 1011.05 L46.0847 1016.88 M43.6657 1005.2 L64.0042 1005.2 L64.0042 1011.05 L58.5933 1011.05 Q61.8398 1013.06 63.3994 1016.05 Q64.9272 1019.04 64.9272 1023.37 Q64.9272 1028.85 61.8716 1032.09 Q58.7843 1035.31 53.6281 1035.31 Q47.6125 1035.31 44.5569 1031.3 Q41.5014 1027.25 41.5014 1019.27 L41.5014 1011.05 L40.9285 1011.05 Q36.8862 1011.05 34.6901 1013.73 Q32.4621 1016.37 32.4621 1021.17 Q32.4621 1024.23 33.1941 1027.13 Q33.9262 1030.02 35.3903 1032.7 L29.9795 1032.7 Q28.7381 1029.48 28.1334 1026.46 Q27.4968 1023.43 27.4968 1020.57 Q27.4968 1012.84 31.5072 1009.02 Q35.5176 1005.2 43.6657 1005.2 Z\" fill=\"#000000\" fill-rule=\"nonzero\" fill-opacity=\"1\" /><path clip-path=\"url(#clip600)\" d=\"M18.2347 987.341 L28.3562 987.341 L28.3562 975.278 L32.9077 975.278 L32.9077 987.341 L52.2594 987.341 Q56.6199 987.341 57.8613 986.163 Q59.1026 984.954 59.1026 981.294 L59.1026 975.278 L64.0042 975.278 L64.0042 981.294 Q64.0042 988.073 61.4897 990.651 Q58.9434 993.229 52.2594 993.229 L32.9077 993.229 L32.9077 997.526 L28.3562 997.526 L28.3562 993.229 L18.2347 993.229 L18.2347 987.341 Z\" fill=\"#000000\" fill-rule=\"nonzero\" fill-opacity=\"1\" /><path clip-path=\"url(#clip600)\" d=\"M44.7161 937.084 L47.5806 937.084 L47.5806 964.011 Q53.6281 963.629 56.8109 960.382 Q59.9619 957.104 59.9619 951.279 Q59.9619 947.905 59.1344 944.754 Q58.3069 941.572 56.6518 938.452 L62.1899 938.452 Q63.5267 941.603 64.227 944.914 Q64.9272 948.224 64.9272 951.629 Q64.9272 960.159 59.9619 965.157 Q54.9967 970.122 46.5303 970.122 Q37.7774 970.122 32.6531 965.411 Q27.4968 960.669 27.4968 952.648 Q27.4968 945.455 32.1438 941.285 Q36.7589 937.084 44.7161 937.084 M42.9973 942.94 Q38.1912 943.004 35.3266 945.646 Q32.4621 948.256 32.4621 952.584 Q32.4621 957.486 35.2312 960.446 Q38.0002 963.374 43.0292 963.82 L42.9973 942.94 Z\" fill=\"#000000\" fill-rule=\"nonzero\" fill-opacity=\"1\" /><path clip-path=\"url(#clip600)\" d=\"M32.4621 892.938 Q32.4621 897.648 36.1542 900.385 Q39.8145 903.123 46.212 903.123 Q52.6095 903.123 56.3017 900.417 Q59.9619 897.68 59.9619 892.938 Q59.9619 888.259 56.2698 885.522 Q52.5777 882.784 46.212 882.784 Q39.8781 882.784 36.186 885.522 Q32.4621 888.259 32.4621 892.938 M27.4968 892.938 Q27.4968 885.299 32.4621 880.938 Q37.4273 876.578 46.212 876.578 Q54.9649 876.578 59.9619 880.938 Q64.9272 885.299 64.9272 892.938 Q64.9272 900.608 59.9619 904.969 Q54.9649 909.297 46.212 909.297 Q37.4273 909.297 32.4621 904.969 Q27.4968 900.608 27.4968 892.938 Z\" fill=\"#000000\" fill-rule=\"nonzero\" fill-opacity=\"1\" /><path clip-path=\"url(#clip600)\" d=\"M14.479 848.823 L19.3487 848.823 L19.3487 854.425 Q19.3487 857.576 20.6219 858.817 Q21.895 860.027 25.2052 860.027 L28.3562 860.027 L28.3562 850.383 L32.9077 850.383 L32.9077 860.027 L64.0042 860.027 L64.0042 865.915 L32.9077 865.915 L32.9077 871.517 L28.3562 871.517 L28.3562 865.915 L25.8736 865.915 Q19.9216 865.915 17.2162 863.146 Q14.479 860.377 14.479 854.361 L14.479 848.823 Z\" fill=\"#000000\" fill-rule=\"nonzero\" fill-opacity=\"1\" /><path clip-path=\"url(#clip600)\" d=\"M46.0847 807.001 Q46.0847 814.098 47.7079 816.836 Q49.3312 819.573 53.2461 819.573 Q56.3653 819.573 58.2114 817.536 Q60.0256 815.467 60.0256 811.934 Q60.0256 807.064 56.5881 804.136 Q53.1188 801.176 47.3897 801.176 L46.0847 801.176 L46.0847 807.001 M43.6657 795.32 L64.0042 795.32 L64.0042 801.176 L58.5933 801.176 Q61.8398 803.181 63.3994 806.173 Q64.9272 809.165 64.9272 813.494 Q64.9272 818.968 61.8716 822.215 Q58.7843 825.429 53.6281 825.429 Q47.6125 825.429 44.5569 821.419 Q41.5014 817.377 41.5014 809.388 L41.5014 801.176 L40.9285 801.176 Q36.8862 801.176 34.6901 803.85 Q32.4621 806.491 32.4621 811.297 Q32.4621 814.353 33.1941 817.249 Q33.9262 820.146 35.3903 822.819 L29.9795 822.819 Q28.7381 819.605 28.1334 816.581 Q27.4968 813.557 27.4968 810.693 Q27.4968 802.958 31.5072 799.139 Q35.5176 795.32 43.6657 795.32 Z\" fill=\"#000000\" fill-rule=\"nonzero\" fill-opacity=\"1\" /><path clip-path=\"url(#clip600)\" d=\"M28.3562 783.256 L28.3562 777.4 L64.0042 777.4 L64.0042 783.256 L28.3562 783.256 M14.479 783.256 L14.479 777.4 L21.895 777.4 L21.895 783.256 L14.479 783.256 Z\" fill=\"#000000\" fill-rule=\"nonzero\" fill-opacity=\"1\" /><path clip-path=\"url(#clip600)\" d=\"M33.8307 744.489 Q33.2578 745.476 33.0032 746.654 Q32.7167 747.8 32.7167 749.2 Q32.7167 754.165 35.9632 756.839 Q39.1779 759.481 45.2253 759.481 L64.0042 759.481 L64.0042 765.369 L28.3562 765.369 L28.3562 759.481 L33.8944 759.481 Q30.6479 757.635 29.0883 754.674 Q27.4968 751.714 27.4968 747.481 Q27.4968 746.876 27.5923 746.144 Q27.656 745.412 27.8151 744.521 L33.8307 744.489 Z\" fill=\"#000000\" fill-rule=\"nonzero\" fill-opacity=\"1\" /><path clip-path=\"url(#clip600)\" d=\"M28.3562 717.626 L28.3562 711.77 L64.0042 711.77 L64.0042 717.626 L28.3562 717.626 M14.479 717.626 L14.479 711.77 L21.895 711.77 L21.895 717.626 L14.479 717.626 Z\" fill=\"#000000\" fill-rule=\"nonzero\" fill-opacity=\"1\" /><path clip-path=\"url(#clip600)\" d=\"M42.4881 669.883 L64.0042 669.883 L64.0042 675.74 L42.679 675.74 Q37.6183 675.74 35.1038 677.713 Q32.5894 679.686 32.5894 683.633 Q32.5894 688.376 35.6131 691.113 Q38.6368 693.85 43.8567 693.85 L64.0042 693.85 L64.0042 699.738 L28.3562 699.738 L28.3562 693.85 L33.8944 693.85 Q30.6797 691.749 29.0883 688.917 Q27.4968 686.052 27.4968 682.328 Q27.4968 676.185 31.3163 673.034 Q35.1038 669.883 42.4881 669.883 Z\" fill=\"#000000\" fill-rule=\"nonzero\" fill-opacity=\"1\" /><path clip-path=\"url(#clip600)\" d=\"M29.4065 635.477 L34.9447 635.477 Q33.6716 637.959 33.035 640.633 Q32.3984 643.306 32.3984 646.171 Q32.3984 650.532 33.7352 652.728 Q35.072 654.892 37.7456 654.892 Q39.7826 654.892 40.9603 653.332 Q42.1061 651.773 43.1565 647.062 L43.6021 645.057 Q44.9389 638.819 47.3897 636.209 Q49.8086 633.567 54.1691 633.567 Q59.1344 633.567 62.0308 637.514 Q64.9272 641.429 64.9272 648.304 Q64.9272 651.168 64.3543 654.287 Q63.8132 657.375 62.6992 660.812 L56.6518 660.812 Q58.3387 657.566 59.198 654.415 Q60.0256 651.264 60.0256 648.176 Q60.0256 644.038 58.6251 641.81 Q57.1929 639.582 54.6147 639.582 Q52.2276 639.582 50.9545 641.206 Q49.6813 642.797 48.5037 648.24 L48.0262 650.277 Q46.8804 655.72 44.5251 658.139 Q42.138 660.557 38.0002 660.557 Q32.9713 660.557 30.2341 656.993 Q27.4968 653.428 27.4968 646.871 Q27.4968 643.625 27.9743 640.76 Q28.4517 637.896 29.4065 635.477 Z\" fill=\"#000000\" fill-rule=\"nonzero\" fill-opacity=\"1\" /><path clip-path=\"url(#clip600)\" d=\"M58.657 618.576 L77.5631 618.576 L77.5631 624.464 L28.3562 624.464 L28.3562 618.576 L33.7671 618.576 Q30.5842 616.73 29.0564 613.929 Q27.4968 611.096 27.4968 607.181 Q27.4968 600.688 32.6531 596.646 Q37.8093 592.572 46.212 592.572 Q54.6147 592.572 59.771 596.646 Q64.9272 600.688 64.9272 607.181 Q64.9272 611.096 63.3994 613.929 Q61.8398 616.73 58.657 618.576 M46.212 598.651 Q39.7508 598.651 36.0905 601.325 Q32.3984 603.966 32.3984 608.613 Q32.3984 613.26 36.0905 615.934 Q39.7508 618.576 46.212 618.576 Q52.6732 618.576 56.3653 615.934 Q60.0256 613.26 60.0256 608.613 Q60.0256 603.966 56.3653 601.325 Q52.6732 598.651 46.212 598.651 Z\" fill=\"#000000\" fill-rule=\"nonzero\" fill-opacity=\"1\" /><path clip-path=\"url(#clip600)\" d=\"M28.3562 582.864 L28.3562 577.008 L64.0042 577.008 L64.0042 582.864 L28.3562 582.864 M14.479 582.864 L14.479 577.008 L21.895 577.008 L21.895 582.864 L14.479 582.864 Z\" fill=\"#000000\" fill-rule=\"nonzero\" fill-opacity=\"1\" /><path clip-path=\"url(#clip600)\" d=\"M33.8307 544.097 Q33.2578 545.084 33.0032 546.261 Q32.7167 547.407 32.7167 548.808 Q32.7167 553.773 35.9632 556.446 Q39.1779 559.088 45.2253 559.088 L64.0042 559.088 L64.0042 564.976 L28.3562 564.976 L28.3562 559.088 L33.8944 559.088 Q30.6479 557.242 29.0883 554.282 Q27.4968 551.322 27.4968 547.089 Q27.4968 546.484 27.5923 545.752 Q27.656 545.02 27.8151 544.129 L33.8307 544.097 Z\" fill=\"#000000\" fill-rule=\"nonzero\" fill-opacity=\"1\" /><path clip-path=\"url(#clip600)\" d=\"M44.7161 508.895 L47.5806 508.895 L47.5806 535.821 Q53.6281 535.44 56.8109 532.193 Q59.9619 528.915 59.9619 523.09 Q59.9619 519.716 59.1344 516.565 Q58.3069 513.382 56.6518 510.263 L62.1899 510.263 Q63.5267 513.414 64.227 516.724 Q64.9272 520.035 64.9272 523.44 Q64.9272 531.97 59.9619 536.967 Q54.9967 541.933 46.5303 541.933 Q37.7774 541.933 32.6531 537.222 Q27.4968 532.479 27.4968 524.459 Q27.4968 517.265 32.1438 513.096 Q36.7589 508.895 44.7161 508.895 M42.9973 514.751 Q38.1912 514.815 35.3266 517.456 Q32.4621 520.066 32.4621 524.395 Q32.4621 529.297 35.2312 532.257 Q38.0002 535.185 43.0292 535.63 L42.9973 514.751 Z\" fill=\"#000000\" fill-rule=\"nonzero\" fill-opacity=\"1\" /><path clip-path=\"url(#clip600)\" d=\"M33.7671 475.825 L14.479 475.825 L14.479 469.968 L64.0042 469.968 L64.0042 475.825 L58.657 475.825 Q61.8398 477.671 63.3994 480.503 Q64.9272 483.304 64.9272 487.251 Q64.9272 493.712 59.771 497.786 Q54.6147 501.829 46.212 501.829 Q37.8093 501.829 32.6531 497.786 Q27.4968 493.712 27.4968 487.251 Q27.4968 483.304 29.0564 480.503 Q30.5842 477.671 33.7671 475.825 M46.212 495.781 Q52.6732 495.781 56.3653 493.139 Q60.0256 490.466 60.0256 485.819 Q60.0256 481.172 56.3653 478.498 Q52.6732 475.825 46.212 475.825 Q39.7508 475.825 36.0905 478.498 Q32.3984 481.172 32.3984 485.819 Q32.3984 490.466 36.0905 493.139 Q39.7508 495.781 46.212 495.781 Z\" fill=\"#000000\" fill-rule=\"nonzero\" fill-opacity=\"1\" /><path clip-path=\"url(#clip600)\" d=\"M843.252 72.576 L820.162 12.096 L828.709 12.096 L847.87 63.0159 L867.071 12.096 L875.578 12.096 L852.529 72.576 L843.252 72.576 Z\" fill=\"#000000\" fill-rule=\"nonzero\" fill-opacity=\"1\" /><path clip-path=\"url(#clip600)\" d=\"M898.263 49.7694 Q889.23 49.7694 885.746 51.8354 Q882.262 53.9013 882.262 58.8839 Q882.262 62.8538 884.855 65.2034 Q887.488 67.5124 891.984 67.5124 Q898.182 67.5124 901.909 63.1374 Q905.677 58.7219 905.677 51.4303 L905.677 49.7694 L898.263 49.7694 M913.13 46.6907 L913.13 72.576 L905.677 72.576 L905.677 65.6895 Q903.124 69.8214 899.317 71.8063 Q895.509 73.7508 890 73.7508 Q883.032 73.7508 878.9 69.8619 Q874.809 65.9325 874.809 59.3701 Q874.809 51.7138 879.913 47.825 Q885.057 43.9361 895.225 43.9361 L905.677 43.9361 L905.677 43.2069 Q905.677 38.0623 902.274 35.2672 Q898.912 32.4315 892.795 32.4315 Q888.906 32.4315 885.219 33.3632 Q881.533 34.295 878.13 36.1584 L878.13 29.2718 Q882.222 27.692 886.07 26.9223 Q889.919 26.1121 893.564 26.1121 Q903.408 26.1121 908.269 31.2163 Q913.13 36.3204 913.13 46.6907 Z\" fill=\"#000000\" fill-rule=\"nonzero\" fill-opacity=\"1\" /><path clip-path=\"url(#clip600)\" d=\"M957.407 28.5427 L957.407 35.5912 Q954.247 33.9709 950.844 33.1607 Q947.441 32.3505 943.796 32.3505 Q938.246 32.3505 935.451 34.0519 Q932.696 35.7533 932.696 39.156 Q932.696 41.7486 934.681 43.2475 Q936.666 44.7058 942.661 46.0426 L945.213 46.6097 Q953.153 48.3111 956.475 51.4303 Q959.837 54.509 959.837 60.0587 Q959.837 66.3781 954.814 70.0644 Q949.831 73.7508 941.081 73.7508 Q937.436 73.7508 933.466 73.0216 Q929.536 72.3329 925.161 70.9151 L925.161 63.2184 Q929.293 65.3654 933.304 66.4591 Q937.314 67.5124 941.243 67.5124 Q946.51 67.5124 949.345 65.73 Q952.181 63.9071 952.181 60.6258 Q952.181 57.5877 950.115 55.9673 Q948.09 54.3469 941.162 52.8481 L938.57 52.2405 Q931.643 50.7821 928.564 47.7845 Q925.485 44.7463 925.485 39.4801 Q925.485 33.0797 930.022 29.5959 Q934.559 26.1121 942.904 26.1121 Q947.036 26.1121 950.682 26.7198 Q954.328 27.3274 957.407 28.5427 Z\" fill=\"#000000\" fill-rule=\"nonzero\" fill-opacity=\"1\" /><path clip-path=\"url(#clip600)\" d=\"M989.287 32.4315 Q983.292 32.4315 979.808 37.1306 Q976.324 41.7891 976.324 49.9314 Q976.324 58.0738 979.768 62.7728 Q983.251 67.4314 989.287 67.4314 Q995.242 67.4314 998.726 62.7323 Q1002.21 58.0333 1002.21 49.9314 Q1002.21 41.8701 998.726 37.1711 Q995.242 32.4315 989.287 32.4315 M989.287 26.1121 Q999.009 26.1121 1004.56 32.4315 Q1010.11 38.7509 1010.11 49.9314 Q1010.11 61.0714 1004.56 67.4314 Q999.009 73.7508 989.287 73.7508 Q979.525 73.7508 973.975 67.4314 Q968.466 61.0714 968.466 49.9314 Q968.466 38.7509 973.975 32.4315 Q979.525 26.1121 989.287 26.1121 Z\" fill=\"#000000\" fill-rule=\"nonzero\" fill-opacity=\"1\" /><path clip-path=\"url(#clip600)\" d=\"M1055.11 28.9478 L1055.11 35.9153 Q1051.95 34.1734 1048.75 33.3227 Q1045.59 32.4315 1042.35 32.4315 Q1035.1 32.4315 1031.09 37.0496 Q1027.08 41.6271 1027.08 49.9314 Q1027.08 58.2358 1031.09 62.8538 Q1035.1 67.4314 1042.35 67.4314 Q1045.59 67.4314 1048.75 66.5807 Q1051.95 65.6895 1055.11 63.9476 L1055.11 70.8341 Q1052 72.2924 1048.63 73.0216 Q1045.31 73.7508 1041.54 73.7508 Q1031.3 73.7508 1025.26 67.3098 Q1019.22 60.8689 1019.22 49.9314 Q1019.22 38.832 1025.3 32.472 Q1031.42 26.1121 1042.03 26.1121 Q1045.47 26.1121 1048.75 26.8413 Q1052.04 27.5299 1055.11 28.9478 Z\" fill=\"#000000\" fill-rule=\"nonzero\" fill-opacity=\"1\" /><path clip-path=\"url(#clip600)\" d=\"M1085.66 32.4315 Q1079.66 32.4315 1076.18 37.1306 Q1072.7 41.7891 1072.7 49.9314 Q1072.7 58.0738 1076.14 62.7728 Q1079.62 67.4314 1085.66 67.4314 Q1091.61 67.4314 1095.1 62.7323 Q1098.58 58.0333 1098.58 49.9314 Q1098.58 41.8701 1095.1 37.1711 Q1091.61 32.4315 1085.66 32.4315 M1085.66 26.1121 Q1095.38 26.1121 1100.93 32.4315 Q1106.48 38.7509 1106.48 49.9314 Q1106.48 61.0714 1100.93 67.4314 Q1095.38 73.7508 1085.66 73.7508 Q1075.9 73.7508 1070.35 67.4314 Q1064.84 61.0714 1064.84 49.9314 Q1064.84 38.7509 1070.35 32.4315 Q1075.9 26.1121 1085.66 26.1121 Z\" fill=\"#000000\" fill-rule=\"nonzero\" fill-opacity=\"1\" /><path clip-path=\"url(#clip600)\" d=\"M1156.55 45.1919 L1156.55 72.576 L1149.1 72.576 L1149.1 45.4349 Q1149.1 38.994 1146.58 35.7938 Q1144.07 32.5936 1139.05 32.5936 Q1133.01 32.5936 1129.53 36.4419 Q1126.05 40.2903 1126.05 46.9338 L1126.05 72.576 L1118.55 72.576 L1118.55 27.2059 L1126.05 27.2059 L1126.05 34.2544 Q1128.72 30.163 1132.32 28.1376 Q1135.97 26.1121 1140.71 26.1121 Q1148.53 26.1121 1152.54 30.9732 Q1156.55 35.7938 1156.55 45.1919 Z\" fill=\"#000000\" fill-rule=\"nonzero\" fill-opacity=\"1\" /><path clip-path=\"url(#clip600)\" d=\"M1200.34 28.5427 L1200.34 35.5912 Q1197.18 33.9709 1193.78 33.1607 Q1190.37 32.3505 1186.73 32.3505 Q1181.18 32.3505 1178.38 34.0519 Q1175.63 35.7533 1175.63 39.156 Q1175.63 41.7486 1177.61 43.2475 Q1179.6 44.7058 1185.59 46.0426 L1188.15 46.6097 Q1196.09 48.3111 1199.41 51.4303 Q1202.77 54.509 1202.77 60.0587 Q1202.77 66.3781 1197.75 70.0644 Q1192.76 73.7508 1184.01 73.7508 Q1180.37 73.7508 1176.4 73.0216 Q1172.47 72.3329 1168.09 70.9151 L1168.09 63.2184 Q1172.23 65.3654 1176.24 66.4591 Q1180.25 67.5124 1184.18 67.5124 Q1189.44 67.5124 1192.28 65.73 Q1195.11 63.9071 1195.11 60.6258 Q1195.11 57.5877 1193.05 55.9673 Q1191.02 54.3469 1184.1 52.8481 L1181.5 52.2405 Q1174.58 50.7821 1171.5 47.7845 Q1168.42 44.7463 1168.42 39.4801 Q1168.42 33.0797 1172.96 29.5959 Q1177.49 26.1121 1185.84 26.1121 Q1189.97 26.1121 1193.61 26.7198 Q1197.26 27.3274 1200.34 28.5427 Z\" fill=\"#000000\" fill-rule=\"nonzero\" fill-opacity=\"1\" /><path clip-path=\"url(#clip600)\" d=\"M1222.01 14.324 L1222.01 27.2059 L1237.36 27.2059 L1237.36 32.9987 L1222.01 32.9987 L1222.01 57.6282 Q1222.01 63.1779 1223.51 64.7578 Q1225.05 66.3376 1229.71 66.3376 L1237.36 66.3376 L1237.36 72.576 L1229.71 72.576 Q1221.08 72.576 1217.8 69.3758 Q1214.52 66.1351 1214.52 57.6282 L1214.52 32.9987 L1209.05 32.9987 L1209.05 27.2059 L1214.52 27.2059 L1214.52 14.324 L1222.01 14.324 Z\" fill=\"#000000\" fill-rule=\"nonzero\" fill-opacity=\"1\" /><path clip-path=\"url(#clip600)\" d=\"M1273.46 34.1734 Q1272.2 33.4443 1270.7 33.1202 Q1269.25 32.7556 1267.46 32.7556 Q1261.14 32.7556 1257.74 36.8875 Q1254.38 40.9789 1254.38 48.6757 L1254.38 72.576 L1246.88 72.576 L1246.88 27.2059 L1254.38 27.2059 L1254.38 34.2544 Q1256.73 30.1225 1260.5 28.1376 Q1264.26 26.1121 1269.65 26.1121 Q1270.42 26.1121 1271.35 26.2337 Q1272.28 26.3147 1273.42 26.5172 L1273.46 34.1734 Z\" fill=\"#000000\" fill-rule=\"nonzero\" fill-opacity=\"1\" /><path clip-path=\"url(#clip600)\" d=\"M1281.28 27.2059 L1288.73 27.2059 L1288.73 72.576 L1281.28 72.576 L1281.28 27.2059 M1281.28 9.54393 L1288.73 9.54393 L1288.73 18.9825 L1281.28 18.9825 L1281.28 9.54393 Z\" fill=\"#000000\" fill-rule=\"nonzero\" fill-opacity=\"1\" /><path clip-path=\"url(#clip600)\" d=\"M1336.98 28.9478 L1336.98 35.9153 Q1333.82 34.1734 1330.62 33.3227 Q1327.46 32.4315 1324.22 32.4315 Q1316.96 32.4315 1312.95 37.0496 Q1308.94 41.6271 1308.94 49.9314 Q1308.94 58.2358 1312.95 62.8538 Q1316.96 67.4314 1324.22 67.4314 Q1327.46 67.4314 1330.62 66.5807 Q1333.82 65.6895 1336.98 63.9476 L1336.98 70.8341 Q1333.86 72.2924 1330.49 73.0216 Q1327.17 73.7508 1323.41 73.7508 Q1313.16 73.7508 1307.12 67.3098 Q1301.09 60.8689 1301.09 49.9314 Q1301.09 38.832 1307.16 32.472 Q1313.28 26.1121 1323.89 26.1121 Q1327.34 26.1121 1330.62 26.8413 Q1333.9 27.5299 1336.98 28.9478 Z\" fill=\"#000000\" fill-rule=\"nonzero\" fill-opacity=\"1\" /><path clip-path=\"url(#clip600)\" d=\"M1357.31 14.324 L1357.31 27.2059 L1372.66 27.2059 L1372.66 32.9987 L1357.31 32.9987 L1357.31 57.6282 Q1357.31 63.1779 1358.81 64.7578 Q1360.35 66.3376 1365.01 66.3376 L1372.66 66.3376 L1372.66 72.576 L1365.01 72.576 Q1356.38 72.576 1353.1 69.3758 Q1349.82 66.1351 1349.82 57.6282 L1349.82 32.9987 L1344.35 32.9987 L1344.35 27.2059 L1349.82 27.2059 L1349.82 14.324 L1357.31 14.324 Z\" fill=\"#000000\" fill-rule=\"nonzero\" fill-opacity=\"1\" /><path clip-path=\"url(#clip600)\" d=\"M1382.47 27.2059 L1389.92 27.2059 L1389.92 72.576 L1382.47 72.576 L1382.47 27.2059 M1382.47 9.54393 L1389.92 9.54393 L1389.92 18.9825 L1382.47 18.9825 L1382.47 9.54393 Z\" fill=\"#000000\" fill-rule=\"nonzero\" fill-opacity=\"1\" /><path clip-path=\"url(#clip600)\" d=\"M1423.1 32.4315 Q1417.1 32.4315 1413.62 37.1306 Q1410.14 41.7891 1410.14 49.9314 Q1410.14 58.0738 1413.58 62.7728 Q1417.06 67.4314 1423.1 67.4314 Q1429.05 67.4314 1432.54 62.7323 Q1436.02 58.0333 1436.02 49.9314 Q1436.02 41.8701 1432.54 37.1711 Q1429.05 32.4315 1423.1 32.4315 M1423.1 26.1121 Q1432.82 26.1121 1438.37 32.4315 Q1443.92 38.7509 1443.92 49.9314 Q1443.92 61.0714 1438.37 67.4314 Q1432.82 73.7508 1423.1 73.7508 Q1413.34 73.7508 1407.79 67.4314 Q1402.28 61.0714 1402.28 49.9314 Q1402.28 38.7509 1407.79 32.4315 Q1413.34 26.1121 1423.1 26.1121 Z\" fill=\"#000000\" fill-rule=\"nonzero\" fill-opacity=\"1\" /><path clip-path=\"url(#clip600)\" d=\"M1493.99 45.1919 L1493.99 72.576 L1486.54 72.576 L1486.54 45.4349 Q1486.54 38.994 1484.02 35.7938 Q1481.51 32.5936 1476.49 32.5936 Q1470.45 32.5936 1466.97 36.4419 Q1463.49 40.2903 1463.49 46.9338 L1463.49 72.576 L1455.99 72.576 L1455.99 27.2059 L1463.49 27.2059 L1463.49 34.2544 Q1466.16 30.163 1469.76 28.1376 Q1473.41 26.1121 1478.15 26.1121 Q1485.97 26.1121 1489.98 30.9732 Q1493.99 35.7938 1493.99 45.1919 Z\" fill=\"#000000\" fill-rule=\"nonzero\" fill-opacity=\"1\" /><path clip-path=\"url(#clip600)\" d=\"M1565.08 34.0924 L1565.08 9.54393 L1572.54 9.54393 L1572.54 72.576 L1565.08 72.576 L1565.08 65.7705 Q1562.73 69.8214 1559.13 71.8063 Q1555.56 73.7508 1550.54 73.7508 Q1542.32 73.7508 1537.13 67.1883 Q1531.99 60.6258 1531.99 49.9314 Q1531.99 39.2371 1537.13 32.6746 Q1542.32 26.1121 1550.54 26.1121 Q1555.56 26.1121 1559.13 28.0971 Q1562.73 30.0415 1565.08 34.0924 M1539.68 49.9314 Q1539.68 58.1548 1543.05 62.8538 Q1546.45 67.5124 1552.36 67.5124 Q1558.28 67.5124 1561.68 62.8538 Q1565.08 58.1548 1565.08 49.9314 Q1565.08 41.7081 1561.68 37.0496 Q1558.28 32.3505 1552.36 32.3505 Q1546.45 32.3505 1543.05 37.0496 Q1539.68 41.7081 1539.68 49.9314 Z\" fill=\"#000000\" fill-rule=\"nonzero\" fill-opacity=\"1\" /><path clip-path=\"url(#clip600)\" d=\"M1608.51 49.7694 Q1599.47 49.7694 1595.99 51.8354 Q1592.51 53.9013 1592.51 58.8839 Q1592.51 62.8538 1595.1 65.2034 Q1597.73 67.5124 1602.23 67.5124 Q1608.43 67.5124 1612.15 63.1374 Q1615.92 58.7219 1615.92 51.4303 L1615.92 49.7694 L1608.51 49.7694 M1623.38 46.6907 L1623.38 72.576 L1615.92 72.576 L1615.92 65.6895 Q1613.37 69.8214 1609.56 71.8063 Q1605.75 73.7508 1600.24 73.7508 Q1593.28 73.7508 1589.15 69.8619 Q1585.05 65.9325 1585.05 59.3701 Q1585.05 51.7138 1590.16 47.825 Q1595.3 43.9361 1605.47 43.9361 L1615.92 43.9361 L1615.92 43.2069 Q1615.92 38.0623 1612.52 35.2672 Q1609.16 32.4315 1603.04 32.4315 Q1599.15 32.4315 1595.46 33.3632 Q1591.78 34.295 1588.38 36.1584 L1588.38 29.2718 Q1592.47 27.692 1596.32 26.9223 Q1600.16 26.1121 1603.81 26.1121 Q1613.65 26.1121 1618.51 31.2163 Q1623.38 36.3204 1623.38 46.6907 Z\" fill=\"#000000\" fill-rule=\"nonzero\" fill-opacity=\"1\" /><path clip-path=\"url(#clip600)\" d=\"M1646.1 14.324 L1646.1 27.2059 L1661.45 27.2059 L1661.45 32.9987 L1646.1 32.9987 L1646.1 57.6282 Q1646.1 63.1779 1647.6 64.7578 Q1649.14 66.3376 1653.8 66.3376 L1661.45 66.3376 L1661.45 72.576 L1653.8 72.576 Q1645.17 72.576 1641.89 69.3758 Q1638.61 66.1351 1638.61 57.6282 L1638.61 32.9987 L1633.14 32.9987 L1633.14 27.2059 L1638.61 27.2059 L1638.61 14.324 L1646.1 14.324 Z\" fill=\"#000000\" fill-rule=\"nonzero\" fill-opacity=\"1\" /><path clip-path=\"url(#clip600)\" d=\"M1691.88 49.7694 Q1682.84 49.7694 1679.36 51.8354 Q1675.87 53.9013 1675.87 58.8839 Q1675.87 62.8538 1678.47 65.2034 Q1681.1 67.5124 1685.6 67.5124 Q1691.8 67.5124 1695.52 63.1374 Q1699.29 58.7219 1699.29 51.4303 L1699.29 49.7694 L1691.88 49.7694 M1706.74 46.6907 L1706.74 72.576 L1699.29 72.576 L1699.29 65.6895 Q1696.74 69.8214 1692.93 71.8063 Q1689.12 73.7508 1683.61 73.7508 Q1676.64 73.7508 1672.51 69.8619 Q1668.42 65.9325 1668.42 59.3701 Q1668.42 51.7138 1673.53 47.825 Q1678.67 43.9361 1688.84 43.9361 L1699.29 43.9361 L1699.29 43.2069 Q1699.29 38.0623 1695.89 35.2672 Q1692.52 32.4315 1686.41 32.4315 Q1682.52 32.4315 1678.83 33.3632 Q1675.15 34.295 1671.74 36.1584 L1671.74 29.2718 Q1675.83 27.692 1679.68 26.9223 Q1683.53 26.1121 1687.18 26.1121 Q1697.02 26.1121 1701.88 31.2163 Q1706.74 36.3204 1706.74 46.6907 Z\" fill=\"#000000\" fill-rule=\"nonzero\" fill-opacity=\"1\" /><circle clip-path=\"url(#clip602)\" cx=\"360.371\" cy=\"1149.08\" r=\"21.6\" fill=\"#000000\" fill-rule=\"evenodd\" fill-opacity=\"1\" stroke=\"none\"/>\n",
       "<circle clip-path=\"url(#clip602)\" cx=\"671.778\" cy=\"835.951\" r=\"21.6\" fill=\"#000000\" fill-rule=\"evenodd\" fill-opacity=\"1\" stroke=\"none\"/>\n",
       "<circle clip-path=\"url(#clip602)\" cx=\"547.215\" cy=\"1149.08\" r=\"21.6\" fill=\"#000000\" fill-rule=\"evenodd\" fill-opacity=\"1\" stroke=\"none\"/>\n",
       "<circle clip-path=\"url(#clip602)\" cx=\"547.215\" cy=\"1247.96\" r=\"21.6\" fill=\"#000000\" fill-rule=\"evenodd\" fill-opacity=\"1\" stroke=\"none\"/>\n",
       "<circle clip-path=\"url(#clip602)\" cx=\"484.934\" cy=\"1208.41\" r=\"21.6\" fill=\"#000000\" fill-rule=\"evenodd\" fill-opacity=\"1\" stroke=\"none\"/>\n",
       "<circle clip-path=\"url(#clip602)\" cx=\"329.23\" cy=\"489.864\" r=\"21.6\" fill=\"#000000\" fill-rule=\"evenodd\" fill-opacity=\"1\" stroke=\"none\"/>\n",
       "<circle clip-path=\"url(#clip602)\" cx=\"360.371\" cy=\"407.462\" r=\"21.6\" fill=\"#000000\" fill-rule=\"evenodd\" fill-opacity=\"1\" stroke=\"none\"/>\n",
       "<circle clip-path=\"url(#clip602)\" cx=\"1045.47\" cy=\"1046.9\" r=\"21.6\" fill=\"#000000\" fill-rule=\"evenodd\" fill-opacity=\"1\" stroke=\"none\"/>\n",
       "<circle clip-path=\"url(#clip602)\" cx=\"235.808\" cy=\"737.069\" r=\"21.6\" fill=\"#000000\" fill-rule=\"evenodd\" fill-opacity=\"1\" stroke=\"none\"/>\n",
       "<circle clip-path=\"url(#clip602)\" cx=\"578.356\" cy=\"948.018\" r=\"21.6\" fill=\"#000000\" fill-rule=\"evenodd\" fill-opacity=\"1\" stroke=\"none\"/>\n",
       "<circle clip-path=\"url(#clip602)\" cx=\"827.482\" cy=\"951.314\" r=\"21.6\" fill=\"#000000\" fill-rule=\"evenodd\" fill-opacity=\"1\" stroke=\"none\"/>\n",
       "<circle clip-path=\"url(#clip602)\" cx=\"920.904\" cy=\"948.018\" r=\"21.6\" fill=\"#000000\" fill-rule=\"evenodd\" fill-opacity=\"1\" stroke=\"none\"/>\n",
       "<circle clip-path=\"url(#clip602)\" cx=\"360.371\" cy=\"901.873\" r=\"21.6\" fill=\"#000000\" fill-rule=\"evenodd\" fill-opacity=\"1\" stroke=\"none\"/>\n",
       "<circle clip-path=\"url(#clip602)\" cx=\"578.356\" cy=\"770.03\" r=\"21.6\" fill=\"#000000\" fill-rule=\"evenodd\" fill-opacity=\"1\" stroke=\"none\"/>\n",
       "<circle clip-path=\"url(#clip602)\" cx=\"983.186\" cy=\"1264.44\" r=\"21.6\" fill=\"#000000\" fill-rule=\"evenodd\" fill-opacity=\"1\" stroke=\"none\"/>\n",
       "<circle clip-path=\"url(#clip602)\" cx=\"1450.3\" cy=\"1386.4\" r=\"21.6\" fill=\"#000000\" fill-rule=\"evenodd\" fill-opacity=\"1\" stroke=\"none\"/>\n",
       "<circle clip-path=\"url(#clip602)\" cx=\"671.778\" cy=\"793.102\" r=\"21.6\" fill=\"#000000\" fill-rule=\"evenodd\" fill-opacity=\"1\" stroke=\"none\"/>\n",
       "<circle clip-path=\"url(#clip602)\" cx=\"578.356\" cy=\"770.03\" r=\"21.6\" fill=\"#000000\" fill-rule=\"evenodd\" fill-opacity=\"1\" stroke=\"none\"/>\n",
       "<circle clip-path=\"url(#clip602)\" cx=\"453.793\" cy=\"770.03\" r=\"21.6\" fill=\"#000000\" fill-rule=\"evenodd\" fill-opacity=\"1\" stroke=\"none\"/>\n",
       "<circle clip-path=\"url(#clip602)\" cx=\"2291.1\" cy=\"1124.36\" r=\"21.6\" fill=\"#ff0000\" fill-rule=\"evenodd\" fill-opacity=\"1\" stroke=\"#000000\" stroke-opacity=\"1\" stroke-width=\"3.2\"/>\n",
       "<circle clip-path=\"url(#clip602)\" cx=\"2166.53\" cy=\"1037.01\" r=\"21.6\" fill=\"#ff0000\" fill-rule=\"evenodd\" fill-opacity=\"1\" stroke=\"#000000\" stroke-opacity=\"1\" stroke-width=\"3.2\"/>\n",
       "<circle clip-path=\"url(#clip602)\" cx=\"765.2\" cy=\"572.265\" r=\"21.6\" fill=\"#ff0000\" fill-rule=\"evenodd\" fill-opacity=\"1\" stroke=\"#000000\" stroke-opacity=\"1\" stroke-width=\"3.2\"/>\n",
       "<circle clip-path=\"url(#clip602)\" cx=\"453.793\" cy=\"901.873\" r=\"21.6\" fill=\"#ff0000\" fill-rule=\"evenodd\" fill-opacity=\"1\" stroke=\"#000000\" stroke-opacity=\"1\" stroke-width=\"3.2\"/>\n",
       "<circle clip-path=\"url(#clip602)\" cx=\"484.934\" cy=\"341.54\" r=\"21.6\" fill=\"#ff0000\" fill-rule=\"evenodd\" fill-opacity=\"1\" stroke=\"#000000\" stroke-opacity=\"1\" stroke-width=\"3.2\"/>\n",
       "<circle clip-path=\"url(#clip602)\" cx=\"422.652\" cy=\"242.658\" r=\"21.6\" fill=\"#ff0000\" fill-rule=\"evenodd\" fill-opacity=\"1\" stroke=\"#000000\" stroke-opacity=\"1\" stroke-width=\"3.2\"/>\n",
       "<circle clip-path=\"url(#clip602)\" cx=\"858.623\" cy=\"628.299\" r=\"21.6\" fill=\"#ff0000\" fill-rule=\"evenodd\" fill-opacity=\"1\" stroke=\"#000000\" stroke-opacity=\"1\" stroke-width=\"3.2\"/>\n",
       "<circle clip-path=\"url(#clip602)\" cx=\"453.793\" cy=\"160.256\" r=\"21.6\" fill=\"#ff0000\" fill-rule=\"evenodd\" fill-opacity=\"1\" stroke=\"#000000\" stroke-opacity=\"1\" stroke-width=\"3.2\"/>\n",
       "<circle clip-path=\"url(#clip602)\" cx=\"1419.16\" cy=\"855.728\" r=\"21.6\" fill=\"#ff0000\" fill-rule=\"evenodd\" fill-opacity=\"1\" stroke=\"#000000\" stroke-opacity=\"1\" stroke-width=\"3.2\"/>\n",
       "<circle clip-path=\"url(#clip602)\" cx=\"1979.69\" cy=\"868.912\" r=\"21.6\" fill=\"#ff0000\" fill-rule=\"evenodd\" fill-opacity=\"1\" stroke=\"#000000\" stroke-opacity=\"1\" stroke-width=\"3.2\"/>\n",
       "<circle clip-path=\"url(#clip602)\" cx=\"516.074\" cy=\"929.889\" r=\"21.6\" fill=\"#ff0000\" fill-rule=\"evenodd\" fill-opacity=\"1\" stroke=\"#000000\" stroke-opacity=\"1\" stroke-width=\"3.2\"/>\n",
       "<circle clip-path=\"url(#clip602)\" cx=\"1107.75\" cy=\"802.991\" r=\"21.6\" fill=\"#ff0000\" fill-rule=\"evenodd\" fill-opacity=\"1\" stroke=\"#000000\" stroke-opacity=\"1\" stroke-width=\"3.2\"/>\n",
       "<circle clip-path=\"url(#clip602)\" cx=\"983.186\" cy=\"809.583\" r=\"21.6\" fill=\"#ff0000\" fill-rule=\"evenodd\" fill-opacity=\"1\" stroke=\"#000000\" stroke-opacity=\"1\" stroke-width=\"3.2\"/>\n",
       "<circle clip-path=\"url(#clip602)\" cx=\"1107.75\" cy=\"901.873\" r=\"21.6\" fill=\"#ff0000\" fill-rule=\"evenodd\" fill-opacity=\"1\" stroke=\"#000000\" stroke-opacity=\"1\" stroke-width=\"3.2\"/>\n",
       "<circle clip-path=\"url(#clip602)\" cx=\"1170.03\" cy=\"1083.16\" r=\"21.6\" fill=\"#ff0000\" fill-rule=\"evenodd\" fill-opacity=\"1\" stroke=\"#000000\" stroke-opacity=\"1\" stroke-width=\"3.2\"/>\n",
       "<circle clip-path=\"url(#clip602)\" cx=\"1668.28\" cy=\"1149.08\" r=\"21.6\" fill=\"#ff0000\" fill-rule=\"evenodd\" fill-opacity=\"1\" stroke=\"#000000\" stroke-opacity=\"1\" stroke-width=\"3.2\"/>\n",
       "<circle clip-path=\"url(#clip602)\" cx=\"671.778\" cy=\"671.148\" r=\"21.6\" fill=\"#ff0000\" fill-rule=\"evenodd\" fill-opacity=\"1\" stroke=\"#000000\" stroke-opacity=\"1\" stroke-width=\"3.2\"/>\n",
       "<circle clip-path=\"url(#clip602)\" cx=\"734.06\" cy=\"737.069\" r=\"21.6\" fill=\"#ff0000\" fill-rule=\"evenodd\" fill-opacity=\"1\" stroke=\"#000000\" stroke-opacity=\"1\" stroke-width=\"3.2\"/>\n",
       "<circle clip-path=\"url(#clip602)\" cx=\"484.934\" cy=\"298.691\" r=\"21.6\" fill=\"#ff0000\" fill-rule=\"evenodd\" fill-opacity=\"1\" stroke=\"#000000\" stroke-opacity=\"1\" stroke-width=\"3.2\"/>\n",
       "<circle clip-path=\"url(#clip602)\" cx=\"796.341\" cy=\"860.672\" r=\"21.6\" fill=\"#ff0000\" fill-rule=\"evenodd\" fill-opacity=\"1\" stroke=\"#000000\" stroke-opacity=\"1\" stroke-width=\"3.2\"/>\n",
       "</svg>\n"
      ]
     },
     "metadata": {},
     "output_type": "display_data"
    }
   ],
   "source": [
    "folder_path = raw\"C:\\Users\\mussi\\Documents\\Manhattan\\Leuven\\MCQMC\\Data_Libraries\\\\\"\n",
    "df_vaso = CSV.read(folder_path * \"DB_Vaso.csv\", DataFrame)\n",
    "rename!(df_vaso, [:x1, :x2, :y])\n",
    "\n",
    "scatter(\n",
    "    df_vaso.x1, df_vaso.x2,\n",
    "    group = df_vaso.y,\n",
    "    markershape = :circle,\n",
    "    markersize = 6,\n",
    "    palette = [\"black\", \"red\"],   # y=0 nero, y=1 rosso\n",
    "    xlabel = \"Volume of air inspired\",\n",
    "    ylabel = \"Rate of air inspired\",\n",
    "    title = \"Vasoconstriction data\",\n",
    "    legend = false\n",
    ")"
   ]
  },
  {
   "cell_type": "markdown",
   "id": "97c95e05",
   "metadata": {},
   "source": [
    "### **GML: Probit Model**"
   ]
  },
  {
   "cell_type": "code",
   "execution_count": null,
   "id": "894826f5",
   "metadata": {},
   "outputs": [],
   "source": [
    "@time probit = glm(@formula(y ~ x1+ x2), df_vaso, Binomial(), ProbitLink())"
   ]
  },
  {
   "cell_type": "markdown",
   "id": "d9e50586",
   "metadata": {},
   "source": [
    "### **Gibbs: Albert & Chib 1993**"
   ]
  },
  {
   "cell_type": "code",
   "execution_count": 26,
   "id": "361445e7",
   "metadata": {},
   "outputs": [],
   "source": [
    "d = size(df_vaso)[1]; p = size(df_vaso)[2] \n",
    "Y = Vector(df_vaso.y); X = hcat(ones(d), Matrix(df_vaso[:, 1:2]));"
   ]
  },
  {
   "cell_type": "code",
   "execution_count": 42,
   "id": "2dbd5238",
   "metadata": {},
   "outputs": [],
   "source": [
    "wcud_12_100 = digit_shift_mat(vec_wcud_12, d+p , 100);\n",
    "wcud_16_100 = digit_shift_mat(vec_wcud_16, d+p, 100);"
   ]
  },
  {
   "cell_type": "markdown",
   "id": "376c2632",
   "metadata": {},
   "source": [
    "**Biased Gibbs Sampler (MCQMC)**"
   ]
  },
  {
   "cell_type": "code",
   "execution_count": 28,
   "id": "22f6e6f0",
   "metadata": {},
   "outputs": [],
   "source": [
    "# BPM = Probit_Gibbs_WCUD(X, Y)\n",
    "# d, N, R = size(wcud_12_100)\n",
    "# @time Probit_wcud_12_100 = Probit_Gibbs_sampler(BPM, wcud_12_100, N, 500, R);\n",
    "\n",
    "# df = DataFrame(\n",
    "#     Coeff    = vec(Probit_wcud_12_100.mean_post_dist),\n",
    "#     Std_Err  = sqrt.(Probit_wcud_12_100.Var_Beta)\n",
    "# )\n",
    "\n",
    "# println(df)"
   ]
  },
  {
   "cell_type": "code",
   "execution_count": 29,
   "id": "e058fa47",
   "metadata": {},
   "outputs": [],
   "source": [
    "# iid_100 = rand(d+p, N, R);\n",
    "# @time Probit_iid_12_100 = Probit_Gibbs_sampler(BPM, iid_100, N, 500, R);\n",
    "\n",
    "# df = DataFrame(\n",
    "#     Coeff    = vec(Probit_iid_12_100.mean_post_dist),\n",
    "#     Std_Err  = sqrt.(Probit_iid_12_100.Var_Beta)\n",
    "# )\n",
    "\n",
    "# println(df)"
   ]
  },
  {
   "cell_type": "code",
   "execution_count": null,
   "id": "aaf66737",
   "metadata": {},
   "outputs": [],
   "source": [
    "# d, N, R = size(wcud_16_100)\n",
    "# @time Probit_wcud_16_100 = Probit_Gibbs_sampler(BPM, wcud_16_100, N, 500, R);\n",
    "\n",
    "# println(DataFrame(\n",
    "#                     Coeff    = vec(Probit_wcud_16_100.mean_post_dist),\n",
    "#                     Std_Err  = sqrt.(Probit_wcud_16_100.Var_Beta)\n",
    "#                 ))"
   ]
  },
  {
   "cell_type": "code",
   "execution_count": null,
   "id": "780eba58",
   "metadata": {},
   "outputs": [],
   "source": [
    "# R = 100\n",
    "# iid_100 = rand(d+p, N, R);\n",
    "# @time Probit_iid_16_100 = Probit_Gibbs_sampler(BPM, iid_100, N, 500, R);\n",
    "\n",
    "# df = DataFrame(\n",
    "#     Coeff    = vec(Probit_iid_16_100.mean_post_dist),\n",
    "#     Std_Err  = sqrt.(Probit_iid_16_100.Var_Beta)\n",
    "# )\n",
    "\n",
    "# println(df)"
   ]
  },
  {
   "cell_type": "markdown",
   "id": "dedd7516",
   "metadata": {},
   "source": [
    "**BIASED Gibbs Sampler (ubMCQMC)**"
   ]
  },
  {
   "cell_type": "code",
   "execution_count": 30,
   "id": "f5965d95",
   "metadata": {},
   "outputs": [
    {
     "name": "stdout",
     "output_type": "stream",
     "text": [
      "  5.808344 seconds (14.01 M allocations: 1.749 GiB, 4.16% gc time, 78.86% compilation time)\n",
      "\u001b[1m3×2 DataFrame\u001b[0m\n",
      "\u001b[1m Row \u001b[0m│\u001b[1m Coeff    \u001b[0m\u001b[1m Std_Err    \u001b[0m\n",
      "     │\u001b[90m Float64  \u001b[0m\u001b[90m Float64    \u001b[0m\n",
      "─────┼──────────────────────\n",
      "   1 │ -5.73854  0.0104746\n",
      "   2 │  2.3475   0.00519492\n",
      "   3 │  1.63604  0.0027227\n"
     ]
    }
   ],
   "source": [
    "# IID CASE\n",
    "probit_unmcqmc = UnMCQMC_probit(Y, X);\n",
    "N = (2^12)-1; R = 100; seq = rand(p+d, N, R); burn_in = 8;\n",
    "\n",
    "@time F_Prob_iid = R_Fkm_probit(probit_unmcqmc, seq, N, burn_in, R, x -> x);\n",
    "\n",
    "println(DataFrame(\n",
    "                    Coeff   = vec(F_Prob_iid.mu_pool),\n",
    "                    Std_Err = sqrt.(vec(F_Prob_iid.sigma_pool))\n",
    "                ))"
   ]
  },
  {
   "cell_type": "code",
   "execution_count": 31,
   "id": "3b3b72da",
   "metadata": {},
   "outputs": [
    {
     "name": "stdout",
     "output_type": "stream",
     "text": [
      "  1.393730 seconds (12.37 M allocations: 1.668 GiB, 13.63% gc time, 7.33% compilation time)\n",
      "\u001b[1m3×2 DataFrame\u001b[0m\n",
      "\u001b[1m Row \u001b[0m│\u001b[1m Coeff    \u001b[0m\u001b[1m Std_Err     \u001b[0m\n",
      "     │\u001b[90m Float64  \u001b[0m\u001b[90m Float64     \u001b[0m\n",
      "─────┼───────────────────────\n",
      "   1 │ -5.73526  0.00119509\n",
      "   2 │  2.34471  0.000568063\n",
      "   3 │  1.63581  0.000338775\n"
     ]
    }
   ],
   "source": [
    "\n",
    "N = (2^12)-1; R = 100; seq = wcud_12_100; burn_in = 8;\n",
    "\n",
    "@time F_Prob_wcud_12_100 = R_Fkm_probit(probit_unmcqmc, wcud_12_100, N, burn_in, R, x -> x);\n",
    "\n",
    "println(DataFrame(\n",
    "                    Coeff   = vec(F_Prob_wcud_12_100.mu_pool),\n",
    "                    Std_Err = sqrt.(vec(F_Prob_wcud_12_100.sigma_pool))\n",
    "                ))"
   ]
  },
  {
   "cell_type": "code",
   "execution_count": null,
   "id": "d756539e",
   "metadata": {},
   "outputs": [],
   "source": [
    "d, N, R = size(wcud_16_100)\n",
    "@time F_Prob_wcud_16_100 = R_Fkm_probit(probit_unmcqmc, wcud_16_100, N, burn_in, R, x -> x);\n",
    "\n",
    "println(DataFrame(\n",
    "                    Coeff    = vec(Probit_wcud_16_100.mean_post_dist),\n",
    "                    Std_Err  = sqrt.(Probit_wcud_16_100.Var_Beta)\n",
    "                ))"
   ]
  },
  {
   "cell_type": "markdown",
   "id": "9def6f0f",
   "metadata": {},
   "source": [
    "**UNBIASED Gibbs Sampler (unMCQMC)**"
   ]
  },
  {
   "cell_type": "code",
   "execution_count": 32,
   "id": "72d61e50",
   "metadata": {},
   "outputs": [],
   "source": [
    "N = (2^12)-1; R = 100; seq = rand(42, N, R); burn_in = 8;\n",
    "probit_unmcqmc = UnMCQMC_probit(Y, X);"
   ]
  },
  {
   "cell_type": "code",
   "execution_count": 33,
   "id": "ce7e5f2a",
   "metadata": {},
   "outputs": [
    {
     "name": "stdout",
     "output_type": "stream",
     "text": [
      "  3.271273 seconds (15.02 M allocations: 1.906 GiB, 10.37% gc time, 47.15% compilation time)\n",
      "\u001b[1m3×2 DataFrame\u001b[0m\n",
      "\u001b[1m Row \u001b[0m│\u001b[1m Coeff    \u001b[0m\u001b[1m Std_Err    \u001b[0m\n",
      "     │\u001b[90m Float64  \u001b[0m\u001b[90m Float64    \u001b[0m\n",
      "─────┼──────────────────────\n",
      "   1 │ -5.73675  0.0108603\n",
      "   2 │  2.34425  0.00538838\n",
      "   3 │  1.63715  0.00281776\n"
     ]
    }
   ],
   "source": [
    "# IID CASE\n",
    "@time unF_Prob_iid  = R_UbFkm_probit(probit_unmcqmc, seq, N, burn_in, R, x -> x);\n",
    "\n",
    "println(DataFrame(\n",
    "                    Coeff   = vec(unF_Prob_iid.mu_pool),\n",
    "                    Std_Err = sqrt.(vec(unF_Prob_iid.sigma_pool))\n",
    "                ))"
   ]
  },
  {
   "cell_type": "code",
   "execution_count": 36,
   "id": "00c1fc2b",
   "metadata": {},
   "outputs": [
    {
     "name": "stdout",
     "output_type": "stream",
     "text": [
      "RMSE:0.012446735400563234\n"
     ]
    }
   ],
   "source": [
    "rmse_prob_iid_12 = sqrt(sum(unF_Prob_iid.sigma_pool))\n",
    "println(\"RMSE:\", rmse_prob_iid_12)"
   ]
  },
  {
   "cell_type": "code",
   "execution_count": 45,
   "id": "a222c383",
   "metadata": {},
   "outputs": [
    {
     "name": "stdout",
     "output_type": "stream",
     "text": [
      "  1.570891 seconds (12.44 M allocations: 1.774 GiB, 14.87% gc time, 16.50% compilation time)\n",
      "\u001b[1m3×2 DataFrame\u001b[0m\n",
      "\u001b[1m Row \u001b[0m│\u001b[1m Coeff    \u001b[0m\u001b[1m Std_Err     \u001b[0m\n",
      "     │\u001b[90m Float64  \u001b[0m\u001b[90m Float64     \u001b[0m\n",
      "─────┼───────────────────────\n",
      "   1 │ -5.73447  0.00113324\n",
      "   2 │  2.34444  0.000550616\n",
      "   3 │  1.63553  0.000310412\n"
     ]
    }
   ],
   "source": [
    "# HARASE'S LFSR\n",
    "\n",
    "@time unF_Prob_wcud_12_100  = R_UbFkm_probit(probit_unmcqmc, wcud_12_100, N, burn_in, R, x -> x);\n",
    "\n",
    "println(DataFrame(\n",
    "                    Coeff   = vec(unF_Prob_wcud_12_100.mu_pool),\n",
    "                    Std_Err = sqrt.(vec(unF_Prob_wcud_12_100.sigma_pool))\n",
    "                ))"
   ]
  },
  {
   "cell_type": "code",
   "execution_count": 46,
   "id": "9a26fe75",
   "metadata": {},
   "outputs": [
    {
     "name": "stdout",
     "output_type": "stream",
     "text": [
      "RMSE:0.0012976025079338472\n"
     ]
    }
   ],
   "source": [
    "rmse_prob_wcud_12 = sqrt(sum(unF_Prob_wcud_12_100.sigma_pool))\n",
    "println(\"RMSE:\", rmse_prob_wcud_12)"
   ]
  },
  {
   "cell_type": "code",
   "execution_count": 39,
   "id": "9a119b6e",
   "metadata": {},
   "outputs": [
    {
     "name": "stdout",
     "output_type": "stream",
     "text": [
      "  2.762346 seconds (12.44 M allocations: 1.774 GiB, 53.48% gc time, 9.30% compilation time)\n",
      "\u001b[1m3×2 DataFrame\u001b[0m\n",
      "\u001b[1m Row \u001b[0m│\u001b[1m Coeff    \u001b[0m\u001b[1m Std_Err     \u001b[0m\n",
      "     │\u001b[90m Float64  \u001b[0m\u001b[90m Float64     \u001b[0m\n",
      "─────┼───────────────────────\n",
      "   1 │ -5.41551  0.000623337\n",
      "   2 │  2.20445  0.000288808\n",
      "   3 │  1.54466  0.000170557\n"
     ]
    }
   ],
   "source": [
    "# SOBOL PTS\n",
    "folder_path = raw\"C:\\Users\\mussi\\Documents\\Manhattan\\Leuven\\MCQMC\\Data_Libraries\\Pts\\\\\" \n",
    "sobol_12_d42 = CSV.read(folder_path * \"sobol_42d.txt\", Tables.matrix; header=false, delim = ' ', ignorerepeated = true);\n",
    "array_sobol_12_d42 = digital_shift(sobol_12_d42[2:end,:], 100);          # digital shift on d-dim sobol (no zero vector, since there the inverse probability function is not defined)\n",
    "# size(array_sobol_12_d42)  gives (42, 4095, 100)\n",
    "\n",
    "@time unF_Prob_sob  = R_UbFkm_probit(probit_unmcqmc, array_sobol_12_d42, N, burn_in, R, x -> x);\n",
    "\n",
    "\n",
    "println(DataFrame(\n",
    "                    Coeff   = vec(unF_Prob_sob.mu_pool),\n",
    "                    Std_Err = sqrt.(vec(unF_Prob_sob.sigma_pool))\n",
    "                ))"
   ]
  },
  {
   "cell_type": "code",
   "execution_count": 38,
   "id": "b79b4007",
   "metadata": {},
   "outputs": [
    {
     "name": "stdout",
     "output_type": "stream",
     "text": [
      "RMSE:0.0006327206068056584\n"
     ]
    }
   ],
   "source": [
    "rmse_prob_sob_12 = sqrt(sum(unF_Prob_sob.sigma_pool))\n",
    "println(\"RMSE:\", rmse_prob_sob_12)"
   ]
  },
  {
   "cell_type": "code",
   "execution_count": null,
   "id": "daed948c",
   "metadata": {},
   "outputs": [],
   "source": [
    "# N = (2^16)-1; R = 100; seq = wcud_16_100; burn_in = 500;\n",
    "# @time unF_Prob_wcud_16_100  = R_UbFkm_probit(probit_unmcqmc, seq, N, burn_in, R, x -> x);\n",
    "\n",
    "# println(DataFrame(\n",
    "#                     Coeff   = vec(unF_Prob_wcud_16_100.mu_pool),\n",
    "#                     Std_Err = sqrt.(vec(unF_Prob_wcud_16_100.sigma_pool))\n",
    "#                 ))"
   ]
  },
  {
   "cell_type": "markdown",
   "id": "461ea4e2",
   "metadata": {},
   "source": [
    "### **Hierarchical Poisson-Gamma**  \n",
    "https://mambajl.readthedocs.io/en/latest/examples/pumps.html"
   ]
  },
  {
   "cell_type": "code",
   "execution_count": 47,
   "id": "e0b958cb",
   "metadata": {},
   "outputs": [],
   "source": [
    "# DATA IMPORT AND TRANSFORMATION\n",
    "folder_path = raw\"C:\\Users\\mussi\\Documents\\Manhattan\\Leuven\\MCQMC\\Data_Libraries\\\\\"\n",
    "df_pump = CSV.read(folder_path * \"DB_Nuclear_Pumps.csv\", DataFrame)\n",
    "Y = Vector(df_pump.Failures); X = Vector(df_pump.Time);"
   ]
  },
  {
   "cell_type": "code",
   "execution_count": 48,
   "id": "af5a2920",
   "metadata": {},
   "outputs": [],
   "source": [
    "N = (2^12)-1; p = length(Y)+1; R= 100; Burn_in = 1000;\n",
    "HPG = H_Poisson_Gamma(Y, X);"
   ]
  },
  {
   "cell_type": "code",
   "execution_count": 49,
   "id": "42aaef82",
   "metadata": {},
   "outputs": [
    {
     "name": "stdout",
     "output_type": "stream",
     "text": [
      "  3.820192 seconds (1.22 M allocations: 121.776 MiB, 29.56% compilation time)\n",
      "\u001b[1m11×2 DataFrame\u001b[0m\n",
      "\u001b[1m Row \u001b[0m│\u001b[1m Coeff    \u001b[0m\u001b[1m Std_Err     \u001b[0m\n",
      "     │\u001b[90m Float64  \u001b[0m\u001b[90m Float64     \u001b[0m\n",
      "─────┼───────────────────────\n",
      "   1 │ 0.070242  4.94541e-5\n",
      "   2 │ 0.154456  0.000155046\n",
      "   3 │ 0.104052  8.02049e-5\n",
      "   4 │ 0.123154  5.73936e-5\n",
      "   5 │ 0.627157  0.00053537\n",
      "   6 │ 0.61336   0.000265105\n",
      "   7 │ 0.825437  0.00106752\n",
      "   8 │ 0.82615   0.00104592\n",
      "   9 │ 1.29531   0.00106408\n",
      "  10 │ 1.84182   0.000737871\n",
      "  11 │ 2.48691   0.0403556\n"
     ]
    }
   ],
   "source": [
    "# IID CASE\n",
    "seq = rand(p, N, R);\n",
    "@time HPG_IID = HPG_Gibbs_sampler(HPG, seq, N, Burn_in, R);\n",
    "\n",
    "println(DataFrame(\n",
    "                    Coeff   = vcat(vec(HPG_IID.lambda_post_mean), HPG_IID.beta_post_mean),\n",
    "                    Std_Err = sqrt.(vcat(vec(HPG_IID.var_lambdas), HPG_IID.var_beta))\n",
    "                ))"
   ]
  },
  {
   "cell_type": "code",
   "execution_count": null,
   "id": "b56a338e",
   "metadata": {},
   "outputs": [
    {
     "name": "stdout",
     "output_type": "stream",
     "text": [
      "RMSE:0.040408855259841434\n"
     ]
    }
   ],
   "source": [
    "rmse_hbm_iid_12 = sqrt(sum(vcat(vec(HPG_IID.var_lambdas)))+HPG_IID.var_beta)\n",
    "println(\"RMSE:\", rmse_hbm_iid_12)"
   ]
  },
  {
   "cell_type": "code",
   "execution_count": 50,
   "id": "3533d9bd",
   "metadata": {},
   "outputs": [
    {
     "name": "stdout",
     "output_type": "stream",
     "text": [
      "  2.878728 seconds (249 allocations: 60.420 MiB)\n",
      "\u001b[1m11×2 DataFrame\u001b[0m\n",
      "\u001b[1m Row \u001b[0m│\u001b[1m Coeff     \u001b[0m\u001b[1m Std_Err     \u001b[0m\n",
      "     │\u001b[90m Float64   \u001b[0m\u001b[90m Float64     \u001b[0m\n",
      "─────┼────────────────────────\n",
      "   1 │ 0.0702756  2.10445e-5\n",
      "   2 │ 0.1542     0.000109889\n",
      "   3 │ 0.104065   2.5681e-5\n",
      "   4 │ 0.123214   1.39247e-5\n",
      "   5 │ 0.626472   0.00022214\n",
      "   6 │ 0.613406   0.000115143\n",
      "   7 │ 0.824061   0.000400667\n",
      "   8 │ 0.82327    0.000444066\n",
      "   9 │ 1.29586    0.000471201\n",
      "  10 │ 1.8408     0.000349268\n",
      "  11 │ 2.48949    0.0343402\n"
     ]
    }
   ],
   "source": [
    "# Harase's LFSR \n",
    "wcud_12_100 = digit_shift_mat(vec_wcud_12, p , 100);\n",
    "\n",
    "@time HPG_wcud_12 = HPG_Gibbs_sampler(HPG, wcud_12_100, N, Burn_in, R);\n",
    "\n",
    "println(DataFrame(\n",
    "                    Coeff   = vcat(vec(HPG_wcud_12.lambda_post_mean), HPG_wcud_12.beta_post_mean),\n",
    "                    Std_Err = sqrt.(vcat(vec(HPG_wcud_12.var_lambdas), HPG_wcud_12.var_beta))\n",
    "                ))"
   ]
  },
  {
   "cell_type": "code",
   "execution_count": 53,
   "id": "ff001063",
   "metadata": {},
   "outputs": [
    {
     "name": "stdout",
     "output_type": "stream",
     "text": [
      "RMSE:0.034351520775570805\n"
     ]
    }
   ],
   "source": [
    "rmse_hbm_wcud_12 = sqrt(sum(vcat(vec(HPG_wcud_12.var_lambdas)))+HPG_wcud_12.var_beta)\n",
    "println(\"RMSE:\", rmse_hbm_wcud_12)"
   ]
  },
  {
   "cell_type": "code",
   "execution_count": 54,
   "id": "d2a8ad58",
   "metadata": {},
   "outputs": [
    {
     "name": "stdout",
     "output_type": "stream",
     "text": [
      "  2.765675 seconds (249 allocations: 60.420 MiB)\n",
      "\u001b[1m11×2 DataFrame\u001b[0m\n",
      "\u001b[1m Row \u001b[0m│\u001b[1m Coeff     \u001b[0m\u001b[1m Std_Err    \u001b[0m\n",
      "     │\u001b[90m Float64   \u001b[0m\u001b[90m Float64    \u001b[0m\n",
      "─────┼───────────────────────\n",
      "   1 │ 0.0702657  1.58818e-6\n",
      "   2 │ 0.154074   6.47712e-6\n",
      "   3 │ 0.104076   3.06549e-6\n",
      "   4 │ 0.123221   1.98741e-6\n",
      "   5 │ 0.626058   2.45759e-5\n",
      "   6 │ 0.613411   9.29372e-6\n",
      "   7 │ 0.81609    8.07805e-5\n",
      "   8 │ 0.820241   5.95592e-5\n",
      "   9 │ 1.29173    6.28666e-5\n",
      "  10 │ 1.84029    2.33012e-5\n",
      "  11 │ 2.48381    0.0730492\n"
     ]
    }
   ],
   "source": [
    "# SOBOL PTS\n",
    "folder_path = raw\"C:\\Users\\mussi\\Documents\\Manhattan\\Leuven\\MCQMC\\Data_Libraries\\Pts\\\\\" \n",
    "sobol_12_d11 = CSV.read(folder_path * \"sobol_11d.txt\", Tables.matrix; header=false, delim = ' ', ignorerepeated = true);\n",
    "array_sobol_12_d11 = digital_shift(sobol_12_d11[2:end,:], 100);  \n",
    "\n",
    "@time HPG_sob_12 = HPG_Gibbs_sampler(HPG, array_sobol_12_d11, N, Burn_in, R);\n",
    "\n",
    "println(DataFrame(\n",
    "                    Coeff   = vcat(vec(HPG_sob_12.lambda_post_mean), HPG_sob_12.beta_post_mean),\n",
    "                    Std_Err = sqrt.(vcat(vec(HPG_sob_12.var_lambdas), HPG_sob_12.var_beta))\n",
    "                ))"
   ]
  },
  {
   "cell_type": "code",
   "execution_count": 55,
   "id": "d897452f",
   "metadata": {},
   "outputs": [
    {
     "name": "stdout",
     "output_type": "stream",
     "text": [
      "RMSE:0.07304930096213266\n"
     ]
    }
   ],
   "source": [
    "rmse_hbm_sob_12 = sqrt(sum(vcat(vec(HPG_sob_12.var_lambdas)))+HPG_sob_12.var_beta)\n",
    "println(\"RMSE:\", rmse_hbm_sob_12)"
   ]
  },
  {
   "cell_type": "code",
   "execution_count": null,
   "id": "0e59b826",
   "metadata": {},
   "outputs": [],
   "source": []
  },
  {
   "cell_type": "code",
   "execution_count": null,
   "id": "74fa3c99",
   "metadata": {},
   "outputs": [],
   "source": [
    "include(\"4.1.R_Replicates.jl\")\n",
    "\n",
    "\n",
    "\n",
    "######################################################## TESTING: FUNCTIONS AND ESTIMATOR #################################################\n",
    "\n",
    "\n",
    "\n",
    "\n",
    "\n",
    "######################################################## BOSTON HOUSING DATASET ########################################################\n",
    "# DATA IMPORT AND TRANSFORMATION\n",
    "# https://github.com/Jiarui-Du/ubmcqmc/blob/master/data_model.m\n",
    "\n",
    "folder_path = raw\"C:\\Users\\mussi\\Documents\\Manhattan\\Leuven\\UnMCQMC (He and Du)\\Codes\\Data\\\\\"\n",
    "df_boston = CSV.read(folder_path * \"DB_Boston.txt\", DataFrame)\n",
    "M_boston = Matrix(df_boston)\n",
    "r,c = size(M_boston)\n",
    "\n",
    "Y = log.(M_boston[:, end])\n",
    "X = [ones(r,1)  M_boston[:, 1:end-1]]           # incercept\n",
    "X[:,6] = X[:,6].^2\n",
    "X[:,7] = X[:,7].^2\n",
    "X[:,9] = log.(X[:,9])\n",
    "X[:,10] = log.(X[:,10])\n",
    "X[:,14] = log.(X[:,14])\n",
    "\n",
    "# Parameter initialisation -- pag 14 (He, and Du 2024) --\n",
    "p = size(X, 2); b0= zeros(p); B0= Matrix{Float64}(I, p, p)*100; n0=5.0; s0=0.01\n",
    "N = 20000\n",
    "WCUD_seq = rand(p+1, N)\n",
    "blm = UnMCQMC_linear(p, Y, X, b0, B0, n0, s0)\n",
    "@time Mean_Posterior = F_k_m(N,CUD_seq, blm, 500, x -> x)\n",
    "\n",
    "# 0.897079 seconds\n",
    "\n",
    "# Term     Coef.\n",
    "# x1    4.562779225948906\n",
    "# x2   -0.01182486512073814\n",
    "# x3    0.00005050747653669512\n",
    "# x4    0.00006312596509550238\n",
    "# x5    0.09141417758583727\n",
    "# x6   -0.6337244878998968\n",
    "# x7    0.0063009519259636035\n",
    "# x8    0.00011615745984262865\n",
    "# x9   -0.19030643719345725\n",
    "# x10   0.09309843445569665\n",
    "# x11  -0.00040631302110001935\n",
    "# x12  -0.03127872719794009\n",
    "# x13   0.0003645383979063723\n",
    "# x14  -0.372841298193898\n",
    "# Sigma   0.03314326957355439\n",
    "\n",
    "# Mean Square Error \n",
    "mean((Y - X * Mean_Posterior[1:end-1]).^2)\n",
    "\n",
    "\n",
    "# OLS \n",
    "@time ols = lm(X[:,1:end], Y)\n",
    "\n",
    "#   1.021749 seconds\n",
    "# -----------------------------------------------------------------\n",
    "#   Term     Coef.       Std. Error     t       Pr(>|t|)   Lower 95%    Upper 95%\n",
    "# -----------------------------------------------------------------\n",
    "# x1    4.56578      0.154755      29.50    <1e-99   4.26172       4.86984\n",
    "# x2   -0.011835     0.00124547    -9.50    <1e-19  -0.0142821    -0.00938789\n",
    "# x3    5.17744e-5   0.000506807    0.10    0.9187  -0.000944004   0.00104755\n",
    "# x4    4.30655e-5   0.00237506     0.02    0.9855  -0.00462346    0.00470959\n",
    "# x5    0.0912068    0.0332114      2.75    0.0062   0.0259528     0.156461\n",
    "# x6   -0.634756     0.113236      -5.61    <1e-07  -0.857242     -0.41227\n",
    "# x7    0.00628201   0.00131369     4.78    <1e-05   0.00370087    0.00886316\n",
    "# x8    0.000110762  0.00052691     0.21    0.8336  -0.000924515   0.00114604\n",
    "# x9   -0.190859     0.033404      -5.71    <1e-07  -0.256491     -0.125226\n",
    "# x10   0.0930878    0.0193767      4.80    <1e-05   0.0550163     0.131159\n",
    "# x11  -0.000406041  0.000123814   -3.28    0.0011  -0.000649313  -0.00016277\n",
    "# x12  -0.0313095    0.00501913    -6.24    <1e-09  -0.0411712    -0.0214479\n",
    "# x13   0.00036292   0.000103146    3.52    0.0005   0.000160258   0.000565582\n",
    "# x14  -0.372639     0.0250742    -14.86    <1e-40  -0.421905     -0.323373\n",
    "\n",
    "# Mean Square Error\n",
    "mean((Y- X*coef(ols)).^2)\n",
    "\n",
    "\n",
    "\n",
    "\n",
    "########################################################## CALIFORNIA HOUSING DATASET ######################################################\n",
    "# DATA IMPORT AND TRANSFORMATION\n",
    "# https://github.com/Jiarui-Du/ubmcqmc/blob/master/data_model.m\n",
    "\n",
    "folder_path = raw\"C:\\Users\\mussi\\Documents\\Manhattan\\Leuven\\PhD Codes\\UnMCQMC (He and Du)\\Data\\\\\"\n",
    "df_california = CSV.read(folder_path * \"DB_California_Housing.txt\", DataFrame)\n",
    "\n",
    "#=\n",
    "        Data = load('./data/california_housing_data.txt');\n",
    "        data = Data;\n",
    "        households = round(Data(:,5)./Data(:,6)); % households\n",
    "        data(:,3) = round(Data(:,3).*households); % total_rooms\n",
    "        data(:,4) = round(Data(:,4).*households); % total_bedrooms\n",
    "        colNames = [\"median_income\",\"housing_median_age\",\"total_rooms\",\"total_bedrooms\",...\n",
    "            \"population\",\"avePopulation\",\"latitude\",\"longitude\"];\n",
    "        Y = log(data(:,end).*100000);\n",
    "        y = log(data(:,end));\n",
    "        m = length(y);\n",
    "        X(:,1) = ones(m,1);\n",
    "        X(:,2:4) = [data(:,1),data(:,1).^2,data(:,1).^3];% Income\n",
    "        X(:,5) = log(data(:,2));\n",
    "        X(:,6) = log(data(:,3)./data(:,5));\n",
    "        X(:,7) = log(data(:,4)./data(:,5));\n",
    "        X(:,8) = log(data(:,6));\n",
    "        X(:,9) = log(households);\n",
    "        p = size(X,2);\n",
    "        d = p+1;\n",
    "        b0 = zeros(p,1);\n",
    "        B0 = 100*eye(p);\n",
    "        n0 = 5;\n",
    "        s0 = 0.01;\n",
    "=# \n",
    "\n",
    "\n",
    "\n",
    "\n",
    "\n",
    "\n",
    "##################################### Probit Regression  #############################################\n",
    "## DATA IMPORT AND TRANSFORMATION\n",
    "folder_path = raw\"C:\\Users\\mussi\\Documents\\Manhattan\\Leuven\\MCQMC\\Data_Libraries\\\\\"\n",
    "df_vaso = CSV.read(folder_path * \"DB_Vaso.csv\", DataFrame)\n",
    "rename!(df_vaso, [:x1, :x2, :y])\n",
    "\n",
    "scatter(\n",
    "    df_vaso.x1, df_vaso.x2,\n",
    "    group = df_vaso.y,\n",
    "    markershape = :circle,\n",
    "    markersize = 6,\n",
    "    palette = [\"black\", \"red\"],   # y=0 nero, y=1 rosso\n",
    "    xlabel = \"Volume of air inspired\",\n",
    "    ylabel = \"Rate of air inspired\",\n",
    "    title = \"Vasoconstriction data\",\n",
    "    legend = false\n",
    ")\n",
    "\n",
    "Y = df_vaso[:,end]; X = Matrix(df_vaso[:, 1:2])\n",
    "\n",
    "##  GLM: Probit Model \n",
    "@time probit = glm(@formula(y ~ x1+ x2), df_vaso, Binomial(), ProbitLink())\n",
    "\n",
    "# 3.135882 seconds (2.95 M allocations: 148.579 MiB, 1.62% gc time, 99.20% compilation time)\n",
    "\n",
    "# y ~ 1 + x1 + x2\n",
    "\n",
    "# Coefficients:    coeff > 0, positive effect on p(Y=1|X)\n",
    "# ────────────────────────────────────────────────────────────────────────\n",
    "#                 Coef.  Std. Error      z  Pr(>|z|)  Lower 95%  Upper 95%\n",
    "# ────────────────────────────────────────────────────────────────────────\n",
    "# (Intercept)  -5.19454    1.59339   -3.26    0.0011  -8.31752    -2.07156\n",
    "# x1            2.11804    0.717416   2.95    0.0032   0.711934    3.52415\n",
    "# x2            1.47643    0.46176    3.20    0.0014   0.571401    2.38147\n",
    "# ────────────────────────────────────────────────────────────────────────\n",
    "\n",
    "aic(probit); bic(probit)"
   ]
  }
 ],
 "metadata": {
  "kernelspec": {
   "display_name": "Julia 1.11.5",
   "language": "julia",
   "name": "julia-1.11"
  },
  "language_info": {
   "file_extension": ".jl",
   "mimetype": "application/julia",
   "name": "julia",
   "version": "1.11.5"
  }
 },
 "nbformat": 4,
 "nbformat_minor": 5
}
