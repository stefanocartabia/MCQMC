{
 "cells": [
  {
   "cell_type": "code",
   "execution_count": 1,
   "id": "ae487d9c",
   "metadata": {},
   "outputs": [
    {
     "name": "stdout",
     "output_type": "stream",
     "text": [
      "Check: Imported functions\n",
      "14\n",
      "156.103633 seconds (312.69 M allocations: 237.500 GiB, 16.36% gc time, 2.06% compilation time)\n"
     ]
    },
    {
     "data": {
      "text/plain": [
       "100-element Vector{Int64}:\n",
       " 3\n",
       " 3\n",
       " 3\n",
       " 3\n",
       " 3\n",
       " 3\n",
       " 3\n",
       " 3\n",
       " 3\n",
       " 3\n",
       " ⋮\n",
       " 3\n",
       " 3\n",
       " 3\n",
       " 3\n",
       " 3\n",
       " 3\n",
       " 3\n",
       " 3\n",
       " 3"
      ]
     },
     "metadata": {},
     "output_type": "display_data"
    }
   ],
   "source": [
    "include(\"C:/Users/mussi/Documents/Manhattan/Leuven/MCQMC/UbMCQMC/PilotRun/1.PilotRun_Linear.jl\")\n",
    "\n",
    "folder_path = raw\"C:\\Users\\mussi\\Documents\\Manhattan\\Leuven\\MCQMC\\Data_Libraries\\\\\"\n",
    "df_boston = CSV.read(folder_path * \"DB_Boston.txt\", DataFrame)\n",
    "M_boston = Matrix(df_boston)\n",
    "r,c = size(M_boston)\n",
    "\n",
    "Y = log.(M_boston[:, end])\n",
    "X = [ones(r,1)  M_boston[:, 1:end-1]]           # incercept\n",
    "X[:,6] = X[:,6].^2\n",
    "X[:,7] = X[:,7].^2\n",
    "X[:,9] = log.(X[:,9])\n",
    "X[:,10] = log.(X[:,10])\n",
    "X[:,14] = log.(X[:,14]);\n",
    "\n",
    "\n",
    "p = size(X, 2); b0= zeros(p); B0= Matrix{Float64}(I, p, p)*100; n0=5.0; s0=0.01\n",
    "blm = UnMCQMC_linear(p, Y, X, b0, B0, n0, s0);\n",
    "\n",
    "println(p)\n",
    "\n",
    "N = (2^12)-1; burn_in = 8; R = 100 \n",
    "Random.seed!(1234) \n",
    "iid_12_100 = rand(p+1, N, R)\n",
    "@time pilot_run_linear_iid = R_UbTau(R, N, iid_12_100, blm, burn_in, x -> x);"
   ]
  },
  {
   "cell_type": "code",
   "execution_count": 2,
   "id": "eaad18ba",
   "metadata": {},
   "outputs": [
    {
     "name": "stdout",
     "output_type": "stream",
     "text": [
      "\u001b[1m6×2 DataFrame\u001b[0m\n",
      "\u001b[1m Row \u001b[0m│\u001b[1m Statistic \u001b[0m\u001b[1m Value   \u001b[0m\n",
      "     │\u001b[90m String    \u001b[0m\u001b[90m Float64 \u001b[0m\n",
      "─────┼────────────────────\n",
      "   1 │ 1%            2.99\n",
      "   2 │ 25%           3.0\n",
      "   3 │ Median        3.0\n",
      "   4 │ Mean          3.0\n",
      "   5 │ 75%           3.0\n",
      "   6 │ 99%           3.01\n"
     ]
    }
   ],
   "source": [
    "println(DataFrame(\n",
    "                    Statistic = [\"1%\", \"25%\", \"Median\", \"Mean\", \"75%\", \"99%\"],\n",
    "                    Value = [\n",
    "                        quantile(pilot_run_linear_iid, 0.01),\n",
    "                        quantile(pilot_run_linear_iid, 0.25),\n",
    "                        quantile(pilot_run_linear_iid, 0.50),\n",
    "                        mean(pilot_run_linear_iid),\n",
    "                        quantile(pilot_run_linear_iid, 0.75),\n",
    "                        quantile(pilot_run_linear_iid, 0.99),\n",
    "                    ]\n",
    "                )\n",
    ")"
   ]
  }
 ],
 "metadata": {
  "kernelspec": {
   "display_name": "Julia 1.11.5",
   "language": "julia",
   "name": "julia-1.11"
  },
  "language_info": {
   "file_extension": ".jl",
   "mimetype": "application/julia",
   "name": "julia",
   "version": "1.11.5"
  }
 },
 "nbformat": 4,
 "nbformat_minor": 5
}
